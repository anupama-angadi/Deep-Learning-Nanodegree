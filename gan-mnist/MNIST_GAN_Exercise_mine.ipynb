{
 "cells": [
  {
   "cell_type": "markdown",
   "metadata": {},
   "source": [
    "# Generative Adversarial Network\n",
    "\n",
    "In this notebook, we'll be building a generative adversarial network (GAN) trained on the MNIST dataset. From this, we'll be able to generate new handwritten digits!\n",
    "\n",
    "GANs were [first reported on](https://arxiv.org/abs/1406.2661) in 2014 from Ian Goodfellow and others in Yoshua Bengio's lab. Since then, GANs have exploded in popularity. Here are a few examples to check out:\n",
    "\n",
    "* [Pix2Pix](https://affinelayer.com/pixsrv/) \n",
    "* [CycleGAN & Pix2Pix in PyTorch, Jun-Yan Zhu](https://github.com/junyanz/pytorch-CycleGAN-and-pix2pix)\n",
    "* [A list of generative models](https://github.com/wiseodd/generative-models)\n",
    "\n",
    "The idea behind GANs is that you have two networks, a generator $G$ and a discriminator $D$, competing against each other. The generator makes \"fake\" data to pass to the discriminator. The discriminator also sees real training data and predicts if the data it's received is real or fake. \n",
    "> * The generator is trained to fool the discriminator, it wants to output data that looks _as close as possible_ to real, training data. \n",
    "* The discriminator is a classifier that is trained to figure out which data is real and which is fake. \n",
    "\n",
    "What ends up happening is that the generator learns to make data that is indistinguishable from real data to the discriminator.\n",
    "\n",
    "<img src='assets/gan_pipeline.png' width=70% />\n",
    "\n",
    "The general structure of a GAN is shown in the diagram above, using MNIST images as data. The latent sample is a random vector that the generator uses to construct its fake images. This is often called a **latent vector** and that vector space is called **latent space**. As the generator trains, it figures out how to map latent vectors to recognizable images that can fool the discriminator.\n",
    "\n",
    "If you're interested in generating only new images, you can throw out the discriminator after training. In this notebook, I'll show you how to define and train these adversarial networks in PyTorch and generate new images!"
   ]
  },
  {
   "cell_type": "code",
   "execution_count": 1,
   "metadata": {},
   "outputs": [],
   "source": [
    "%matplotlib inline\n",
    "\n",
    "import numpy as np\n",
    "import torch\n",
    "import matplotlib.pyplot as plt"
   ]
  },
  {
   "cell_type": "code",
   "execution_count": 2,
   "metadata": {},
   "outputs": [
    {
     "name": "stdout",
     "output_type": "stream",
     "text": [
      "Downloading http://yann.lecun.com/exdb/mnist/train-images-idx3-ubyte.gz\n",
      "Downloading http://yann.lecun.com/exdb/mnist/train-labels-idx1-ubyte.gz\n",
      "Downloading http://yann.lecun.com/exdb/mnist/t10k-images-idx3-ubyte.gz\n",
      "Downloading http://yann.lecun.com/exdb/mnist/t10k-labels-idx1-ubyte.gz\n",
      "Processing...\n",
      "Done!\n"
     ]
    }
   ],
   "source": [
    "from torchvision import datasets\n",
    "import torchvision.transforms as transforms\n",
    "\n",
    "# number of subprocesses to use for data loading\n",
    "num_workers = 0\n",
    "# how many samples per batch to load\n",
    "batch_size = 64\n",
    "\n",
    "# convert data to torch.FloatTensor\n",
    "transform = transforms.ToTensor()\n",
    "\n",
    "# get the training datasets\n",
    "train_data = datasets.MNIST(root='data', train=True,\n",
    "                                   download=True, transform=transform)\n",
    "\n",
    "# prepare data loader\n",
    "train_loader = torch.utils.data.DataLoader(train_data, batch_size=batch_size,\n",
    "                                           num_workers=num_workers)"
   ]
  },
  {
   "cell_type": "markdown",
   "metadata": {},
   "source": [
    "### Visualize the data"
   ]
  },
  {
   "cell_type": "code",
   "execution_count": 3,
   "metadata": {},
   "outputs": [
    {
     "data": {
      "text/plain": [
       "<matplotlib.image.AxesImage at 0x7fd74ebb7518>"
      ]
     },
     "execution_count": 3,
     "metadata": {},
     "output_type": "execute_result"
    },
    {
     "data": {
      "image/png": "[encoded data removed]",
      "text/plain": [
       "<matplotlib.figure.Figure at 0x7fd7a34609e8>"
      ]
     },
     "metadata": {
      "needs_background": "light"
     },
     "output_type": "display_data"
    }
   ],
   "source": [
    "# obtain one batch of training images\n",
    "dataiter = iter(train_loader)\n",
    "images, labels = dataiter.next()\n",
    "images = images.numpy()\n",
    "\n",
    "# get one image from the batch\n",
    "img = np.squeeze(images[0])\n",
    "\n",
    "fig = plt.figure(figsize = (3,3)) \n",
    "ax = fig.add_subplot(111)\n",
    "ax.imshow(img, cmap='gray')"
   ]
  },
  {
   "cell_type": "markdown",
   "metadata": {},
   "source": [
    "---\n",
    "# Define the Model\n",
    "\n",
    "A GAN is comprised of two adversarial networks, a discriminator and a generator."
   ]
  },
  {
   "cell_type": "markdown",
   "metadata": {},
   "source": [
    "## Discriminator\n",
    "\n",
    "The discriminator network is going to be a pretty typical linear classifier. To make this network a universal function approximator, we'll need at least one hidden layer, and these hidden layers should have one key attribute:\n",
    "> All hidden layers will have a [Leaky ReLu](https://pytorch.org/docs/stable/nn.html#torch.nn.LeakyReLU) activation function applied to their outputs.\n",
    "\n",
    "<img src='assets/gan_network.png' width=70% />\n",
    "\n",
    "#### Leaky ReLu\n",
    "\n",
    "We should use a leaky ReLU to allow gradients to flow backwards through the layer unimpeded. A leaky ReLU is like a normal ReLU, except that there is a small non-zero output for negative input values.\n",
    "\n",
    "<img src='assets/leaky_relu.png' width=40% />\n",
    "\n",
    "#### Sigmoid Output\n",
    "\n",
    "We'll also take the approach of using a more numerically stable loss function on the outputs. Recall that we want the discriminator to output a value 0-1 indicating whether an image is _real or fake_. \n",
    "> We will ultimately use [BCEWithLogitsLoss](https://pytorch.org/docs/stable/nn.html#bcewithlogitsloss), which combines a `sigmoid` activation function **and** and binary cross entropy loss in one function. \n",
    "\n",
    "So, our final output layer should not have any activation function applied to it."
   ]
  },
  {
   "cell_type": "code",
   "execution_count": 4,
   "metadata": {},
   "outputs": [],
   "source": [
    "import torch.nn as nn\n",
    "import torch.nn.functional as F\n",
    "\n",
    "class Discriminator(nn.Module):\n",
    "\n",
    "    def __init__(self, input_size, hidden_dim, output_size):\n",
    "        super(Discriminator, self).__init__()\n",
    "        \n",
    "        # define hidden linear layers\n",
    "        self.fc1 = nn.Linear(input_size, hidden_dim*4)\n",
    "        self.fc2 = nn.Linear(hidden_dim*4, hidden_dim*2)\n",
    "        self.fc3 = nn.Linear(hidden_dim*2, hidden_dim)\n",
    "        \n",
    "        # final fully-connected layer\n",
    "        self.fc4 = nn.Linear(hidden_dim, output_size)\n",
    "        \n",
    "        # dropout layer \n",
    "        self.dropout = nn.Dropout(0.3)\n",
    "        \n",
    "        \n",
    "    def forward(self, x):\n",
    "        # flatten image\n",
    "        x = x.view(-1, 28*28)\n",
    "        # all hidden layers\n",
    "        x = F.leaky_relu(self.fc1(x), 0.2) # (input, negative_slope=0.2)\n",
    "        x = self.dropout(x)\n",
    "        x = F.leaky_relu(self.fc2(x), 0.2)\n",
    "        x = self.dropout(x)\n",
    "        x = F.leaky_relu(self.fc3(x), 0.2)\n",
    "        x = self.dropout(x)\n",
    "        # final layer\n",
    "        out = self.fc4(x)\n",
    "\n",
    "        return out"
   ]
  },
  {
   "cell_type": "markdown",
   "metadata": {},
   "source": [
    "## Generator\n",
    "\n",
    "The generator network will be almost exactly the same as the discriminator network, except that we're applying a [tanh activation function](https://pytorch.org/docs/stable/nn.html#tanh) to our output layer.\n",
    "\n",
    "#### tanh Output\n",
    "The generator has been found to perform the best with $tanh$ for the generator output, which scales the output to be between -1 and 1, instead of 0 and 1. \n",
    "\n",
    "<img src='assets/tanh_fn.png' width=40% />\n",
    "\n",
    "Recall that we also want these outputs to be comparable to the *real* input pixel values, which are read in as normalized values between 0 and 1. \n",
    "> So, we'll also have to **scale our real input images to have pixel values between -1 and 1** when we train the discriminator. \n",
    "\n",
    "I'll do this in the training loop, later on."
   ]
  },
  {
   "cell_type": "code",
   "execution_count": 5,
   "metadata": {},
   "outputs": [],
   "source": [
    "class Generator(nn.Module):\n",
    "\n",
    "    def __init__(self, input_size, hidden_dim, output_size):\n",
    "        super(Generator, self).__init__()\n",
    "        \n",
    "        # define hidden linear layers\n",
    "        self.fc1 = nn.Linear(input_size, hidden_dim)\n",
    "        self.fc2 = nn.Linear(hidden_dim, hidden_dim*2)\n",
    "        self.fc3 = nn.Linear(hidden_dim*2, hidden_dim*4)\n",
    "        \n",
    "        # final fully-connected layer\n",
    "        self.fc4 = nn.Linear(hidden_dim*4, output_size)\n",
    "        \n",
    "        # dropout layer \n",
    "        self.dropout = nn.Dropout(0.3)\n",
    "\n",
    "    def forward(self, x):\n",
    "        # all hidden layers\n",
    "        x = F.leaky_relu(self.fc1(x), 0.2) # (input, negative_slope=0.2)\n",
    "        x = self.dropout(x)\n",
    "        x = F.leaky_relu(self.fc2(x), 0.2)\n",
    "        x = self.dropout(x)\n",
    "        x = F.leaky_relu(self.fc3(x), 0.2)\n",
    "        x = self.dropout(x)\n",
    "        # final layer with tanh applied\n",
    "        out = F.tanh(self.fc4(x))\n",
    "\n",
    "        return out"
   ]
  },
  {
   "cell_type": "markdown",
   "metadata": {},
   "source": [
    "## Model hyperparameters"
   ]
  },
  {
   "cell_type": "code",
   "execution_count": 6,
   "metadata": {},
   "outputs": [],
   "source": [
    "# Discriminator hyperparams\n",
    "\n",
    "# Size of input image to discriminator (28*28)\n",
    "input_size = 784\n",
    "# Size of discriminator output (real or fake)\n",
    "d_output_size = 1\n",
    "# Size of last hidden layer in the discriminator\n",
    "d_hidden_size = 32\n",
    "\n",
    "# Generator hyperparams\n",
    "\n",
    "# Size of latent vector to give to generator\n",
    "z_size = 100\n",
    "# Size of discriminator output (generated image)\n",
    "g_output_size = 784\n",
    "# Size of first hidden layer in the generator\n",
    "g_hidden_size = 32"
   ]
  },
  {
   "cell_type": "markdown",
   "metadata": {},
   "source": [
    "## Build complete network\n",
    "\n",
    "Now we're instantiating the discriminator and generator from the classes defined above. Make sure you've passed in the correct input arguments."
   ]
  },
  {
   "cell_type": "code",
   "execution_count": 7,
   "metadata": {},
   "outputs": [
    {
     "name": "stdout",
     "output_type": "stream",
     "text": [
      "Discriminator(\n",
      "  (fc1): Linear(in_features=784, out_features=128, bias=True)\n",
      "  (fc2): Linear(in_features=128, out_features=64, bias=True)\n",
      "  (fc3): Linear(in_features=64, out_features=32, bias=True)\n",
      "  (fc4): Linear(in_features=32, out_features=1, bias=True)\n",
      "  (dropout): Dropout(p=0.3)\n",
      ")\n",
      "\n",
      "Generator(\n",
      "  (fc1): Linear(in_features=100, out_features=32, bias=True)\n",
      "  (fc2): Linear(in_features=32, out_features=64, bias=True)\n",
      "  (fc3): Linear(in_features=64, out_features=128, bias=True)\n",
      "  (fc4): Linear(in_features=128, out_features=784, bias=True)\n",
      "  (dropout): Dropout(p=0.3)\n",
      ")\n"
     ]
    }
   ],
   "source": [
    "# instantiate discriminator and generator\n",
    "D = Discriminator(input_size, d_hidden_size, d_output_size)\n",
    "G = Generator(z_size, g_hidden_size, g_output_size)\n",
    "\n",
    "# check that they are as you expect\n",
    "print(D)\n",
    "print()\n",
    "print(G)"
   ]
  },
  {
   "cell_type": "markdown",
   "metadata": {},
   "source": [
    "---\n",
    "## Discriminator and Generator Losses\n",
    "\n",
    "Now we need to calculate the losses. \n",
    "\n",
    "### Discriminator Losses\n",
    "\n",
    "> * For the discriminator, the total loss is the sum of the losses for real and fake images, `d_loss = d_real_loss + d_fake_loss`. \n",
    "* Remember that we want the discriminator to output 1 for real images and 0 for fake images, so we need to set up the losses to reflect that.\n",
    "\n",
    "<img src='assets/gan_pipeline.png' width=70% />\n",
    "\n",
    "The losses will by binary cross entropy loss with logits, which we can get with [BCEWithLogitsLoss](https://pytorch.org/docs/stable/nn.html#bcewithlogitsloss). This combines a `sigmoid` activation function **and** and binary cross entropy loss in one function.\n",
    "\n",
    "For the real images, we want `D(real_images) = 1`. That is, we want the discriminator to classify the the real images with a label = 1, indicating that these are real. To help the discriminator generalize better, the labels are **reduced a bit from 1.0 to 0.9**. For this, we'll use the parameter `smooth`; if True, then we should smooth our labels. In PyTorch, this looks like `labels = torch.ones(size) * 0.9`\n",
    "\n",
    "The discriminator loss for the fake data is similar. We want `D(fake_images) = 0`, where the fake images are the _generator output_, `fake_images = G(z)`. \n",
    "\n",
    "### Generator Loss\n",
    "\n",
    "The generator loss will look similar only with flipped labels. The generator's goal is to get `D(fake_images) = 1`. In this case, the labels are **flipped** to represent that the generator is trying to fool the discriminator into thinking that the images it generates (fakes) are real!"
   ]
  },
  {
   "cell_type": "code",
   "execution_count": 8,
   "metadata": {},
   "outputs": [],
   "source": [
    "# Calculate losses\n",
    "def real_loss(D_out, smooth=False):\n",
    "    batch_size = D_out.size(0)\n",
    "    # label smoothing\n",
    "    if smooth:\n",
    "        # smooth, real labels = 0.9\n",
    "        labels = torch.ones(batch_size)*0.9\n",
    "    else:\n",
    "        labels = torch.ones(batch_size) # real labels = 1\n",
    "        \n",
    "    # numerically stable loss\n",
    "    criterion = nn.BCEWithLogitsLoss()\n",
    "    # calculate loss\n",
    "    loss = criterion(D_out.squeeze(), labels)\n",
    "    return loss\n",
    "\n",
    "def fake_loss(D_out):\n",
    "    batch_size = D_out.size(0)\n",
    "    labels = torch.zeros(batch_size) # fake labels = 0\n",
    "    criterion = nn.BCEWithLogitsLoss()\n",
    "    # calculate loss\n",
    "    loss = criterion(D_out.squeeze(), labels)\n",
    "    return loss"
   ]
  },
  {
   "cell_type": "markdown",
   "metadata": {},
   "source": [
    "## Optimizers\n",
    "\n",
    "We want to update the generator and discriminator variables separately. So, we'll define two separate Adam optimizers."
   ]
  },
  {
   "cell_type": "code",
   "execution_count": 9,
   "metadata": {
    "scrolled": true
   },
   "outputs": [],
   "source": [
    "import torch.optim as optim\n",
    "\n",
    "# Optimizers\n",
    "lr = 0.002\n",
    "\n",
    "# Create optimizers for the discriminator and generator\n",
    "d_optimizer = optim.Adam(D.parameters(), lr)\n",
    "g_optimizer = optim.Adam(G.parameters(), lr)"
   ]
  },
  {
   "cell_type": "markdown",
   "metadata": {},
   "source": [
    "---\n",
    "## Training\n",
    "\n",
    "Training will involve alternating between training the discriminator and the generator. We'll use our functions `real_loss` and `fake_loss` to help us calculate the discriminator losses in all of the following cases.\n",
    "\n",
    "### Discriminator training\n",
    "1. Compute the discriminator loss on real, training images        \n",
    "2. Generate fake images\n",
    "3. Compute the discriminator loss on fake, generated images     \n",
    "4. Add up real and fake loss\n",
    "5. Perform backpropagation + an optimization step to update the discriminator's weights\n",
    "\n",
    "### Generator training\n",
    "1. Generate fake images\n",
    "2. Compute the discriminator loss on fake images, using **flipped** labels!\n",
    "3. Perform backpropagation + an optimization step to update the generator's weights\n",
    "\n",
    "#### Saving Samples\n",
    "\n",
    "As we train, we'll also print out some loss statistics and save some generated \"fake\" samples."
   ]
  },
  {
   "cell_type": "code",
   "execution_count": 10,
   "metadata": {
    "scrolled": true
   },
   "outputs": [
    {
     "name": "stdout",
     "output_type": "stream",
     "text": [
      "Epoch [    1/  100] | d_loss: 1.4007 | g_loss: 0.7261\n",
      "Epoch [    1/  100] | d_loss: 0.9090 | g_loss: 2.5800\n",
      "Epoch [    1/  100] | d_loss: 1.2285 | g_loss: 1.0455\n",
      "Epoch [    2/  100] | d_loss: 1.2712 | g_loss: 2.8945\n",
      "Epoch [    2/  100] | d_loss: 1.4073 | g_loss: 0.6416\n",
      "Epoch [    2/  100] | d_loss: 1.3829 | g_loss: 0.7330\n",
      "Epoch [    3/  100] | d_loss: 1.3391 | g_loss: 0.7707\n",
      "Epoch [    3/  100] | d_loss: 1.3348 | g_loss: 0.8538\n",
      "Epoch [    3/  100] | d_loss: 1.3543 | g_loss: 0.8588\n",
      "Epoch [    4/  100] | d_loss: 1.4444 | g_loss: 0.6270\n",
      "Epoch [    4/  100] | d_loss: 1.2983 | g_loss: 0.9659\n",
      "Epoch [    4/  100] | d_loss: 1.3215 | g_loss: 1.3295\n",
      "Epoch [    5/  100] | d_loss: 1.4193 | g_loss: 0.9449\n",
      "Epoch [    5/  100] | d_loss: 1.1680 | g_loss: 1.5541\n",
      "Epoch [    5/  100] | d_loss: 1.5048 | g_loss: 1.4643\n",
      "Epoch [    6/  100] | d_loss: 1.2331 | g_loss: 0.9641\n",
      "Epoch [    6/  100] | d_loss: 1.2536 | g_loss: 0.9334\n",
      "Epoch [    6/  100] | d_loss: 1.4597 | g_loss: 0.7562\n",
      "Epoch [    7/  100] | d_loss: 1.3951 | g_loss: 0.9734\n",
      "Epoch [    7/  100] | d_loss: 0.8793 | g_loss: 3.9028\n",
      "Epoch [    7/  100] | d_loss: 0.4045 | g_loss: 28.4722\n",
      "Epoch [    8/  100] | d_loss: 0.4501 | g_loss: 16.0306\n",
      "Epoch [    8/  100] | d_loss: 0.3516 | g_loss: 28.2293\n",
      "Epoch [    8/  100] | d_loss: 0.3430 | g_loss: 32.7524\n",
      "Epoch [    9/  100] | d_loss: 0.3451 | g_loss: 43.7719\n",
      "Epoch [    9/  100] | d_loss: 0.3666 | g_loss: 21.6161\n",
      "Epoch [    9/  100] | d_loss: 0.3396 | g_loss: 27.8897\n",
      "Epoch [   10/  100] | d_loss: 0.3337 | g_loss: 27.3380\n",
      "Epoch [   10/  100] | d_loss: 0.3331 | g_loss: 28.8434\n",
      "Epoch [   10/  100] | d_loss: 0.3414 | g_loss: 36.8417\n",
      "Epoch [   11/  100] | d_loss: 0.3323 | g_loss: 29.4050\n",
      "Epoch [   11/  100] | d_loss: 0.3298 | g_loss: 20.2186\n",
      "Epoch [   11/  100] | d_loss: 0.3303 | g_loss: 22.6591\n",
      "Epoch [   12/  100] | d_loss: 0.3317 | g_loss: 20.7929\n",
      "Epoch [   12/  100] | d_loss: 0.3300 | g_loss: 19.2227\n",
      "Epoch [   12/  100] | d_loss: 0.3290 | g_loss: 21.7110\n",
      "Epoch [   13/  100] | d_loss: 0.3282 | g_loss: 22.9533\n",
      "Epoch [   13/  100] | d_loss: 0.3269 | g_loss: 22.6884\n",
      "Epoch [   13/  100] | d_loss: 0.3268 | g_loss: 20.2186\n",
      "Epoch [   14/  100] | d_loss: 0.3517 | g_loss: 9.9615\n",
      "Epoch [   14/  100] | d_loss: 0.3323 | g_loss: 16.1460\n",
      "Epoch [   14/  100] | d_loss: 0.3281 | g_loss: 29.3954\n",
      "Epoch [   15/  100] | d_loss: 0.3294 | g_loss: 21.8332\n",
      "Epoch [   15/  100] | d_loss: 0.3263 | g_loss: 19.8232\n",
      "Epoch [   15/  100] | d_loss: 0.3291 | g_loss: 15.8364\n",
      "Epoch [   16/  100] | d_loss: 0.3268 | g_loss: 13.8531\n",
      "Epoch [   16/  100] | d_loss: 0.3267 | g_loss: 27.4101\n",
      "Epoch [   16/  100] | d_loss: 0.3274 | g_loss: 27.4675\n",
      "Epoch [   17/  100] | d_loss: 0.3264 | g_loss: 16.1648\n",
      "Epoch [   17/  100] | d_loss: 0.3257 | g_loss: 19.2843\n",
      "Epoch [   17/  100] | d_loss: 0.3258 | g_loss: 19.0799\n",
      "Epoch [   18/  100] | d_loss: 0.3256 | g_loss: 21.1722\n",
      "Epoch [   18/  100] | d_loss: 0.3280 | g_loss: 17.7891\n",
      "Epoch [   18/  100] | d_loss: 0.3368 | g_loss: 17.0245\n",
      "Epoch [   19/  100] | d_loss: 0.3292 | g_loss: 14.9303\n",
      "Epoch [   19/  100] | d_loss: 0.3262 | g_loss: 19.0401\n",
      "Epoch [   19/  100] | d_loss: 0.3257 | g_loss: 17.2939\n",
      "Epoch [   20/  100] | d_loss: 0.3283 | g_loss: 11.9404\n",
      "Epoch [   20/  100] | d_loss: 0.3264 | g_loss: 17.8431\n",
      "Epoch [   20/  100] | d_loss: 0.3274 | g_loss: 18.4372\n",
      "Epoch [   21/  100] | d_loss: 0.3257 | g_loss: 12.9870\n",
      "Epoch [   21/  100] | d_loss: 0.3276 | g_loss: 13.4424\n",
      "Epoch [   21/  100] | d_loss: 0.3270 | g_loss: 20.1637\n",
      "Epoch [   22/  100] | d_loss: 0.3262 | g_loss: 18.2010\n",
      "Epoch [   22/  100] | d_loss: 0.3284 | g_loss: 16.2569\n",
      "Epoch [   22/  100] | d_loss: 0.3296 | g_loss: 22.6024\n",
      "Epoch [   23/  100] | d_loss: 0.3292 | g_loss: 19.1996\n",
      "Epoch [   23/  100] | d_loss: 0.3311 | g_loss: 13.2483\n",
      "Epoch [   23/  100] | d_loss: 0.3281 | g_loss: 16.0296\n",
      "Epoch [   24/  100] | d_loss: 0.3314 | g_loss: 26.3738\n",
      "Epoch [   24/  100] | d_loss: 0.3291 | g_loss: 21.5861\n",
      "Epoch [   24/  100] | d_loss: 0.3275 | g_loss: 22.4465\n",
      "Epoch [   25/  100] | d_loss: 0.3347 | g_loss: 24.3832\n",
      "Epoch [   25/  100] | d_loss: 0.3436 | g_loss: 22.1686\n",
      "Epoch [   25/  100] | d_loss: 0.3296 | g_loss: 13.3099\n",
      "Epoch [   26/  100] | d_loss: 0.3326 | g_loss: 18.5606\n",
      "Epoch [   26/  100] | d_loss: 0.3280 | g_loss: 19.4171\n",
      "Epoch [   26/  100] | d_loss: 0.3670 | g_loss: 25.2651\n",
      "Epoch [   27/  100] | d_loss: 0.3461 | g_loss: 18.2778\n",
      "Epoch [   27/  100] | d_loss: 0.3391 | g_loss: 17.4630\n",
      "Epoch [   27/  100] | d_loss: 0.3367 | g_loss: 16.0407\n",
      "Epoch [   28/  100] | d_loss: 0.3353 | g_loss: 17.5870\n",
      "Epoch [   28/  100] | d_loss: 0.3793 | g_loss: 14.3354\n",
      "Epoch [   28/  100] | d_loss: 0.3523 | g_loss: 19.2289\n",
      "Epoch [   29/  100] | d_loss: 0.3444 | g_loss: 13.8490\n",
      "Epoch [   29/  100] | d_loss: 0.3571 | g_loss: 13.4644\n",
      "Epoch [   29/  100] | d_loss: 0.3321 | g_loss: 18.8163\n",
      "Epoch [   30/  100] | d_loss: 0.4175 | g_loss: 18.6484\n",
      "Epoch [   30/  100] | d_loss: 0.3389 | g_loss: 21.2334\n",
      "Epoch [   30/  100] | d_loss: 0.3300 | g_loss: 18.6826\n",
      "Epoch [   31/  100] | d_loss: 0.3471 | g_loss: 18.7637\n",
      "Epoch [   31/  100] | d_loss: 0.3826 | g_loss: 15.5651\n",
      "Epoch [   31/  100] | d_loss: 0.3491 | g_loss: 14.7314\n",
      "Epoch [   32/  100] | d_loss: 0.4143 | g_loss: 17.1172\n",
      "Epoch [   32/  100] | d_loss: 0.3288 | g_loss: 20.7106\n",
      "Epoch [   32/  100] | d_loss: 0.3332 | g_loss: 14.6371\n",
      "Epoch [   33/  100] | d_loss: 0.3299 | g_loss: 18.6376\n",
      "Epoch [   33/  100] | d_loss: 0.3341 | g_loss: 15.4303\n",
      "Epoch [   33/  100] | d_loss: 0.3510 | g_loss: 14.7940\n",
      "Epoch [   34/  100] | d_loss: 0.3351 | g_loss: 14.7952\n",
      "Epoch [   34/  100] | d_loss: 0.3333 | g_loss: 15.9467\n",
      "Epoch [   34/  100] | d_loss: 0.4141 | g_loss: 18.7766\n",
      "Epoch [   35/  100] | d_loss: 0.3541 | g_loss: 17.2652\n",
      "Epoch [   35/  100] | d_loss: 0.3472 | g_loss: 17.2072\n",
      "Epoch [   35/  100] | d_loss: 0.3466 | g_loss: 11.9020\n",
      "Epoch [   36/  100] | d_loss: 0.3924 | g_loss: 15.9030\n",
      "Epoch [   36/  100] | d_loss: 0.3472 | g_loss: 19.9522\n",
      "Epoch [   36/  100] | d_loss: 0.3349 | g_loss: 15.5901\n",
      "Epoch [   37/  100] | d_loss: 0.3660 | g_loss: 13.6661\n",
      "Epoch [   37/  100] | d_loss: 0.4193 | g_loss: 14.9613\n",
      "Epoch [   37/  100] | d_loss: 0.3390 | g_loss: 15.4060\n",
      "Epoch [   38/  100] | d_loss: 0.3396 | g_loss: 20.7624\n",
      "Epoch [   38/  100] | d_loss: 0.3383 | g_loss: 18.7767\n",
      "Epoch [   38/  100] | d_loss: 0.3492 | g_loss: 12.8569\n",
      "Epoch [   39/  100] | d_loss: 0.3366 | g_loss: 14.9079\n",
      "Epoch [   39/  100] | d_loss: 0.3310 | g_loss: 18.8012\n",
      "Epoch [   39/  100] | d_loss: 0.3469 | g_loss: 22.4376\n",
      "Epoch [   40/  100] | d_loss: 0.3388 | g_loss: 17.1530\n",
      "Epoch [   40/  100] | d_loss: 0.4182 | g_loss: 16.8131\n",
      "Epoch [   40/  100] | d_loss: 0.3460 | g_loss: 16.4329\n",
      "Epoch [   41/  100] | d_loss: 0.3424 | g_loss: 20.4318\n",
      "Epoch [   41/  100] | d_loss: 0.3316 | g_loss: 23.2373\n",
      "Epoch [   41/  100] | d_loss: 0.3576 | g_loss: 11.3011\n",
      "Epoch [   42/  100] | d_loss: 0.3423 | g_loss: 18.3646\n",
      "Epoch [   42/  100] | d_loss: 0.3417 | g_loss: 16.0826\n",
      "Epoch [   42/  100] | d_loss: 0.3354 | g_loss: 14.6263\n",
      "Epoch [   43/  100] | d_loss: 0.3741 | g_loss: 26.5927\n",
      "Epoch [   43/  100] | d_loss: 0.3298 | g_loss: 20.7314\n",
      "Epoch [   43/  100] | d_loss: 0.3456 | g_loss: 10.0265\n",
      "Epoch [   44/  100] | d_loss: 0.3343 | g_loss: 15.8101\n",
      "Epoch [   44/  100] | d_loss: 0.3424 | g_loss: 14.5568\n",
      "Epoch [   44/  100] | d_loss: 0.3499 | g_loss: 12.0922\n",
      "Epoch [   45/  100] | d_loss: 0.3337 | g_loss: 19.4863\n",
      "Epoch [   45/  100] | d_loss: 0.3306 | g_loss: 15.0772\n",
      "Epoch [   45/  100] | d_loss: 0.3377 | g_loss: 13.1502\n",
      "Epoch [   46/  100] | d_loss: 0.3447 | g_loss: 18.9718\n",
      "Epoch [   46/  100] | d_loss: 0.3419 | g_loss: 19.0170\n",
      "Epoch [   46/  100] | d_loss: 0.3583 | g_loss: 18.6812\n",
      "Epoch [   47/  100] | d_loss: 0.3388 | g_loss: 10.5721\n",
      "Epoch [   47/  100] | d_loss: 0.3380 | g_loss: 15.8314\n",
      "Epoch [   47/  100] | d_loss: 0.3326 | g_loss: 16.7833\n",
      "Epoch [   48/  100] | d_loss: 0.3321 | g_loss: 12.1965\n",
      "Epoch [   48/  100] | d_loss: 0.3609 | g_loss: 16.2013\n",
      "Epoch [   48/  100] | d_loss: 0.3350 | g_loss: 15.9670\n",
      "Epoch [   49/  100] | d_loss: 0.3641 | g_loss: 24.8920\n",
      "Epoch [   49/  100] | d_loss: 0.3483 | g_loss: 21.2634\n",
      "Epoch [   49/  100] | d_loss: 0.3335 | g_loss: 17.9187\n",
      "Epoch [   50/  100] | d_loss: 0.3563 | g_loss: 11.2474\n",
      "Epoch [   50/  100] | d_loss: 0.3462 | g_loss: 18.8982\n",
      "Epoch [   50/  100] | d_loss: 0.3355 | g_loss: 15.7602\n",
      "Epoch [   51/  100] | d_loss: 0.3572 | g_loss: 17.5056\n",
      "Epoch [   51/  100] | d_loss: 0.3315 | g_loss: 20.7288\n",
      "Epoch [   51/  100] | d_loss: 0.3279 | g_loss: 20.2918\n",
      "Epoch [   52/  100] | d_loss: 0.3293 | g_loss: 17.3946\n",
      "Epoch [   52/  100] | d_loss: 0.3388 | g_loss: 16.2760\n",
      "Epoch [   52/  100] | d_loss: 0.3592 | g_loss: 18.8882\n",
      "Epoch [   53/  100] | d_loss: 0.3668 | g_loss: 14.2702\n",
      "Epoch [   53/  100] | d_loss: 0.3303 | g_loss: 16.0075\n",
      "Epoch [   53/  100] | d_loss: 0.3340 | g_loss: 16.5847\n",
      "Epoch [   54/  100] | d_loss: 0.3689 | g_loss: 15.3095\n",
      "Epoch [   54/  100] | d_loss: 0.3568 | g_loss: 14.8665\n",
      "Epoch [   54/  100] | d_loss: 0.3986 | g_loss: 10.9761\n",
      "Epoch [   55/  100] | d_loss: 0.3562 | g_loss: 13.9899\n",
      "Epoch [   55/  100] | d_loss: 0.3596 | g_loss: 14.6954\n",
      "Epoch [   55/  100] | d_loss: 0.3409 | g_loss: 14.1449\n",
      "Epoch [   56/  100] | d_loss: 0.3967 | g_loss: 10.8141\n",
      "Epoch [   56/  100] | d_loss: 0.3588 | g_loss: 15.4443\n",
      "Epoch [   56/  100] | d_loss: 0.3462 | g_loss: 14.4839\n",
      "Epoch [   57/  100] | d_loss: 0.3852 | g_loss: 13.6808\n",
      "Epoch [   57/  100] | d_loss: 0.3349 | g_loss: 13.3403\n",
      "Epoch [   57/  100] | d_loss: 0.4027 | g_loss: 11.1093\n",
      "Epoch [   58/  100] | d_loss: 0.3400 | g_loss: 12.2414\n",
      "Epoch [   58/  100] | d_loss: 0.3387 | g_loss: 11.3243\n",
      "Epoch [   58/  100] | d_loss: 0.3341 | g_loss: 18.2678\n",
      "Epoch [   59/  100] | d_loss: 0.3339 | g_loss: 13.0977\n",
      "Epoch [   59/  100] | d_loss: 0.3336 | g_loss: 16.2272\n",
      "Epoch [   59/  100] | d_loss: 0.3568 | g_loss: 14.4900\n",
      "Epoch [   60/  100] | d_loss: 0.3713 | g_loss: 13.8940\n",
      "Epoch [   60/  100] | d_loss: 0.3630 | g_loss: 11.0894\n",
      "Epoch [   60/  100] | d_loss: 0.3459 | g_loss: 14.6695\n",
      "Epoch [   61/  100] | d_loss: 0.3584 | g_loss: 10.2920\n",
      "Epoch [   61/  100] | d_loss: 0.3561 | g_loss: 16.1522\n",
      "Epoch [   61/  100] | d_loss: 0.3452 | g_loss: 14.3455\n",
      "Epoch [   62/  100] | d_loss: 0.3544 | g_loss: 12.7441\n",
      "Epoch [   62/  100] | d_loss: 0.3435 | g_loss: 19.7374\n",
      "Epoch [   62/  100] | d_loss: 0.3578 | g_loss: 19.4849\n",
      "Epoch [   63/  100] | d_loss: 0.3437 | g_loss: 15.4403\n",
      "Epoch [   63/  100] | d_loss: 0.3431 | g_loss: 13.9008\n",
      "Epoch [   63/  100] | d_loss: 0.4025 | g_loss: 10.7398\n",
      "Epoch [   64/  100] | d_loss: 0.3335 | g_loss: 14.9997\n",
      "Epoch [   64/  100] | d_loss: 0.3400 | g_loss: 15.3643\n",
      "Epoch [   64/  100] | d_loss: 0.3333 | g_loss: 12.9137\n",
      "Epoch [   65/  100] | d_loss: 0.3463 | g_loss: 14.6868\n",
      "Epoch [   65/  100] | d_loss: 0.3500 | g_loss: 17.9067\n",
      "Epoch [   65/  100] | d_loss: 0.4113 | g_loss: 13.4833\n",
      "Epoch [   66/  100] | d_loss: 0.3485 | g_loss: 14.1393\n",
      "Epoch [   66/  100] | d_loss: 0.3387 | g_loss: 14.7157\n",
      "Epoch [   66/  100] | d_loss: 0.3527 | g_loss: 15.3108\n",
      "Epoch [   67/  100] | d_loss: 0.3508 | g_loss: 18.3185\n",
      "Epoch [   67/  100] | d_loss: 0.3380 | g_loss: 13.4147\n",
      "Epoch [   67/  100] | d_loss: 0.3499 | g_loss: 13.3400\n",
      "Epoch [   68/  100] | d_loss: 0.3616 | g_loss: 19.1208\n",
      "Epoch [   68/  100] | d_loss: 0.3571 | g_loss: 11.8216\n",
      "Epoch [   68/  100] | d_loss: 0.3993 | g_loss: 15.2848\n",
      "Epoch [   69/  100] | d_loss: 0.3541 | g_loss: 13.2754\n",
      "Epoch [   69/  100] | d_loss: 0.3771 | g_loss: 17.6865\n",
      "Epoch [   69/  100] | d_loss: 0.3871 | g_loss: 8.7399\n",
      "Epoch [   70/  100] | d_loss: 0.3819 | g_loss: 19.6046\n",
      "Epoch [   70/  100] | d_loss: 0.3364 | g_loss: 12.5871\n",
      "Epoch [   70/  100] | d_loss: 0.3421 | g_loss: 9.7101\n",
      "Epoch [   71/  100] | d_loss: 0.3318 | g_loss: 15.7024\n",
      "Epoch [   71/  100] | d_loss: 0.3619 | g_loss: 10.3525\n",
      "Epoch [   71/  100] | d_loss: 0.3441 | g_loss: 11.6481\n",
      "Epoch [   72/  100] | d_loss: 0.3383 | g_loss: 12.2150\n",
      "Epoch [   72/  100] | d_loss: 0.3483 | g_loss: 14.7896\n",
      "Epoch [   72/  100] | d_loss: 0.3718 | g_loss: 15.2520\n",
      "Epoch [   73/  100] | d_loss: 0.3672 | g_loss: 16.3006\n",
      "Epoch [   73/  100] | d_loss: 0.3478 | g_loss: 18.6792\n",
      "Epoch [   73/  100] | d_loss: 0.3592 | g_loss: 6.4013\n",
      "Epoch [   74/  100] | d_loss: 0.3491 | g_loss: 12.5032\n",
      "Epoch [   74/  100] | d_loss: 0.3385 | g_loss: 13.8142\n",
      "Epoch [   74/  100] | d_loss: 0.4293 | g_loss: 13.2583\n",
      "Epoch [   75/  100] | d_loss: 0.3797 | g_loss: 11.1423\n",
      "Epoch [   75/  100] | d_loss: 0.3576 | g_loss: 17.0522\n",
      "Epoch [   75/  100] | d_loss: 0.3380 | g_loss: 15.7453\n",
      "Epoch [   76/  100] | d_loss: 0.3449 | g_loss: 10.2593\n",
      "Epoch [   76/  100] | d_loss: 0.3485 | g_loss: 9.8482\n",
      "Epoch [   76/  100] | d_loss: 0.4958 | g_loss: 11.0781\n",
      "Epoch [   77/  100] | d_loss: 0.3551 | g_loss: 12.7803\n",
      "Epoch [   77/  100] | d_loss: 0.3862 | g_loss: 10.1931\n",
      "Epoch [   77/  100] | d_loss: 0.3455 | g_loss: 12.4857\n",
      "Epoch [   78/  100] | d_loss: 0.3501 | g_loss: 11.2839\n",
      "Epoch [   78/  100] | d_loss: 0.3580 | g_loss: 16.7283\n",
      "Epoch [   78/  100] | d_loss: 0.3433 | g_loss: 14.6214\n",
      "Epoch [   79/  100] | d_loss: 0.3829 | g_loss: 10.7929\n",
      "Epoch [   79/  100] | d_loss: 0.3392 | g_loss: 15.2357\n",
      "Epoch [   79/  100] | d_loss: 0.3419 | g_loss: 12.1690\n",
      "Epoch [   80/  100] | d_loss: 0.4047 | g_loss: 13.0442\n",
      "Epoch [   80/  100] | d_loss: 0.3502 | g_loss: 14.1289\n",
      "Epoch [   80/  100] | d_loss: 0.3436 | g_loss: 13.3558\n",
      "Epoch [   81/  100] | d_loss: 0.3941 | g_loss: 20.1110\n",
      "Epoch [   81/  100] | d_loss: 0.3388 | g_loss: 12.4300\n",
      "Epoch [   81/  100] | d_loss: 0.3566 | g_loss: 14.8206\n",
      "Epoch [   82/  100] | d_loss: 0.3333 | g_loss: 11.1246\n",
      "Epoch [   82/  100] | d_loss: 0.3611 | g_loss: 20.9708\n",
      "Epoch [   82/  100] | d_loss: 0.3547 | g_loss: 15.9828\n",
      "Epoch [   83/  100] | d_loss: 0.3411 | g_loss: 10.4529\n",
      "Epoch [   83/  100] | d_loss: 0.4029 | g_loss: 12.8770\n",
      "Epoch [   83/  100] | d_loss: 0.3451 | g_loss: 16.1558\n",
      "Epoch [   84/  100] | d_loss: 0.3597 | g_loss: 11.1233\n",
      "Epoch [   84/  100] | d_loss: 0.4054 | g_loss: 12.2436\n",
      "Epoch [   84/  100] | d_loss: 0.3980 | g_loss: 11.6747\n",
      "Epoch [   85/  100] | d_loss: 0.3643 | g_loss: 10.9940\n",
      "Epoch [   85/  100] | d_loss: 0.3729 | g_loss: 13.1028\n",
      "Epoch [   85/  100] | d_loss: 0.5041 | g_loss: 16.7046\n",
      "Epoch [   86/  100] | d_loss: 0.4583 | g_loss: 11.0465\n",
      "Epoch [   86/  100] | d_loss: 0.3822 | g_loss: 14.7263\n",
      "Epoch [   86/  100] | d_loss: 0.4067 | g_loss: 12.8463\n",
      "Epoch [   87/  100] | d_loss: 0.3405 | g_loss: 17.7242\n",
      "Epoch [   87/  100] | d_loss: 0.3404 | g_loss: 18.4988\n",
      "Epoch [   87/  100] | d_loss: 0.3425 | g_loss: 19.0771\n",
      "Epoch [   88/  100] | d_loss: 0.3360 | g_loss: 15.5174\n",
      "Epoch [   88/  100] | d_loss: 0.3417 | g_loss: 11.0609\n",
      "Epoch [   88/  100] | d_loss: 0.4453 | g_loss: 15.7865\n",
      "Epoch [   89/  100] | d_loss: 0.3390 | g_loss: 14.4834\n",
      "Epoch [   89/  100] | d_loss: 0.3900 | g_loss: 13.6010\n",
      "Epoch [   89/  100] | d_loss: 0.3572 | g_loss: 16.1795\n",
      "Epoch [   90/  100] | d_loss: 0.3489 | g_loss: 13.3970\n",
      "Epoch [   90/  100] | d_loss: 0.3964 | g_loss: 14.9095\n",
      "Epoch [   90/  100] | d_loss: 0.4103 | g_loss: 11.6361\n",
      "Epoch [   91/  100] | d_loss: 0.3388 | g_loss: 17.4479\n",
      "Epoch [   91/  100] | d_loss: 0.3862 | g_loss: 15.0277\n",
      "Epoch [   91/  100] | d_loss: 0.3484 | g_loss: 17.1483\n",
      "Epoch [   92/  100] | d_loss: 0.3387 | g_loss: 16.0501\n",
      "Epoch [   92/  100] | d_loss: 0.3466 | g_loss: 13.4884\n",
      "Epoch [   92/  100] | d_loss: 0.3652 | g_loss: 12.3106\n",
      "Epoch [   93/  100] | d_loss: 0.4122 | g_loss: 11.2590\n",
      "Epoch [   93/  100] | d_loss: 0.3300 | g_loss: 13.8589\n",
      "Epoch [   93/  100] | d_loss: 0.3721 | g_loss: 18.9199\n",
      "Epoch [   94/  100] | d_loss: 0.3429 | g_loss: 13.3765\n",
      "Epoch [   94/  100] | d_loss: 0.3683 | g_loss: 12.8900\n",
      "Epoch [   94/  100] | d_loss: 0.3667 | g_loss: 13.6235\n",
      "Epoch [   95/  100] | d_loss: 0.3394 | g_loss: 11.6032\n",
      "Epoch [   95/  100] | d_loss: 0.3569 | g_loss: 14.1552\n",
      "Epoch [   95/  100] | d_loss: 0.3635 | g_loss: 15.6818\n",
      "Epoch [   96/  100] | d_loss: 0.3484 | g_loss: 12.4742\n",
      "Epoch [   96/  100] | d_loss: 0.4037 | g_loss: 12.9317\n",
      "Epoch [   96/  100] | d_loss: 0.3412 | g_loss: 12.3277\n",
      "Epoch [   97/  100] | d_loss: 0.3449 | g_loss: 17.7940\n",
      "Epoch [   97/  100] | d_loss: 0.3373 | g_loss: 13.2686\n",
      "Epoch [   97/  100] | d_loss: 0.3586 | g_loss: 15.1402\n",
      "Epoch [   98/  100] | d_loss: 0.3360 | g_loss: 14.6202\n",
      "Epoch [   98/  100] | d_loss: 0.3407 | g_loss: 9.5181\n",
      "Epoch [   98/  100] | d_loss: 0.3960 | g_loss: 16.7820\n",
      "Epoch [   99/  100] | d_loss: 0.3403 | g_loss: 18.0267\n",
      "Epoch [   99/  100] | d_loss: 0.3481 | g_loss: 17.0723\n",
      "Epoch [   99/  100] | d_loss: 0.3416 | g_loss: 16.0917\n",
      "Epoch [  100/  100] | d_loss: 0.3586 | g_loss: 16.3941\n",
      "Epoch [  100/  100] | d_loss: 0.4507 | g_loss: 9.1193\n",
      "Epoch [  100/  100] | d_loss: 0.3508 | g_loss: 17.2312\n"
     ]
    }
   ],
   "source": [
    "import pickle as pkl\n",
    "\n",
    "# training hyperparams\n",
    "num_epochs = 100\n",
    "\n",
    "# keep track of loss and generated, \"fake\" samples\n",
    "samples = []\n",
    "losses = []\n",
    "\n",
    "print_every = 400\n",
    "\n",
    "# Get some fixed data for sampling. These are images that are held\n",
    "# constant throughout training, and allow us to inspect the model's performance\n",
    "sample_size=16\n",
    "fixed_z = np.random.uniform(-1, 1, size=(sample_size, z_size))\n",
    "fixed_z = torch.from_numpy(fixed_z).float()\n",
    "\n",
    "# train the network\n",
    "D.train()\n",
    "G.train()\n",
    "for epoch in range(num_epochs):\n",
    "    \n",
    "    for batch_i, (real_images, _) in enumerate(train_loader):\n",
    "                \n",
    "        batch_size = real_images.size(0)\n",
    "        \n",
    "        ## Important rescaling step ## \n",
    "        real_images = real_images*2 - 1  # rescale input images from [0,1) to [-1, 1)\n",
    "        \n",
    "        # ============================================\n",
    "        #            TRAIN THE DISCRIMINATOR\n",
    "        # ============================================\n",
    "        \n",
    "        d_optimizer.zero_grad()\n",
    "        \n",
    "        # 1. Train with real images\n",
    "\n",
    "        # Compute the discriminator losses on real images \n",
    "        # smooth the real labels\n",
    "        D_real = D(real_images)\n",
    "        d_real_loss = real_loss(D_real, smooth=True)\n",
    "        \n",
    "        # 2. Train with fake images\n",
    "        \n",
    "        # Generate fake images\n",
    "        z = np.random.uniform(-1, 1, size=(batch_size, z_size))\n",
    "        z = torch.from_numpy(z).float()\n",
    "        fake_images = G(z)\n",
    "        \n",
    "        # Compute the discriminator losses on fake images        \n",
    "        D_fake = D(fake_images)\n",
    "        d_fake_loss = fake_loss(D_fake)\n",
    "        \n",
    "        # add up loss and perform backprop\n",
    "        d_loss = d_real_loss + d_fake_loss\n",
    "        d_loss.backward()\n",
    "        d_optimizer.step()\n",
    "        \n",
    "        \n",
    "        # =========================================\n",
    "        #            TRAIN THE GENERATOR\n",
    "        # =========================================\n",
    "        g_optimizer.zero_grad()\n",
    "        \n",
    "        # 1. Train with fake images and flipped labels\n",
    "        \n",
    "        # Generate fake images\n",
    "        z = np.random.uniform(-1, 1, size=(batch_size, z_size))\n",
    "        z = torch.from_numpy(z).float()\n",
    "        fake_images = G(z)\n",
    "        \n",
    "        # Compute the discriminator losses on fake images \n",
    "        # using flipped labels!\n",
    "        D_fake = D(fake_images)\n",
    "        g_loss = real_loss(D_fake) # use real loss to flip labels\n",
    "        \n",
    "        # perform backprop\n",
    "        g_loss.backward()\n",
    "        g_optimizer.step()\n",
    "\n",
    "        # Print some loss stats\n",
    "        if batch_i % print_every == 0:\n",
    "            # print discriminator and generator loss\n",
    "            print('Epoch [{:5d}/{:5d}] | d_loss: {:6.4f} | g_loss: {:6.4f}'.format(\n",
    "                    epoch+1, num_epochs, d_loss.item(), g_loss.item()))\n",
    "\n",
    "    \n",
    "    ## AFTER EACH EPOCH##\n",
    "    # append discriminator loss and generator loss\n",
    "    losses.append((d_loss.item(), g_loss.item()))\n",
    "    \n",
    "    # generate and save sample, fake images\n",
    "    G.eval() # eval mode for generating samples\n",
    "    samples_z = G(fixed_z)\n",
    "    samples.append(samples_z)\n",
    "    G.train() # back to train mode\n",
    "\n",
    "\n",
    "# Save training generator samples\n",
    "with open('train_samples.pkl', 'wb') as f:\n",
    "    pkl.dump(samples, f)"
   ]
  },
  {
   "cell_type": "markdown",
   "metadata": {},
   "source": [
    "## Training loss\n",
    "\n",
    "Here we'll plot the training losses for the generator and discriminator, recorded after each epoch."
   ]
  },
  {
   "cell_type": "code",
   "execution_count": 11,
   "metadata": {},
   "outputs": [
    {
     "data": {
      "text/plain": [
       "<matplotlib.legend.Legend at 0x7fd744d1e278>"
      ]
     },
     "execution_count": 11,
     "metadata": {},
     "output_type": "execute_result"
    },
    {
     "data": {
      "image/png": "[encoded data removed]",
      "text/plain": [
       "<matplotlib.figure.Figure at 0x7fd74eb4fbe0>"
      ]
     },
     "metadata": {
      "needs_background": "light"
     },
     "output_type": "display_data"
    }
   ],
   "source": [
    "fig, ax = plt.subplots()\n",
    "losses = np.array(losses)\n",
    "plt.plot(losses.T[0], label='Discriminator')\n",
    "plt.plot(losses.T[1], label='Generator')\n",
    "plt.title(\"Training Losses\")\n",
    "plt.legend()"
   ]
  },
  {
   "cell_type": "markdown",
   "metadata": {},
   "source": [
    "## Generator samples from training\n",
    "\n",
    "Here we can view samples of images from the generator. First we'll look at the images we saved during training."
   ]
  },
  {
   "cell_type": "code",
   "execution_count": 12,
   "metadata": {},
   "outputs": [],
   "source": [
    "# helper function for viewing a list of passed in sample images\n",
    "def view_samples(epoch, samples):\n",
    "    fig, axes = plt.subplots(figsize=(7,7), nrows=4, ncols=4, sharey=True, sharex=True)\n",
    "    for ax, img in zip(axes.flatten(), samples[epoch]):\n",
    "        img = img.detach()\n",
    "        ax.xaxis.set_visible(False)\n",
    "        ax.yaxis.set_visible(False)\n",
    "        im = ax.imshow(img.reshape((28,28)), cmap='Greys_r')"
   ]
  },
  {
   "cell_type": "code",
   "execution_count": 13,
   "metadata": {},
   "outputs": [],
   "source": [
    "# Load samples from generator, taken while training\n",
    "with open('train_samples.pkl', 'rb') as f:\n",
    "    samples = pkl.load(f)"
   ]
  },
  {
   "cell_type": "markdown",
   "metadata": {},
   "source": [
    "These are samples from the final training epoch. You can see the generator is able to reproduce numbers like 1, 7, 3, 2. Since this is just a sample, it isn't representative of the full range of images this generator can make."
   ]
  },
  {
   "cell_type": "code",
   "execution_count": 14,
   "metadata": {},
   "outputs": [
    {
     "data": {
      "image/png": "[encoded data removed]",
      "text/plain": [
       "<matplotlib.figure.Figure at 0x7fd74ebeccf8>"
      ]
     },
     "metadata": {
      "needs_background": "light"
     },
     "output_type": "display_data"
    }
   ],
   "source": [
    "# -1 indicates final epoch's samples (the last in the list)\n",
    "view_samples(-1, samples)"
   ]
  },
  {
   "cell_type": "markdown",
   "metadata": {},
   "source": [
    "Below I'm showing the generated images as the network was training, every 10 epochs."
   ]
  },
  {
   "cell_type": "code",
   "execution_count": 15,
   "metadata": {},
   "outputs": [
    {
     "data": {
      "image/png": "[encoded data removed]",
      "text/plain": [
       "<matplotlib.figure.Figure at 0x7fd745d5dfd0>"
      ]
     },
     "metadata": {
      "needs_background": "light"
     },
     "output_type": "display_data"
    }
   ],
   "source": [
    "rows = 10 # split epochs into 10, so 100/10 = every 10 epochs\n",
    "cols = 6\n",
    "fig, axes = plt.subplots(figsize=(7,12), nrows=rows, ncols=cols, sharex=True, sharey=True)\n",
    "\n",
    "for sample, ax_row in zip(samples[::int(len(samples)/rows)], axes):\n",
    "    for img, ax in zip(sample[::int(len(sample)/cols)], ax_row):\n",
    "        img = img.detach()\n",
    "        ax.imshow(img.reshape((28,28)), cmap='Greys_r')\n",
    "        ax.xaxis.set_visible(False)\n",
    "        ax.yaxis.set_visible(False)"
   ]
  },
  {
   "cell_type": "markdown",
   "metadata": {},
   "source": [
    "It starts out as all noise. Then it learns to make only the center white and the rest black. You can start to see some number like structures appear out of the noise like 1s and 9s."
   ]
  },
  {
   "cell_type": "markdown",
   "metadata": {},
   "source": [
    "## Sampling from the generator\n",
    "\n",
    "We can also get completely new images from the generator by using the checkpoint we saved after training. **We just need to pass in a new latent vector $z$ and we'll get new samples**!"
   ]
  },
  {
   "cell_type": "code",
   "execution_count": 16,
   "metadata": {},
   "outputs": [
    {
     "data": {
      "image/png": "[encoded data removed]",
      "text/plain": [
       "<matplotlib.figure.Figure at 0x7fd745185898>"
      ]
     },
     "metadata": {
      "needs_background": "light"
     },
     "output_type": "display_data"
    }
   ],
   "source": [
    "# randomly generated, new latent vectors\n",
    "sample_size=16\n",
    "rand_z = np.random.uniform(-1, 1, size=(sample_size, z_size))\n",
    "rand_z = torch.from_numpy(rand_z).float()\n",
    "\n",
    "G.eval() # eval mode\n",
    "# generated samples\n",
    "rand_images = G(rand_z)\n",
    "\n",
    "# 0 indicates the first set of samples in the passed in list\n",
    "# and we only have one batch of samples, here\n",
    "view_samples(0, [rand_images])"
   ]
  },
  {
   "cell_type": "code",
   "execution_count": null,
   "metadata": {},
   "outputs": [],
   "source": []
  }
 ],
 "metadata": {
  "kernelspec": {
   "display_name": "Python 3",
   "language": "python",
   "name": "python3"
  },
  "language_info": {
   "codemirror_mode": {
    "name": "ipython",
    "version": 3
   },
   "file_extension": ".py",
   "mimetype": "text/x-python",
   "name": "python",
   "nbconvert_exporter": "python",
   "pygments_lexer": "ipython3",
   "version": "3.6.3"
  }
 },
 "nbformat": 4,
 "nbformat_minor": 2
}
