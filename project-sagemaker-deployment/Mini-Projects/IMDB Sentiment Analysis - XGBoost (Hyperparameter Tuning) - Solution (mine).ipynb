{
 "cells": [
  {
   "cell_type": "markdown",
   "metadata": {},
   "source": [
    "# Sentiment Analysis\n",
    "\n",
    "## Using XGBoost in SageMaker\n",
    "\n",
    "_Deep Learning Nanodegree Program | Deployment_\n",
    "\n",
    "---\n",
    "\n",
    "In this example of using Amazon's SageMaker service we will construct a random tree model to predict the sentiment of a movie review. You may have seen a version of this example in a pervious lesson although it would have been done using the sklearn package. Instead, we will be using the XGBoost package as it is provided to us by Amazon.\n",
    "\n",
    "## Instructions\n",
    "\n",
    "Some template code has already been provided for you, and you will need to implement additional functionality to successfully complete this notebook. You will not need to modify the included code beyond what is requested. Sections that begin with '**TODO**' in the header indicate that you need to complete or implement some portion within them. Instructions will be provided for each section and the specifics of the implementation are marked in the code block with a `# TODO: ...` comment. Please be sure to read the instructions carefully!\n",
    "\n",
    "In addition to implementing code, there may be questions for you to answer which relate to the task and your implementation. Each section where you will answer a question is preceded by a '**Question:**' header. Carefully read each question and provide your answer below the '**Answer:**' header by editing the Markdown cell.\n",
    "\n",
    "> **Note**: Code and Markdown cells can be executed using the **Shift+Enter** keyboard shortcut. In addition, a cell can be edited by typically clicking it (double-click for Markdown cells) or by pressing **Enter** while it is highlighted."
   ]
  },
  {
   "cell_type": "markdown",
   "metadata": {},
   "source": [
    "## Step 1: Downloading the data\n",
    "\n",
    "The dataset we are going to use is very popular among researchers in Natural Language Processing, usually referred to as the [IMDb dataset](http://ai.stanford.edu/~amaas/data/sentiment/). It consists of movie reviews from the website [imdb.com](http://www.imdb.com/), each labeled as either '**pos**itive', if the reviewer enjoyed the film, or '**neg**ative' otherwise.\n",
    "\n",
    "> Maas, Andrew L., et al. [Learning Word Vectors for Sentiment Analysis](http://ai.stanford.edu/~amaas/data/sentiment/). In _Proceedings of the 49th Annual Meeting of the Association for Computational Linguistics: Human Language Technologies_. Association for Computational Linguistics, 2011.\n",
    "\n",
    "We begin by using some Jupyter Notebook magic to download and extract the dataset."
   ]
  },
  {
   "cell_type": "code",
   "execution_count": 1,
   "metadata": {},
   "outputs": [
    {
     "name": "stdout",
     "output_type": "stream",
     "text": [
      "mkdir: cannot create directory ‘../data’: File exists\n",
      "--2019-05-12 10:52:44--  http://ai.stanford.edu/~amaas/data/sentiment/aclImdb_v1.tar.gz\n",
      "Resolving ai.stanford.edu (ai.stanford.edu)... 171.64.68.10\n",
      "Connecting to ai.stanford.edu (ai.stanford.edu)|171.64.68.10|:80... connected.\n",
      "HTTP request sent, awaiting response... 200 OK\n",
      "Length: 84125825 (80M) [application/x-gzip]\n",
      "Saving to: ‘../data/aclImdb_v1.tar.gz’\n",
      "\n",
      "../data/aclImdb_v1. 100%[===================>]  80.23M  8.46MB/s    in 10s     \n",
      "\n",
      "2019-05-12 10:52:55 (7.67 MB/s) - ‘../data/aclImdb_v1.tar.gz’ saved [84125825/84125825]\n",
      "\n"
     ]
    }
   ],
   "source": [
    "%mkdir ../data\n",
    "!wget -O ../data/aclImdb_v1.tar.gz http://ai.stanford.edu/~amaas/data/sentiment/aclImdb_v1.tar.gz\n",
    "!tar -zxf ../data/aclImdb_v1.tar.gz -C ../data"
   ]
  },
  {
   "cell_type": "markdown",
   "metadata": {},
   "source": [
    "## Step 2: Preparing the data\n",
    "\n",
    "The data we have downloaded is split into various files, each of which contains a single review. It will be much easier going forward if we combine these individual files into two large files, one for training and one for testing."
   ]
  },
  {
   "cell_type": "code",
   "execution_count": 2,
   "metadata": {},
   "outputs": [],
   "source": [
    "import os\n",
    "import glob\n",
    "\n",
    "def read_imdb_data(data_dir='../data/aclImdb'):\n",
    "    data = {}\n",
    "    labels = {}\n",
    "    \n",
    "    for data_type in ['train', 'test']:\n",
    "        data[data_type] = {}\n",
    "        labels[data_type] = {}\n",
    "        \n",
    "        for sentiment in ['pos', 'neg']:\n",
    "            data[data_type][sentiment] = []\n",
    "            labels[data_type][sentiment] = []\n",
    "            \n",
    "            path = os.path.join(data_dir, data_type, sentiment, '*.txt')\n",
    "            files = glob.glob(path)\n",
    "            \n",
    "            for f in files:\n",
    "                with open(f) as review:\n",
    "                    data[data_type][sentiment].append(review.read())\n",
    "                    # Here we represent a positive review by '1' and a negative review by '0'\n",
    "                    labels[data_type][sentiment].append(1 if sentiment == 'pos' else 0)\n",
    "                    \n",
    "            assert len(data[data_type][sentiment]) == len(labels[data_type][sentiment]), \\\n",
    "                    \"{}/{} data size does not match labels size\".format(data_type, sentiment)\n",
    "                \n",
    "    return data, labels"
   ]
  },
  {
   "cell_type": "code",
   "execution_count": 3,
   "metadata": {},
   "outputs": [
    {
     "name": "stdout",
     "output_type": "stream",
     "text": [
      "IMDB reviews: train = 12500 pos / 12500 neg, test = 12500 pos / 12500 neg\n"
     ]
    }
   ],
   "source": [
    "data, labels = read_imdb_data()\n",
    "print(\"IMDB reviews: train = {} pos / {} neg, test = {} pos / {} neg\".format(\n",
    "            len(data['train']['pos']), len(data['train']['neg']),\n",
    "            len(data['test']['pos']), len(data['test']['neg'])))"
   ]
  },
  {
   "cell_type": "code",
   "execution_count": 4,
   "metadata": {},
   "outputs": [],
   "source": [
    "from sklearn.utils import shuffle\n",
    "\n",
    "def prepare_imdb_data(data, labels):\n",
    "    \"\"\"Prepare training and test sets from IMDb movie reviews.\"\"\"\n",
    "    \n",
    "    #Combine positive and negative reviews and labels\n",
    "    data_train = data['train']['pos'] + data['train']['neg']\n",
    "    data_test = data['test']['pos'] + data['test']['neg']\n",
    "    labels_train = labels['train']['pos'] + labels['train']['neg']\n",
    "    labels_test = labels['test']['pos'] + labels['test']['neg']\n",
    "    \n",
    "    #Shuffle reviews and corresponding labels within training and test sets\n",
    "    data_train, labels_train = shuffle(data_train, labels_train)\n",
    "    data_test, labels_test = shuffle(data_test, labels_test)\n",
    "    \n",
    "    # Return a unified training data, test data, training labels, test labets\n",
    "    return data_train, data_test, labels_train, labels_test"
   ]
  },
  {
   "cell_type": "code",
   "execution_count": 5,
   "metadata": {},
   "outputs": [
    {
     "name": "stdout",
     "output_type": "stream",
     "text": [
      "IMDb reviews (combined): train = 25000, test = 25000\n"
     ]
    }
   ],
   "source": [
    "train_X, test_X, train_y, test_y = prepare_imdb_data(data, labels)\n",
    "print(\"IMDb reviews (combined): train = {}, test = {}\".format(len(train_X), len(test_X)))"
   ]
  },
  {
   "cell_type": "code",
   "execution_count": 6,
   "metadata": {},
   "outputs": [
    {
     "data": {
      "text/plain": [
       "\"This movie has its ups and downs, but to me the good stuff in this movie very much outweighs the bads...<br /><br />What's not so good about the movie are indeed sometimes the dialogue, the sounds, the lighting(am I the only one who noticed the way the sets were lighted was amateur, and the acting....<br /><br />What is very good are the highly original storyline, the very intense atmosphere, the gore factor which is very high, and the effects which are done supremely.<br /><br />So, definitely worth watching, or maybe even a must-see for all you horror and gore fans....\""
      ]
     },
     "execution_count": 6,
     "metadata": {},
     "output_type": "execute_result"
    }
   ],
   "source": [
    "train_X[100]"
   ]
  },
  {
   "cell_type": "markdown",
   "metadata": {},
   "source": [
    "## Step 3: Processing the data\n",
    "\n",
    "Now that we have our training and testing datasets merged and ready to use, we need to start processing the raw data into something that will be useable by our machine learning algorithm. To begin with, we remove any html formatting that may appear in the reviews and perform some standard natural language processing in order to homogenize the data."
   ]
  },
  {
   "cell_type": "code",
   "execution_count": 7,
   "metadata": {},
   "outputs": [
    {
     "name": "stdout",
     "output_type": "stream",
     "text": [
      "[nltk_data] Downloading package stopwords to\n",
      "[nltk_data]     /home/ec2-user/nltk_data...\n",
      "[nltk_data]   Unzipping corpora/stopwords.zip.\n"
     ]
    }
   ],
   "source": [
    "import nltk\n",
    "nltk.download(\"stopwords\")\n",
    "from nltk.corpus import stopwords\n",
    "from nltk.stem.porter import *\n",
    "stemmer = PorterStemmer()"
   ]
  },
  {
   "cell_type": "code",
   "execution_count": 8,
   "metadata": {},
   "outputs": [],
   "source": [
    "import re\n",
    "from bs4 import BeautifulSoup\n",
    "\n",
    "def review_to_words(review):\n",
    "    text = BeautifulSoup(review, \"html.parser\").get_text() # Remove HTML tags\n",
    "    text = re.sub(r\"[^a-zA-Z0-9]\", \" \", text.lower()) # Convert to lower case\n",
    "    words = text.split() # Split string into words\n",
    "    words = [w for w in words if w not in stopwords.words(\"english\")] # Remove stopwords\n",
    "    words = [PorterStemmer().stem(w) for w in words] # stem\n",
    "    \n",
    "    return words"
   ]
  },
  {
   "cell_type": "code",
   "execution_count": 9,
   "metadata": {},
   "outputs": [],
   "source": [
    "import pickle\n",
    "\n",
    "cache_dir = os.path.join(\"../cache\", \"sentiment_analysis\")  # where to store cache files\n",
    "os.makedirs(cache_dir, exist_ok=True)  # ensure cache directory exists\n",
    "\n",
    "def preprocess_data(data_train, data_test, labels_train, labels_test,\n",
    "                    cache_dir=cache_dir, cache_file=\"preprocessed_data.pkl\"):\n",
    "    \"\"\"Convert each review to words; read from cache if available.\"\"\"\n",
    "\n",
    "    # If cache_file is not None, try to read from it first\n",
    "    cache_data = None\n",
    "    if cache_file is not None:\n",
    "        try:\n",
    "            with open(os.path.join(cache_dir, cache_file), \"rb\") as f:\n",
    "                cache_data = pickle.load(f)\n",
    "            print(\"Read preprocessed data from cache file:\", cache_file)\n",
    "        except:\n",
    "            pass  # unable to read from cache, but that's okay\n",
    "    \n",
    "    # If cache is missing, then do the heavy lifting\n",
    "    if cache_data is None:\n",
    "        # Preprocess training and test data to obtain words for each review\n",
    "        #words_train = list(map(review_to_words, data_train))\n",
    "        #words_test = list(map(review_to_words, data_test))\n",
    "        words_train = [review_to_words(review) for review in data_train]\n",
    "        words_test = [review_to_words(review) for review in data_test]\n",
    "        \n",
    "        # Write to cache file for future runs\n",
    "        if cache_file is not None:\n",
    "            cache_data = dict(words_train=words_train, words_test=words_test,\n",
    "                              labels_train=labels_train, labels_test=labels_test)\n",
    "            with open(os.path.join(cache_dir, cache_file), \"wb\") as f:\n",
    "                pickle.dump(cache_data, f)\n",
    "            print(\"Wrote preprocessed data to cache file:\", cache_file)\n",
    "    else:\n",
    "        # Unpack data loaded from cache file\n",
    "        words_train, words_test, labels_train, labels_test = (cache_data['words_train'],\n",
    "                cache_data['words_test'], cache_data['labels_train'], cache_data['labels_test'])\n",
    "    \n",
    "    return words_train, words_test, labels_train, labels_test"
   ]
  },
  {
   "cell_type": "code",
   "execution_count": 10,
   "metadata": {},
   "outputs": [
    {
     "name": "stdout",
     "output_type": "stream",
     "text": [
      "Wrote preprocessed data to cache file: preprocessed_data.pkl\n"
     ]
    }
   ],
   "source": [
    "# Preprocess data\n",
    "train_X, test_X, train_y, test_y = preprocess_data(train_X, test_X, train_y, test_y)"
   ]
  },
  {
   "cell_type": "markdown",
   "metadata": {},
   "source": [
    "### Extract Bag-of-Words features\n",
    "\n",
    "For the model we will be implementing, rather than using the reviews directly, we are going to transform each review into a Bag-of-Words feature representation. Keep in mind that 'in the wild' we will only have access to the training set so our transformer can only use the training set to construct a representation."
   ]
  },
  {
   "cell_type": "code",
   "execution_count": 11,
   "metadata": {},
   "outputs": [],
   "source": [
    "import numpy as np\n",
    "from sklearn.feature_extraction.text import CountVectorizer\n",
    "from sklearn.externals import joblib\n",
    "# joblib is an enhanced version of pickle that is more efficient for storing NumPy arrays\n",
    "\n",
    "def extract_BoW_features(words_train, words_test, vocabulary_size=5000,\n",
    "                         cache_dir=cache_dir, cache_file=\"bow_features.pkl\"):\n",
    "    \"\"\"Extract Bag-of-Words for a given set of documents, already preprocessed into words.\"\"\"\n",
    "    \n",
    "    # If cache_file is not None, try to read from it first\n",
    "    cache_data = None\n",
    "    if cache_file is not None:\n",
    "        try:\n",
    "            with open(os.path.join(cache_dir, cache_file), \"rb\") as f:\n",
    "                cache_data = joblib.load(f)\n",
    "            print(\"Read features from cache file:\", cache_file)\n",
    "        except:\n",
    "            pass  # unable to read from cache, but that's okay\n",
    "    \n",
    "    # If cache is missing, then do the heavy lifting\n",
    "    if cache_data is None:\n",
    "        # Fit a vectorizer to training documents and use it to transform them\n",
    "        # NOTE: Training documents have already been preprocessed and tokenized into words;\n",
    "        #       pass in dummy functions to skip those steps, e.g. preprocessor=lambda x: x\n",
    "        vectorizer = CountVectorizer(max_features=vocabulary_size,\n",
    "                preprocessor=lambda x: x, tokenizer=lambda x: x)  # already preprocessed\n",
    "        features_train = vectorizer.fit_transform(words_train).toarray()\n",
    "\n",
    "        # Apply the same vectorizer to transform the test documents (ignore unknown words)\n",
    "        features_test = vectorizer.transform(words_test).toarray()\n",
    "        \n",
    "        # NOTE: Remember to convert the features using .toarray() for a compact representation\n",
    "        \n",
    "        # Write to cache file for future runs (store vocabulary as well)\n",
    "        if cache_file is not None:\n",
    "            vocabulary = vectorizer.vocabulary_\n",
    "            cache_data = dict(features_train=features_train, features_test=features_test,\n",
    "                             vocabulary=vocabulary)\n",
    "            with open(os.path.join(cache_dir, cache_file), \"wb\") as f:\n",
    "                joblib.dump(cache_data, f)\n",
    "            print(\"Wrote features to cache file:\", cache_file)\n",
    "    else:\n",
    "        # Unpack data loaded from cache file\n",
    "        features_train, features_test, vocabulary = (cache_data['features_train'],\n",
    "                cache_data['features_test'], cache_data['vocabulary'])\n",
    "    \n",
    "    # Return both the extracted features as well as the vocabulary\n",
    "    return features_train, features_test, vocabulary"
   ]
  },
  {
   "cell_type": "code",
   "execution_count": 12,
   "metadata": {},
   "outputs": [
    {
     "name": "stdout",
     "output_type": "stream",
     "text": [
      "Wrote features to cache file: bow_features.pkl\n"
     ]
    }
   ],
   "source": [
    "# Extract Bag of Words features for both training and test datasets\n",
    "train_X, test_X, vocabulary = extract_BoW_features(train_X, test_X)"
   ]
  },
  {
   "cell_type": "markdown",
   "metadata": {},
   "source": [
    "## Step 4: Classification using XGBoost\n",
    "\n",
    "Now that we have created the feature representation of our training (and testing) data, it is time to start setting up and using the XGBoost classifier provided by SageMaker.\n",
    "\n",
    "### Writing the dataset\n",
    "\n",
    "The XGBoost classifier that we will be using requires the dataset to be written to a file and stored using Amazon S3. To do this, we will start by splitting the training dataset into two parts, the data we will train the model with and a validation set. Then, we will write those datasets to a file and upload the files to S3. In addition, we will write the test set input to a file and upload the file to S3. This is so that we can use SageMakers Batch Transform functionality to test our model once we've fit it."
   ]
  },
  {
   "cell_type": "code",
   "execution_count": 13,
   "metadata": {},
   "outputs": [],
   "source": [
    "import pandas as pd\n",
    "\n",
    "val_X = pd.DataFrame(train_X[:10000])\n",
    "train_X = pd.DataFrame(train_X[10000:])\n",
    "\n",
    "val_y = pd.DataFrame(train_y[:10000])\n",
    "train_y = pd.DataFrame(train_y[10000:])\n",
    "\n",
    "test_y = pd.DataFrame(test_y)\n",
    "test_X = pd.DataFrame(test_X)"
   ]
  },
  {
   "cell_type": "markdown",
   "metadata": {},
   "source": [
    "The documentation for the XGBoost algorithm in SageMaker requires that the saved datasets should contain no headers or index and that for the training and validation data, the label should occur first for each sample.\n",
    "\n",
    "For more information about this and other algorithms, the SageMaker developer documentation can be found on __[Amazon's website.](https://docs.aws.amazon.com/sagemaker/latest/dg/)__"
   ]
  },
  {
   "cell_type": "code",
   "execution_count": 14,
   "metadata": {},
   "outputs": [],
   "source": [
    "# First we make sure that the local directory in which we'd like to store the training and validation csv files exists.\n",
    "data_dir = '../data/xgboost'\n",
    "if not os.path.exists(data_dir):\n",
    "    os.makedirs(data_dir)"
   ]
  },
  {
   "cell_type": "code",
   "execution_count": 15,
   "metadata": {},
   "outputs": [],
   "source": [
    "# First, save the test data to test.csv in the data_dir directory. Note that we do not save the associated ground truth\n",
    "# labels, instead we will use them later to compare with our model output.\n",
    "\n",
    "# Solution:\n",
    "# The test data shouldn't contain the ground truth labels as they are what the model is\n",
    "# trying to predict. We will end up using them afterward to compare the predictions to.\n",
    "# pd.concat([test_y, test_X], axis=1).to_csv(os.path.join(data_dir, 'test.csv'), header=False, index=False)\n",
    "pd.DataFrame(test_X).to_csv(os.path.join(data_dir, 'test.csv'), header=False, index=False)\n",
    "\n",
    "pd.concat([val_y, val_X], axis=1).to_csv(os.path.join(data_dir, 'validation.csv'), header=False, index=False)\n",
    "pd.concat([train_y, train_X], axis=1).to_csv(os.path.join(data_dir, 'train.csv'), header=False, index=False)"
   ]
  },
  {
   "cell_type": "code",
   "execution_count": 16,
   "metadata": {},
   "outputs": [],
   "source": [
    "# To save a bit of memory we can set text_X, train_X, val_X, train_y and val_y to None.\n",
    "\n",
    "train_X = val_X = train_y = val_y = None"
   ]
  },
  {
   "cell_type": "markdown",
   "metadata": {},
   "source": [
    "### Uploading Training / Validation files to S3\n",
    "\n",
    "Amazon's S3 service allows us to store files that can be access by both the built-in training models such as the XGBoost model we will be using as well as custom models such as the one we will see a little later.\n",
    "\n",
    "For this, and most other tasks we will be doing using SageMaker, there are two methods we could use. The first is to use the low level functionality of SageMaker which requires knowing each of the objects involved in the SageMaker environment. The second is to use the high level functionality in which certain choices have been made on the user's behalf. The low level approach benefits from allowing the user a great deal of flexibility while the high level approach makes development much quicker. For our purposes we will opt to use the high level approach although using the low-level approach is certainly an option.\n",
    "\n",
    "Recall the method `upload_data()` which is a member of object representing our current SageMaker session. What this method does is upload the data to the default bucket (which is created if it does not exist) into the path described by the key_prefix variable. To see this for yourself, once you have uploaded the data files, go to the S3 console and look to see where the files have been uploaded.\n",
    "\n",
    "For additional resources, see the __[SageMaker API documentation](http://sagemaker.readthedocs.io/en/latest/)__ and in addition the __[SageMaker Developer Guide.](https://docs.aws.amazon.com/sagemaker/latest/dg/)__"
   ]
  },
  {
   "cell_type": "code",
   "execution_count": 17,
   "metadata": {},
   "outputs": [],
   "source": [
    "import sagemaker\n",
    "\n",
    "session = sagemaker.Session() # Store the current SageMaker session\n",
    "\n",
    "# S3 prefix (which folder will we use)\n",
    "prefix = 'sentiment-xgboost'\n",
    "\n",
    "test_location = session.upload_data(os.path.join(data_dir, 'test.csv'), key_prefix=prefix)\n",
    "val_location = session.upload_data(os.path.join(data_dir, 'validation.csv'), key_prefix=prefix)\n",
    "train_location = session.upload_data(os.path.join(data_dir, 'train.csv'), key_prefix=prefix)"
   ]
  },
  {
   "cell_type": "markdown",
   "metadata": {},
   "source": [
    "### (TODO) Creating a tuned XGBoost model\n",
    "\n",
    "Now that the data has been uploaded it is time to create the XGBoost model. As in the Boston Housing notebook, the first step is to create an estimator object which will be used as the *base* of your hyperparameter tuning job."
   ]
  },
  {
   "cell_type": "code",
   "execution_count": 18,
   "metadata": {},
   "outputs": [],
   "source": [
    "from sagemaker import get_execution_role\n",
    "\n",
    "# Our current execution role is require when creating the model as the training\n",
    "# and inference code will need to access the model artifacts.\n",
    "role = get_execution_role()"
   ]
  },
  {
   "cell_type": "code",
   "execution_count": 19,
   "metadata": {},
   "outputs": [],
   "source": [
    "# We need to retrieve the location of the container which is provided by Amazon for using XGBoost.\n",
    "# As a matter of convenience, the training and inference code both use the same container.\n",
    "from sagemaker.amazon.amazon_estimator import get_image_uri\n",
    "\n",
    "container = get_image_uri(session.boto_region_name, 'xgboost')"
   ]
  },
  {
   "cell_type": "code",
   "execution_count": 20,
   "metadata": {},
   "outputs": [],
   "source": [
    "# TODO: Create a SageMaker estimator using the container location determined in the previous cell.\n",
    "#       It is recommended that you use a single training instance of type ml.m4.xlarge. It is also\n",
    "#       recommended that you use 's3://{}/{}/output'.format(session.default_bucket(), prefix) as the\n",
    "#       output path.\n",
    "\n",
    "xgb = None\n",
    "\n",
    "# Solution:\n",
    "xgb = sagemaker.estimator.Estimator(container, # The location of the container we wish to use\n",
    "                                    role,                                    # What is our current IAM Role\n",
    "                                    train_instance_count=1,                  # How many compute instances\n",
    "                                    train_instance_type='ml.m4.xlarge',      # What kind of compute instances\n",
    "                                    output_path='s3://{}/{}/output'.format(session.default_bucket(), prefix),\n",
    "                                    sagemaker_session=session)\n",
    "\n",
    "# TODO: Set the XGBoost hyperparameters in the xgb object. Don't forget that in this case we have a binary\n",
    "#       label so we should be using the 'binary:logistic' objective.\n",
    "\n",
    "# Solution:\n",
    "xgb.set_hyperparameters(max_depth=5,\n",
    "                        eta=0.2,\n",
    "                        gamma=4,\n",
    "                        min_child_weight=6,\n",
    "                        subsample=0.8,\n",
    "                        silent=0,\n",
    "                        objective='binary:logistic',\n",
    "                        early_stopping_rounds=10,\n",
    "                        num_round=500)"
   ]
  },
  {
   "cell_type": "markdown",
   "metadata": {},
   "source": [
    "### (TODO) Create the hyperparameter tuner\n",
    "\n",
    "Now that the base estimator has been set up we need to construct a hyperparameter tuner object which we will use to request SageMaker construct a hyperparameter tuning job.\n",
    "\n",
    "**Note:** Training a single sentiment analysis XGBoost model takes longer than training a Boston Housing XGBoost model so if you don't want the hyperparameter tuning job to take too long, make sure to not set the total number of models (jobs) too high."
   ]
  },
  {
   "cell_type": "code",
   "execution_count": 21,
   "metadata": {},
   "outputs": [],
   "source": [
    "# First, make sure to import the relevant objects used to construct the tuner\n",
    "from sagemaker.tuner import IntegerParameter, ContinuousParameter, HyperparameterTuner\n",
    "\n",
    "# TODO: Create the hyperparameter tuner object\n",
    "\n",
    "xgb_hyperparameter_tuner = None\n",
    "\n",
    "# Solution:\n",
    "\n",
    "xgb_hyperparameter_tuner = HyperparameterTuner(estimator = xgb, # The estimator object to use as the basis for the training jobs.\n",
    "                                               objective_metric_name = 'validation:rmse', # The metric used to compare trained models.\n",
    "                                               objective_type = 'Minimize', # Whether we wish to minimize or maximize the metric.\n",
    "                                               max_jobs = 6, # The total number of models to train\n",
    "                                               max_parallel_jobs = 3, # The number of models to train in parallel\n",
    "                                               hyperparameter_ranges = {\n",
    "                                                    'max_depth': IntegerParameter(3, 12),\n",
    "                                                    'eta'      : ContinuousParameter(0.05, 0.5),\n",
    "                                                    'min_child_weight': IntegerParameter(2, 8),\n",
    "                                                    'subsample': ContinuousParameter(0.5, 0.9),\n",
    "                                                    'gamma': ContinuousParameter(0, 10),\n",
    "                                               })"
   ]
  },
  {
   "cell_type": "markdown",
   "metadata": {},
   "source": [
    "### Fit the hyperparameter tuner\n",
    "\n",
    "Now that the hyperparameter tuner object has been constructed, it is time to fit the various models and find the best performing model."
   ]
  },
  {
   "cell_type": "code",
   "execution_count": 22,
   "metadata": {},
   "outputs": [],
   "source": [
    "s3_input_train = sagemaker.s3_input(s3_data=train_location, content_type='csv')\n",
    "s3_input_validation = sagemaker.s3_input(s3_data=val_location, content_type='csv')"
   ]
  },
  {
   "cell_type": "code",
   "execution_count": 23,
   "metadata": {},
   "outputs": [],
   "source": [
    "xgb_hyperparameter_tuner.fit({'train': s3_input_train, 'validation': s3_input_validation})"
   ]
  },
  {
   "cell_type": "markdown",
   "metadata": {},
   "source": [
    "Remember that the tuning job is constructed and run in the background so if we want to see the progress of our training job we need to call the `wait()` method."
   ]
  },
  {
   "cell_type": "code",
   "execution_count": 24,
   "metadata": {},
   "outputs": [
    {
     "name": "stdout",
     "output_type": "stream",
     "text": [
      "...............................................................................................................................................................................................................................................................................................................................!\n"
     ]
    }
   ],
   "source": [
    "xgb_hyperparameter_tuner.wait()"
   ]
  },
  {
   "cell_type": "markdown",
   "metadata": {},
   "source": [
    "### (TODO) Testing the model\n",
    "\n",
    "Now that we've run our hyperparameter tuning job, it's time to see how well the best performing model actually performs. To do this we will use SageMaker's Batch Transform functionality. Batch Transform is a convenient way to perform inference on a large dataset in a way that is not realtime. That is, we don't necessarily need to use our model's results immediately and instead we can peform inference on a large number of samples. An example of this in industry might be peforming an end of month report. This method of inference can also be useful to us as it means to can perform inference on our entire test set. \n",
    "\n",
    "Remember that in order to create a transformer object to perform the batch transform job, we need a trained estimator object. We can do that using the `attach()` method, creating an estimator object which is attached to the best trained job."
   ]
  },
  {
   "cell_type": "code",
   "execution_count": 25,
   "metadata": {},
   "outputs": [
    {
     "name": "stdout",
     "output_type": "stream",
     "text": [
      "2019-05-12 11:50:40 Starting - Preparing the instances for training\n",
      "2019-05-12 11:50:40 Downloading - Downloading input data\n",
      "2019-05-12 11:50:40 Training - Training image download completed. Training in progress.\n",
      "2019-05-12 11:50:40 Uploading - Uploading generated training model\n",
      "2019-05-12 11:50:40 Completed - Training job completed\u001b[31mArguments: train\u001b[0m\n",
      "\u001b[31m[2019-05-12:11:40:26:INFO] Running standalone xgboost training.\u001b[0m\n",
      "\u001b[31m[2019-05-12:11:40:26:INFO] Setting up HPO optimized metric to be : rmse\u001b[0m\n",
      "\u001b[31m[2019-05-12:11:40:26:INFO] File size need to be processed in the node: 238.47mb. Available memory size in the node: 8397.68mb\u001b[0m\n",
      "\u001b[31m[2019-05-12:11:40:26:INFO] Determined delimiter of CSV input is ','\u001b[0m\n",
      "\u001b[31m[11:40:26] S3DistributionType set as FullyReplicated\u001b[0m\n",
      "\u001b[31m[11:40:28] 15000x5000 matrix with 75000000 entries loaded from /opt/ml/input/data/train?format=csv&label_column=0&delimiter=,\u001b[0m\n",
      "\u001b[31m[2019-05-12:11:40:28:INFO] Determined delimiter of CSV input is ','\u001b[0m\n",
      "\u001b[31m[11:40:28] S3DistributionType set as FullyReplicated\u001b[0m\n",
      "\u001b[31m[11:40:29] 10000x5000 matrix with 50000000 entries loaded from /opt/ml/input/data/validation?format=csv&label_column=0&delimiter=,\u001b[0m\n",
      "\u001b[31m[11:40:35] src/tree/updater_prune.cc:74: tree pruning end, 1 roots, 250 extra nodes, 0 pruned nodes, max_depth=12\u001b[0m\n",
      "\u001b[31m[0]#011train-rmse:0.46722#011validation-rmse:0.471699\u001b[0m\n",
      "\u001b[31mMultiple eval metrics have been passed: 'validation-rmse' will be used for early stopping.\n",
      "\u001b[0m\n",
      "\u001b[31mWill train until validation-rmse hasn't improved in 10 rounds.\u001b[0m\n",
      "\u001b[31m[11:40:38] src/tree/updater_prune.cc:74: tree pruning end, 1 roots, 240 extra nodes, 2 pruned nodes, max_depth=12\u001b[0m\n",
      "\u001b[31m[1]#011train-rmse:0.443195#011validation-rmse:0.451485\u001b[0m\n",
      "\u001b[31m[11:40:41] src/tree/updater_prune.cc:74: tree pruning end, 1 roots, 264 extra nodes, 0 pruned nodes, max_depth=12\u001b[0m\n",
      "\u001b[31m[2]#011train-rmse:0.425128#011validation-rmse:0.437734\u001b[0m\n",
      "\u001b[31m[11:40:45] src/tree/updater_prune.cc:74: tree pruning end, 1 roots, 212 extra nodes, 0 pruned nodes, max_depth=12\u001b[0m\n",
      "\u001b[31m[3]#011train-rmse:0.411182#011validation-rmse:0.426094\u001b[0m\n",
      "\u001b[31m[11:40:48] src/tree/updater_prune.cc:74: tree pruning end, 1 roots, 222 extra nodes, 2 pruned nodes, max_depth=12\u001b[0m\n",
      "\u001b[31m[4]#011train-rmse:0.399712#011validation-rmse:0.416563\u001b[0m\n",
      "\u001b[31m[11:40:51] src/tree/updater_prune.cc:74: tree pruning end, 1 roots, 194 extra nodes, 2 pruned nodes, max_depth=12\u001b[0m\n",
      "\u001b[31m[5]#011train-rmse:0.390295#011validation-rmse:0.410022\u001b[0m\n",
      "\u001b[31m[11:40:54] src/tree/updater_prune.cc:74: tree pruning end, 1 roots, 266 extra nodes, 0 pruned nodes, max_depth=12\u001b[0m\n",
      "\u001b[31m[6]#011train-rmse:0.379606#011validation-rmse:0.403381\u001b[0m\n",
      "\u001b[31m[11:40:57] src/tree/updater_prune.cc:74: tree pruning end, 1 roots, 198 extra nodes, 2 pruned nodes, max_depth=12\u001b[0m\n",
      "\u001b[31m[7]#011train-rmse:0.371609#011validation-rmse:0.397529\u001b[0m\n",
      "\u001b[31m[11:41:00] src/tree/updater_prune.cc:74: tree pruning end, 1 roots, 218 extra nodes, 0 pruned nodes, max_depth=12\u001b[0m\n",
      "\u001b[31m[8]#011train-rmse:0.363927#011validation-rmse:0.392652\u001b[0m\n",
      "\u001b[31m[11:41:03] src/tree/updater_prune.cc:74: tree pruning end, 1 roots, 196 extra nodes, 2 pruned nodes, max_depth=12\u001b[0m\n",
      "\u001b[31m[9]#011train-rmse:0.356776#011validation-rmse:0.387826\u001b[0m\n",
      "\u001b[31m[11:41:06] src/tree/updater_prune.cc:74: tree pruning end, 1 roots, 138 extra nodes, 2 pruned nodes, max_depth=12\u001b[0m\n",
      "\u001b[31m[10]#011train-rmse:0.351387#011validation-rmse:0.383748\u001b[0m\n",
      "\u001b[31m[11:41:10] src/tree/updater_prune.cc:74: tree pruning end, 1 roots, 158 extra nodes, 0 pruned nodes, max_depth=12\u001b[0m\n",
      "\u001b[31m[11]#011train-rmse:0.346373#011validation-rmse:0.380295\u001b[0m\n",
      "\u001b[31m[11:41:13] src/tree/updater_prune.cc:74: tree pruning end, 1 roots, 196 extra nodes, 2 pruned nodes, max_depth=12\u001b[0m\n",
      "\u001b[31m[12]#011train-rmse:0.341071#011validation-rmse:0.377437\u001b[0m\n",
      "\u001b[31m[11:41:16] src/tree/updater_prune.cc:74: tree pruning end, 1 roots, 220 extra nodes, 2 pruned nodes, max_depth=12\u001b[0m\n",
      "\u001b[31m[13]#011train-rmse:0.33528#011validation-rmse:0.37378\u001b[0m\n",
      "\u001b[31m[11:41:19] src/tree/updater_prune.cc:74: tree pruning end, 1 roots, 186 extra nodes, 0 pruned nodes, max_depth=12\u001b[0m\n",
      "\u001b[31m[14]#011train-rmse:0.330127#011validation-rmse:0.371333\u001b[0m\n",
      "\u001b[31m[11:41:22] src/tree/updater_prune.cc:74: tree pruning end, 1 roots, 146 extra nodes, 0 pruned nodes, max_depth=12\u001b[0m\n",
      "\u001b[31m[15]#011train-rmse:0.325762#011validation-rmse:0.368659\u001b[0m\n",
      "\u001b[31m[11:41:25] src/tree/updater_prune.cc:74: tree pruning end, 1 roots, 124 extra nodes, 0 pruned nodes, max_depth=12\u001b[0m\n",
      "\u001b[31m[16]#011train-rmse:0.321791#011validation-rmse:0.366283\u001b[0m\n",
      "\u001b[31m[11:41:28] src/tree/updater_prune.cc:74: tree pruning end, 1 roots, 142 extra nodes, 0 pruned nodes, max_depth=12\u001b[0m\n",
      "\u001b[31m[17]#011train-rmse:0.318053#011validation-rmse:0.363925\u001b[0m\n",
      "\u001b[31m[11:41:31] src/tree/updater_prune.cc:74: tree pruning end, 1 roots, 160 extra nodes, 2 pruned nodes, max_depth=12\u001b[0m\n",
      "\u001b[31m[18]#011train-rmse:0.314094#011validation-rmse:0.361934\u001b[0m\n",
      "\u001b[31m[11:41:34] src/tree/updater_prune.cc:74: tree pruning end, 1 roots, 210 extra nodes, 2 pruned nodes, max_depth=12\u001b[0m\n",
      "\u001b[31m[19]#011train-rmse:0.309186#011validation-rmse:0.360085\u001b[0m\n",
      "\u001b[31m[11:41:37] src/tree/updater_prune.cc:74: tree pruning end, 1 roots, 148 extra nodes, 0 pruned nodes, max_depth=12\u001b[0m\n",
      "\u001b[31m[20]#011train-rmse:0.306499#011validation-rmse:0.358832\u001b[0m\n",
      "\u001b[31m[11:41:41] src/tree/updater_prune.cc:74: tree pruning end, 1 roots, 148 extra nodes, 4 pruned nodes, max_depth=12\u001b[0m\n",
      "\u001b[31m[21]#011train-rmse:0.303059#011validation-rmse:0.357061\u001b[0m\n",
      "\u001b[31m[11:41:44] src/tree/updater_prune.cc:74: tree pruning end, 1 roots, 118 extra nodes, 2 pruned nodes, max_depth=12\u001b[0m\n",
      "\u001b[31m[22]#011train-rmse:0.30018#011validation-rmse:0.355088\u001b[0m\n",
      "\u001b[31m[11:41:47] src/tree/updater_prune.cc:74: tree pruning end, 1 roots, 126 extra nodes, 2 pruned nodes, max_depth=12\u001b[0m\n",
      "\u001b[31m[23]#011train-rmse:0.297463#011validation-rmse:0.353692\u001b[0m\n",
      "\u001b[31m[11:41:50] src/tree/updater_prune.cc:74: tree pruning end, 1 roots, 128 extra nodes, 0 pruned nodes, max_depth=12\u001b[0m\n",
      "\u001b[31m[24]#011train-rmse:0.294722#011validation-rmse:0.352373\u001b[0m\n",
      "\u001b[31m[11:41:53] src/tree/updater_prune.cc:74: tree pruning end, 1 roots, 118 extra nodes, 2 pruned nodes, max_depth=12\u001b[0m\n",
      "\u001b[31m[25]#011train-rmse:0.292306#011validation-rmse:0.350888\u001b[0m\n",
      "\u001b[31m[11:41:56] src/tree/updater_prune.cc:74: tree pruning end, 1 roots, 156 extra nodes, 0 pruned nodes, max_depth=12\u001b[0m\n",
      "\u001b[31m[26]#011train-rmse:0.28901#011validation-rmse:0.349678\u001b[0m\n",
      "\u001b[31m[11:41:59] src/tree/updater_prune.cc:74: tree pruning end, 1 roots, 108 extra nodes, 0 pruned nodes, max_depth=12\u001b[0m\n",
      "\u001b[31m[27]#011train-rmse:0.286609#011validation-rmse:0.348281\u001b[0m\n",
      "\u001b[31m[11:42:02] src/tree/updater_prune.cc:74: tree pruning end, 1 roots, 108 extra nodes, 0 pruned nodes, max_depth=12\u001b[0m\n",
      "\u001b[31m[28]#011train-rmse:0.284579#011validation-rmse:0.347408\u001b[0m\n",
      "\u001b[31m[11:42:05] src/tree/updater_prune.cc:74: tree pruning end, 1 roots, 130 extra nodes, 0 pruned nodes, max_depth=12\u001b[0m\n",
      "\u001b[31m[29]#011train-rmse:0.28222#011validation-rmse:0.346357\u001b[0m\n",
      "\u001b[31m[11:42:08] src/tree/updater_prune.cc:74: tree pruning end, 1 roots, 136 extra nodes, 2 pruned nodes, max_depth=12\u001b[0m\n",
      "\u001b[31m[30]#011train-rmse:0.279628#011validation-rmse:0.345222\u001b[0m\n",
      "\u001b[31m[11:42:11] src/tree/updater_prune.cc:74: tree pruning end, 1 roots, 78 extra nodes, 2 pruned nodes, max_depth=12\u001b[0m\n",
      "\u001b[31m[31]#011train-rmse:0.277816#011validation-rmse:0.344038\u001b[0m\n",
      "\u001b[31m[11:42:15] src/tree/updater_prune.cc:74: tree pruning end, 1 roots, 206 extra nodes, 4 pruned nodes, max_depth=12\u001b[0m\n",
      "\u001b[31m[32]#011train-rmse:0.274343#011validation-rmse:0.343228\u001b[0m\n",
      "\u001b[31m[11:42:18] src/tree/updater_prune.cc:74: tree pruning end, 1 roots, 78 extra nodes, 2 pruned nodes, max_depth=12\u001b[0m\n",
      "\u001b[31m[33]#011train-rmse:0.272718#011validation-rmse:0.342208\u001b[0m\n",
      "\u001b[31m[11:42:21] src/tree/updater_prune.cc:74: tree pruning end, 1 roots, 102 extra nodes, 2 pruned nodes, max_depth=12\u001b[0m\n",
      "\u001b[31m[34]#011train-rmse:0.270737#011validation-rmse:0.341398\u001b[0m\n",
      "\u001b[31m[11:42:24] src/tree/updater_prune.cc:74: tree pruning end, 1 roots, 78 extra nodes, 0 pruned nodes, max_depth=12\u001b[0m\n",
      "\u001b[31m[35]#011train-rmse:0.269285#011validation-rmse:0.34066\u001b[0m\n",
      "\u001b[31m[11:42:27] src/tree/updater_prune.cc:74: tree pruning end, 1 roots, 120 extra nodes, 0 pruned nodes, max_depth=12\u001b[0m\n",
      "\u001b[31m[36]#011train-rmse:0.267234#011validation-rmse:0.339866\u001b[0m\n",
      "\u001b[31m[11:42:30] src/tree/updater_prune.cc:74: tree pruning end, 1 roots, 118 extra nodes, 0 pruned nodes, max_depth=12\u001b[0m\n",
      "\u001b[31m[37]#011train-rmse:0.265457#011validation-rmse:0.339156\u001b[0m\n",
      "\u001b[31m[11:42:33] src/tree/updater_prune.cc:74: tree pruning end, 1 roots, 102 extra nodes, 0 pruned nodes, max_depth=12\u001b[0m\n",
      "\u001b[31m[38]#011train-rmse:0.263956#011validation-rmse:0.338658\u001b[0m\n",
      "\u001b[31m[11:42:36] src/tree/updater_prune.cc:74: tree pruning end, 1 roots, 104 extra nodes, 4 pruned nodes, max_depth=12\u001b[0m\n",
      "\u001b[31m[39]#011train-rmse:0.261998#011validation-rmse:0.337914\u001b[0m\n",
      "\u001b[31m[11:42:39] src/tree/updater_prune.cc:74: tree pruning end, 1 roots, 80 extra nodes, 0 pruned nodes, max_depth=12\u001b[0m\n",
      "\u001b[31m[40]#011train-rmse:0.260463#011validation-rmse:0.337038\u001b[0m\n",
      "\u001b[31m[11:42:43] src/tree/updater_prune.cc:74: tree pruning end, 1 roots, 72 extra nodes, 0 pruned nodes, max_depth=12\u001b[0m\n",
      "\u001b[31m[41]#011train-rmse:0.259093#011validation-rmse:0.336332\u001b[0m\n",
      "\u001b[31m[11:42:46] src/tree/updater_prune.cc:74: tree pruning end, 1 roots, 110 extra nodes, 0 pruned nodes, max_depth=12\u001b[0m\n",
      "\u001b[31m[42]#011train-rmse:0.257337#011validation-rmse:0.335607\u001b[0m\n",
      "\u001b[31m[11:42:49] src/tree/updater_prune.cc:74: tree pruning end, 1 roots, 104 extra nodes, 0 pruned nodes, max_depth=12\u001b[0m\n",
      "\u001b[31m[43]#011train-rmse:0.255761#011validation-rmse:0.335005\u001b[0m\n",
      "\u001b[31m[11:42:52] src/tree/updater_prune.cc:74: tree pruning end, 1 roots, 136 extra nodes, 0 pruned nodes, max_depth=12\u001b[0m\n",
      "\u001b[31m[44]#011train-rmse:0.253852#011validation-rmse:0.33453\u001b[0m\n",
      "\u001b[31m[11:42:55] src/tree/updater_prune.cc:74: tree pruning end, 1 roots, 178 extra nodes, 2 pruned nodes, max_depth=12\u001b[0m\n",
      "\u001b[31m[45]#011train-rmse:0.251147#011validation-rmse:0.333866\u001b[0m\n",
      "\u001b[31m[11:42:58] src/tree/updater_prune.cc:74: tree pruning end, 1 roots, 98 extra nodes, 0 pruned nodes, max_depth=12\u001b[0m\n",
      "\u001b[31m[46]#011train-rmse:0.249734#011validation-rmse:0.333141\u001b[0m\n",
      "\u001b[31m[11:43:01] src/tree/updater_prune.cc:74: tree pruning end, 1 roots, 80 extra nodes, 0 pruned nodes, max_depth=12\u001b[0m\n",
      "\u001b[31m[47]#011train-rmse:0.248258#011validation-rmse:0.332667\u001b[0m\n",
      "\u001b[31m[11:43:04] src/tree/updater_prune.cc:74: tree pruning end, 1 roots, 70 extra nodes, 0 pruned nodes, max_depth=12\u001b[0m\n",
      "\u001b[31m[48]#011train-rmse:0.247063#011validation-rmse:0.332006\u001b[0m\n",
      "\u001b[31m[11:43:07] src/tree/updater_prune.cc:74: tree pruning end, 1 roots, 104 extra nodes, 0 pruned nodes, max_depth=12\u001b[0m\n",
      "\u001b[31m[49]#011train-rmse:0.245326#011validation-rmse:0.331605\u001b[0m\n",
      "\u001b[31m[11:43:10] src/tree/updater_prune.cc:74: tree pruning end, 1 roots, 110 extra nodes, 0 pruned nodes, max_depth=12\u001b[0m\n",
      "\u001b[31m[50]#011train-rmse:0.243764#011validation-rmse:0.331276\u001b[0m\n",
      "\u001b[31m[11:43:14] src/tree/updater_prune.cc:74: tree pruning end, 1 roots, 102 extra nodes, 2 pruned nodes, max_depth=12\u001b[0m\n",
      "\u001b[31m[51]#011train-rmse:0.242298#011validation-rmse:0.330895\u001b[0m\n",
      "\u001b[31m[11:43:17] src/tree/updater_prune.cc:74: tree pruning end, 1 roots, 98 extra nodes, 0 pruned nodes, max_depth=12\u001b[0m\n",
      "\u001b[31m[52]#011train-rmse:0.240785#011validation-rmse:0.330447\u001b[0m\n",
      "\u001b[31m[11:43:20] src/tree/updater_prune.cc:74: tree pruning end, 1 roots, 104 extra nodes, 0 pruned nodes, max_depth=12\u001b[0m\n",
      "\u001b[31m[53]#011train-rmse:0.239369#011validation-rmse:0.329831\u001b[0m\n",
      "\u001b[31m[11:43:23] src/tree/updater_prune.cc:74: tree pruning end, 1 roots, 96 extra nodes, 2 pruned nodes, max_depth=12\u001b[0m\n",
      "\u001b[31m[54]#011train-rmse:0.238121#011validation-rmse:0.329163\u001b[0m\n",
      "\u001b[31m[11:43:26] src/tree/updater_prune.cc:74: tree pruning end, 1 roots, 118 extra nodes, 4 pruned nodes, max_depth=12\u001b[0m\n",
      "\u001b[31m[55]#011train-rmse:0.236712#011validation-rmse:0.328688\u001b[0m\n",
      "\u001b[31m[11:43:29] src/tree/updater_prune.cc:74: tree pruning end, 1 roots, 118 extra nodes, 0 pruned nodes, max_depth=12\u001b[0m\n",
      "\u001b[31m[56]#011train-rmse:0.2349#011validation-rmse:0.328308\u001b[0m\n",
      "\u001b[31m[11:43:32] src/tree/updater_prune.cc:74: tree pruning end, 1 roots, 118 extra nodes, 0 pruned nodes, max_depth=12\u001b[0m\n",
      "\u001b[31m[57]#011train-rmse:0.233403#011validation-rmse:0.327611\u001b[0m\n",
      "\u001b[31m[11:43:35] src/tree/updater_prune.cc:74: tree pruning end, 1 roots, 58 extra nodes, 0 pruned nodes, max_depth=12\u001b[0m\n",
      "\u001b[31m[58]#011train-rmse:0.232459#011validation-rmse:0.327084\u001b[0m\n",
      "\u001b[31m[11:43:38] src/tree/updater_prune.cc:74: tree pruning end, 1 roots, 112 extra nodes, 0 pruned nodes, max_depth=12\u001b[0m\n",
      "\u001b[31m[59]#011train-rmse:0.230836#011validation-rmse:0.326558\u001b[0m\n",
      "\u001b[31m[11:43:41] src/tree/updater_prune.cc:74: tree pruning end, 1 roots, 114 extra nodes, 0 pruned nodes, max_depth=12\u001b[0m\n",
      "\u001b[31m[60]#011train-rmse:0.229336#011validation-rmse:0.325968\u001b[0m\n",
      "\u001b[31m[11:43:44] src/tree/updater_prune.cc:74: tree pruning end, 1 roots, 64 extra nodes, 0 pruned nodes, max_depth=12\u001b[0m\n",
      "\u001b[31m[61]#011train-rmse:0.228369#011validation-rmse:0.325563\u001b[0m\n",
      "\u001b[31m[11:43:48] src/tree/updater_prune.cc:74: tree pruning end, 1 roots, 140 extra nodes, 2 pruned nodes, max_depth=12\u001b[0m\n",
      "\u001b[31m[62]#011train-rmse:0.22636#011validation-rmse:0.325234\u001b[0m\n",
      "\u001b[31m[11:43:51] src/tree/updater_prune.cc:74: tree pruning end, 1 roots, 116 extra nodes, 0 pruned nodes, max_depth=12\u001b[0m\n",
      "\u001b[31m[63]#011train-rmse:0.224619#011validation-rmse:0.32503\u001b[0m\n",
      "\u001b[31m[11:43:54] src/tree/updater_prune.cc:74: tree pruning end, 1 roots, 60 extra nodes, 0 pruned nodes, max_depth=12\u001b[0m\n",
      "\u001b[31m[64]#011train-rmse:0.223794#011validation-rmse:0.324625\u001b[0m\n",
      "\u001b[31m[11:43:57] src/tree/updater_prune.cc:74: tree pruning end, 1 roots, 96 extra nodes, 0 pruned nodes, max_depth=12\u001b[0m\n",
      "\u001b[31m[65]#011train-rmse:0.222414#011validation-rmse:0.324337\u001b[0m\n",
      "\u001b[31m[11:44:00] src/tree/updater_prune.cc:74: tree pruning end, 1 roots, 110 extra nodes, 0 pruned nodes, max_depth=12\u001b[0m\n",
      "\u001b[31m[66]#011train-rmse:0.221137#011validation-rmse:0.323843\u001b[0m\n",
      "\u001b[31m[11:44:03] src/tree/updater_prune.cc:74: tree pruning end, 1 roots, 88 extra nodes, 2 pruned nodes, max_depth=12\u001b[0m\n",
      "\u001b[31m[67]#011train-rmse:0.219954#011validation-rmse:0.323655\u001b[0m\n",
      "\u001b[31m[11:44:06] src/tree/updater_prune.cc:74: tree pruning end, 1 roots, 76 extra nodes, 0 pruned nodes, max_depth=12\u001b[0m\n",
      "\u001b[31m[68]#011train-rmse:0.218741#011validation-rmse:0.323305\u001b[0m\n",
      "\u001b[31m[11:44:09] src/tree/updater_prune.cc:74: tree pruning end, 1 roots, 98 extra nodes, 0 pruned nodes, max_depth=12\u001b[0m\n",
      "\u001b[31m[69]#011train-rmse:0.217419#011validation-rmse:0.322945\u001b[0m\n",
      "\u001b[31m[11:44:12] src/tree/updater_prune.cc:74: tree pruning end, 1 roots, 70 extra nodes, 0 pruned nodes, max_depth=12\u001b[0m\n",
      "\u001b[31m[70]#011train-rmse:0.216529#011validation-rmse:0.322805\u001b[0m\n",
      "\u001b[31m[11:44:16] src/tree/updater_prune.cc:74: tree pruning end, 1 roots, 82 extra nodes, 0 pruned nodes, max_depth=12\u001b[0m\n",
      "\u001b[31m[71]#011train-rmse:0.215437#011validation-rmse:0.3226\u001b[0m\n",
      "\u001b[31m[11:44:19] src/tree/updater_prune.cc:74: tree pruning end, 1 roots, 94 extra nodes, 0 pruned nodes, max_depth=12\u001b[0m\n",
      "\u001b[31m[72]#011train-rmse:0.214373#011validation-rmse:0.322402\u001b[0m\n",
      "\u001b[31m[11:44:22] src/tree/updater_prune.cc:74: tree pruning end, 1 roots, 80 extra nodes, 2 pruned nodes, max_depth=12\u001b[0m\n",
      "\u001b[31m[73]#011train-rmse:0.213216#011validation-rmse:0.322329\u001b[0m\n",
      "\u001b[31m[11:44:25] src/tree/updater_prune.cc:74: tree pruning end, 1 roots, 74 extra nodes, 0 pruned nodes, max_depth=12\u001b[0m\n",
      "\u001b[31m[74]#011train-rmse:0.212415#011validation-rmse:0.322168\u001b[0m\n",
      "\u001b[31m[11:44:28] src/tree/updater_prune.cc:74: tree pruning end, 1 roots, 112 extra nodes, 0 pruned nodes, max_depth=12\u001b[0m\n",
      "\u001b[31m[75]#011train-rmse:0.211066#011validation-rmse:0.32149\u001b[0m\n",
      "\u001b[31m[11:44:31] src/tree/updater_prune.cc:74: tree pruning end, 1 roots, 78 extra nodes, 0 pruned nodes, max_depth=12\u001b[0m\n",
      "\u001b[31m[76]#011train-rmse:0.210034#011validation-rmse:0.321355\u001b[0m\n",
      "\u001b[31m[11:44:34] src/tree/updater_prune.cc:74: tree pruning end, 1 roots, 72 extra nodes, 0 pruned nodes, max_depth=12\u001b[0m\n",
      "\u001b[31m[77]#011train-rmse:0.209139#011validation-rmse:0.321309\u001b[0m\n",
      "\u001b[31m[11:44:37] src/tree/updater_prune.cc:74: tree pruning end, 1 roots, 54 extra nodes, 0 pruned nodes, max_depth=12\u001b[0m\n",
      "\u001b[31m[78]#011train-rmse:0.208374#011validation-rmse:0.321102\u001b[0m\n",
      "\u001b[31m[11:44:40] src/tree/updater_prune.cc:74: tree pruning end, 1 roots, 128 extra nodes, 0 pruned nodes, max_depth=12\u001b[0m\n",
      "\u001b[31m[79]#011train-rmse:0.206661#011validation-rmse:0.320661\u001b[0m\n",
      "\u001b[31m[11:44:43] src/tree/updater_prune.cc:74: tree pruning end, 1 roots, 102 extra nodes, 0 pruned nodes, max_depth=12\u001b[0m\n",
      "\u001b[31m[80]#011train-rmse:0.205324#011validation-rmse:0.320778\u001b[0m\n",
      "\u001b[31m[11:44:47] src/tree/updater_prune.cc:74: tree pruning end, 1 roots, 90 extra nodes, 2 pruned nodes, max_depth=12\u001b[0m\n",
      "\u001b[31m[81]#011train-rmse:0.204194#011validation-rmse:0.320581\u001b[0m\n",
      "\u001b[31m[11:44:50] src/tree/updater_prune.cc:74: tree pruning end, 1 roots, 92 extra nodes, 0 pruned nodes, max_depth=12\u001b[0m\n",
      "\u001b[31m[82]#011train-rmse:0.203022#011validation-rmse:0.320236\u001b[0m\n",
      "\u001b[31m[11:44:53] src/tree/updater_prune.cc:74: tree pruning end, 1 roots, 108 extra nodes, 0 pruned nodes, max_depth=12\u001b[0m\n",
      "\u001b[31m[83]#011train-rmse:0.201775#011validation-rmse:0.320054\u001b[0m\n",
      "\u001b[31m[11:44:56] src/tree/updater_prune.cc:74: tree pruning end, 1 roots, 90 extra nodes, 6 pruned nodes, max_depth=12\u001b[0m\n",
      "\u001b[31m[84]#011train-rmse:0.200656#011validation-rmse:0.319666\u001b[0m\n",
      "\u001b[31m[11:44:59] src/tree/updater_prune.cc:74: tree pruning end, 1 roots, 76 extra nodes, 2 pruned nodes, max_depth=12\u001b[0m\n",
      "\u001b[31m[85]#011train-rmse:0.199911#011validation-rmse:0.319502\u001b[0m\n",
      "\u001b[31m[11:45:02] src/tree/updater_prune.cc:74: tree pruning end, 1 roots, 146 extra nodes, 2 pruned nodes, max_depth=12\u001b[0m\n",
      "\u001b[31m[86]#011train-rmse:0.19799#011validation-rmse:0.319293\u001b[0m\n",
      "\u001b[31m[11:45:05] src/tree/updater_prune.cc:74: tree pruning end, 1 roots, 76 extra nodes, 0 pruned nodes, max_depth=12\u001b[0m\n",
      "\u001b[31m[87]#011train-rmse:0.19713#011validation-rmse:0.31904\u001b[0m\n",
      "\u001b[31m[11:45:08] src/tree/updater_prune.cc:74: tree pruning end, 1 roots, 62 extra nodes, 0 pruned nodes, max_depth=12\u001b[0m\n",
      "\u001b[31m[88]#011train-rmse:0.196352#011validation-rmse:0.31876\u001b[0m\n",
      "\u001b[31m[11:45:11] src/tree/updater_prune.cc:74: tree pruning end, 1 roots, 82 extra nodes, 0 pruned nodes, max_depth=12\u001b[0m\n",
      "\u001b[31m[89]#011train-rmse:0.195473#011validation-rmse:0.318483\u001b[0m\n",
      "\u001b[31m[11:45:15] src/tree/updater_prune.cc:74: tree pruning end, 1 roots, 94 extra nodes, 0 pruned nodes, max_depth=12\u001b[0m\n",
      "\u001b[31m[90]#011train-rmse:0.194567#011validation-rmse:0.318316\u001b[0m\n",
      "\u001b[31m[11:45:18] src/tree/updater_prune.cc:74: tree pruning end, 1 roots, 48 extra nodes, 0 pruned nodes, max_depth=12\u001b[0m\n",
      "\u001b[31m[91]#011train-rmse:0.194013#011validation-rmse:0.318115\u001b[0m\n",
      "\u001b[31m[11:45:21] src/tree/updater_prune.cc:74: tree pruning end, 1 roots, 88 extra nodes, 2 pruned nodes, max_depth=12\u001b[0m\n",
      "\u001b[31m[92]#011train-rmse:0.193203#011validation-rmse:0.317994\u001b[0m\n",
      "\u001b[31m[11:45:24] src/tree/updater_prune.cc:74: tree pruning end, 1 roots, 50 extra nodes, 2 pruned nodes, max_depth=12\u001b[0m\n",
      "\u001b[31m[93]#011train-rmse:0.192673#011validation-rmse:0.317846\u001b[0m\n",
      "\u001b[31m[11:45:27] src/tree/updater_prune.cc:74: tree pruning end, 1 roots, 82 extra nodes, 2 pruned nodes, max_depth=12\u001b[0m\n",
      "\u001b[31m[94]#011train-rmse:0.19196#011validation-rmse:0.317587\u001b[0m\n",
      "\u001b[31m[11:45:30] src/tree/updater_prune.cc:74: tree pruning end, 1 roots, 64 extra nodes, 2 pruned nodes, max_depth=12\u001b[0m\n",
      "\u001b[31m[95]#011train-rmse:0.191286#011validation-rmse:0.317518\u001b[0m\n",
      "\u001b[31m[11:45:33] src/tree/updater_prune.cc:74: tree pruning end, 1 roots, 104 extra nodes, 0 pruned nodes, max_depth=12\u001b[0m\n",
      "\u001b[31m[96]#011train-rmse:0.190167#011validation-rmse:0.317192\u001b[0m\n",
      "\u001b[31m[11:45:36] src/tree/updater_prune.cc:74: tree pruning end, 1 roots, 80 extra nodes, 2 pruned nodes, max_depth=12\u001b[0m\n",
      "\u001b[31m[97]#011train-rmse:0.189287#011validation-rmse:0.317374\u001b[0m\n",
      "\u001b[31m[11:45:39] src/tree/updater_prune.cc:74: tree pruning end, 1 roots, 86 extra nodes, 0 pruned nodes, max_depth=12\u001b[0m\n",
      "\u001b[31m[98]#011train-rmse:0.188405#011validation-rmse:0.317298\u001b[0m\n",
      "\u001b[31m[11:45:42] src/tree/updater_prune.cc:74: tree pruning end, 1 roots, 66 extra nodes, 2 pruned nodes, max_depth=12\u001b[0m\n",
      "\u001b[31m[99]#011train-rmse:0.187642#011validation-rmse:0.31714\u001b[0m\n",
      "\u001b[31m[11:45:46] src/tree/updater_prune.cc:74: tree pruning end, 1 roots, 58 extra nodes, 0 pruned nodes, max_depth=12\u001b[0m\n",
      "\u001b[31m[100]#011train-rmse:0.187055#011validation-rmse:0.316757\u001b[0m\n",
      "\u001b[31m[11:45:49] src/tree/updater_prune.cc:74: tree pruning end, 1 roots, 84 extra nodes, 2 pruned nodes, max_depth=12\u001b[0m\n",
      "\u001b[31m[101]#011train-rmse:0.186284#011validation-rmse:0.316811\u001b[0m\n",
      "\u001b[31m[11:45:52] src/tree/updater_prune.cc:74: tree pruning end, 1 roots, 54 extra nodes, 0 pruned nodes, max_depth=12\u001b[0m\n",
      "\u001b[31m[102]#011train-rmse:0.185762#011validation-rmse:0.316835\u001b[0m\n",
      "\u001b[31m[11:45:55] src/tree/updater_prune.cc:74: tree pruning end, 1 roots, 38 extra nodes, 0 pruned nodes, max_depth=12\u001b[0m\n",
      "\u001b[31m[103]#011train-rmse:0.185313#011validation-rmse:0.316783\u001b[0m\n",
      "\u001b[31m[11:45:58] src/tree/updater_prune.cc:74: tree pruning end, 1 roots, 54 extra nodes, 0 pruned nodes, max_depth=12\u001b[0m\n",
      "\u001b[31m[104]#011train-rmse:0.184734#011validation-rmse:0.316626\u001b[0m\n",
      "\u001b[31m[11:46:01] src/tree/updater_prune.cc:74: tree pruning end, 1 roots, 54 extra nodes, 2 pruned nodes, max_depth=12\u001b[0m\n",
      "\u001b[31m[105]#011train-rmse:0.184151#011validation-rmse:0.316516\u001b[0m\n",
      "\u001b[31m[11:46:04] src/tree/updater_prune.cc:74: tree pruning end, 1 roots, 94 extra nodes, 0 pruned nodes, max_depth=12\u001b[0m\n",
      "\u001b[31m[106]#011train-rmse:0.183245#011validation-rmse:0.316261\u001b[0m\n",
      "\u001b[31m[11:46:07] src/tree/updater_prune.cc:74: tree pruning end, 1 roots, 56 extra nodes, 0 pruned nodes, max_depth=12\u001b[0m\n",
      "\u001b[31m[107]#011train-rmse:0.1828#011validation-rmse:0.315951\u001b[0m\n",
      "\u001b[31m[11:46:10] src/tree/updater_prune.cc:74: tree pruning end, 1 roots, 74 extra nodes, 0 pruned nodes, max_depth=12\u001b[0m\n",
      "\u001b[31m[108]#011train-rmse:0.182093#011validation-rmse:0.31575\u001b[0m\n",
      "\u001b[31m[11:46:13] src/tree/updater_prune.cc:74: tree pruning end, 1 roots, 118 extra nodes, 0 pruned nodes, max_depth=12\u001b[0m\n",
      "\u001b[31m[109]#011train-rmse:0.180639#011validation-rmse:0.315541\u001b[0m\n",
      "\u001b[31m[11:46:17] src/tree/updater_prune.cc:74: tree pruning end, 1 roots, 64 extra nodes, 0 pruned nodes, max_depth=12\u001b[0m\n",
      "\u001b[31m[110]#011train-rmse:0.179986#011validation-rmse:0.315335\u001b[0m\n",
      "\u001b[31m[11:46:20] src/tree/updater_prune.cc:74: tree pruning end, 1 roots, 52 extra nodes, 0 pruned nodes, max_depth=12\u001b[0m\n",
      "\u001b[31m[111]#011train-rmse:0.179494#011validation-rmse:0.315262\u001b[0m\n",
      "\u001b[31m[11:46:23] src/tree/updater_prune.cc:74: tree pruning end, 1 roots, 64 extra nodes, 0 pruned nodes, max_depth=12\u001b[0m\n",
      "\u001b[31m[112]#011train-rmse:0.178787#011validation-rmse:0.315113\u001b[0m\n",
      "\u001b[31m[11:46:26] src/tree/updater_prune.cc:74: tree pruning end, 1 roots, 74 extra nodes, 0 pruned nodes, max_depth=12\u001b[0m\n",
      "\u001b[31m[113]#011train-rmse:0.178139#011validation-rmse:0.314924\u001b[0m\n",
      "\u001b[31m[11:46:29] src/tree/updater_prune.cc:74: tree pruning end, 1 roots, 104 extra nodes, 2 pruned nodes, max_depth=12\u001b[0m\n",
      "\u001b[31m[114]#011train-rmse:0.177036#011validation-rmse:0.314859\u001b[0m\n",
      "\u001b[31m[11:46:32] src/tree/updater_prune.cc:74: tree pruning end, 1 roots, 74 extra nodes, 0 pruned nodes, max_depth=12\u001b[0m\n",
      "\u001b[31m[115]#011train-rmse:0.176477#011validation-rmse:0.314676\u001b[0m\n",
      "\u001b[31m[11:46:35] src/tree/updater_prune.cc:74: tree pruning end, 1 roots, 90 extra nodes, 0 pruned nodes, max_depth=12\u001b[0m\n",
      "\u001b[31m[116]#011train-rmse:0.175617#011validation-rmse:0.314811\u001b[0m\n",
      "\u001b[31m[11:46:38] src/tree/updater_prune.cc:74: tree pruning end, 1 roots, 76 extra nodes, 0 pruned nodes, max_depth=12\u001b[0m\n",
      "\u001b[31m[117]#011train-rmse:0.174957#011validation-rmse:0.31447\u001b[0m\n",
      "\u001b[31m[11:46:42] src/tree/updater_prune.cc:74: tree pruning end, 1 roots, 86 extra nodes, 0 pruned nodes, max_depth=12\u001b[0m\n",
      "\u001b[31m[118]#011train-rmse:0.174032#011validation-rmse:0.314276\u001b[0m\n",
      "\u001b[31m[11:46:45] src/tree/updater_prune.cc:74: tree pruning end, 1 roots, 88 extra nodes, 0 pruned nodes, max_depth=12\u001b[0m\n",
      "\u001b[31m[119]#011train-rmse:0.173146#011validation-rmse:0.314226\u001b[0m\n",
      "\u001b[31m[11:46:48] src/tree/updater_prune.cc:74: tree pruning end, 1 roots, 72 extra nodes, 2 pruned nodes, max_depth=12\u001b[0m\n",
      "\u001b[31m[120]#011train-rmse:0.172477#011validation-rmse:0.313638\u001b[0m\n",
      "\u001b[31m[11:46:51] src/tree/updater_prune.cc:74: tree pruning end, 1 roots, 86 extra nodes, 2 pruned nodes, max_depth=12\u001b[0m\n",
      "\u001b[31m[121]#011train-rmse:0.17171#011validation-rmse:0.313591\u001b[0m\n",
      "\u001b[31m[11:46:54] src/tree/updater_prune.cc:74: tree pruning end, 1 roots, 66 extra nodes, 2 pruned nodes, max_depth=12\u001b[0m\n",
      "\u001b[31m[122]#011train-rmse:0.171142#011validation-rmse:0.31335\u001b[0m\n",
      "\u001b[31m[11:46:57] src/tree/updater_prune.cc:74: tree pruning end, 1 roots, 46 extra nodes, 0 pruned nodes, max_depth=12\u001b[0m\n",
      "\u001b[31m[123]#011train-rmse:0.170785#011validation-rmse:0.313319\u001b[0m\n",
      "\u001b[31m[11:47:00] src/tree/updater_prune.cc:74: tree pruning end, 1 roots, 54 extra nodes, 0 pruned nodes, max_depth=12\u001b[0m\n",
      "\u001b[31m[124]#011train-rmse:0.17034#011validation-rmse:0.313158\u001b[0m\n",
      "\u001b[31m[11:47:03] src/tree/updater_prune.cc:74: tree pruning end, 1 roots, 60 extra nodes, 0 pruned nodes, max_depth=12\u001b[0m\n",
      "\u001b[31m[125]#011train-rmse:0.16976#011validation-rmse:0.313011\u001b[0m\n",
      "\u001b[31m[11:47:06] src/tree/updater_prune.cc:74: tree pruning end, 1 roots, 70 extra nodes, 0 pruned nodes, max_depth=12\u001b[0m\n",
      "\u001b[31m[126]#011train-rmse:0.169141#011validation-rmse:0.312945\u001b[0m\n",
      "\u001b[31m[11:47:10] src/tree/updater_prune.cc:74: tree pruning end, 1 roots, 66 extra nodes, 0 pruned nodes, max_depth=12\u001b[0m\n",
      "\u001b[31m[127]#011train-rmse:0.168663#011validation-rmse:0.312767\u001b[0m\n",
      "\u001b[31m[11:47:13] src/tree/updater_prune.cc:74: tree pruning end, 1 roots, 64 extra nodes, 0 pruned nodes, max_depth=12\u001b[0m\n",
      "\u001b[31m[128]#011train-rmse:0.168209#011validation-rmse:0.312611\u001b[0m\n",
      "\u001b[31m[11:47:16] src/tree/updater_prune.cc:74: tree pruning end, 1 roots, 34 extra nodes, 0 pruned nodes, max_depth=12\u001b[0m\n",
      "\u001b[31m[129]#011train-rmse:0.167911#011validation-rmse:0.312502\u001b[0m\n",
      "\u001b[31m[11:47:19] src/tree/updater_prune.cc:74: tree pruning end, 1 roots, 58 extra nodes, 0 pruned nodes, max_depth=12\u001b[0m\n",
      "\u001b[31m[130]#011train-rmse:0.16753#011validation-rmse:0.31243\u001b[0m\n",
      "\u001b[31m[11:47:22] src/tree/updater_prune.cc:74: tree pruning end, 1 roots, 42 extra nodes, 0 pruned nodes, max_depth=12\u001b[0m\n",
      "\u001b[31m[131]#011train-rmse:0.167179#011validation-rmse:0.312233\u001b[0m\n",
      "\u001b[31m[11:47:25] src/tree/updater_prune.cc:74: tree pruning end, 1 roots, 66 extra nodes, 0 pruned nodes, max_depth=12\u001b[0m\n",
      "\u001b[31m[132]#011train-rmse:0.166582#011validation-rmse:0.311915\u001b[0m\n",
      "\u001b[31m[11:47:28] src/tree/updater_prune.cc:74: tree pruning end, 1 roots, 52 extra nodes, 0 pruned nodes, max_depth=12\u001b[0m\n",
      "\u001b[31m[133]#011train-rmse:0.166046#011validation-rmse:0.311813\u001b[0m\n",
      "\u001b[31m[11:47:31] src/tree/updater_prune.cc:74: tree pruning end, 1 roots, 56 extra nodes, 0 pruned nodes, max_depth=12\u001b[0m\n",
      "\u001b[31m[134]#011train-rmse:0.165677#011validation-rmse:0.311727\u001b[0m\n",
      "\u001b[31m[11:47:35] src/tree/updater_prune.cc:74: tree pruning end, 1 roots, 42 extra nodes, 0 pruned nodes, max_depth=12\u001b[0m\n",
      "\u001b[31m[135]#011train-rmse:0.165344#011validation-rmse:0.311704\u001b[0m\n",
      "\u001b[31m[11:47:38] src/tree/updater_prune.cc:74: tree pruning end, 1 roots, 66 extra nodes, 0 pruned nodes, max_depth=12\u001b[0m\n",
      "\u001b[31m[136]#011train-rmse:0.164734#011validation-rmse:0.311634\u001b[0m\n",
      "\u001b[31m[11:47:41] src/tree/updater_prune.cc:74: tree pruning end, 1 roots, 104 extra nodes, 2 pruned nodes, max_depth=12\u001b[0m\n",
      "\u001b[31m[137]#011train-rmse:0.163539#011validation-rmse:0.311628\u001b[0m\n",
      "\u001b[31m[11:47:44] src/tree/updater_prune.cc:74: tree pruning end, 1 roots, 64 extra nodes, 2 pruned nodes, max_depth=12\u001b[0m\n",
      "\u001b[31m[138]#011train-rmse:0.163075#011validation-rmse:0.311694\u001b[0m\n",
      "\u001b[31m[11:47:47] src/tree/updater_prune.cc:74: tree pruning end, 1 roots, 62 extra nodes, 2 pruned nodes, max_depth=12\u001b[0m\n",
      "\u001b[31m[139]#011train-rmse:0.162614#011validation-rmse:0.311647\u001b[0m\n",
      "\u001b[31m[11:47:50] src/tree/updater_prune.cc:74: tree pruning end, 1 roots, 56 extra nodes, 0 pruned nodes, max_depth=12\u001b[0m\n",
      "\u001b[31m[140]#011train-rmse:0.162186#011validation-rmse:0.311655\u001b[0m\n",
      "\u001b[31m[11:47:53] src/tree/updater_prune.cc:74: tree pruning end, 1 roots, 48 extra nodes, 0 pruned nodes, max_depth=12\u001b[0m\n",
      "\u001b[31m[141]#011train-rmse:0.161709#011validation-rmse:0.311654\u001b[0m\n",
      "\u001b[31m[11:47:57] src/tree/updater_prune.cc:74: tree pruning end, 1 roots, 66 extra nodes, 0 pruned nodes, max_depth=12\u001b[0m\n",
      "\u001b[31m[142]#011train-rmse:0.161166#011validation-rmse:0.311599\u001b[0m\n",
      "\u001b[31m[11:48:00] src/tree/updater_prune.cc:74: tree pruning end, 1 roots, 52 extra nodes, 2 pruned nodes, max_depth=12\u001b[0m\n",
      "\u001b[31m[143]#011train-rmse:0.160721#011validation-rmse:0.311537\u001b[0m\n",
      "\u001b[31m[11:48:03] src/tree/updater_prune.cc:74: tree pruning end, 1 roots, 44 extra nodes, 0 pruned nodes, max_depth=12\u001b[0m\n",
      "\u001b[31m[144]#011train-rmse:0.160371#011validation-rmse:0.311535\u001b[0m\n",
      "\u001b[31m[11:48:06] src/tree/updater_prune.cc:74: tree pruning end, 1 roots, 92 extra nodes, 0 pruned nodes, max_depth=12\u001b[0m\n",
      "\u001b[31m[145]#011train-rmse:0.159615#011validation-rmse:0.311562\u001b[0m\n",
      "\u001b[31m[11:48:09] src/tree/updater_prune.cc:74: tree pruning end, 1 roots, 106 extra nodes, 0 pruned nodes, max_depth=12\u001b[0m\n",
      "\u001b[31m[146]#011train-rmse:0.158628#011validation-rmse:0.311388\u001b[0m\n",
      "\u001b[31m[11:48:12] src/tree/updater_prune.cc:74: tree pruning end, 1 roots, 62 extra nodes, 2 pruned nodes, max_depth=12\u001b[0m\n",
      "\u001b[31m[147]#011train-rmse:0.158023#011validation-rmse:0.311546\u001b[0m\n",
      "\u001b[31m[11:48:15] src/tree/updater_prune.cc:74: tree pruning end, 1 roots, 62 extra nodes, 0 pruned nodes, max_depth=12\u001b[0m\n",
      "\u001b[31m[148]#011train-rmse:0.157559#011validation-rmse:0.311708\u001b[0m\n",
      "\u001b[31m[11:48:18] src/tree/updater_prune.cc:74: tree pruning end, 1 roots, 60 extra nodes, 2 pruned nodes, max_depth=12\u001b[0m\n",
      "\u001b[31m[149]#011train-rmse:0.157024#011validation-rmse:0.311504\u001b[0m\n",
      "\u001b[31m[11:48:22] src/tree/updater_prune.cc:74: tree pruning end, 1 roots, 60 extra nodes, 0 pruned nodes, max_depth=12\u001b[0m\n",
      "\u001b[31m[150]#011train-rmse:0.156459#011validation-rmse:0.311448\u001b[0m\n",
      "\u001b[31m[11:48:25] src/tree/updater_prune.cc:74: tree pruning end, 1 roots, 56 extra nodes, 0 pruned nodes, max_depth=12\u001b[0m\n",
      "\u001b[31m[151]#011train-rmse:0.15608#011validation-rmse:0.311229\u001b[0m\n",
      "\u001b[31m[11:48:28] src/tree/updater_prune.cc:74: tree pruning end, 1 roots, 80 extra nodes, 2 pruned nodes, max_depth=12\u001b[0m\n",
      "\u001b[31m[152]#011train-rmse:0.155373#011validation-rmse:0.311342\u001b[0m\n",
      "\u001b[31m[11:48:31] src/tree/updater_prune.cc:74: tree pruning end, 1 roots, 42 extra nodes, 2 pruned nodes, max_depth=12\u001b[0m\n",
      "\u001b[31m[153]#011train-rmse:0.155075#011validation-rmse:0.311207\u001b[0m\n",
      "\u001b[31m[11:48:34] src/tree/updater_prune.cc:74: tree pruning end, 1 roots, 52 extra nodes, 0 pruned nodes, max_depth=12\u001b[0m\n",
      "\u001b[31m[154]#011train-rmse:0.154702#011validation-rmse:0.310996\u001b[0m\n",
      "\u001b[31m[11:48:37] src/tree/updater_prune.cc:74: tree pruning end, 1 roots, 66 extra nodes, 0 pruned nodes, max_depth=12\u001b[0m\n",
      "\u001b[31m[155]#011train-rmse:0.154305#011validation-rmse:0.31104\u001b[0m\n",
      "\u001b[31m[11:48:40] src/tree/updater_prune.cc:74: tree pruning end, 1 roots, 58 extra nodes, 0 pruned nodes, max_depth=12\u001b[0m\n",
      "\u001b[31m[156]#011train-rmse:0.153724#011validation-rmse:0.311109\u001b[0m\n",
      "\u001b[31m[11:48:43] src/tree/updater_prune.cc:74: tree pruning end, 1 roots, 56 extra nodes, 0 pruned nodes, max_depth=12\u001b[0m\n",
      "\u001b[31m[157]#011train-rmse:0.153239#011validation-rmse:0.311102\u001b[0m\n",
      "\u001b[31m[11:48:47] src/tree/updater_prune.cc:74: tree pruning end, 1 roots, 58 extra nodes, 4 pruned nodes, max_depth=12\u001b[0m\n",
      "\u001b[31m[158]#011train-rmse:0.152795#011validation-rmse:0.311003\u001b[0m\n",
      "\u001b[31m[11:48:50] src/tree/updater_prune.cc:74: tree pruning end, 1 roots, 90 extra nodes, 2 pruned nodes, max_depth=12\u001b[0m\n",
      "\u001b[31m[159]#011train-rmse:0.151928#011validation-rmse:0.311021\u001b[0m\n",
      "\u001b[31m[11:48:53] src/tree/updater_prune.cc:74: tree pruning end, 1 roots, 52 extra nodes, 2 pruned nodes, max_depth=12\u001b[0m\n",
      "\u001b[31m[160]#011train-rmse:0.151518#011validation-rmse:0.310871\u001b[0m\n",
      "\u001b[31m[11:48:57] src/tree/updater_prune.cc:74: tree pruning end, 1 roots, 50 extra nodes, 0 pruned nodes, max_depth=12\u001b[0m\n",
      "\u001b[31m[161]#011train-rmse:0.151249#011validation-rmse:0.310724\u001b[0m\n",
      "\u001b[31m[11:49:00] src/tree/updater_prune.cc:74: tree pruning end, 1 roots, 70 extra nodes, 6 pruned nodes, max_depth=12\u001b[0m\n",
      "\u001b[31m[162]#011train-rmse:0.150683#011validation-rmse:0.310418\u001b[0m\n",
      "\u001b[31m[11:49:04] src/tree/updater_prune.cc:74: tree pruning end, 1 roots, 42 extra nodes, 0 pruned nodes, max_depth=12\u001b[0m\n",
      "\u001b[31m[163]#011train-rmse:0.150324#011validation-rmse:0.310281\u001b[0m\n",
      "\u001b[31m[11:49:07] src/tree/updater_prune.cc:74: tree pruning end, 1 roots, 76 extra nodes, 2 pruned nodes, max_depth=12\u001b[0m\n",
      "\u001b[31m[164]#011train-rmse:0.149769#011validation-rmse:0.310044\u001b[0m\n",
      "\u001b[31m[11:49:10] src/tree/updater_prune.cc:74: tree pruning end, 1 roots, 76 extra nodes, 2 pruned nodes, max_depth=12\u001b[0m\n",
      "\u001b[31m[165]#011train-rmse:0.149144#011validation-rmse:0.309897\u001b[0m\n",
      "\u001b[31m[11:49:13] src/tree/updater_prune.cc:74: tree pruning end, 1 roots, 124 extra nodes, 0 pruned nodes, max_depth=12\u001b[0m\n",
      "\u001b[31m[166]#011train-rmse:0.147823#011validation-rmse:0.310017\u001b[0m\n",
      "\u001b[31m[11:49:16] src/tree/updater_prune.cc:74: tree pruning end, 1 roots, 66 extra nodes, 2 pruned nodes, max_depth=12\u001b[0m\n",
      "\u001b[31m[167]#011train-rmse:0.147445#011validation-rmse:0.309949\u001b[0m\n",
      "\u001b[31m[11:49:20] src/tree/updater_prune.cc:74: tree pruning end, 1 roots, 68 extra nodes, 2 pruned nodes, max_depth=12\u001b[0m\n",
      "\u001b[31m[168]#011train-rmse:0.146975#011validation-rmse:0.309911\u001b[0m\n",
      "\u001b[31m[11:49:23] src/tree/updater_prune.cc:74: tree pruning end, 1 roots, 54 extra nodes, 0 pruned nodes, max_depth=12\u001b[0m\n",
      "\u001b[31m[169]#011train-rmse:0.146594#011validation-rmse:0.309815\u001b[0m\n",
      "\u001b[31m[11:49:26] src/tree/updater_prune.cc:74: tree pruning end, 1 roots, 44 extra nodes, 0 pruned nodes, max_depth=12\u001b[0m\n",
      "\u001b[31m[170]#011train-rmse:0.146314#011validation-rmse:0.309719\u001b[0m\n",
      "\u001b[31m[11:49:29] src/tree/updater_prune.cc:74: tree pruning end, 1 roots, 60 extra nodes, 2 pruned nodes, max_depth=12\u001b[0m\n",
      "\u001b[31m[171]#011train-rmse:0.145849#011validation-rmse:0.309641\u001b[0m\n",
      "\u001b[31m[11:49:32] src/tree/updater_prune.cc:74: tree pruning end, 1 roots, 54 extra nodes, 0 pruned nodes, max_depth=12\u001b[0m\n",
      "\u001b[31m[172]#011train-rmse:0.145405#011validation-rmse:0.309497\u001b[0m\n",
      "\u001b[31m[11:49:35] src/tree/updater_prune.cc:74: tree pruning end, 1 roots, 98 extra nodes, 2 pruned nodes, max_depth=12\u001b[0m\n",
      "\u001b[31m[173]#011train-rmse:0.144483#011validation-rmse:0.309561\u001b[0m\n",
      "\u001b[31m[11:49:38] src/tree/updater_prune.cc:74: tree pruning end, 1 roots, 80 extra nodes, 2 pruned nodes, max_depth=12\u001b[0m\n",
      "\u001b[31m[174]#011train-rmse:0.14377#011validation-rmse:0.309614\u001b[0m\n",
      "\u001b[31m[11:49:41] src/tree/updater_prune.cc:74: tree pruning end, 1 roots, 82 extra nodes, 2 pruned nodes, max_depth=12\u001b[0m\n",
      "\u001b[31m[175]#011train-rmse:0.143061#011validation-rmse:0.309413\u001b[0m\n",
      "\u001b[31m[11:49:45] src/tree/updater_prune.cc:74: tree pruning end, 1 roots, 98 extra nodes, 0 pruned nodes, max_depth=12\u001b[0m\n",
      "\u001b[31m[176]#011train-rmse:0.142201#011validation-rmse:0.309352\u001b[0m\n",
      "\u001b[31m[11:49:48] src/tree/updater_prune.cc:74: tree pruning end, 1 roots, 62 extra nodes, 0 pruned nodes, max_depth=12\u001b[0m\n",
      "\u001b[31m[177]#011train-rmse:0.141738#011validation-rmse:0.309228\u001b[0m\n",
      "\u001b[31m[11:49:51] src/tree/updater_prune.cc:74: tree pruning end, 1 roots, 74 extra nodes, 0 pruned nodes, max_depth=12\u001b[0m\n",
      "\u001b[31m[178]#011train-rmse:0.141268#011validation-rmse:0.309028\u001b[0m\n",
      "\u001b[31m[11:49:54] src/tree/updater_prune.cc:74: tree pruning end, 1 roots, 60 extra nodes, 0 pruned nodes, max_depth=12\u001b[0m\n",
      "\u001b[31m[179]#011train-rmse:0.140911#011validation-rmse:0.309039\u001b[0m\n",
      "\u001b[31m[11:49:57] src/tree/updater_prune.cc:74: tree pruning end, 1 roots, 82 extra nodes, 0 pruned nodes, max_depth=12\u001b[0m\n",
      "\u001b[31m[180]#011train-rmse:0.14042#011validation-rmse:0.309065\u001b[0m\n",
      "\u001b[31m[11:50:00] src/tree/updater_prune.cc:74: tree pruning end, 1 roots, 46 extra nodes, 0 pruned nodes, max_depth=12\u001b[0m\n",
      "\u001b[31m[181]#011train-rmse:0.140146#011validation-rmse:0.308974\u001b[0m\n",
      "\u001b[31m[11:50:03] src/tree/updater_prune.cc:74: tree pruning end, 1 roots, 62 extra nodes, 0 pruned nodes, max_depth=12\u001b[0m\n",
      "\u001b[31m[182]#011train-rmse:0.139786#011validation-rmse:0.308996\u001b[0m\n",
      "\u001b[31m[11:50:07] src/tree/updater_prune.cc:74: tree pruning end, 1 roots, 104 extra nodes, 2 pruned nodes, max_depth=12\u001b[0m\n",
      "\u001b[31m[183]#011train-rmse:0.138871#011validation-rmse:0.309099\u001b[0m\n",
      "\u001b[31m[11:50:10] src/tree/updater_prune.cc:74: tree pruning end, 1 roots, 84 extra nodes, 0 pruned nodes, max_depth=12\u001b[0m\n",
      "\u001b[31m[184]#011train-rmse:0.138083#011validation-rmse:0.309373\u001b[0m\n",
      "\u001b[31m[11:50:13] src/tree/updater_prune.cc:74: tree pruning end, 1 roots, 68 extra nodes, 2 pruned nodes, max_depth=12\u001b[0m\n",
      "\u001b[31m[185]#011train-rmse:0.13751#011validation-rmse:0.309344\u001b[0m\n",
      "\u001b[31m[11:50:16] src/tree/updater_prune.cc:74: tree pruning end, 1 roots, 44 extra nodes, 2 pruned nodes, max_depth=12\u001b[0m\n",
      "\u001b[31m[186]#011train-rmse:0.137203#011validation-rmse:0.309347\u001b[0m\n",
      "\u001b[31m[11:50:19] src/tree/updater_prune.cc:74: tree pruning end, 1 roots, 60 extra nodes, 0 pruned nodes, max_depth=12\u001b[0m\n",
      "\u001b[31m[187]#011train-rmse:0.136785#011validation-rmse:0.30931\u001b[0m\n",
      "\u001b[31m[11:50:22] src/tree/updater_prune.cc:74: tree pruning end, 1 roots, 50 extra nodes, 0 pruned nodes, max_depth=12\u001b[0m\n",
      "\u001b[31m[188]#011train-rmse:0.136502#011validation-rmse:0.309265\u001b[0m\n",
      "\u001b[31m[11:50:25] src/tree/updater_prune.cc:74: tree pruning end, 1 roots, 108 extra nodes, 0 pruned nodes, max_depth=12\u001b[0m\n",
      "\u001b[31m[189]#011train-rmse:0.135502#011validation-rmse:0.309409\u001b[0m\n",
      "\u001b[31m[11:50:28] src/tree/updater_prune.cc:74: tree pruning end, 1 roots, 54 extra nodes, 0 pruned nodes, max_depth=12\u001b[0m\n",
      "\u001b[31m[190]#011train-rmse:0.13513#011validation-rmse:0.30953\u001b[0m\n",
      "\u001b[31m[11:50:32] src/tree/updater_prune.cc:74: tree pruning end, 1 roots, 62 extra nodes, 0 pruned nodes, max_depth=12\u001b[0m\n",
      "\u001b[31m[191]#011train-rmse:0.134705#011validation-rmse:0.309502\u001b[0m\n",
      "\u001b[31mStopping. Best iteration:\u001b[0m\n",
      "\u001b[31m[181]#011train-rmse:0.140146#011validation-rmse:0.308974\n",
      "\u001b[0m\n",
      "Billable seconds: 639\n"
     ]
    }
   ],
   "source": [
    "# TODO: Create a new estimator object attached to the best training job found during hyperparameter tuning\n",
    "\n",
    "xgb_attached = None\n",
    "\n",
    "# Solution:\n",
    "\n",
    "xgb_attached = sagemaker.estimator.Estimator.attach(xgb_hyperparameter_tuner.best_training_job())"
   ]
  },
  {
   "cell_type": "markdown",
   "metadata": {},
   "source": [
    "Now that we have an estimator object attached to the correct training job, we can proceed as we normally would and create a transformer object."
   ]
  },
  {
   "cell_type": "code",
   "execution_count": 26,
   "metadata": {},
   "outputs": [],
   "source": [
    "# TODO: Create a transformer object from the attached estimator. Using an instance count of 1 and an instance type of ml.m4.xlarge\n",
    "#       should be more than enough.\n",
    "\n",
    "xgb_transformer = None\n",
    "\n",
    "# Solution:\n",
    "xgb_transformer = xgb_attached.transformer(instance_count = 1, instance_type = 'ml.m4.xlarge')"
   ]
  },
  {
   "cell_type": "markdown",
   "metadata": {},
   "source": [
    "Next we actually perform the transform job. When doing so we need to make sure to specify the type of data we are sending so that it is serialized correctly in the background. In our case we are providing our model with csv data so we specify `text/csv`. Also, if the test data that we have provided is too large to process all at once then we need to specify how the data file should be split up. Since each line is a single entry in our data set we tell SageMaker that it can split the input on each line."
   ]
  },
  {
   "cell_type": "code",
   "execution_count": 27,
   "metadata": {},
   "outputs": [],
   "source": [
    "# TODO: Start the transform job. Make sure to specify the content type and the split type of the test data.\n",
    "xgb_transformer.transform(test_location, content_type='text/csv', split_type='Line')"
   ]
  },
  {
   "cell_type": "markdown",
   "metadata": {},
   "source": [
    "Currently the transform job is running but it is doing so in the background. Since we wish to wait until the transform job is done and we would like a bit of feedback we can run the `wait()` method."
   ]
  },
  {
   "cell_type": "code",
   "execution_count": 28,
   "metadata": {},
   "outputs": [
    {
     "name": "stdout",
     "output_type": "stream",
     "text": [
      ".............................................!\n"
     ]
    }
   ],
   "source": [
    "xgb_transformer.wait()"
   ]
  },
  {
   "cell_type": "markdown",
   "metadata": {},
   "source": [
    "Now the transform job has executed and the result, the estimated sentiment of each review, has been saved on S3. Since we would rather work on this file locally we can perform a bit of notebook magic to copy the file to the `data_dir`."
   ]
  },
  {
   "cell_type": "code",
   "execution_count": 29,
   "metadata": {},
   "outputs": [
    {
     "name": "stdout",
     "output_type": "stream",
     "text": [
      "Completed 256.0 KiB/374.8 KiB (4.3 MiB/s) with 1 file(s) remaining\r",
      "Completed 374.8 KiB/374.8 KiB (6.1 MiB/s) with 1 file(s) remaining\r",
      "download: s3://sagemaker-eu-central-1-773215437647/xgboost-190512-1125-004-99c8db28-2019-05-12-11-52-16-236/test.csv.out to ../data/xgboost/test.csv.out\r\n"
     ]
    }
   ],
   "source": [
    "!aws s3 cp --recursive $xgb_transformer.output_path $data_dir"
   ]
  },
  {
   "cell_type": "markdown",
   "metadata": {},
   "source": [
    "The last step is now to read in the output from our model, convert the output to something a little more usable, in this case we want the sentiment to be either `1` (positive) or `0` (negative), and then compare to the ground truth labels."
   ]
  },
  {
   "cell_type": "code",
   "execution_count": 30,
   "metadata": {},
   "outputs": [],
   "source": [
    "predictions = pd.read_csv(os.path.join(data_dir, 'test.csv.out'), header=None)\n",
    "predictions = [round(num) for num in predictions.squeeze().values]"
   ]
  },
  {
   "cell_type": "code",
   "execution_count": 31,
   "metadata": {},
   "outputs": [
    {
     "data": {
      "text/plain": [
       "0.86628"
      ]
     },
     "execution_count": 31,
     "metadata": {},
     "output_type": "execute_result"
    }
   ],
   "source": [
    "from sklearn.metrics import accuracy_score\n",
    "accuracy_score(test_y, predictions)"
   ]
  },
  {
   "cell_type": "markdown",
   "metadata": {},
   "source": [
    "## Optional: Clean up\n",
    "\n",
    "The default notebook instance on SageMaker doesn't have a lot of excess disk space available. As you continue to complete and execute notebooks you will eventually fill up this disk space, leading to errors which can be difficult to diagnose. Once you are completely finished using a notebook it is a good idea to remove the files that you created along the way. Of course, you can do this from the terminal or from the notebook hub if you would like. The cell below contains some commands to clean up the created files from within the notebook."
   ]
  },
  {
   "cell_type": "code",
   "execution_count": 32,
   "metadata": {},
   "outputs": [],
   "source": [
    "# First we will remove all of the files contained in the data_dir directory\n",
    "!rm $data_dir/*\n",
    "\n",
    "# And then we delete the directory itself\n",
    "!rmdir $data_dir\n",
    "\n",
    "# Similarly we will remove the files in the cache_dir directory and the directory itself\n",
    "!rm $cache_dir/*\n",
    "!rmdir $cache_dir"
   ]
  },
  {
   "cell_type": "code",
   "execution_count": null,
   "metadata": {},
   "outputs": [],
   "source": []
  }
 ],
 "metadata": {
  "kernelspec": {
   "display_name": "conda_python3",
   "language": "python",
   "name": "conda_python3"
  },
  "language_info": {
   "codemirror_mode": {
    "name": "ipython",
    "version": 3
   },
   "file_extension": ".py",
   "mimetype": "text/x-python",
   "name": "python",
   "nbconvert_exporter": "python",
   "pygments_lexer": "ipython3",
   "version": "3.6.5"
  }
 },
 "nbformat": 4,
 "nbformat_minor": 2
}
