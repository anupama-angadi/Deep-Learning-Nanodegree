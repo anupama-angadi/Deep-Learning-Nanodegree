{
 "cells": [
  {
   "cell_type": "markdown",
   "metadata": {},
   "source": [
    "# Sentiment Analysis Web App\n",
    "\n",
    "_Deep Learning Nanodegree Program | Deployment_\n",
    "\n",
    "---\n",
    "\n",
    "In this notebook we will use Amazon's SageMaker service to construct a random tree model to predict the sentiment of a movie review. In addition, we will deploy this model to an endpoint and construct a very simple web app which will interact with our model's deployed endpoint.\n",
    "\n",
    "## General Outline\n",
    "\n",
    "Typically, when using a notebook instance with SageMaker, you will proceed through the following steps. Of course, not every step will need to be done with each project. Also, there is quite a lot of room for variation in many of the steps, as you will see throughout these lessons.\n",
    "\n",
    "1. Download or otherwise retrieve the data.\n",
    "2. Process / Prepare the data.\n",
    "3. Upload the processed data to S3.\n",
    "4. Train a chosen model.\n",
    "5. Test the trained model (typically using a batch transform job).\n",
    "6. Deploy the trained model.\n",
    "7. Use the deployed model.\n",
    "\n",
    "In this notebook we will progress through each of the steps above. We will also see that the final step, using the deployed model, can be quite challenging."
   ]
  },
  {
   "cell_type": "markdown",
   "metadata": {},
   "source": [
    "## Step 1: Downloading the data\n",
    "\n",
    "The dataset we are going to use is very popular among researchers in Natural Language Processing, usually referred to as the [IMDb dataset](http://ai.stanford.edu/~amaas/data/sentiment/). It consists of movie reviews from the website [imdb.com](http://www.imdb.com/), each labeled as either '**pos**itive', if the reviewer enjoyed the film, or '**neg**ative' otherwise.\n",
    "\n",
    "> Maas, Andrew L., et al. [Learning Word Vectors for Sentiment Analysis](http://ai.stanford.edu/~amaas/data/sentiment/). In _Proceedings of the 49th Annual Meeting of the Association for Computational Linguistics: Human Language Technologies_. Association for Computational Linguistics, 2011.\n",
    "\n",
    "We begin by using some Jupyter Notebook magic to download and extract the dataset."
   ]
  },
  {
   "cell_type": "code",
   "execution_count": 1,
   "metadata": {},
   "outputs": [
    {
     "name": "stdout",
     "output_type": "stream",
     "text": [
      "mkdir: cannot create directory ‘../data’: File exists\n",
      "--2019-05-11 18:03:52--  http://ai.stanford.edu/~amaas/data/sentiment/aclImdb_v1.tar.gz\n",
      "Resolving ai.stanford.edu (ai.stanford.edu)... 171.64.68.10\n",
      "Connecting to ai.stanford.edu (ai.stanford.edu)|171.64.68.10|:80... connected.\n",
      "HTTP request sent, awaiting response... 200 OK\n",
      "Length: 84125825 (80M) [application/x-gzip]\n",
      "Saving to: ‘../data/aclImdb_v1.tar.gz’\n",
      "\n",
      "../data/aclImdb_v1. 100%[===================>]  80.23M  10.1MB/s    in 9.7s    \n",
      "\n",
      "2019-05-11 18:04:02 (8.26 MB/s) - ‘../data/aclImdb_v1.tar.gz’ saved [84125825/84125825]\n",
      "\n"
     ]
    }
   ],
   "source": [
    "%mkdir ../data\n",
    "!wget -O ../data/aclImdb_v1.tar.gz http://ai.stanford.edu/~amaas/data/sentiment/aclImdb_v1.tar.gz\n",
    "!tar -zxf ../data/aclImdb_v1.tar.gz -C ../data"
   ]
  },
  {
   "cell_type": "markdown",
   "metadata": {},
   "source": [
    "## Step 2: Preparing and Processing the data\n",
    "\n",
    "The data we have downloaded is split into various files, each of which contains a single review. It will be much easier going forward if we combine these individual files into two large files, one for training and one for testing."
   ]
  },
  {
   "cell_type": "code",
   "execution_count": 2,
   "metadata": {},
   "outputs": [],
   "source": [
    "import os\n",
    "import glob\n",
    "\n",
    "def read_imdb_data(data_dir='../data/aclImdb'):\n",
    "    data = {}\n",
    "    labels = {}\n",
    "    \n",
    "    for data_type in ['train', 'test']:\n",
    "        data[data_type] = {}\n",
    "        labels[data_type] = {}\n",
    "        \n",
    "        for sentiment in ['pos', 'neg']:\n",
    "            data[data_type][sentiment] = []\n",
    "            labels[data_type][sentiment] = []\n",
    "            \n",
    "            path = os.path.join(data_dir, data_type, sentiment, '*.txt')\n",
    "            files = glob.glob(path)\n",
    "            \n",
    "            for f in files:\n",
    "                with open(f) as review:\n",
    "                    data[data_type][sentiment].append(review.read())\n",
    "                    # Here we represent a positive review by '1' and a negative review by '0'\n",
    "                    labels[data_type][sentiment].append(1 if sentiment == 'pos' else 0)\n",
    "                    \n",
    "            assert len(data[data_type][sentiment]) == len(labels[data_type][sentiment]), \\\n",
    "                    \"{}/{} data size does not match labels size\".format(data_type, sentiment)\n",
    "                \n",
    "    return data, labels"
   ]
  },
  {
   "cell_type": "code",
   "execution_count": 3,
   "metadata": {},
   "outputs": [
    {
     "name": "stdout",
     "output_type": "stream",
     "text": [
      "IMDB reviews: train = 12500 pos / 12500 neg, test = 12500 pos / 12500 neg\n"
     ]
    }
   ],
   "source": [
    "data, labels = read_imdb_data()\n",
    "print(\"IMDB reviews: train = {} pos / {} neg, test = {} pos / {} neg\".format(\n",
    "            len(data['train']['pos']), len(data['train']['neg']),\n",
    "            len(data['test']['pos']), len(data['test']['neg'])))"
   ]
  },
  {
   "cell_type": "code",
   "execution_count": 4,
   "metadata": {},
   "outputs": [],
   "source": [
    "from sklearn.utils import shuffle\n",
    "\n",
    "def prepare_imdb_data(data, labels):\n",
    "    \"\"\"Prepare training and test sets from IMDb movie reviews.\"\"\"\n",
    "    \n",
    "    #Combine positive and negative reviews and labels\n",
    "    data_train = data['train']['pos'] + data['train']['neg']\n",
    "    data_test = data['test']['pos'] + data['test']['neg']\n",
    "    labels_train = labels['train']['pos'] + labels['train']['neg']\n",
    "    labels_test = labels['test']['pos'] + labels['test']['neg']\n",
    "    \n",
    "    #Shuffle reviews and corresponding labels within training and test sets\n",
    "    data_train, labels_train = shuffle(data_train, labels_train)\n",
    "    data_test, labels_test = shuffle(data_test, labels_test)\n",
    "    \n",
    "    # Return a unified training data, test data, training labels, test labets\n",
    "    return data_train, data_test, labels_train, labels_test"
   ]
  },
  {
   "cell_type": "code",
   "execution_count": 5,
   "metadata": {},
   "outputs": [
    {
     "name": "stdout",
     "output_type": "stream",
     "text": [
      "IMDb reviews (combined): train = 25000, test = 25000\n"
     ]
    }
   ],
   "source": [
    "train_X, test_X, train_y, test_y = prepare_imdb_data(data, labels)\n",
    "print(\"IMDb reviews (combined): train = {}, test = {}\".format(len(train_X), len(test_X)))"
   ]
  },
  {
   "cell_type": "code",
   "execution_count": 6,
   "metadata": {},
   "outputs": [
    {
     "data": {
      "text/plain": [
       "\"Well i do disagreed with the other comment posted. Piedras is much much better them Magnolia or any of the other films that were mentioned.<br /><br />specially about non real characters, i think that someone just wrote that only because he never lived in the Spanish society like i did (and i'm not Spanish), is a very real film with real characters, very well done by one of the best Spanish actress Antonia San Juan.<br /><br />about be a European film in contrast with an American film, well we different societies, personally i dislike American modern films a lot (i like the classics and some of the Andy American films but they are very few).<br /><br />Is a film about the continuous Constitution of a person, liked or not we all make mistakes but some can learn about the mistakes.\""
      ]
     },
     "execution_count": 6,
     "metadata": {},
     "output_type": "execute_result"
    }
   ],
   "source": [
    "train_X[100]"
   ]
  },
  {
   "cell_type": "markdown",
   "metadata": {},
   "source": [
    "## Processing the data\n",
    "\n",
    "Now that we have our training and testing datasets merged and ready to use, we need to start processing the raw data into something that will be useable by our machine learning algorithm. To begin with, we remove any html formatting and any non-alpha numeric characters that may appear in the reviews. We will do this in a very simplistic way using Python's regular expression module. We will discuss the reason for this rather simplistic pre-processing later on."
   ]
  },
  {
   "cell_type": "code",
   "execution_count": 7,
   "metadata": {},
   "outputs": [],
   "source": [
    "import re\n",
    "\n",
    "REPLACE_NO_SPACE = re.compile(\"(\\.)|(\\;)|(\\:)|(\\!)|(\\')|(\\?)|(\\,)|(\\\")|(\\()|(\\))|(\\[)|(\\])\")\n",
    "REPLACE_WITH_SPACE = re.compile(\"(<br\\s*/><br\\s*/>)|(\\-)|(\\/)\")\n",
    "\n",
    "def review_to_words(review):\n",
    "    words = REPLACE_NO_SPACE.sub(\"\", review.lower())\n",
    "    words = REPLACE_WITH_SPACE.sub(\" \", words)\n",
    "    return words"
   ]
  },
  {
   "cell_type": "code",
   "execution_count": 8,
   "metadata": {},
   "outputs": [
    {
     "data": {
      "text/plain": [
       "'well i do disagreed with the other comment posted piedras is much much better them magnolia or any of the other films that were mentioned specially about non real characters i think that someone just wrote that only because he never lived in the spanish society like i did and im not spanish is a very real film with real characters very well done by one of the best spanish actress antonia san juan about be a european film in contrast with an american film well we different societies personally i dislike american modern films a lot i like the classics and some of the andy american films but they are very few is a film about the continuous constitution of a person liked or not we all make mistakes but some can learn about the mistakes'"
      ]
     },
     "execution_count": 8,
     "metadata": {},
     "output_type": "execute_result"
    }
   ],
   "source": [
    "review_to_words(train_X[100])"
   ]
  },
  {
   "cell_type": "code",
   "execution_count": 9,
   "metadata": {},
   "outputs": [],
   "source": [
    "import pickle\n",
    "\n",
    "cache_dir = os.path.join(\"../cache\", \"sentiment_web_app\")  # where to store cache files\n",
    "os.makedirs(cache_dir, exist_ok=True)  # ensure cache directory exists\n",
    "\n",
    "def preprocess_data(data_train, data_test, labels_train, labels_test,\n",
    "                    cache_dir=cache_dir, cache_file=\"preprocessed_data.pkl\"):\n",
    "    \"\"\"Convert each review to words; read from cache if available.\"\"\"\n",
    "\n",
    "    # If cache_file is not None, try to read from it first\n",
    "    cache_data = None\n",
    "    if cache_file is not None:\n",
    "        try:\n",
    "            with open(os.path.join(cache_dir, cache_file), \"rb\") as f:\n",
    "                cache_data = pickle.load(f)\n",
    "            print(\"Read preprocessed data from cache file:\", cache_file)\n",
    "        except:\n",
    "            pass  # unable to read from cache, but that's okay\n",
    "    \n",
    "    # If cache is missing, then do the heavy lifting\n",
    "    if cache_data is None:\n",
    "        # Preprocess training and test data to obtain words for each review\n",
    "        #words_train = list(map(review_to_words, data_train))\n",
    "        #words_test = list(map(review_to_words, data_test))\n",
    "        words_train = [review_to_words(review) for review in data_train]\n",
    "        words_test = [review_to_words(review) for review in data_test]\n",
    "        \n",
    "        # Write to cache file for future runs\n",
    "        if cache_file is not None:\n",
    "            cache_data = dict(words_train=words_train, words_test=words_test,\n",
    "                              labels_train=labels_train, labels_test=labels_test)\n",
    "            with open(os.path.join(cache_dir, cache_file), \"wb\") as f:\n",
    "                pickle.dump(cache_data, f)\n",
    "            print(\"Wrote preprocessed data to cache file:\", cache_file)\n",
    "    else:\n",
    "        # Unpack data loaded from cache file\n",
    "        words_train, words_test, labels_train, labels_test = (cache_data['words_train'],\n",
    "                cache_data['words_test'], cache_data['labels_train'], cache_data['labels_test'])\n",
    "    \n",
    "    return words_train, words_test, labels_train, labels_test"
   ]
  },
  {
   "cell_type": "code",
   "execution_count": 10,
   "metadata": {},
   "outputs": [
    {
     "name": "stdout",
     "output_type": "stream",
     "text": [
      "Read preprocessed data from cache file: preprocessed_data.pkl\n"
     ]
    }
   ],
   "source": [
    "# Preprocess data\n",
    "train_X, test_X, train_y, test_y = preprocess_data(train_X, test_X, train_y, test_y)"
   ]
  },
  {
   "cell_type": "markdown",
   "metadata": {},
   "source": [
    "### Extract Bag-of-Words features\n",
    "\n",
    "For the model we will be implementing, rather than using the reviews directly, we are going to transform each review into a Bag-of-Words feature representation. Keep in mind that 'in the wild' we will only have access to the training set so our transformer can only use the training set to construct a representation."
   ]
  },
  {
   "cell_type": "code",
   "execution_count": 11,
   "metadata": {},
   "outputs": [],
   "source": [
    "import numpy as np\n",
    "from sklearn.feature_extraction.text import CountVectorizer\n",
    "from sklearn.externals import joblib\n",
    "# joblib is an enhanced version of pickle that is more efficient for storing NumPy arrays\n",
    "\n",
    "def extract_BoW_features(words_train, words_test, vocabulary_size=5000,\n",
    "                         cache_dir=cache_dir, cache_file=\"bow_features.pkl\"):\n",
    "    \"\"\"Extract Bag-of-Words for a given set of documents, already preprocessed into words.\"\"\"\n",
    "    \n",
    "    # If cache_file is not None, try to read from it first\n",
    "    cache_data = None\n",
    "    if cache_file is not None:\n",
    "        try:\n",
    "            with open(os.path.join(cache_dir, cache_file), \"rb\") as f:\n",
    "                cache_data = joblib.load(f)\n",
    "            print(\"Read features from cache file:\", cache_file)\n",
    "        except:\n",
    "            pass  # unable to read from cache, but that's okay\n",
    "    \n",
    "    # If cache is missing, then do the heavy lifting\n",
    "    if cache_data is None:\n",
    "        # Fit a vectorizer to training documents and use it to transform them\n",
    "        # NOTE: Training documents have already been preprocessed and tokenized into words;\n",
    "        #       pass in dummy functions to skip those steps, e.g. preprocessor=lambda x: x\n",
    "        vectorizer = CountVectorizer(max_features=vocabulary_size)\n",
    "        features_train = vectorizer.fit_transform(words_train).toarray()\n",
    "\n",
    "        # Apply the same vectorizer to transform the test documents (ignore unknown words)\n",
    "        features_test = vectorizer.transform(words_test).toarray()\n",
    "        \n",
    "        # NOTE: Remember to convert the features using .toarray() for a compact representation\n",
    "        \n",
    "        # Write to cache file for future runs (store vocabulary as well)\n",
    "        if cache_file is not None:\n",
    "            vocabulary = vectorizer.vocabulary_\n",
    "            cache_data = dict(features_train=features_train, features_test=features_test,\n",
    "                             vocabulary=vocabulary)\n",
    "            with open(os.path.join(cache_dir, cache_file), \"wb\") as f:\n",
    "                joblib.dump(cache_data, f)\n",
    "            print(\"Wrote features to cache file:\", cache_file)\n",
    "    else:\n",
    "        # Unpack data loaded from cache file\n",
    "        features_train, features_test, vocabulary = (cache_data['features_train'],\n",
    "                cache_data['features_test'], cache_data['vocabulary'])\n",
    "    \n",
    "    # Return both the extracted features as well as the vocabulary\n",
    "    return features_train, features_test, vocabulary"
   ]
  },
  {
   "cell_type": "code",
   "execution_count": 12,
   "metadata": {},
   "outputs": [
    {
     "name": "stdout",
     "output_type": "stream",
     "text": [
      "Wrote features to cache file: bow_features.pkl\n"
     ]
    }
   ],
   "source": [
    "# Extract Bag of Words features for both training and test datasets\n",
    "train_X, test_X, vocabulary = extract_BoW_features(train_X, test_X)"
   ]
  },
  {
   "cell_type": "code",
   "execution_count": 13,
   "metadata": {},
   "outputs": [
    {
     "data": {
      "text/plain": [
       "5000"
      ]
     },
     "execution_count": 13,
     "metadata": {},
     "output_type": "execute_result"
    }
   ],
   "source": [
    "len(train_X[100])"
   ]
  },
  {
   "cell_type": "markdown",
   "metadata": {},
   "source": [
    "## Step 3: Upload data to S3\n",
    "\n",
    "Now that we have created the feature representation of our training (and testing) data, it is time to start setting up and using the XGBoost classifier provided by SageMaker.\n",
    "\n",
    "### Writing the datasets\n",
    "\n",
    "The XGBoost classifier that we will be using requires the dataset to be written to a file and stored using Amazon S3. To do this, we will start by splitting the training dataset into two parts, the data we will train the model with and a validation set. Then, we will write those datasets to a file locally and then upload the files to S3. In addition, we will write the test set to a file and upload that file to S3. This is so that we can use SageMakers Batch Transform functionality to test our model once we've fit it."
   ]
  },
  {
   "cell_type": "code",
   "execution_count": 14,
   "metadata": {},
   "outputs": [],
   "source": [
    "import pandas as pd\n",
    "\n",
    "# Earlier we shuffled the training dataset so to make things simple we can just assign\n",
    "# the first 10 000 reviews to the validation set and use the remaining reviews for training.\n",
    "val_X = pd.DataFrame(train_X[:10000])\n",
    "train_X = pd.DataFrame(train_X[10000:])\n",
    "\n",
    "val_y = pd.DataFrame(train_y[:10000])\n",
    "train_y = pd.DataFrame(train_y[10000:])"
   ]
  },
  {
   "cell_type": "markdown",
   "metadata": {},
   "source": [
    "The documentation for the XGBoost algorithm in SageMaker requires that the training and validation datasets should contain no headers or index and that the label should occur first for each sample.\n",
    "\n",
    "For more information about this and other algorithms, the SageMaker developer documentation can be found on __[Amazon's website.](https://docs.aws.amazon.com/sagemaker/latest/dg/)__"
   ]
  },
  {
   "cell_type": "code",
   "execution_count": 15,
   "metadata": {},
   "outputs": [],
   "source": [
    "# First we make sure that the local directory in which we'd like to store the training and validation csv files exists.\n",
    "data_dir = '../data/sentiment_web_app'\n",
    "if not os.path.exists(data_dir):\n",
    "    os.makedirs(data_dir)"
   ]
  },
  {
   "cell_type": "code",
   "execution_count": 16,
   "metadata": {},
   "outputs": [],
   "source": [
    "pd.DataFrame(test_X).to_csv(os.path.join(data_dir, 'test.csv'), header=False, index=False)\n",
    "\n",
    "pd.concat([val_y, val_X], axis=1).to_csv(os.path.join(data_dir, 'validation.csv'), header=False, index=False)\n",
    "pd.concat([train_y, train_X], axis=1).to_csv(os.path.join(data_dir, 'train.csv'), header=False, index=False)"
   ]
  },
  {
   "cell_type": "code",
   "execution_count": 17,
   "metadata": {},
   "outputs": [],
   "source": [
    "# To save a bit of memory we can set text_X, train_X, val_X, train_y and val_y to None.\n",
    "\n",
    "test_X = train_X = val_X = train_y = val_y = None"
   ]
  },
  {
   "cell_type": "markdown",
   "metadata": {},
   "source": [
    "### Uploading Training / Validation files to S3\n",
    "\n",
    "Amazon's S3 service allows us to store files that can be accessed by both the built-in training models such as the XGBoost model we will be using as well as custom models such as the one we will see a little later.\n",
    "\n",
    "For this and most other tasks we will be doing using SageMaker, there are two methods we could use. The first is to use the low level functionality of SageMaker which requires knowing each of the objects involved in the SageMaker environment. The second is to use the high level functionality in which certain choices have been made on the user's behalf. The low level approach benefits from allowing the user a great deal of flexibility while the high level approach makes development much quicker. For our purposes we will opt to use the high level approach although using the low-level approach is certainly an option.\n",
    "\n",
    "Recall the method `upload_data()` which is a member of the object representing our current SageMaker session. What this method does is upload the data to the default bucket (which is created if it does not exist) into the path described by the key_prefix variable. To see this for yourself, once you have uploaded the data files, go to the S3 console and look to see where the files have been uploaded.\n",
    "\n",
    "For additional resources, see the __[SageMaker API documentation](http://sagemaker.readthedocs.io/en/latest/)__ and in addition the __[SageMaker Developer Guide.](https://docs.aws.amazon.com/sagemaker/latest/dg/)__"
   ]
  },
  {
   "cell_type": "code",
   "execution_count": 18,
   "metadata": {},
   "outputs": [],
   "source": [
    "import sagemaker\n",
    "\n",
    "session = sagemaker.Session() # Store the current SageMaker session\n",
    "\n",
    "# S3 prefix (which folder will we use)\n",
    "prefix = 'sentiment-web-app'\n",
    "\n",
    "test_location = session.upload_data(os.path.join(data_dir, 'test.csv'), key_prefix=prefix)\n",
    "val_location = session.upload_data(os.path.join(data_dir, 'validation.csv'), key_prefix=prefix)\n",
    "train_location = session.upload_data(os.path.join(data_dir, 'train.csv'), key_prefix=prefix)"
   ]
  },
  {
   "cell_type": "markdown",
   "metadata": {},
   "source": [
    "## Step 4: Creating the XGBoost model\n",
    "\n",
    "Now that the data has been uploaded it is time to create the XGBoost model. To begin with, we need to do some setup. At this point it is worth discussing what a model is in SageMaker. It is easiest to think of a model of comprising three different objects in the SageMaker ecosystem, which interact with one another.\n",
    "\n",
    "- Model Artifacts\n",
    "- Training Code (Container)\n",
    "- Inference Code (Container)\n",
    "\n",
    "The Model Artifacts are what you might think of as the actual model itself. For example, if you were building a neural network, the model artifacts would be the weights of the various layers. In our case, for an XGBoost model, the artifacts are the actual trees that are created during training.\n",
    "\n",
    "The other two objects, the training code and the inference code are then used to manipulate the training artifacts. More precisely, the training code uses the training data that is provided and creates the model artifacts, while the inference code uses the model artifacts to make predictions on new data.\n",
    "\n",
    "The way that SageMaker runs the training and inference code is by making use of Docker containers. For now, think of a container as being a way of packaging code up so that dependencies aren't an issue."
   ]
  },
  {
   "cell_type": "code",
   "execution_count": 19,
   "metadata": {},
   "outputs": [],
   "source": [
    "from sagemaker import get_execution_role\n",
    "\n",
    "# Our current execution role is required when creating the model as the training\n",
    "# and inference code will need to access the model artifacts.\n",
    "role = get_execution_role()"
   ]
  },
  {
   "cell_type": "code",
   "execution_count": 20,
   "metadata": {},
   "outputs": [],
   "source": [
    "# We need to retrieve the location of the container which is provided by Amazon for using XGBoost.\n",
    "# As a matter of convenience, the training and inference code both use the same container.\n",
    "from sagemaker.amazon.amazon_estimator import get_image_uri\n",
    "\n",
    "container = get_image_uri(session.boto_region_name, 'xgboost')"
   ]
  },
  {
   "cell_type": "code",
   "execution_count": 21,
   "metadata": {},
   "outputs": [],
   "source": [
    "# First we create a SageMaker estimator object for our model.\n",
    "xgb = sagemaker.estimator.Estimator(container, # The location of the container we wish to use\n",
    "                                    role,                                    # What is our current IAM Role\n",
    "                                    train_instance_count=1,                  # How many compute instances\n",
    "                                    train_instance_type='ml.m4.xlarge',      # What kind of compute instances\n",
    "                                    output_path='s3://{}/{}/output'.format(session.default_bucket(), prefix),\n",
    "                                    sagemaker_session=session)\n",
    "\n",
    "# And then set the algorithm specific parameters.\n",
    "xgb.set_hyperparameters(max_depth=5,\n",
    "                        eta=0.2,\n",
    "                        gamma=4,\n",
    "                        min_child_weight=6,\n",
    "                        subsample=0.8,\n",
    "                        silent=0,\n",
    "                        objective='binary:logistic',\n",
    "                        early_stopping_rounds=10,\n",
    "                        num_round=500)"
   ]
  },
  {
   "cell_type": "markdown",
   "metadata": {},
   "source": [
    "### Fit the XGBoost model\n",
    "\n",
    "Now that our model has been set up we simply need to attach the training and validation datasets and then ask SageMaker to set up the computation."
   ]
  },
  {
   "cell_type": "code",
   "execution_count": 22,
   "metadata": {},
   "outputs": [],
   "source": [
    "s3_input_train = sagemaker.s3_input(s3_data=train_location, content_type='csv')\n",
    "s3_input_validation = sagemaker.s3_input(s3_data=val_location, content_type='csv')"
   ]
  },
  {
   "cell_type": "code",
   "execution_count": 23,
   "metadata": {},
   "outputs": [
    {
     "name": "stdout",
     "output_type": "stream",
     "text": [
      "2019-05-11 18:10:13 Starting - Starting the training job...\n",
      "2019-05-11 18:10:16 Starting - Launching requested ML instances......\n",
      "2019-05-11 18:11:25 Starting - Preparing the instances for training......\n",
      "2019-05-11 18:12:39 Downloading - Downloading input data...\n",
      "2019-05-11 18:13:05 Training - Training image download completed. Training in progress.\n",
      "\u001b[31mArguments: train\u001b[0m\n",
      "\u001b[31m[2019-05-11:18:13:06:INFO] Running standalone xgboost training.\u001b[0m\n",
      "\u001b[31m[2019-05-11:18:13:06:INFO] File size need to be processed in the node: 238.5mb. Available memory size in the node: 8401.8mb\u001b[0m\n",
      "\u001b[31m[2019-05-11:18:13:06:INFO] Determined delimiter of CSV input is ','\u001b[0m\n",
      "\u001b[31m[18:13:06] S3DistributionType set as FullyReplicated\u001b[0m\n",
      "\u001b[31m[18:13:08] 15000x5000 matrix with 75000000 entries loaded from /opt/ml/input/data/train?format=csv&label_column=0&delimiter=,\u001b[0m\n",
      "\u001b[31m[2019-05-11:18:13:08:INFO] Determined delimiter of CSV input is ','\u001b[0m\n",
      "\u001b[31m[18:13:08] S3DistributionType set as FullyReplicated\u001b[0m\n",
      "\u001b[31m[18:13:09] 10000x5000 matrix with 50000000 entries loaded from /opt/ml/input/data/validation?format=csv&label_column=0&delimiter=,\u001b[0m\n",
      "\u001b[31m[18:13:13] src/tree/updater_prune.cc:74: tree pruning end, 1 roots, 46 extra nodes, 6 pruned nodes, max_depth=5\u001b[0m\n",
      "\u001b[31m[0]#011train-error:0.303533#011validation-error:0.317\u001b[0m\n",
      "\u001b[31mMultiple eval metrics have been passed: 'validation-error' will be used for early stopping.\n",
      "\u001b[0m\n",
      "\u001b[31mWill train until validation-error hasn't improved in 10 rounds.\u001b[0m\n",
      "\u001b[31m[18:13:14] src/tree/updater_prune.cc:74: tree pruning end, 1 roots, 36 extra nodes, 10 pruned nodes, max_depth=5\u001b[0m\n",
      "\u001b[31m[1]#011train-error:0.292067#011validation-error:0.3029\u001b[0m\n",
      "\u001b[31m[18:13:15] src/tree/updater_prune.cc:74: tree pruning end, 1 roots, 40 extra nodes, 8 pruned nodes, max_depth=5\u001b[0m\n",
      "\u001b[31m[2]#011train-error:0.2856#011validation-error:0.2979\u001b[0m\n",
      "\u001b[31m[18:13:17] src/tree/updater_prune.cc:74: tree pruning end, 1 roots, 30 extra nodes, 0 pruned nodes, max_depth=5\u001b[0m\n",
      "\u001b[31m[3]#011train-error:0.276067#011validation-error:0.2882\u001b[0m\n",
      "\u001b[31m[18:13:18] src/tree/updater_prune.cc:74: tree pruning end, 1 roots, 44 extra nodes, 2 pruned nodes, max_depth=5\u001b[0m\n",
      "\u001b[31m[4]#011train-error:0.2646#011validation-error:0.278\u001b[0m\n",
      "\u001b[31m[18:13:19] src/tree/updater_prune.cc:74: tree pruning end, 1 roots, 26 extra nodes, 6 pruned nodes, max_depth=5\u001b[0m\n",
      "\u001b[31m[5]#011train-error:0.254533#011validation-error:0.2685\u001b[0m\n",
      "\u001b[31m[18:13:21] src/tree/updater_prune.cc:74: tree pruning end, 1 roots, 32 extra nodes, 8 pruned nodes, max_depth=5\u001b[0m\n",
      "\u001b[31m[6]#011train-error:0.248#011validation-error:0.2699\u001b[0m\n",
      "\u001b[31m[18:13:22] src/tree/updater_prune.cc:74: tree pruning end, 1 roots, 22 extra nodes, 8 pruned nodes, max_depth=5\u001b[0m\n",
      "\u001b[31m[7]#011train-error:0.239067#011validation-error:0.2628\u001b[0m\n",
      "\u001b[31m[18:13:23] src/tree/updater_prune.cc:74: tree pruning end, 1 roots, 30 extra nodes, 12 pruned nodes, max_depth=5\u001b[0m\n",
      "\u001b[31m[8]#011train-error:0.235267#011validation-error:0.26\u001b[0m\n",
      "\u001b[31m[18:13:25] src/tree/updater_prune.cc:74: tree pruning end, 1 roots, 32 extra nodes, 12 pruned nodes, max_depth=5\u001b[0m\n",
      "\u001b[31m[9]#011train-error:0.227267#011validation-error:0.2552\u001b[0m\n",
      "\u001b[31m[18:13:26] src/tree/updater_prune.cc:74: tree pruning end, 1 roots, 30 extra nodes, 8 pruned nodes, max_depth=5\u001b[0m\n",
      "\u001b[31m[10]#011train-error:0.224067#011validation-error:0.2538\u001b[0m\n",
      "\u001b[31m[18:13:27] src/tree/updater_prune.cc:74: tree pruning end, 1 roots, 38 extra nodes, 2 pruned nodes, max_depth=5\u001b[0m\n",
      "\u001b[31m[11]#011train-error:0.2164#011validation-error:0.2458\u001b[0m\n",
      "\u001b[31m[18:13:28] src/tree/updater_prune.cc:74: tree pruning end, 1 roots, 28 extra nodes, 2 pruned nodes, max_depth=5\u001b[0m\n",
      "\u001b[31m[12]#011train-error:0.212333#011validation-error:0.2418\u001b[0m\n",
      "\u001b[31m[18:13:30] src/tree/updater_prune.cc:74: tree pruning end, 1 roots, 36 extra nodes, 2 pruned nodes, max_depth=5\u001b[0m\n",
      "\u001b[31m[13]#011train-error:0.207667#011validation-error:0.2396\u001b[0m\n",
      "\u001b[31m[18:13:31] src/tree/updater_prune.cc:74: tree pruning end, 1 roots, 26 extra nodes, 10 pruned nodes, max_depth=5\u001b[0m\n",
      "\u001b[31m[14]#011train-error:0.2038#011validation-error:0.2362\u001b[0m\n",
      "\u001b[31m[18:13:32] src/tree/updater_prune.cc:74: tree pruning end, 1 roots, 40 extra nodes, 4 pruned nodes, max_depth=5\u001b[0m\n",
      "\u001b[31m[15]#011train-error:0.1986#011validation-error:0.2315\u001b[0m\n",
      "\u001b[31m[18:13:33] src/tree/updater_prune.cc:74: tree pruning end, 1 roots, 42 extra nodes, 8 pruned nodes, max_depth=5\u001b[0m\n",
      "\u001b[31m[16]#011train-error:0.1956#011validation-error:0.2282\u001b[0m\n",
      "\u001b[31m[18:13:35] src/tree/updater_prune.cc:74: tree pruning end, 1 roots, 28 extra nodes, 8 pruned nodes, max_depth=5\u001b[0m\n",
      "\u001b[31m[17]#011train-error:0.191333#011validation-error:0.2239\u001b[0m\n",
      "\u001b[31m[18:13:36] src/tree/updater_prune.cc:74: tree pruning end, 1 roots, 28 extra nodes, 10 pruned nodes, max_depth=5\u001b[0m\n",
      "\u001b[31m[18]#011train-error:0.1892#011validation-error:0.222\u001b[0m\n",
      "\u001b[31m[18:13:37] src/tree/updater_prune.cc:74: tree pruning end, 1 roots, 28 extra nodes, 6 pruned nodes, max_depth=5\u001b[0m\n",
      "\u001b[31m[19]#011train-error:0.186133#011validation-error:0.2223\u001b[0m\n",
      "\u001b[31m[18:13:39] src/tree/updater_prune.cc:74: tree pruning end, 1 roots, 28 extra nodes, 6 pruned nodes, max_depth=5\u001b[0m\n",
      "\u001b[31m[20]#011train-error:0.183533#011validation-error:0.2198\u001b[0m\n",
      "\u001b[31m[18:13:40] src/tree/updater_prune.cc:74: tree pruning end, 1 roots, 22 extra nodes, 14 pruned nodes, max_depth=5\u001b[0m\n",
      "\u001b[31m[21]#011train-error:0.181533#011validation-error:0.2173\u001b[0m\n",
      "\u001b[31m[18:13:41] src/tree/updater_prune.cc:74: tree pruning end, 1 roots, 40 extra nodes, 6 pruned nodes, max_depth=5\u001b[0m\n",
      "\u001b[31m[22]#011train-error:0.177933#011validation-error:0.2143\u001b[0m\n",
      "\u001b[31m[18:13:42] src/tree/updater_prune.cc:74: tree pruning end, 1 roots, 42 extra nodes, 12 pruned nodes, max_depth=5\u001b[0m\n",
      "\u001b[31m[23]#011train-error:0.173933#011validation-error:0.211\u001b[0m\n",
      "\u001b[31m[18:13:44] src/tree/updater_prune.cc:74: tree pruning end, 1 roots, 32 extra nodes, 6 pruned nodes, max_depth=5\u001b[0m\n",
      "\u001b[31m[24]#011train-error:0.171733#011validation-error:0.209\u001b[0m\n",
      "\u001b[31m[18:13:45] src/tree/updater_prune.cc:74: tree pruning end, 1 roots, 18 extra nodes, 12 pruned nodes, max_depth=5\u001b[0m\n",
      "\u001b[31m[25]#011train-error:0.1716#011validation-error:0.2089\u001b[0m\n",
      "\u001b[31m[18:13:46] src/tree/updater_prune.cc:74: tree pruning end, 1 roots, 18 extra nodes, 12 pruned nodes, max_depth=5\u001b[0m\n",
      "\u001b[31m[26]#011train-error:0.1722#011validation-error:0.2077\u001b[0m\n",
      "\u001b[31m[18:13:48] src/tree/updater_prune.cc:74: tree pruning end, 1 roots, 30 extra nodes, 4 pruned nodes, max_depth=5\u001b[0m\n",
      "\u001b[31m[27]#011train-error:0.170333#011validation-error:0.2075\u001b[0m\n",
      "\u001b[31m[18:13:49] src/tree/updater_prune.cc:74: tree pruning end, 1 roots, 20 extra nodes, 4 pruned nodes, max_depth=5\u001b[0m\n",
      "\u001b[31m[28]#011train-error:0.1688#011validation-error:0.205\u001b[0m\n",
      "\u001b[31m[18:13:50] src/tree/updater_prune.cc:74: tree pruning end, 1 roots, 38 extra nodes, 2 pruned nodes, max_depth=5\u001b[0m\n",
      "\u001b[31m[29]#011train-error:0.1676#011validation-error:0.2027\u001b[0m\n",
      "\u001b[31m[18:13:51] src/tree/updater_prune.cc:74: tree pruning end, 1 roots, 30 extra nodes, 6 pruned nodes, max_depth=5\u001b[0m\n",
      "\u001b[31m[30]#011train-error:0.166867#011validation-error:0.2034\u001b[0m\n",
      "\u001b[31m[18:13:53] src/tree/updater_prune.cc:74: tree pruning end, 1 roots, 32 extra nodes, 8 pruned nodes, max_depth=5\u001b[0m\n",
      "\u001b[31m[31]#011train-error:0.165533#011validation-error:0.2014\u001b[0m\n",
      "\u001b[31m[18:13:54] src/tree/updater_prune.cc:74: tree pruning end, 1 roots, 24 extra nodes, 12 pruned nodes, max_depth=5\u001b[0m\n",
      "\u001b[31m[32]#011train-error:0.163733#011validation-error:0.201\u001b[0m\n",
      "\u001b[31m[18:13:55] src/tree/updater_prune.cc:74: tree pruning end, 1 roots, 14 extra nodes, 10 pruned nodes, max_depth=5\u001b[0m\n",
      "\u001b[31m[33]#011train-error:0.162267#011validation-error:0.2006\u001b[0m\n",
      "\u001b[31m[18:13:56] src/tree/updater_prune.cc:74: tree pruning end, 1 roots, 36 extra nodes, 4 pruned nodes, max_depth=5\u001b[0m\n",
      "\u001b[31m[34]#011train-error:0.160533#011validation-error:0.1986\u001b[0m\n",
      "\u001b[31m[18:13:58] src/tree/updater_prune.cc:74: tree pruning end, 1 roots, 22 extra nodes, 10 pruned nodes, max_depth=5\u001b[0m\n",
      "\u001b[31m[35]#011train-error:0.159133#011validation-error:0.1968\u001b[0m\n",
      "\u001b[31m[18:13:59] src/tree/updater_prune.cc:74: tree pruning end, 1 roots, 24 extra nodes, 2 pruned nodes, max_depth=5\u001b[0m\n",
      "\u001b[31m[36]#011train-error:0.155733#011validation-error:0.1949\u001b[0m\n",
      "\u001b[31m[18:14:00] src/tree/updater_prune.cc:74: tree pruning end, 1 roots, 24 extra nodes, 14 pruned nodes, max_depth=5\u001b[0m\n",
      "\u001b[31m[37]#011train-error:0.1558#011validation-error:0.1932\u001b[0m\n",
      "\u001b[31m[18:14:02] src/tree/updater_prune.cc:74: tree pruning end, 1 roots, 24 extra nodes, 6 pruned nodes, max_depth=5\u001b[0m\n",
      "\u001b[31m[38]#011train-error:0.153267#011validation-error:0.1922\u001b[0m\n",
      "\u001b[31m[18:14:03] src/tree/updater_prune.cc:74: tree pruning end, 1 roots, 18 extra nodes, 8 pruned nodes, max_depth=5\u001b[0m\n",
      "\u001b[31m[39]#011train-error:0.152467#011validation-error:0.1902\u001b[0m\n",
      "\u001b[31m[18:14:04] src/tree/updater_prune.cc:74: tree pruning end, 1 roots, 16 extra nodes, 8 pruned nodes, max_depth=5\u001b[0m\n",
      "\u001b[31m[40]#011train-error:0.150667#011validation-error:0.1896\u001b[0m\n",
      "\u001b[31m[18:14:05] src/tree/updater_prune.cc:74: tree pruning end, 1 roots, 30 extra nodes, 10 pruned nodes, max_depth=5\u001b[0m\n",
      "\u001b[31m[41]#011train-error:0.1494#011validation-error:0.1886\u001b[0m\n",
      "\u001b[31m[18:14:07] src/tree/updater_prune.cc:74: tree pruning end, 1 roots, 18 extra nodes, 10 pruned nodes, max_depth=5\u001b[0m\n",
      "\u001b[31m[42]#011train-error:0.1472#011validation-error:0.1884\u001b[0m\n",
      "\u001b[31m[18:14:08] src/tree/updater_prune.cc:74: tree pruning end, 1 roots, 22 extra nodes, 12 pruned nodes, max_depth=5\u001b[0m\n",
      "\u001b[31m[43]#011train-error:0.145867#011validation-error:0.1879\u001b[0m\n",
      "\u001b[31m[18:14:09] src/tree/updater_prune.cc:74: tree pruning end, 1 roots, 12 extra nodes, 10 pruned nodes, max_depth=5\u001b[0m\n",
      "\u001b[31m[44]#011train-error:0.145467#011validation-error:0.1871\u001b[0m\n",
      "\u001b[31m[18:14:10] src/tree/updater_prune.cc:74: tree pruning end, 1 roots, 14 extra nodes, 6 pruned nodes, max_depth=5\u001b[0m\n",
      "\u001b[31m[45]#011train-error:0.1446#011validation-error:0.1858\u001b[0m\n",
      "\u001b[31m[18:14:12] src/tree/updater_prune.cc:74: tree pruning end, 1 roots, 24 extra nodes, 6 pruned nodes, max_depth=5\u001b[0m\n",
      "\u001b[31m[46]#011train-error:0.143#011validation-error:0.1866\u001b[0m\n",
      "\u001b[31m[18:14:13] src/tree/updater_prune.cc:74: tree pruning end, 1 roots, 36 extra nodes, 10 pruned nodes, max_depth=5\u001b[0m\n",
      "\u001b[31m[47]#011train-error:0.141267#011validation-error:0.1852\u001b[0m\n",
      "\u001b[31m[18:14:14] src/tree/updater_prune.cc:74: tree pruning end, 1 roots, 38 extra nodes, 8 pruned nodes, max_depth=5\u001b[0m\n",
      "\u001b[31m[48]#011train-error:0.141067#011validation-error:0.1845\u001b[0m\n",
      "\u001b[31m[18:14:16] src/tree/updater_prune.cc:74: tree pruning end, 1 roots, 38 extra nodes, 10 pruned nodes, max_depth=5\u001b[0m\n",
      "\u001b[31m[49]#011train-error:0.138133#011validation-error:0.1844\u001b[0m\n",
      "\u001b[31m[18:14:17] src/tree/updater_prune.cc:74: tree pruning end, 1 roots, 20 extra nodes, 12 pruned nodes, max_depth=5\u001b[0m\n",
      "\u001b[31m[50]#011train-error:0.1364#011validation-error:0.1834\u001b[0m\n",
      "\u001b[31m[18:14:18] src/tree/updater_prune.cc:74: tree pruning end, 1 roots, 36 extra nodes, 8 pruned nodes, max_depth=5\u001b[0m\n",
      "\u001b[31m[51]#011train-error:0.135133#011validation-error:0.1827\u001b[0m\n",
      "\u001b[31m[18:14:19] src/tree/updater_prune.cc:74: tree pruning end, 1 roots, 14 extra nodes, 10 pruned nodes, max_depth=5\u001b[0m\n",
      "\u001b[31m[52]#011train-error:0.1348#011validation-error:0.1808\u001b[0m\n",
      "\u001b[31m[18:14:21] src/tree/updater_prune.cc:74: tree pruning end, 1 roots, 28 extra nodes, 18 pruned nodes, max_depth=5\u001b[0m\n",
      "\u001b[31m[53]#011train-error:0.1334#011validation-error:0.1788\u001b[0m\n",
      "\u001b[31m[18:14:22] src/tree/updater_prune.cc:74: tree pruning end, 1 roots, 16 extra nodes, 8 pruned nodes, max_depth=5\u001b[0m\n",
      "\u001b[31m[54]#011train-error:0.131867#011validation-error:0.1775\u001b[0m\n",
      "\u001b[31m[18:14:23] src/tree/updater_prune.cc:74: tree pruning end, 1 roots, 16 extra nodes, 8 pruned nodes, max_depth=5\u001b[0m\n",
      "\u001b[31m[55]#011train-error:0.1332#011validation-error:0.1779\u001b[0m\n",
      "\u001b[31m[18:14:24] src/tree/updater_prune.cc:74: tree pruning end, 1 roots, 24 extra nodes, 12 pruned nodes, max_depth=5\u001b[0m\n",
      "\u001b[31m[56]#011train-error:0.131867#011validation-error:0.1778\u001b[0m\n",
      "\u001b[31m[18:14:26] src/tree/updater_prune.cc:74: tree pruning end, 1 roots, 40 extra nodes, 6 pruned nodes, max_depth=5\u001b[0m\n",
      "\u001b[31m[57]#011train-error:0.1304#011validation-error:0.1774\u001b[0m\n",
      "\u001b[31m[18:14:27] src/tree/updater_prune.cc:74: tree pruning end, 1 roots, 20 extra nodes, 6 pruned nodes, max_depth=5\u001b[0m\n",
      "\u001b[31m[58]#011train-error:0.129667#011validation-error:0.1752\u001b[0m\n",
      "\u001b[31m[18:14:28] src/tree/updater_prune.cc:74: tree pruning end, 1 roots, 16 extra nodes, 6 pruned nodes, max_depth=5\u001b[0m\n",
      "\u001b[31m[59]#011train-error:0.129#011validation-error:0.1748\u001b[0m\n",
      "\u001b[31m[18:14:29] src/tree/updater_prune.cc:74: tree pruning end, 1 roots, 24 extra nodes, 8 pruned nodes, max_depth=5\u001b[0m\n",
      "\u001b[31m[60]#011train-error:0.128333#011validation-error:0.175\u001b[0m\n",
      "\u001b[31m[18:14:31] src/tree/updater_prune.cc:74: tree pruning end, 1 roots, 22 extra nodes, 4 pruned nodes, max_depth=5\u001b[0m\n",
      "\u001b[31m[61]#011train-error:0.126667#011validation-error:0.1737\u001b[0m\n",
      "\u001b[31m[18:14:32] src/tree/updater_prune.cc:74: tree pruning end, 1 roots, 14 extra nodes, 8 pruned nodes, max_depth=5\u001b[0m\n",
      "\u001b[31m[62]#011train-error:0.126267#011validation-error:0.1731\u001b[0m\n",
      "\u001b[31m[18:14:33] src/tree/updater_prune.cc:74: tree pruning end, 1 roots, 28 extra nodes, 10 pruned nodes, max_depth=5\u001b[0m\n",
      "\u001b[31m[63]#011train-error:0.125467#011validation-error:0.1726\u001b[0m\n",
      "\u001b[31m[18:14:35] src/tree/updater_prune.cc:74: tree pruning end, 1 roots, 16 extra nodes, 2 pruned nodes, max_depth=5\u001b[0m\n",
      "\u001b[31m[64]#011train-error:0.1254#011validation-error:0.1724\u001b[0m\n",
      "\u001b[31m[18:14:36] src/tree/updater_prune.cc:74: tree pruning end, 1 roots, 16 extra nodes, 6 pruned nodes, max_depth=5\u001b[0m\n",
      "\u001b[31m[65]#011train-error:0.125133#011validation-error:0.1718\u001b[0m\n",
      "\u001b[31m[18:14:37] src/tree/updater_prune.cc:74: tree pruning end, 1 roots, 28 extra nodes, 8 pruned nodes, max_depth=5\u001b[0m\n",
      "\u001b[31m[66]#011train-error:0.124333#011validation-error:0.1724\u001b[0m\n",
      "\u001b[31m[18:14:38] src/tree/updater_prune.cc:74: tree pruning end, 1 roots, 24 extra nodes, 16 pruned nodes, max_depth=5\u001b[0m\n",
      "\u001b[31m[67]#011train-error:0.122933#011validation-error:0.1702\u001b[0m\n",
      "\u001b[31m[18:14:40] src/tree/updater_prune.cc:74: tree pruning end, 1 roots, 12 extra nodes, 8 pruned nodes, max_depth=5\u001b[0m\n",
      "\u001b[31m[68]#011train-error:0.1226#011validation-error:0.1693\u001b[0m\n",
      "\u001b[31m[18:14:41] src/tree/updater_prune.cc:74: tree pruning end, 1 roots, 22 extra nodes, 8 pruned nodes, max_depth=5\u001b[0m\n",
      "\u001b[31m[69]#011train-error:0.1218#011validation-error:0.169\u001b[0m\n",
      "\u001b[31m[18:14:42] src/tree/updater_prune.cc:74: tree pruning end, 1 roots, 30 extra nodes, 14 pruned nodes, max_depth=5\u001b[0m\n",
      "\u001b[31m[70]#011train-error:0.119733#011validation-error:0.1698\u001b[0m\n",
      "\u001b[31m[18:14:43] src/tree/updater_prune.cc:74: tree pruning end, 1 roots, 10 extra nodes, 4 pruned nodes, max_depth=5\u001b[0m\n",
      "\u001b[31m[71]#011train-error:0.119133#011validation-error:0.1694\u001b[0m\n",
      "\u001b[31m[18:14:45] src/tree/updater_prune.cc:74: tree pruning end, 1 roots, 16 extra nodes, 4 pruned nodes, max_depth=5\u001b[0m\n",
      "\u001b[31m[72]#011train-error:0.118133#011validation-error:0.1675\u001b[0m\n",
      "\u001b[31m[18:14:46] src/tree/updater_prune.cc:74: tree pruning end, 1 roots, 18 extra nodes, 4 pruned nodes, max_depth=5\u001b[0m\n",
      "\u001b[31m[73]#011train-error:0.117667#011validation-error:0.1669\u001b[0m\n",
      "\u001b[31m[18:14:47] src/tree/updater_prune.cc:74: tree pruning end, 1 roots, 12 extra nodes, 4 pruned nodes, max_depth=5\u001b[0m\n",
      "\u001b[31m[74]#011train-error:0.117133#011validation-error:0.1667\u001b[0m\n",
      "\u001b[31m[18:14:48] src/tree/updater_prune.cc:74: tree pruning end, 1 roots, 18 extra nodes, 8 pruned nodes, max_depth=5\u001b[0m\n",
      "\u001b[31m[75]#011train-error:0.117067#011validation-error:0.1681\u001b[0m\n",
      "\u001b[31m[18:14:50] src/tree/updater_prune.cc:74: tree pruning end, 1 roots, 22 extra nodes, 6 pruned nodes, max_depth=5\u001b[0m\n",
      "\u001b[31m[76]#011train-error:0.115933#011validation-error:0.1666\u001b[0m\n",
      "\u001b[31m[18:14:51] src/tree/updater_prune.cc:74: tree pruning end, 1 roots, 12 extra nodes, 12 pruned nodes, max_depth=5\u001b[0m\n",
      "\u001b[31m[77]#011train-error:0.116#011validation-error:0.1664\u001b[0m\n",
      "\u001b[31m[18:14:52] src/tree/updater_prune.cc:74: tree pruning end, 1 roots, 14 extra nodes, 14 pruned nodes, max_depth=5\u001b[0m\n",
      "\u001b[31m[78]#011train-error:0.115133#011validation-error:0.1654\u001b[0m\n",
      "\u001b[31m[18:14:54] src/tree/updater_prune.cc:74: tree pruning end, 1 roots, 16 extra nodes, 8 pruned nodes, max_depth=5\u001b[0m\n",
      "\u001b[31m[79]#011train-error:0.114267#011validation-error:0.1645\u001b[0m\n",
      "\u001b[31m[18:14:55] src/tree/updater_prune.cc:74: tree pruning end, 1 roots, 20 extra nodes, 20 pruned nodes, max_depth=5\u001b[0m\n",
      "\u001b[31m[80]#011train-error:0.113133#011validation-error:0.1633\u001b[0m\n",
      "\u001b[31m[18:14:56] src/tree/updater_prune.cc:74: tree pruning end, 1 roots, 20 extra nodes, 10 pruned nodes, max_depth=5\u001b[0m\n",
      "\u001b[31m[81]#011train-error:0.1134#011validation-error:0.1611\u001b[0m\n",
      "\u001b[31m[18:14:57] src/tree/updater_prune.cc:74: tree pruning end, 1 roots, 26 extra nodes, 4 pruned nodes, max_depth=5\u001b[0m\n",
      "\u001b[31m[82]#011train-error:0.111933#011validation-error:0.1594\u001b[0m\n",
      "\u001b[31m[18:14:59] src/tree/updater_prune.cc:74: tree pruning end, 1 roots, 32 extra nodes, 8 pruned nodes, max_depth=5\u001b[0m\n",
      "\u001b[31m[83]#011train-error:0.112067#011validation-error:0.1586\u001b[0m\n",
      "\u001b[31m[18:15:00] src/tree/updater_prune.cc:74: tree pruning end, 1 roots, 12 extra nodes, 6 pruned nodes, max_depth=5\u001b[0m\n",
      "\u001b[31m[84]#011train-error:0.112#011validation-error:0.1583\u001b[0m\n",
      "\u001b[31m[18:15:01] src/tree/updater_prune.cc:74: tree pruning end, 1 roots, 10 extra nodes, 16 pruned nodes, max_depth=5\u001b[0m\n",
      "\u001b[31m[85]#011train-error:0.112#011validation-error:0.1582\u001b[0m\n",
      "\u001b[31m[18:15:02] src/tree/updater_prune.cc:74: tree pruning end, 1 roots, 12 extra nodes, 12 pruned nodes, max_depth=5\u001b[0m\n",
      "\u001b[31m[86]#011train-error:0.1126#011validation-error:0.1572\u001b[0m\n",
      "\u001b[31m[18:15:04] src/tree/updater_prune.cc:74: tree pruning end, 1 roots, 18 extra nodes, 2 pruned nodes, max_depth=5\u001b[0m\n",
      "\u001b[31m[87]#011train-error:0.112267#011validation-error:0.1571\u001b[0m\n",
      "\u001b[31m[18:15:05] src/tree/updater_prune.cc:74: tree pruning end, 1 roots, 16 extra nodes, 8 pruned nodes, max_depth=5\u001b[0m\n",
      "\u001b[31m[88]#011train-error:0.1116#011validation-error:0.1576\u001b[0m\n",
      "\u001b[31m[18:15:06] src/tree/updater_prune.cc:74: tree pruning end, 1 roots, 10 extra nodes, 4 pruned nodes, max_depth=5\u001b[0m\n",
      "\u001b[31m[89]#011train-error:0.111067#011validation-error:0.1563\u001b[0m\n",
      "\u001b[31m[18:15:08] src/tree/updater_prune.cc:74: tree pruning end, 1 roots, 16 extra nodes, 4 pruned nodes, max_depth=5\u001b[0m\n",
      "\u001b[31m[90]#011train-error:0.111#011validation-error:0.157\u001b[0m\n",
      "\u001b[31m[18:15:09] src/tree/updater_prune.cc:74: tree pruning end, 1 roots, 12 extra nodes, 6 pruned nodes, max_depth=5\u001b[0m\n",
      "\u001b[31m[91]#011train-error:0.111333#011validation-error:0.1561\u001b[0m\n",
      "\u001b[31m[18:15:10] src/tree/updater_prune.cc:74: tree pruning end, 1 roots, 18 extra nodes, 12 pruned nodes, max_depth=5\u001b[0m\n",
      "\u001b[31m[92]#011train-error:0.110333#011validation-error:0.1551\u001b[0m\n",
      "\u001b[31m[18:15:11] src/tree/updater_prune.cc:74: tree pruning end, 1 roots, 16 extra nodes, 14 pruned nodes, max_depth=5\u001b[0m\n",
      "\u001b[31m[93]#011train-error:0.110133#011validation-error:0.155\u001b[0m\n",
      "\u001b[31m[18:15:13] src/tree/updater_prune.cc:74: tree pruning end, 1 roots, 26 extra nodes, 8 pruned nodes, max_depth=5\u001b[0m\n",
      "\u001b[31m[94]#011train-error:0.108467#011validation-error:0.155\u001b[0m\n",
      "\u001b[31m[18:15:14] src/tree/updater_prune.cc:74: tree pruning end, 1 roots, 22 extra nodes, 4 pruned nodes, max_depth=5\u001b[0m\n",
      "\u001b[31m[95]#011train-error:0.108#011validation-error:0.1551\u001b[0m\n",
      "\u001b[31m[18:15:15] src/tree/updater_prune.cc:74: tree pruning end, 1 roots, 14 extra nodes, 2 pruned nodes, max_depth=5\u001b[0m\n",
      "\u001b[31m[96]#011train-error:0.107467#011validation-error:0.1542\u001b[0m\n",
      "\u001b[31m[18:15:16] src/tree/updater_prune.cc:74: tree pruning end, 1 roots, 22 extra nodes, 2 pruned nodes, max_depth=5\u001b[0m\n",
      "\u001b[31m[97]#011train-error:0.106533#011validation-error:0.1531\u001b[0m\n",
      "\u001b[31m[18:15:18] src/tree/updater_prune.cc:74: tree pruning end, 1 roots, 18 extra nodes, 10 pruned nodes, max_depth=5\u001b[0m\n",
      "\u001b[31m[98]#011train-error:0.106#011validation-error:0.1529\u001b[0m\n",
      "\u001b[31m[18:15:19] src/tree/updater_prune.cc:74: tree pruning end, 1 roots, 22 extra nodes, 4 pruned nodes, max_depth=5\u001b[0m\n",
      "\u001b[31m[99]#011train-error:0.1052#011validation-error:0.1516\u001b[0m\n",
      "\u001b[31m[18:15:20] src/tree/updater_prune.cc:74: tree pruning end, 1 roots, 22 extra nodes, 10 pruned nodes, max_depth=5\u001b[0m\n",
      "\u001b[31m[100]#011train-error:0.104133#011validation-error:0.1519\u001b[0m\n",
      "\u001b[31m[18:15:21] src/tree/updater_prune.cc:74: tree pruning end, 1 roots, 10 extra nodes, 6 pruned nodes, max_depth=5\u001b[0m\n",
      "\u001b[31m[101]#011train-error:0.103733#011validation-error:0.1512\u001b[0m\n",
      "\u001b[31m[18:15:23] src/tree/updater_prune.cc:74: tree pruning end, 1 roots, 16 extra nodes, 10 pruned nodes, max_depth=5\u001b[0m\n",
      "\u001b[31m[102]#011train-error:0.103267#011validation-error:0.151\u001b[0m\n",
      "\u001b[31m[18:15:24] src/tree/updater_prune.cc:74: tree pruning end, 1 roots, 10 extra nodes, 14 pruned nodes, max_depth=5\u001b[0m\n",
      "\u001b[31m[103]#011train-error:0.1028#011validation-error:0.1512\u001b[0m\n",
      "\u001b[31m[18:15:25] src/tree/updater_prune.cc:74: tree pruning end, 1 roots, 22 extra nodes, 6 pruned nodes, max_depth=5\u001b[0m\n",
      "\u001b[31m[104]#011train-error:0.1026#011validation-error:0.1517\u001b[0m\n",
      "\u001b[31m[18:15:27] src/tree/updater_prune.cc:74: tree pruning end, 1 roots, 10 extra nodes, 16 pruned nodes, max_depth=5\u001b[0m\n",
      "\u001b[31m[105]#011train-error:0.102533#011validation-error:0.1513\u001b[0m\n",
      "\u001b[31m[18:15:28] src/tree/updater_prune.cc:74: tree pruning end, 1 roots, 12 extra nodes, 0 pruned nodes, max_depth=5\u001b[0m\n",
      "\u001b[31m[106]#011train-error:0.1028#011validation-error:0.1518\u001b[0m\n",
      "\u001b[31m[18:15:29] src/tree/updater_prune.cc:74: tree pruning end, 1 roots, 20 extra nodes, 8 pruned nodes, max_depth=5\u001b[0m\n",
      "\u001b[31m[107]#011train-error:0.102133#011validation-error:0.1504\u001b[0m\n",
      "\u001b[31m[18:15:30] src/tree/updater_prune.cc:74: tree pruning end, 1 roots, 22 extra nodes, 8 pruned nodes, max_depth=5\u001b[0m\n",
      "\u001b[31m[108]#011train-error:0.101267#011validation-error:0.1502\u001b[0m\n",
      "\u001b[31m[18:15:32] src/tree/updater_prune.cc:74: tree pruning end, 1 roots, 18 extra nodes, 2 pruned nodes, max_depth=5\u001b[0m\n",
      "\u001b[31m[109]#011train-error:0.100467#011validation-error:0.1502\u001b[0m\n",
      "\u001b[31m[18:15:33] src/tree/updater_prune.cc:74: tree pruning end, 1 roots, 18 extra nodes, 4 pruned nodes, max_depth=5\u001b[0m\n",
      "\u001b[31m[110]#011train-error:0.100533#011validation-error:0.1504\u001b[0m\n",
      "\u001b[31m[18:15:34] src/tree/updater_prune.cc:74: tree pruning end, 1 roots, 14 extra nodes, 4 pruned nodes, max_depth=5\u001b[0m\n",
      "\u001b[31m[111]#011train-error:0.100667#011validation-error:0.1497\u001b[0m\n",
      "\u001b[31m[18:15:36] src/tree/updater_prune.cc:74: tree pruning end, 1 roots, 22 extra nodes, 6 pruned nodes, max_depth=5\u001b[0m\n",
      "\u001b[31m[112]#011train-error:0.100133#011validation-error:0.1496\u001b[0m\n",
      "\u001b[31m[18:15:37] src/tree/updater_prune.cc:74: tree pruning end, 1 roots, 10 extra nodes, 12 pruned nodes, max_depth=5\u001b[0m\n",
      "\u001b[31m[113]#011train-error:0.100267#011validation-error:0.1493\u001b[0m\n",
      "\u001b[31m[18:15:38] src/tree/updater_prune.cc:74: tree pruning end, 1 roots, 26 extra nodes, 6 pruned nodes, max_depth=5\u001b[0m\n",
      "\u001b[31m[114]#011train-error:0.099533#011validation-error:0.1483\u001b[0m\n",
      "\u001b[31m[18:15:39] src/tree/updater_prune.cc:74: tree pruning end, 1 roots, 20 extra nodes, 8 pruned nodes, max_depth=5\u001b[0m\n",
      "\u001b[31m[115]#011train-error:0.099133#011validation-error:0.1492\u001b[0m\n",
      "\u001b[31m[18:15:41] src/tree/updater_prune.cc:74: tree pruning end, 1 roots, 28 extra nodes, 8 pruned nodes, max_depth=5\u001b[0m\n",
      "\u001b[31m[116]#011train-error:0.097667#011validation-error:0.149\u001b[0m\n",
      "\u001b[31m[18:15:42] src/tree/updater_prune.cc:74: tree pruning end, 1 roots, 22 extra nodes, 4 pruned nodes, max_depth=5\u001b[0m\n",
      "\u001b[31m[117]#011train-error:0.0972#011validation-error:0.1487\u001b[0m\n",
      "\u001b[31m[18:15:43] src/tree/updater_prune.cc:74: tree pruning end, 1 roots, 12 extra nodes, 8 pruned nodes, max_depth=5\u001b[0m\n",
      "\u001b[31m[118]#011train-error:0.096267#011validation-error:0.1484\u001b[0m\n",
      "\u001b[31m[18:15:44] src/tree/updater_prune.cc:74: tree pruning end, 1 roots, 30 extra nodes, 4 pruned nodes, max_depth=5\u001b[0m\n",
      "\u001b[31m[119]#011train-error:0.095867#011validation-error:0.1481\u001b[0m\n",
      "\u001b[31m[18:15:46] src/tree/updater_prune.cc:74: tree pruning end, 1 roots, 12 extra nodes, 0 pruned nodes, max_depth=5\u001b[0m\n",
      "\u001b[31m[120]#011train-error:0.095267#011validation-error:0.1484\u001b[0m\n",
      "\u001b[31m[18:15:47] src/tree/updater_prune.cc:74: tree pruning end, 1 roots, 26 extra nodes, 4 pruned nodes, max_depth=5\u001b[0m\n",
      "\u001b[31m[121]#011train-error:0.094533#011validation-error:0.149\u001b[0m\n",
      "\u001b[31m[18:15:48] src/tree/updater_prune.cc:74: tree pruning end, 1 roots, 24 extra nodes, 12 pruned nodes, max_depth=5\u001b[0m\n",
      "\u001b[31m[122]#011train-error:0.093933#011validation-error:0.1485\u001b[0m\n",
      "\u001b[31m[18:15:50] src/tree/updater_prune.cc:74: tree pruning end, 1 roots, 14 extra nodes, 10 pruned nodes, max_depth=5\u001b[0m\n",
      "\u001b[31m[123]#011train-error:0.094#011validation-error:0.1482\u001b[0m\n",
      "\u001b[31m[18:15:51] src/tree/updater_prune.cc:74: tree pruning end, 1 roots, 14 extra nodes, 6 pruned nodes, max_depth=5\u001b[0m\n",
      "\u001b[31m[124]#011train-error:0.0936#011validation-error:0.1475\u001b[0m\n",
      "\u001b[31m[18:15:52] src/tree/updater_prune.cc:74: tree pruning end, 1 roots, 12 extra nodes, 6 pruned nodes, max_depth=5\u001b[0m\n",
      "\u001b[31m[125]#011train-error:0.093533#011validation-error:0.1464\u001b[0m\n",
      "\u001b[31m[18:15:53] src/tree/updater_prune.cc:74: tree pruning end, 1 roots, 20 extra nodes, 12 pruned nodes, max_depth=5\u001b[0m\n",
      "\u001b[31m[126]#011train-error:0.0932#011validation-error:0.1469\u001b[0m\n",
      "\u001b[31m[18:15:55] src/tree/updater_prune.cc:74: tree pruning end, 1 roots, 20 extra nodes, 16 pruned nodes, max_depth=5\u001b[0m\n",
      "\u001b[31m[127]#011train-error:0.093333#011validation-error:0.1468\u001b[0m\n",
      "\u001b[31m[18:15:56] src/tree/updater_prune.cc:74: tree pruning end, 1 roots, 14 extra nodes, 12 pruned nodes, max_depth=5\u001b[0m\n",
      "\u001b[31m[128]#011train-error:0.0926#011validation-error:0.1465\u001b[0m\n",
      "\u001b[31m[18:15:57] src/tree/updater_prune.cc:74: tree pruning end, 1 roots, 14 extra nodes, 8 pruned nodes, max_depth=5\u001b[0m\n",
      "\u001b[31m[129]#011train-error:0.0922#011validation-error:0.1463\u001b[0m\n",
      "\u001b[31m[18:15:59] src/tree/updater_prune.cc:74: tree pruning end, 1 roots, 12 extra nodes, 14 pruned nodes, max_depth=5\u001b[0m\n",
      "\u001b[31m[130]#011train-error:0.091533#011validation-error:0.1461\u001b[0m\n",
      "\u001b[31m[18:16:00] src/tree/updater_prune.cc:74: tree pruning end, 1 roots, 16 extra nodes, 0 pruned nodes, max_depth=5\u001b[0m\n",
      "\u001b[31m[131]#011train-error:0.0916#011validation-error:0.1455\u001b[0m\n",
      "\u001b[31m[18:16:01] src/tree/updater_prune.cc:74: tree pruning end, 1 roots, 14 extra nodes, 8 pruned nodes, max_depth=5\u001b[0m\n",
      "\u001b[31m[132]#011train-error:0.091533#011validation-error:0.1454\u001b[0m\n",
      "\u001b[31m[18:16:02] src/tree/updater_prune.cc:74: tree pruning end, 1 roots, 16 extra nodes, 6 pruned nodes, max_depth=5\u001b[0m\n",
      "\u001b[31m[133]#011train-error:0.090867#011validation-error:0.1455\u001b[0m\n",
      "\u001b[31m[18:16:04] src/tree/updater_prune.cc:74: tree pruning end, 1 roots, 12 extra nodes, 20 pruned nodes, max_depth=5\u001b[0m\n",
      "\u001b[31m[134]#011train-error:0.091267#011validation-error:0.1457\u001b[0m\n",
      "\u001b[31m[18:16:05] src/tree/updater_prune.cc:74: tree pruning end, 1 roots, 10 extra nodes, 2 pruned nodes, max_depth=5\u001b[0m\n",
      "\u001b[31m[135]#011train-error:0.0908#011validation-error:0.1458\u001b[0m\n",
      "\u001b[31m[18:16:06] src/tree/updater_prune.cc:74: tree pruning end, 1 roots, 12 extra nodes, 8 pruned nodes, max_depth=5\u001b[0m\n",
      "\u001b[31m[136]#011train-error:0.0904#011validation-error:0.1459\u001b[0m\n",
      "\u001b[31m[18:16:07] src/tree/updater_prune.cc:74: tree pruning end, 1 roots, 12 extra nodes, 6 pruned nodes, max_depth=5\u001b[0m\n",
      "\u001b[31m[137]#011train-error:0.090067#011validation-error:0.1457\u001b[0m\n",
      "\u001b[31m[18:16:09] src/tree/updater_prune.cc:74: tree pruning end, 1 roots, 12 extra nodes, 4 pruned nodes, max_depth=5\u001b[0m\n",
      "\u001b[31m[138]#011train-error:0.089867#011validation-error:0.1451\u001b[0m\n",
      "\u001b[31m[18:16:10] src/tree/updater_prune.cc:74: tree pruning end, 1 roots, 22 extra nodes, 12 pruned nodes, max_depth=5\u001b[0m\n",
      "\u001b[31m[139]#011train-error:0.089467#011validation-error:0.1445\u001b[0m\n",
      "\u001b[31m[18:16:11] src/tree/updater_prune.cc:74: tree pruning end, 1 roots, 24 extra nodes, 12 pruned nodes, max_depth=5\u001b[0m\n",
      "\u001b[31m[140]#011train-error:0.089267#011validation-error:0.145\u001b[0m\n",
      "\u001b[31m[18:16:12] src/tree/updater_prune.cc:74: tree pruning end, 1 roots, 10 extra nodes, 8 pruned nodes, max_depth=5\u001b[0m\n",
      "\u001b[31m[141]#011train-error:0.089267#011validation-error:0.1446\u001b[0m\n",
      "\u001b[31m[18:16:14] src/tree/updater_prune.cc:74: tree pruning end, 1 roots, 14 extra nodes, 8 pruned nodes, max_depth=5\u001b[0m\n",
      "\u001b[31m[142]#011train-error:0.089267#011validation-error:0.1442\u001b[0m\n",
      "\u001b[31m[18:16:15] src/tree/updater_prune.cc:74: tree pruning end, 1 roots, 18 extra nodes, 14 pruned nodes, max_depth=5\u001b[0m\n",
      "\u001b[31m[143]#011train-error:0.0886#011validation-error:0.1437\u001b[0m\n",
      "\u001b[31m[18:16:16] src/tree/updater_prune.cc:74: tree pruning end, 1 roots, 14 extra nodes, 10 pruned nodes, max_depth=5\u001b[0m\n",
      "\u001b[31m[144]#011train-error:0.088533#011validation-error:0.1439\u001b[0m\n",
      "\u001b[31m[18:16:18] src/tree/updater_prune.cc:74: tree pruning end, 1 roots, 24 extra nodes, 4 pruned nodes, max_depth=5\u001b[0m\n",
      "\u001b[31m[145]#011train-error:0.0882#011validation-error:0.1437\u001b[0m\n",
      "\u001b[31m[18:16:19] src/tree/updater_prune.cc:74: tree pruning end, 1 roots, 10 extra nodes, 6 pruned nodes, max_depth=5\u001b[0m\n",
      "\u001b[31m[146]#011train-error:0.088#011validation-error:0.143\u001b[0m\n",
      "\u001b[31m[18:16:20] src/tree/updater_prune.cc:74: tree pruning end, 1 roots, 10 extra nodes, 4 pruned nodes, max_depth=5\u001b[0m\n",
      "\u001b[31m[147]#011train-error:0.088067#011validation-error:0.1426\u001b[0m\n",
      "\u001b[31m[18:16:21] src/tree/updater_prune.cc:74: tree pruning end, 1 roots, 20 extra nodes, 8 pruned nodes, max_depth=5\u001b[0m\n",
      "\u001b[31m[148]#011train-error:0.086867#011validation-error:0.1427\u001b[0m\n",
      "\u001b[31m[18:16:23] src/tree/updater_prune.cc:74: tree pruning end, 1 roots, 20 extra nodes, 10 pruned nodes, max_depth=5\u001b[0m\n",
      "\u001b[31m[149]#011train-error:0.086733#011validation-error:0.1427\u001b[0m\n",
      "\u001b[31m[18:16:24] src/tree/updater_prune.cc:74: tree pruning end, 1 roots, 12 extra nodes, 8 pruned nodes, max_depth=5\u001b[0m\n",
      "\u001b[31m[150]#011train-error:0.086667#011validation-error:0.1425\u001b[0m\n",
      "\u001b[31m[18:16:25] src/tree/updater_prune.cc:74: tree pruning end, 1 roots, 14 extra nodes, 8 pruned nodes, max_depth=5\u001b[0m\n",
      "\u001b[31m[151]#011train-error:0.086#011validation-error:0.1428\u001b[0m\n",
      "\u001b[31m[18:16:27] src/tree/updater_prune.cc:74: tree pruning end, 1 roots, 18 extra nodes, 0 pruned nodes, max_depth=5\u001b[0m\n",
      "\u001b[31m[152]#011train-error:0.086#011validation-error:0.1434\u001b[0m\n",
      "\u001b[31m[18:16:28] src/tree/updater_prune.cc:74: tree pruning end, 1 roots, 22 extra nodes, 4 pruned nodes, max_depth=5\u001b[0m\n",
      "\u001b[31m[153]#011train-error:0.0858#011validation-error:0.1435\u001b[0m\n",
      "\u001b[31m[18:16:29] src/tree/updater_prune.cc:74: tree pruning end, 1 roots, 12 extra nodes, 12 pruned nodes, max_depth=5\u001b[0m\n",
      "\u001b[31m[154]#011train-error:0.0854#011validation-error:0.1431\u001b[0m\n",
      "\u001b[31m[18:16:30] src/tree/updater_prune.cc:74: tree pruning end, 1 roots, 38 extra nodes, 12 pruned nodes, max_depth=5\u001b[0m\n",
      "\u001b[31m[155]#011train-error:0.0838#011validation-error:0.1416\u001b[0m\n",
      "\u001b[31m[18:16:32] src/tree/updater_prune.cc:74: tree pruning end, 1 roots, 18 extra nodes, 16 pruned nodes, max_depth=5\u001b[0m\n",
      "\u001b[31m[156]#011train-error:0.083667#011validation-error:0.1415\u001b[0m\n",
      "\u001b[31m[18:16:33] src/tree/updater_prune.cc:74: tree pruning end, 1 roots, 12 extra nodes, 2 pruned nodes, max_depth=5\u001b[0m\n",
      "\u001b[31m[157]#011train-error:0.083267#011validation-error:0.1418\u001b[0m\n",
      "\u001b[31m[18:16:34] src/tree/updater_prune.cc:74: tree pruning end, 1 roots, 12 extra nodes, 10 pruned nodes, max_depth=5\u001b[0m\n",
      "\u001b[31m[158]#011train-error:0.083#011validation-error:0.1416\u001b[0m\n",
      "\u001b[31m[18:16:35] src/tree/updater_prune.cc:74: tree pruning end, 1 roots, 10 extra nodes, 14 pruned nodes, max_depth=5\u001b[0m\n",
      "\u001b[31m[159]#011train-error:0.083#011validation-error:0.1412\u001b[0m\n",
      "\u001b[31m[18:16:37] src/tree/updater_prune.cc:74: tree pruning end, 1 roots, 10 extra nodes, 16 pruned nodes, max_depth=5\u001b[0m\n",
      "\u001b[31m[160]#011train-error:0.0828#011validation-error:0.1414\u001b[0m\n",
      "\u001b[31m[18:16:38] src/tree/updater_prune.cc:74: tree pruning end, 1 roots, 14 extra nodes, 2 pruned nodes, max_depth=5\u001b[0m\n",
      "\u001b[31m[161]#011train-error:0.082867#011validation-error:0.1412\u001b[0m\n",
      "\u001b[31m[18:16:39] src/tree/updater_prune.cc:74: tree pruning end, 1 roots, 18 extra nodes, 10 pruned nodes, max_depth=5\u001b[0m\n",
      "\u001b[31m[162]#011train-error:0.082533#011validation-error:0.141\u001b[0m\n",
      "\u001b[31m[18:16:40] src/tree/updater_prune.cc:74: tree pruning end, 1 roots, 14 extra nodes, 2 pruned nodes, max_depth=5\u001b[0m\n",
      "\u001b[31m[163]#011train-error:0.082133#011validation-error:0.1405\u001b[0m\n",
      "\u001b[31m[18:16:42] src/tree/updater_prune.cc:74: tree pruning end, 1 roots, 24 extra nodes, 10 pruned nodes, max_depth=5\u001b[0m\n",
      "\u001b[31m[164]#011train-error:0.0814#011validation-error:0.1405\u001b[0m\n",
      "\u001b[31m[18:16:43] src/tree/updater_prune.cc:74: tree pruning end, 1 roots, 10 extra nodes, 8 pruned nodes, max_depth=5\u001b[0m\n",
      "\u001b[31m[165]#011train-error:0.080933#011validation-error:0.14\u001b[0m\n",
      "\u001b[31m[18:16:44] src/tree/updater_prune.cc:74: tree pruning end, 1 roots, 14 extra nodes, 2 pruned nodes, max_depth=5\u001b[0m\n",
      "\u001b[31m[166]#011train-error:0.080267#011validation-error:0.1398\u001b[0m\n",
      "\u001b[31m[18:16:46] src/tree/updater_prune.cc:74: tree pruning end, 1 roots, 26 extra nodes, 4 pruned nodes, max_depth=5\u001b[0m\n",
      "\u001b[31m[167]#011train-error:0.079667#011validation-error:0.138\u001b[0m\n",
      "\u001b[31m[18:16:47] src/tree/updater_prune.cc:74: tree pruning end, 1 roots, 10 extra nodes, 10 pruned nodes, max_depth=5\u001b[0m\n",
      "\u001b[31m[168]#011train-error:0.0794#011validation-error:0.1381\u001b[0m\n",
      "\u001b[31m[18:16:48] src/tree/updater_prune.cc:74: tree pruning end, 1 roots, 10 extra nodes, 20 pruned nodes, max_depth=5\u001b[0m\n",
      "\u001b[31m[169]#011train-error:0.0792#011validation-error:0.1376\u001b[0m\n",
      "\u001b[31m[18:16:49] src/tree/updater_prune.cc:74: tree pruning end, 1 roots, 12 extra nodes, 4 pruned nodes, max_depth=5\u001b[0m\n",
      "\u001b[31m[170]#011train-error:0.0788#011validation-error:0.1373\u001b[0m\n",
      "\u001b[31m[18:16:51] src/tree/updater_prune.cc:74: tree pruning end, 1 roots, 18 extra nodes, 10 pruned nodes, max_depth=5\u001b[0m\n",
      "\u001b[31m[171]#011train-error:0.078533#011validation-error:0.1379\u001b[0m\n",
      "\u001b[31m[18:16:52] src/tree/updater_prune.cc:74: tree pruning end, 1 roots, 12 extra nodes, 8 pruned nodes, max_depth=5\u001b[0m\n",
      "\u001b[31m[172]#011train-error:0.0786#011validation-error:0.1372\u001b[0m\n",
      "\u001b[31m[18:16:53] src/tree/updater_prune.cc:74: tree pruning end, 1 roots, 14 extra nodes, 4 pruned nodes, max_depth=5\u001b[0m\n",
      "\u001b[31m[173]#011train-error:0.078467#011validation-error:0.138\u001b[0m\n",
      "\u001b[31m[18:16:54] src/tree/updater_prune.cc:74: tree pruning end, 1 roots, 10 extra nodes, 10 pruned nodes, max_depth=5\u001b[0m\n",
      "\u001b[31m[174]#011train-error:0.078267#011validation-error:0.1369\u001b[0m\n",
      "\u001b[31m[18:16:56] src/tree/updater_prune.cc:74: tree pruning end, 1 roots, 16 extra nodes, 12 pruned nodes, max_depth=5\u001b[0m\n",
      "\u001b[31m[175]#011train-error:0.077933#011validation-error:0.1365\u001b[0m\n",
      "\u001b[31m[18:16:57] src/tree/updater_prune.cc:74: tree pruning end, 1 roots, 10 extra nodes, 10 pruned nodes, max_depth=5\u001b[0m\n",
      "\u001b[31m[176]#011train-error:0.077867#011validation-error:0.1362\u001b[0m\n",
      "\u001b[31m[18:16:58] src/tree/updater_prune.cc:74: tree pruning end, 1 roots, 10 extra nodes, 4 pruned nodes, max_depth=5\u001b[0m\n",
      "\u001b[31m[177]#011train-error:0.077333#011validation-error:0.1365\u001b[0m\n",
      "\u001b[31m[18:17:00] src/tree/updater_prune.cc:74: tree pruning end, 1 roots, 12 extra nodes, 2 pruned nodes, max_depth=5\u001b[0m\n",
      "\u001b[31m[178]#011train-error:0.0774#011validation-error:0.1358\u001b[0m\n",
      "\u001b[31m[18:17:01] src/tree/updater_prune.cc:74: tree pruning end, 1 roots, 12 extra nodes, 2 pruned nodes, max_depth=5\u001b[0m\n",
      "\u001b[31m[179]#011train-error:0.077333#011validation-error:0.1361\u001b[0m\n",
      "\u001b[31m[18:17:02] src/tree/updater_prune.cc:74: tree pruning end, 1 roots, 10 extra nodes, 10 pruned nodes, max_depth=5\u001b[0m\n",
      "\u001b[31m[180]#011train-error:0.0772#011validation-error:0.1367\u001b[0m\n",
      "\u001b[31m[18:17:03] src/tree/updater_prune.cc:74: tree pruning end, 1 roots, 18 extra nodes, 8 pruned nodes, max_depth=5\u001b[0m\n",
      "\u001b[31m[181]#011train-error:0.077333#011validation-error:0.136\u001b[0m\n",
      "\u001b[31m[18:17:05] src/tree/updater_prune.cc:74: tree pruning end, 1 roots, 16 extra nodes, 10 pruned nodes, max_depth=5\u001b[0m\n",
      "\u001b[31m[182]#011train-error:0.077133#011validation-error:0.1363\u001b[0m\n",
      "\u001b[31m[18:17:06] src/tree/updater_prune.cc:74: tree pruning end, 1 roots, 16 extra nodes, 0 pruned nodes, max_depth=5\u001b[0m\n",
      "\u001b[31m[183]#011train-error:0.077667#011validation-error:0.1368\u001b[0m\n",
      "\u001b[31m[18:17:07] src/tree/updater_prune.cc:74: tree pruning end, 1 roots, 10 extra nodes, 2 pruned nodes, max_depth=5\u001b[0m\n",
      "\u001b[31m[184]#011train-error:0.077333#011validation-error:0.1372\u001b[0m\n",
      "\u001b[31m[18:17:08] src/tree/updater_prune.cc:74: tree pruning end, 1 roots, 22 extra nodes, 10 pruned nodes, max_depth=5\u001b[0m\n",
      "\u001b[31m[185]#011train-error:0.077733#011validation-error:0.1379\u001b[0m\n",
      "\u001b[31m[18:17:10] src/tree/updater_prune.cc:74: tree pruning end, 1 roots, 16 extra nodes, 2 pruned nodes, max_depth=5\u001b[0m\n",
      "\u001b[31m[186]#011train-error:0.0776#011validation-error:0.137\u001b[0m\n",
      "\u001b[31m[18:17:11] src/tree/updater_prune.cc:74: tree pruning end, 1 roots, 14 extra nodes, 6 pruned nodes, max_depth=5\u001b[0m\n",
      "\u001b[31m[187]#011train-error:0.078067#011validation-error:0.1371\u001b[0m\n",
      "\u001b[31m[18:17:12] src/tree/updater_prune.cc:74: tree pruning end, 1 roots, 12 extra nodes, 2 pruned nodes, max_depth=5\u001b[0m\n",
      "\u001b[31m[188]#011train-error:0.077133#011validation-error:0.1366\u001b[0m\n",
      "\u001b[31mStopping. Best iteration:\u001b[0m\n",
      "\u001b[31m[178]#011train-error:0.0774#011validation-error:0.1358\n",
      "\u001b[0m\n",
      "\n",
      "2019-05-11 18:18:17 Uploading - Uploading generated training model\n",
      "2019-05-11 18:18:17 Completed - Training job completed\n",
      "Billable seconds: 338\n"
     ]
    }
   ],
   "source": [
    "xgb.fit({'train': s3_input_train, 'validation': s3_input_validation})"
   ]
  },
  {
   "cell_type": "markdown",
   "metadata": {},
   "source": [
    "## Step 5: Testing the model\n",
    "\n",
    "Now that we've fit our XGBoost model, it's time to see how well it performs. To do this we will use SageMakers Batch Transform functionality. Batch Transform is a convenient way to perform inference on a large dataset in a way that is not realtime. That is, we don't necessarily need to use our model's results immediately and instead we can perform inference on a large number of samples. An example of this in industry might be performing an end of month report. This method of inference can also be useful to us as it means that we can perform inference on our entire test set. \n",
    "\n",
    "To perform a Batch Transformation we need to first create a transformer objects from our trained estimator object."
   ]
  },
  {
   "cell_type": "code",
   "execution_count": 24,
   "metadata": {},
   "outputs": [],
   "source": [
    "xgb_transformer = xgb.transformer(instance_count = 1, instance_type = 'ml.m4.xlarge')"
   ]
  },
  {
   "cell_type": "markdown",
   "metadata": {},
   "source": [
    "Next we actually perform the transform job. When doing so we need to make sure to specify the type of data we are sending so that it is serialized correctly in the background. In our case we are providing our model with csv data so we specify `text/csv`. Also, if the test data that we have provided is too large to process all at once then we need to specify how the data file should be split up. Since each line is a single entry in our data set we tell SageMaker that it can split the input on each line."
   ]
  },
  {
   "cell_type": "code",
   "execution_count": 25,
   "metadata": {},
   "outputs": [],
   "source": [
    "xgb_transformer.transform(test_location, content_type='text/csv', split_type='Line')"
   ]
  },
  {
   "cell_type": "markdown",
   "metadata": {},
   "source": [
    "Currently the transform job is running but it is doing so in the background. Since we wish to wait until the transform job is done and we would like a bit of feedback we can run the `wait()` method."
   ]
  },
  {
   "cell_type": "code",
   "execution_count": 26,
   "metadata": {},
   "outputs": [
    {
     "name": "stdout",
     "output_type": "stream",
     "text": [
      "...............................................!\n"
     ]
    }
   ],
   "source": [
    "xgb_transformer.wait()"
   ]
  },
  {
   "cell_type": "markdown",
   "metadata": {},
   "source": [
    "Now the transform job has executed and the result, the estimated sentiment of each review, has been saved on S3. Since we would rather work on this file locally we can perform a bit of notebook magic to copy the file to the `data_dir`."
   ]
  },
  {
   "cell_type": "code",
   "execution_count": 27,
   "metadata": {},
   "outputs": [
    {
     "name": "stdout",
     "output_type": "stream",
     "text": [
      "download: s3://sagemaker-eu-central-1-773215437647/xgboost-2019-05-11-18-18-28-975/test.csv.out to ../data/sentiment_web_app/test.csv.out\r\n"
     ]
    }
   ],
   "source": [
    "!aws s3 cp --recursive $xgb_transformer.output_path $data_dir"
   ]
  },
  {
   "cell_type": "markdown",
   "metadata": {},
   "source": [
    "The last step is now to read in the output from our model, convert the output to something a little more usable, in this case we want the sentiment to be either `1` (positive) or `0` (negative), and then compare to the ground truth labels."
   ]
  },
  {
   "cell_type": "code",
   "execution_count": 28,
   "metadata": {},
   "outputs": [],
   "source": [
    "predictions = pd.read_csv(os.path.join(data_dir, 'test.csv.out'), header=None)\n",
    "predictions = [round(num) for num in predictions.squeeze().values]"
   ]
  },
  {
   "cell_type": "code",
   "execution_count": 29,
   "metadata": {},
   "outputs": [
    {
     "data": {
      "text/plain": [
       "0.86196"
      ]
     },
     "execution_count": 29,
     "metadata": {},
     "output_type": "execute_result"
    }
   ],
   "source": [
    "from sklearn.metrics import accuracy_score\n",
    "accuracy_score(test_y, predictions)"
   ]
  },
  {
   "cell_type": "markdown",
   "metadata": {},
   "source": [
    "## Step 6: Deploying the model\n",
    "\n",
    "Once we construct and fit our model, SageMaker stores the resulting model artifacts and we can use those to deploy an endpoint (inference code). To see this, look in the SageMaker console and you should see that a model has been created along with a link to the S3 location where the model artifacts have been stored.\n",
    "\n",
    "Deploying an endpoint is a lot like training the model with a few important differences. The first is that a deployed model doesn't change the model artifacts, so as you send it various testing instances the model won't change. Another difference is that since we aren't performing a fixed computation, as we were in the training step or while performing a batch transform, the compute instance that gets started stays running until we tell it to stop. This is important to note as if we forget and leave it running we will be charged the entire time.\n",
    "\n",
    "In other words **If you are no longer using a deployed endpoint, shut it down!**"
   ]
  },
  {
   "cell_type": "code",
   "execution_count": 30,
   "metadata": {},
   "outputs": [
    {
     "name": "stdout",
     "output_type": "stream",
     "text": [
      "---------------------------------------------------------------------------------------!"
     ]
    }
   ],
   "source": [
    "xgb_predictor = xgb.deploy(initial_instance_count = 1, instance_type = 'ml.m4.xlarge')"
   ]
  },
  {
   "cell_type": "markdown",
   "metadata": {},
   "source": [
    "### Testing the model (again)\n",
    "\n",
    "Now that we have deployed our endpoint, we can send the testing data to it and get back the inference results. We already did this earlier using the batch transform functionality of SageMaker, however, we will test our model again using the newly deployed endpoint so that we can make sure that it works properly and to get a bit of a feel for how the endpoint works.\n",
    "\n",
    "When using the created endpoint it is important to know that we are limited in the amount of information we can send in each call so we need to break the testing data up into chunks and then send each chunk. Also, we need to serialize our data before we send it to the endpoint to ensure that our data is transmitted properly. Fortunately, SageMaker can do the serialization part for us provided we tell it the format of our data."
   ]
  },
  {
   "cell_type": "code",
   "execution_count": 31,
   "metadata": {},
   "outputs": [],
   "source": [
    "from sagemaker.predictor import csv_serializer\n",
    "\n",
    "# We need to tell the endpoint what format the data we are sending is in so that SageMaker can perform the serialization.\n",
    "xgb_predictor.content_type = 'text/csv'\n",
    "xgb_predictor.serializer = csv_serializer"
   ]
  },
  {
   "cell_type": "code",
   "execution_count": 32,
   "metadata": {},
   "outputs": [],
   "source": [
    "# We split the data into chunks and send each chunk seperately, accumulating the results.\n",
    "\n",
    "def predict(data, rows=512):\n",
    "    split_array = np.array_split(data, int(data.shape[0] / float(rows) + 1))\n",
    "    predictions = ''\n",
    "    for array in split_array:\n",
    "        predictions = ','.join([predictions, xgb_predictor.predict(array).decode('utf-8')])\n",
    "    \n",
    "    return np.fromstring(predictions[1:], sep=',')"
   ]
  },
  {
   "cell_type": "code",
   "execution_count": 33,
   "metadata": {},
   "outputs": [],
   "source": [
    "test_X = pd.read_csv(os.path.join(data_dir, 'test.csv'), header=None).values\n",
    "\n",
    "predictions = predict(test_X)\n",
    "predictions = [round(num) for num in predictions]"
   ]
  },
  {
   "cell_type": "markdown",
   "metadata": {},
   "source": [
    "Lastly, we check to see what the accuracy of our model is."
   ]
  },
  {
   "cell_type": "code",
   "execution_count": 34,
   "metadata": {},
   "outputs": [
    {
     "data": {
      "text/plain": [
       "0.86196"
      ]
     },
     "execution_count": 34,
     "metadata": {},
     "output_type": "execute_result"
    }
   ],
   "source": [
    "from sklearn.metrics import accuracy_score\n",
    "accuracy_score(test_y, predictions)"
   ]
  },
  {
   "cell_type": "markdown",
   "metadata": {},
   "source": [
    "And the results here should agree with the model testing that we did earlier using the batch transform job.\n",
    "\n",
    "### Cleaning up\n",
    "\n",
    "Now that we've determined that deploying our model works as expected, we are going to shut it down. Remember that the longer the endpoint is left running, the greater the cost and since we have a bit more work to do before we are able to use our endpoint with our simple web app, we should shut everything down."
   ]
  },
  {
   "cell_type": "code",
   "execution_count": 35,
   "metadata": {},
   "outputs": [],
   "source": [
    "xgb_predictor.delete_endpoint()"
   ]
  },
  {
   "cell_type": "markdown",
   "metadata": {},
   "source": [
    "## Step 7: Putting our model to work\n",
    "\n",
    "As we've mentioned a few times now, our goal is to have our model deployed and then access it using a very simple web app. The intent is for this web app to take some user submitted data (a review), send it off to our endpoint (the model) and then display the result.\n",
    "\n",
    "However, there is a small catch. Currently the only way we can access the endpoint to send it data is using the SageMaker API. We can, if we wish, expose the actual URL that our model's endpoint is receiving data from, however, if we just send it data ourselves we will not get anything in return. This is because the endpoint created by SageMaker requires the entity accessing it have the correct permissions. So, we would need to somehow authenticate our web app with AWS.\n",
    "\n",
    "Having a website that authenticates to AWS seems a bit beyond the scope of this lesson so we will opt for an alternative approach. Namely, we will create a new endpoint which does not require authentication and which acts as a proxy for the SageMaker endpoint.\n",
    "\n",
    "As an additional constraint, we will try to avoid doing any data processing in the web app itself. Remember that when we constructed and tested our model we started with a movie review, then we simplified it by removing any html formatting and punctuation, then we constructed a bag of words embedding and the resulting vector is what we sent to our model. All of this needs to be done to our user input as well.\n",
    "\n",
    "Fortunately we can do all of this data processing in the backend, using Amazon's Lambda service.\n",
    "\n",
    "<img src=\"Web App Diagram.svg\">\n",
    "\n",
    "The diagram above gives an overview of how the various services will work together. On the far right is the model which we trained above and which will be deployed using SageMaker. On the far left is our web app that collects a user's movie review, sends it off and expects a positive or negative sentiment in return.\n",
    "\n",
    "In the middle is where some of the magic happens. We will construct a Lambda function, which you can think of as a straightforward Python function that can be executed whenever a specified event occurs. This Python function will do the data processing we need to perform on a user submitted review. In addition, we will give this function permission to send and recieve data from a SageMaker endpoint.\n",
    "\n",
    "Lastly, the method we will use to execute the Lambda function is a new endpoint that we will create using API Gateway. This endpoint will be a url that listens for data to be sent to it. Once it gets some data it will pass that data on to the Lambda function and then return whatever the Lambda function returns. Essentially it will act as an interface that lets our web app communicate with the Lambda function.\n",
    "\n",
    "### Processing a single review\n",
    "\n",
    "For now, suppose we are given a movie review by our user in the form of a string, like so:"
   ]
  },
  {
   "cell_type": "code",
   "execution_count": 36,
   "metadata": {},
   "outputs": [],
   "source": [
    "test_review = \"Nothing but a disgusting materialistic pageant of glistening abed remote control greed zombies, totally devoid of any heart or heat. A romantic comedy that has zero romantic chemestry and zero laughs!\""
   ]
  },
  {
   "cell_type": "markdown",
   "metadata": {},
   "source": [
    "How do we go from this string to the bag of words feature vector that is expected by our model?\n",
    "\n",
    "If we recall at the beginning of this notebook, the first step is to remove any unnecessary characters using the `review_to_words` method. Remember that we intentionally did this in a very simplistic way. This is because we are going to have to copy this method to our (eventual) Lambda function (we will go into more detail later) and this means it needs to be rather simplistic."
   ]
  },
  {
   "cell_type": "code",
   "execution_count": 37,
   "metadata": {},
   "outputs": [
    {
     "name": "stdout",
     "output_type": "stream",
     "text": [
      "nothing but a disgusting materialistic pageant of glistening abed remote control greed zombies totally devoid of any heart or heat a romantic comedy that has zero romantic chemestry and zero laughs\n"
     ]
    }
   ],
   "source": [
    "test_words = review_to_words(test_review)\n",
    "print(test_words)"
   ]
  },
  {
   "cell_type": "markdown",
   "metadata": {},
   "source": [
    "Next, we need to construct a bag of words embedding of the `test_words` string. To do this, remember that a bag of words embedding uses a `vocabulary` consisting of the most frequently appearing words in a set of documents. Then, for each word in the vocabulary we record the number of times that word appears in `test_words`. We constructed the `vocabulary` earlier using the training set for our problem so encoding `test_words` is relatively straightforward."
   ]
  },
  {
   "cell_type": "code",
   "execution_count": 38,
   "metadata": {},
   "outputs": [],
   "source": [
    "def bow_encoding(words, vocabulary):\n",
    "    bow = [0] * len(vocabulary) # Start by setting the count for each word in the vocabulary to zero.\n",
    "    for word in words.split():  # For each word in the string\n",
    "        if word in vocabulary:  # If the word is one that occurs in the vocabulary, increase its count.\n",
    "            bow[vocabulary[word]] += 1\n",
    "    return bow"
   ]
  },
  {
   "cell_type": "code",
   "execution_count": 39,
   "metadata": {},
   "outputs": [
    {
     "name": "stdout",
     "output_type": "stream",
     "text": [
      "[0, 0, 0, 0, 0, 0, 0, 0, 0, 0, 0, 0, 0, 0, 0, 0, 0, 0, 0, 0, 0, 0, 0, 0, 0, 0, 0, 0, 0, 0, 0, 0, 0, 0, 0, 0, 0, 0, 0, 0, 0, 0, 0, 0, 0, 0, 0, 0, 0, 0, 0, 0, 0, 0, 0, 0, 0, 0, 0, 0, 0, 0, 0, 0, 0, 0, 0, 0, 0, 0, 0, 0, 0, 0, 0, 0, 0, 0, 0, 0, 0, 0, 0, 0, 0, 0, 0, 0, 0, 0, 0, 0, 0, 0, 0, 0, 0, 0, 0, 0, 0, 0, 0, 0, 0, 0, 0, 0, 0, 0, 0, 0, 0, 0, 0, 0, 0, 0, 0, 0, 0, 0, 0, 0, 0, 0, 0, 0, 0, 0, 0, 0, 0, 0, 0, 0, 0, 0, 0, 0, 0, 0, 0, 0, 0, 0, 0, 0, 0, 0, 0, 0, 0, 0, 0, 0, 0, 0, 0, 0, 0, 0, 0, 0, 0, 0, 0, 0, 0, 0, 0, 0, 0, 0, 0, 0, 0, 0, 0, 0, 0, 0, 0, 0, 0, 0, 0, 0, 0, 0, 0, 0, 0, 0, 0, 0, 0, 0, 0, 0, 0, 0, 0, 0, 0, 0, 0, 0, 0, 0, 0, 0, 0, 0, 0, 0, 0, 0, 0, 0, 0, 0, 0, 0, 0, 0, 1, 0, 0, 0, 0, 0, 0, 0, 0, 0, 0, 0, 0, 0, 0, 0, 0, 0, 0, 0, 0, 0, 0, 0, 0, 0, 0, 0, 0, 0, 1, 0, 0, 0, 0, 0, 0, 0, 0, 0, 0, 0, 0, 0, 0, 0, 0, 0, 0, 0, 0, 0, 0, 0, 0, 0, 0, 0, 0, 0, 0, 0, 0, 0, 0, 0, 0, 0, 0, 0, 0, 0, 0, 0, 0, 0, 0, 0, 0, 0, 0, 0, 0, 0, 0, 0, 0, 0, 0, 0, 0, 0, 0, 0, 0, 0, 0, 0, 0, 0, 0, 0, 0, 0, 0, 0, 0, 0, 0, 0, 0, 0, 0, 0, 0, 0, 0, 0, 0, 0, 0, 0, 0, 0, 0, 0, 0, 0, 0, 0, 0, 0, 0, 0, 0, 0, 0, 0, 0, 0, 0, 0, 0, 0, 0, 0, 0, 0, 0, 0, 0, 0, 0, 0, 0, 0, 0, 0, 0, 0, 0, 0, 0, 0, 0, 0, 0, 0, 0, 0, 0, 0, 0, 0, 0, 0, 0, 0, 0, 0, 0, 0, 0, 0, 0, 0, 0, 0, 0, 0, 0, 0, 0, 0, 0, 0, 0, 0, 0, 0, 0, 0, 0, 0, 0, 0, 0, 0, 0, 0, 0, 0, 0, 0, 0, 0, 0, 0, 0, 0, 0, 0, 0, 0, 0, 0, 0, 0, 0, 0, 0, 0, 0, 0, 0, 0, 0, 0, 0, 0, 0, 0, 0, 0, 0, 0, 0, 0, 0, 0, 0, 0, 0, 0, 0, 0, 0, 0, 0, 0, 0, 0, 0, 0, 0, 0, 0, 0, 0, 0, 0, 0, 0, 0, 0, 0, 0, 0, 0, 0, 0, 0, 0, 0, 0, 0, 0, 0, 0, 0, 0, 0, 0, 0, 0, 0, 0, 0, 0, 0, 0, 0, 0, 0, 0, 0, 0, 0, 0, 0, 0, 0, 0, 0, 0, 0, 0, 0, 0, 0, 0, 0, 0, 0, 0, 0, 0, 0, 0, 0, 0, 0, 0, 0, 0, 0, 0, 0, 0, 0, 0, 0, 0, 0, 0, 0, 0, 0, 0, 0, 0, 0, 0, 0, 0, 0, 0, 0, 0, 0, 0, 0, 0, 0, 0, 0, 0, 0, 0, 0, 0, 0, 0, 0, 0, 0, 0, 0, 0, 0, 0, 0, 0, 0, 0, 0, 0, 0, 0, 0, 0, 0, 0, 0, 0, 0, 0, 0, 0, 0, 0, 0, 0, 0, 0, 0, 0, 0, 0, 0, 1, 0, 0, 0, 0, 0, 0, 0, 0, 0, 0, 0, 0, 0, 0, 0, 0, 0, 0, 0, 0, 0, 0, 0, 0, 0, 0, 0, 0, 0, 0, 0, 0, 0, 0, 0, 0, 0, 0, 0, 0, 0, 0, 0, 0, 0, 0, 0, 0, 0, 0, 0, 0, 0, 0, 0, 0, 0, 0, 0, 0, 0, 0, 0, 0, 0, 0, 0, 0, 0, 0, 0, 0, 0, 0, 0, 0, 0, 0, 0, 0, 0, 0, 0, 0, 0, 0, 0, 0, 0, 0, 0, 0, 0, 0, 0, 0, 0, 0, 0, 0, 0, 0, 0, 0, 0, 0, 0, 0, 0, 0, 0, 0, 0, 0, 0, 0, 0, 0, 0, 0, 0, 0, 0, 0, 0, 0, 0, 0, 0, 0, 0, 0, 0, 0, 0, 0, 0, 0, 0, 0, 0, 0, 0, 0, 0, 0, 0, 0, 0, 0, 0, 0, 0, 0, 0, 0, 0, 0, 0, 0, 0, 0, 0, 0, 0, 0, 0, 0, 0, 0, 0, 0, 0, 0, 0, 0, 0, 0, 0, 0, 0, 0, 0, 0, 0, 0, 0, 0, 0, 0, 0, 0, 0, 0, 0, 0, 0, 0, 0, 0, 0, 0, 0, 0, 0, 0, 0, 0, 0, 0, 0, 0, 0, 0, 0, 0, 0, 0, 0, 0, 0, 0, 0, 0, 0, 0, 0, 0, 0, 0, 0, 0, 0, 0, 0, 0, 0, 0, 0, 0, 0, 0, 0, 0, 0, 0, 0, 0, 0, 0, 0, 0, 0, 1, 0, 0, 0, 0, 0, 0, 0, 0, 0, 0, 0, 0, 0, 0, 0, 0, 0, 0, 0, 0, 0, 0, 0, 0, 0, 0, 0, 0, 0, 0, 0, 0, 0, 0, 0, 0, 0, 0, 0, 0, 0, 0, 0, 0, 0, 0, 0, 0, 0, 0, 0, 0, 0, 0, 0, 0, 0, 0, 0, 0, 0, 0, 0, 0, 0, 0, 0, 0, 0, 0, 0, 0, 0, 0, 0, 0, 0, 0, 0, 0, 0, 0, 0, 0, 0, 0, 1, 0, 0, 0, 0, 0, 0, 0, 0, 0, 0, 0, 0, 0, 0, 0, 0, 0, 0, 0, 0, 0, 0, 0, 0, 0, 0, 0, 0, 0, 0, 0, 0, 0, 0, 0, 0, 0, 0, 0, 0, 0, 0, 0, 0, 0, 0, 0, 0, 0, 0, 0, 0, 0, 0, 0, 0, 0, 0, 0, 0, 0, 0, 0, 0, 0, 0, 0, 0, 0, 0, 0, 0, 0, 0, 0, 0, 0, 0, 0, 0, 0, 0, 0, 0, 0, 0, 0, 0, 0, 0, 0, 0, 0, 0, 0, 0, 0, 0, 0, 0, 0, 0, 0, 0, 0, 0, 0, 0, 0, 0, 0, 0, 0, 0, 0, 0, 0, 0, 0, 0, 0, 0, 0, 0, 0, 0, 0, 0, 0, 0, 0, 0, 0, 0, 0, 0, 0, 0, 0, 0, 0, 0, 0, 0, 0, 0, 0, 0, 0, 0, 0, 0, 0, 0, 0, 0, 0, 0, 0, 0, 0, 0, 0, 0, 0, 0, 0, 0, 0, 0, 0, 0, 0, 0, 0, 0, 0, 0, 0, 0, 0, 0, 0, 0, 0, 0, 0, 0, 0, 0, 0, 0, 0, 0, 0, 0, 0, 0, 0, 0, 0, 0, 0, 0, 0, 0, 0, 0, 0, 0, 0, 0, 0, 0, 0, 0, 0, 0, 0, 0, 0, 0, 0, 0, 0, 0, 0, 0, 0, 0, 0, 0, 0, 0, 0, 0, 0, 0, 0, 0, 0, 0, 0, 0, 0, 0, 0, 0, 0, 0, 0, 0, 1, 0, 0, 0, 0, 0, 0, 0, 0, 0, 0, 0, 0, 0, 0, 0, 0, 0, 0, 0, 0, 0, 0, 0, 0, 0, 0, 0, 0, 0, 0, 0, 0, 0, 0, 0, 0, 0, 0, 0, 0, 0, 0, 0, 0, 0, 0, 0, 0, 0, 0, 0, 0, 0, 0, 0, 1, 0, 0, 0, 0, 0, 0, 0, 0, 0, 0, 0, 0, 0, 0, 0, 0, 0, 0, 0, 0, 0, 0, 0, 0, 0, 0, 0, 0, 0, 0, 0, 0, 0, 0, 0, 0, 0, 0, 0, 0, 0, 0, 0, 0, 0, 0, 0, 0, 0, 0, 0, 0, 0, 0, 0, 0, 0, 0, 0, 0, 0, 0, 0, 0, 0, 0, 0, 0, 0, 0, 0, 0, 0, 0, 0, 0, 0, 0, 0, 0, 0, 0, 0, 0, 0, 0, 0, 0, 0, 0, 0, 0, 0, 0, 0, 0, 0, 0, 0, 0, 0, 0, 0, 0, 0, 0, 0, 0, 0, 0, 0, 0, 0, 0, 0, 0, 0, 0, 0, 0, 0, 0, 0, 0, 0, 0, 0, 0, 0, 0, 0, 0, 0, 0, 0, 0, 0, 0, 0, 0, 0, 0, 0, 0, 0, 0, 0, 0, 0, 0, 0, 0, 0, 0, 0, 0, 0, 0, 0, 0, 0, 0, 0, 0, 0, 0, 0, 0, 0, 0, 0, 0, 0, 0, 0, 0, 0, 0, 0, 0, 0, 0, 0, 0, 0, 0, 0, 0, 0, 0, 0, 0, 0, 0, 0, 0, 0, 0, 0, 0, 0, 0, 0, 0, 0, 0, 0, 0, 0, 0, 0, 0, 0, 0, 0, 0, 0, 0, 0, 0, 0, 0, 0, 0, 0, 0, 0, 0, 0, 0, 0, 0, 0, 0, 0, 0, 0, 0, 0, 0, 0, 0, 0, 0, 0, 0, 0, 0, 0, 0, 0, 0, 0, 0, 0, 0, 0, 0, 0, 0, 0, 0, 0, 0, 0, 0, 0, 0, 0, 0, 0, 0, 0, 0, 0, 0, 0, 0, 0, 0, 0, 0, 0, 0, 0, 0, 0, 0, 0, 0, 0, 0, 0, 0, 0, 0, 0, 0, 0, 0, 0, 0, 0, 0, 0, 0, 0, 0, 0, 0, 0, 0, 0, 0, 0, 0, 0, 0, 0, 0, 0, 0, 0, 0, 0, 0, 0, 0, 0, 0, 0, 0, 0, 0, 0, 0, 0, 0, 0, 0, 0, 0, 0, 0, 0, 0, 0, 0, 0, 0, 0, 0, 0, 0, 0, 0, 0, 0, 0, 0, 0, 0, 0, 0, 0, 0, 0, 0, 0, 0, 0, 0, 0, 0, 0, 0, 0, 0, 0, 0, 0, 0, 0, 0, 0, 0, 0, 0, 0, 0, 0, 0, 0, 0, 0, 0, 0, 0, 0, 0, 0, 0, 0, 0, 0, 0, 0, 0, 0, 0, 0, 0, 0, 0, 0, 0, 0, 0, 0, 0, 0, 0, 0, 0, 0, 0, 0, 0, 0, 0, 0, 0, 0, 0, 0, 0, 0, 0, 0, 0, 0, 0, 0, 0, 0, 0, 0, 0, 0, 0, 0, 0, 0, 0, 0, 0, 0, 0, 0, 0, 0, 0, 0, 0, 0, 0, 0, 0, 0, 0, 0, 0, 0, 0, 0, 0, 0, 0, 0, 0, 0, 0, 0, 0, 0, 0, 0, 0, 0, 0, 0, 0, 0, 0, 0, 0, 0, 0, 0, 0, 0, 0, 0, 0, 0, 0, 0, 0, 0, 0, 0, 0, 0, 0, 0, 0, 0, 0, 0, 0, 0, 0, 0, 0, 0, 0, 0, 0, 0, 0, 0, 0, 0, 0, 0, 0, 0, 0, 0, 0, 0, 0, 0, 0, 0, 0, 0, 0, 0, 0, 0, 0, 0, 0, 0, 0, 0, 0, 0, 0, 0, 0, 0, 0, 0, 0, 0, 0, 0, 0, 0, 0, 0, 0, 0, 0, 0, 0, 0, 0, 0, 0, 0, 0, 0, 0, 0, 0, 0, 0, 0, 0, 0, 0, 0, 0, 0, 0, 0, 0, 0, 0, 0, 0, 0, 0, 0, 0, 0, 0, 0, 0, 0, 0, 0, 0, 0, 0, 0, 0, 0, 0, 0, 0, 0, 0, 0, 0, 0, 0, 0, 0, 0, 0, 0, 0, 0, 0, 0, 0, 0, 0, 0, 0, 0, 0, 0, 0, 0, 0, 0, 0, 0, 0, 0, 0, 0, 0, 0, 0, 0, 0, 0, 0, 0, 0, 0, 0, 0, 0, 0, 0, 0, 0, 0, 0, 0, 0, 0, 0, 0, 1, 0, 0, 0, 0, 0, 0, 0, 0, 0, 0, 0, 0, 0, 0, 0, 0, 0, 0, 0, 0, 0, 0, 0, 0, 0, 0, 0, 0, 0, 0, 0, 0, 0, 0, 0, 0, 0, 0, 0, 0, 0, 0, 0, 0, 0, 0, 0, 0, 0, 0, 0, 0, 0, 0, 0, 0, 0, 0, 0, 0, 0, 0, 0, 0, 0, 0, 0, 0, 0, 0, 0, 0, 0, 0, 1, 0, 0, 0, 0, 0, 0, 0, 0, 0, 0, 0, 0, 0, 0, 0, 0, 0, 0, 0, 0, 1, 0, 0, 1, 0, 0, 0, 0, 0, 0, 0, 0, 0, 0, 0, 0, 0, 0, 0, 0, 0, 0, 0, 0, 0, 0, 0, 0, 0, 0, 0, 0, 0, 0, 0, 0, 0, 0, 0, 0, 0, 0, 0, 0, 0, 0, 0, 0, 0, 0, 0, 0, 0, 0, 0, 0, 0, 0, 0, 0, 0, 0, 0, 0, 0, 0, 0, 0, 0, 0, 0, 0, 0, 0, 0, 0, 0, 0, 0, 0, 0, 0, 0, 0, 0, 0, 0, 0, 0, 0, 0, 0, 0, 0, 0, 0, 0, 0, 0, 0, 0, 0, 0, 0, 0, 0, 0, 0, 0, 0, 0, 0, 0, 0, 0, 0, 0, 0, 0, 0, 0, 0, 0, 0, 0, 0, 0, 0, 0, 0, 0, 0, 0, 0, 0, 0, 0, 0, 0, 0, 0, 0, 0, 0, 0, 0, 0, 0, 0, 0, 0, 0, 0, 0, 0, 0, 0, 0, 0, 0, 0, 0, 0, 0, 0, 0, 0, 0, 0, 0, 0, 0, 0, 0, 0, 0, 0, 0, 0, 0, 0, 0, 0, 0, 0, 0, 0, 0, 0, 0, 0, 0, 0, 0, 0, 0, 0, 0, 0, 0, 0, 0, 0, 0, 0, 0, 0, 0, 0, 0, 0, 0, 0, 0, 0, 0, 0, 0, 0, 0, 0, 0, 0, 0, 0, 0, 0, 0, 0, 0, 0, 0, 0, 0, 0, 0, 0, 0, 0, 0, 0, 0, 0, 0, 0, 0, 0, 0, 0, 0, 0, 0, 0, 0, 0, 0, 0, 0, 0, 0, 0, 0, 0, 0, 0, 0, 0, 0, 0, 0, 0, 0, 0, 0, 0, 0, 0, 0, 0, 0, 0, 0, 0, 0, 0, 0, 0, 0, 0, 0, 0, 0, 0, 0, 0, 0, 0, 0, 0, 0, 0, 0, 0, 0, 0, 0, 0, 0, 0, 0, 0, 0, 0, 0, 0, 0, 0, 0, 0, 0, 0, 0, 0, 0, 0, 0, 0, 0, 0, 0, 0, 0, 0, 0, 0, 0, 0, 0, 0, 0, 0, 0, 0, 0, 0, 0, 0, 0, 0, 0, 0, 0, 0, 0, 0, 0, 0, 0, 0, 0, 0, 0, 0, 0, 0, 0, 0, 0, 0, 0, 0, 0, 0, 0, 0, 0, 0, 0, 0, 0, 0, 0, 0, 0, 0, 0, 0, 0, 0, 0, 0, 0, 0, 0, 0, 0, 0, 0, 0, 0, 0, 0, 0, 0, 0, 0, 0, 0, 0, 0, 0, 0, 0, 0, 0, 0, 0, 0, 0, 0, 0, 0, 0, 0, 0, 0, 0, 0, 0, 0, 0, 0, 0, 0, 0, 0, 0, 0, 0, 0, 0, 0, 0, 0, 0, 0, 0, 0, 0, 0, 0, 0, 0, 0, 0, 0, 0, 0, 0, 0, 0, 0, 0, 0, 0, 0, 0, 0, 0, 0, 1, 0, 0, 0, 0, 0, 0, 0, 0, 0, 0, 0, 0, 0, 0, 0, 0, 0, 0, 0, 0, 0, 0, 0, 0, 0, 0, 0, 0, 0, 0, 0, 0, 0, 0, 0, 0, 0, 0, 0, 0, 0, 0, 0, 0, 0, 0, 0, 0, 0, 0, 0, 0, 0, 0, 0, 0, 0, 0, 0, 0, 0, 0, 0, 0, 0, 0, 0, 0, 0, 0, 0, 0, 0, 0, 0, 0, 0, 0, 0, 0, 0, 0, 0, 0, 0, 0, 0, 0, 0, 0, 0, 0, 0, 0, 0, 0, 0, 0, 0, 0, 0, 0, 0, 0, 0, 0, 0, 0, 0, 0, 0, 0, 0, 0, 0, 0, 0, 0, 0, 0, 0, 0, 0, 0, 0, 0, 0, 0, 0, 0, 0, 0, 0, 0, 0, 0, 0, 0, 0, 0, 0, 0, 0, 0, 0, 0, 0, 0, 0, 0, 0, 0, 0, 0, 0, 0, 0, 0, 0, 0, 0, 0, 0, 0, 0, 0, 0, 0, 0, 0, 0, 0, 0, 0, 0, 0, 0, 0, 0, 0, 0, 0, 0, 0, 0, 0, 0, 0, 0, 0, 0, 0, 0, 0, 0, 0, 0, 0, 0, 0, 0, 0, 0, 0, 0, 0, 0, 0, 0, 0, 0, 0, 0, 0, 0, 0, 0, 0, 0, 0, 0, 0, 0, 0, 0, 0, 0, 0, 0, 0, 0, 0, 0, 0, 0, 0, 0, 0, 0, 0, 0, 0, 0, 0, 0, 0, 0, 0, 0, 0, 0, 0, 0, 0, 0, 0, 0, 0, 0, 0, 0, 0, 0, 0, 0, 0, 0, 0, 0, 0, 0, 0, 0, 0, 0, 0, 0, 0, 0, 0, 0, 0, 0, 0, 0, 0, 0, 0, 0, 0, 0, 0, 0, 0, 0, 0, 0, 0, 0, 0, 0, 0, 0, 0, 0, 0, 0, 0, 0, 0, 0, 0, 0, 0, 0, 0, 0, 0, 0, 0, 0, 0, 0, 0, 0, 0, 0, 0, 0, 0, 0, 0, 0, 0, 0, 0, 0, 0, 0, 0, 0, 0, 0, 0, 0, 0, 0, 0, 0, 0, 0, 0, 0, 0, 0, 0, 0, 0, 0, 0, 0, 0, 0, 0, 0, 0, 0, 0, 0, 0, 0, 0, 0, 0, 0, 0, 0, 0, 0, 0, 0, 0, 0, 0, 0, 0, 0, 0, 0, 0, 0, 0, 0, 0, 0, 0, 0, 0, 0, 0, 0, 0, 0, 0, 0, 0, 0, 0, 0, 0, 0, 0, 0, 0, 0, 0, 0, 0, 0, 0, 0, 0, 0, 0, 0, 0, 0, 0, 0, 0, 0, 0, 0, 0, 0, 0, 0, 0, 0, 0, 0, 0, 0, 0, 0, 0, 0, 0, 0, 0, 0, 0, 0, 0, 0, 0, 0, 0, 0, 0, 0, 0, 0, 0, 0, 0, 0, 0, 0, 0, 0, 0, 0, 0, 0, 0, 0, 0, 0, 0, 0, 0, 0, 0, 0, 0, 0, 0, 0, 0, 0, 0, 0, 0, 0, 0, 0, 0, 0, 0, 0, 0, 0, 0, 0, 0, 0, 0, 0, 0, 0, 0, 1, 0, 0, 0, 0, 0, 0, 0, 0, 0, 0, 0, 0, 0, 0, 0, 0, 0, 0, 0, 0, 0, 0, 0, 0, 0, 0, 0, 0, 0, 0, 0, 0, 0, 0, 0, 2, 0, 0, 0, 0, 0, 0, 0, 0, 0, 0, 0, 0, 0, 0, 0, 0, 0, 0, 0, 0, 0, 0, 0, 0, 0, 0, 0, 0, 0, 0, 0, 0, 0, 0, 0, 0, 0, 0, 0, 0, 1, 0, 0, 0, 0, 0, 0, 0, 0, 0, 0, 0, 0, 0, 0, 0, 0, 0, 0, 0, 0, 0, 0, 0, 0, 0, 0, 0, 0, 0, 0, 0, 0, 0, 0, 0, 0, 0, 0, 0, 0, 0, 0, 0, 0, 0, 0, 0, 0, 0, 0, 0, 0, 0, 0, 0, 0, 0, 0, 0, 0, 0, 0, 0, 0, 0, 0, 0, 0, 0, 0, 0, 0, 0, 0, 0, 0, 0, 0, 0, 0, 0, 0, 0, 0, 0, 0, 0, 0, 0, 0, 0, 0, 0, 0, 0, 0, 0, 0, 0, 0, 0, 0, 0, 0, 0, 0, 0, 0, 0, 0, 0, 0, 0, 0, 0, 0, 0, 0, 0, 0, 0, 0, 0, 0, 0, 0, 0, 0, 0, 0, 0, 0, 0, 0, 0, 0, 0, 0, 0, 0, 0, 0, 0, 0, 0, 0, 0, 0, 0, 0, 0, 0, 0, 0, 0, 0, 0, 0, 0, 0, 0, 0, 0, 0, 0, 0, 0, 0, 0, 0, 0, 0, 0, 0, 0, 0, 0, 0, 0, 0, 0, 0, 0, 0, 0, 0, 0, 0, 0, 0, 0, 0, 0, 0, 0, 0, 0, 0, 0, 0, 0, 0, 0, 0, 0, 0, 0, 0, 0, 0, 0, 0, 0, 0, 0, 0, 0, 0, 0, 0, 0, 0, 0, 0, 0, 0, 0, 0, 0, 0, 0, 0, 0, 0, 0, 0, 0, 0, 0, 0, 0, 0, 0, 0, 0, 0, 0, 0, 0, 0, 0, 0, 0, 0, 0, 0, 0, 0, 0, 0, 0, 0, 0, 0, 0, 0, 0, 0, 0, 0, 0, 0, 0, 0, 0, 0, 0, 0, 0, 0, 0, 0, 0, 0, 0, 0, 0, 0, 0, 0, 0, 0, 0, 0, 0, 0, 0, 0, 0, 0, 0, 0, 0, 0, 0, 0, 0, 0, 0, 0, 0, 0, 0, 0, 0, 0, 0, 0, 0, 0, 0, 0, 0, 0, 0, 0, 0, 0, 0, 0, 0, 0, 0, 0, 0, 0, 0, 0, 0, 0, 0, 0, 0, 0, 0, 0, 0, 0, 0, 0, 0, 0, 0, 0, 0, 0, 0, 0, 0, 0, 0, 0, 0, 0, 0, 0, 0, 0, 0, 0, 0, 0, 0, 0, 0, 0, 0, 0, 0, 0, 0, 0, 0, 0, 0, 0, 0, 0, 0, 0, 0, 0, 0, 0, 0, 0, 0, 0, 0, 0, 0, 0, 0, 0, 0, 0, 0, 0, 0, 0, 0, 0, 0, 0, 0, 0, 0, 0, 0, 0, 0, 0, 0, 0, 0, 0, 0, 0, 0, 0, 0, 0, 0, 0, 0, 0, 0, 0, 0, 0, 0, 0, 0, 0, 0, 0, 0, 0, 0, 0, 0, 0, 0, 0, 0, 0, 0, 0, 0, 0, 0, 0, 0, 0, 0, 0, 0, 0, 0, 0, 0, 0, 0, 0, 0, 0, 0, 0, 0, 0, 0, 0, 0, 0, 0, 0, 0, 0, 0, 0, 0, 0, 0, 0, 0, 0, 0, 1, 0, 0, 0, 0, 0, 0, 0, 0, 0, 0, 0, 0, 0, 0, 0, 0, 0, 0, 0, 0, 0, 0, 0, 0, 0, 0, 0, 0, 0, 0, 0, 0, 0, 0, 0, 0, 0, 0, 0, 0, 0, 0, 0, 0, 0, 0, 0, 0, 0, 0, 0, 0, 0, 0, 0, 0, 0, 0, 0, 0, 0, 0, 0, 0, 0, 0, 0, 0, 0, 0, 0, 0, 0, 0, 0, 0, 0, 0, 0, 0, 0, 0, 0, 0, 0, 0, 0, 0, 0, 0, 0, 0, 0, 0, 0, 0, 0, 0, 0, 0, 0, 0, 0, 0, 0, 0, 0, 0, 0, 0, 2, 0, 0, 0, 0, 0, 0, 0, 0, 0, 0, 0, 0, 0, 0, 0, 0, 0, 0, 0, 0, 0, 0, 0, 0, 0, 0, 0, 0, 0, 0, 0, 0, 0, 0, 0, 0, 0, 0, 0, 0, 0, 0, 0, 0, 0, 0, 0, 0, 0, 0, 0, 0, 0, 0, 0, 0, 0, 0, 0, 0, 0, 0, 0, 0, 0, 0, 0, 0, 0, 0, 0, 0, 0, 0, 0, 0, 0, 0, 0, 0, 0, 0, 0, 0, 0, 0, 0, 0, 0, 0, 0, 0, 0, 0, 0, 0, 0, 0, 0, 0, 0, 0, 0, 0, 0, 0, 0, 0, 0, 0, 0, 0, 0, 0, 0, 0, 0, 0, 0, 0, 0, 0, 0, 0, 0, 0, 0, 0, 0, 0, 0, 0, 0, 0, 0, 0, 0, 0, 0, 0, 0, 0, 0, 0, 0, 0, 0, 0, 0, 0, 0, 0, 0, 0, 0, 0, 0, 0, 0, 0, 0, 0, 0, 0, 0, 0, 0, 0, 0, 0, 0, 0, 0, 0, 0, 0, 0, 0, 0, 0, 0, 0, 0, 0, 0, 0, 0, 0, 0, 0, 0, 0, 0, 0, 0, 0, 0, 0, 0, 0, 0, 0, 0, 0, 0, 0, 0, 0, 0, 0, 0, 0, 0, 0, 0, 0, 0, 0, 0, 0, 0, 0, 0, 0, 0, 0, 0, 0, 0, 0, 0, 0, 0, 0, 0, 0, 0, 0, 0, 0, 0, 0, 0, 0, 0, 0, 0, 0, 0, 0, 0, 0, 0, 0, 0, 0, 0, 0, 0, 0, 0, 0, 0, 0, 0, 0, 0, 0, 0, 0, 0, 0, 0, 0, 0, 0, 0, 0, 0, 0, 0, 0, 0, 0, 0, 0, 0, 0, 0, 0, 0, 0, 0, 0, 0, 0, 0, 0, 0, 0, 0, 0, 0, 0, 0, 0, 0, 0, 0, 0, 0, 0, 0, 0, 0, 0, 0, 0, 0, 0, 0, 0, 0, 0, 0, 0, 0, 0, 0, 0, 0, 0, 0, 0, 0, 0, 0, 0, 0, 0, 0, 0, 0, 0, 0, 0, 0, 0, 0, 0, 0, 0, 0, 0, 0, 0, 0, 0, 0, 0, 0, 0, 0, 0, 0, 0, 0, 0, 0, 0, 0, 0, 0, 0, 0, 0, 0, 0, 0, 0, 0, 0, 0, 0, 0, 0, 0, 0, 0, 0, 0, 0, 0, 0, 0, 0, 0, 0, 0, 0, 0, 0, 0, 0, 0, 0, 0, 0, 0, 0, 0, 0, 0, 0, 0, 0, 0, 0, 0, 0, 0, 0, 0, 0, 0, 0, 0, 0, 0, 0, 0, 0, 0, 0, 0, 0, 0, 0, 0, 0, 0, 0, 0, 0, 0, 0, 0, 0, 0, 0, 0, 0, 0, 0, 0, 0, 0, 0, 0, 0, 0, 0, 0, 0, 0, 0, 0, 0, 0, 0, 0, 0, 0, 0, 0, 0, 0, 0, 0, 0, 0, 0, 0, 0, 0, 0, 0, 0, 0, 0, 0, 0, 0, 0, 0, 0, 0, 0, 0, 0, 0, 0, 0, 0, 0, 0, 0, 0, 0, 0, 0, 0, 0, 0, 0, 0, 0, 0, 0, 0, 0, 0, 0, 0, 0, 0, 0, 0, 0, 0, 0, 0, 0, 0, 0, 0, 0, 0, 0, 0, 0, 0, 0, 0, 0, 0, 0, 0, 0, 0, 0, 0, 0, 0, 0, 0, 0, 0, 0, 0, 0, 0, 0, 0, 0, 0, 0, 0, 0, 0, 0, 0, 0, 0, 0, 0, 0, 0, 0, 0, 0, 0, 0, 0, 0, 0, 0, 0, 0, 0, 0, 0, 0, 0, 0, 0, 0, 0, 0, 0, 0, 0, 0, 0, 0, 0, 0, 0, 0, 0, 0, 0, 0, 0, 0, 0, 0, 0, 0, 0, 0, 0, 0, 0, 0, 0, 0, 0, 0, 0, 0, 0, 0, 0, 0, 0, 0, 0, 0, 0, 0, 0, 0, 0, 0, 0, 0, 0, 0, 0, 0, 0, 0, 0, 0, 0, 0, 0, 0, 0, 0, 0, 0, 0, 0, 0, 0, 0, 0, 0, 0, 0, 0, 0, 0, 0, 0, 0, 0, 0, 0, 0, 0, 0, 0, 0, 0, 0, 0, 0, 1, 0, 0, 0, 0, 0, 0, 0, 0, 0, 0, 0, 0, 0, 0, 0, 0, 0, 0, 0, 0, 0, 0, 0, 0, 0, 0, 0, 0, 0, 0, 0, 0, 0, 0, 0, 0, 0, 0, 0, 0, 0, 0, 0, 0, 0, 0, 0, 0, 0, 0, 0, 0, 0, 0, 0, 0, 0, 0, 0, 0, 0, 0, 0, 0, 0, 0, 0, 0, 0, 0, 0, 0, 0, 0, 0, 0, 0, 0, 0, 0, 0, 0, 0, 0, 0, 0, 0, 0, 0, 0, 0, 0, 0, 0, 0, 0, 0, 0, 0, 0, 0, 0, 0, 0, 0, 0, 0, 1, 0, 0, 0, 0, 0, 0, 0, 0, 0, 0, 0, 0, 0, 0, 0, 0, 0, 0, 0, 0, 0, 0, 0, 0, 0, 0, 0, 0, 0, 0, 0, 0, 0, 0, 0, 0, 0, 0, 0, 0, 0, 0, 0, 0, 0, 0, 0, 0, 0, 0, 0, 0, 0, 0, 0, 0, 0, 0, 0, 0, 0, 0, 0, 0, 0, 0, 0, 0, 0, 0, 0, 0, 0, 0, 0, 0, 0, 0, 0, 0, 0, 0, 0, 0, 0, 0, 0, 0, 0, 0, 0, 0, 0, 0, 0, 0, 0, 0, 0, 0, 0, 0, 0, 0, 0, 0, 0, 0, 0, 0, 0, 0, 0, 0, 0, 0, 0, 0, 0, 0, 0, 0, 0, 0, 0, 0, 0, 0, 0, 0, 0, 0, 0, 0, 0, 0, 0, 0, 0, 0, 0, 0, 0, 0, 0, 0, 0, 0, 0, 0, 0, 0, 0, 0, 0, 0, 0, 0, 0, 0, 0, 0, 0, 0, 0, 0, 0, 0, 0, 0, 0, 0, 0, 0, 0, 0, 0, 0, 0, 0, 0, 0, 0, 0, 0, 0, 0, 0, 0, 0, 0, 0, 0, 0, 0, 0, 0, 0, 0, 0, 0, 0, 0, 0, 0, 0, 0, 0, 0, 0, 0, 0, 0, 0, 0, 0, 0, 0, 0, 0, 0, 0, 0, 0, 0, 0, 0, 0, 0, 0, 0, 0, 0, 0, 0, 0, 0, 0, 0, 0, 0, 0, 0, 0, 0, 0, 0, 0, 0, 0, 0, 0, 0, 0, 0, 0, 0, 0, 0, 0, 0, 0, 0, 0, 0, 0, 0, 0, 0, 0, 0, 0, 0, 0, 0, 0, 0, 0, 0, 0, 0, 0, 0, 0, 0, 0, 0, 0, 0, 0, 0, 0, 0, 0, 0, 0, 0, 0, 0, 0, 0, 0, 0, 0, 0, 0, 0, 0, 0, 0, 0, 0, 0, 0, 0, 0, 0, 0, 0, 0, 0, 0, 0, 0, 0, 0, 0, 0, 0, 0, 0, 0, 0, 0, 0, 0, 0, 0, 0, 0, 0, 0, 0, 0, 0, 0, 0, 0, 0, 0, 0, 0, 0, 0, 0, 0, 0, 0, 0, 0, 0, 0, 0, 0, 0, 0, 0, 0, 0, 0, 0, 0, 0, 0, 0, 0, 0, 0, 0, 0, 0, 0, 0, 0, 0, 0, 0, 0, 0, 0, 0, 0, 0, 0, 0, 0, 0, 0, 0, 0, 0, 0, 0, 0, 0, 0, 0, 0, 0, 0, 0, 0, 0, 0, 0, 0, 0, 0, 0, 0, 0, 0, 0, 0, 0, 0, 0, 0, 0, 0, 0, 0, 0, 0, 0, 0, 0, 0, 0, 0, 0, 0, 0, 0, 0, 0, 0, 0, 0, 0, 0, 0, 0, 0, 0, 0, 0, 0, 0, 0, 0, 0, 0, 2, 0, 1, 0]\n"
     ]
    }
   ],
   "source": [
    "test_bow = bow_encoding(test_words, vocabulary)\n",
    "print(test_bow)"
   ]
  },
  {
   "cell_type": "code",
   "execution_count": 40,
   "metadata": {},
   "outputs": [
    {
     "data": {
      "text/plain": [
       "5000"
      ]
     },
     "execution_count": 40,
     "metadata": {},
     "output_type": "execute_result"
    }
   ],
   "source": [
    "len(test_bow)"
   ]
  },
  {
   "cell_type": "markdown",
   "metadata": {},
   "source": [
    "So now we know how to construct a bag of words encoding of a user provided review, how to we send it to our endpoint? First, we need to start the endpoint back up."
   ]
  },
  {
   "cell_type": "code",
   "execution_count": 41,
   "metadata": {},
   "outputs": [
    {
     "name": "stdout",
     "output_type": "stream",
     "text": [
      "----------------------------------------------------------------------------------------!"
     ]
    }
   ],
   "source": [
    "xgb_predictor = xgb.deploy(initial_instance_count = 1, instance_type = 'ml.m4.xlarge')"
   ]
  },
  {
   "cell_type": "markdown",
   "metadata": {},
   "source": [
    "At this point we could just do the same thing that we did earlier when we tested our deployed model and send `test_bow` to our endpoint using the `xgb_predictor` object. However, when we eventually construct our Lambda function we won't have access to this object, so how do we call a SageMaker endpoint?\n",
    "\n",
    "It turns out that Python functions that are used in Lambda have access to another Amazon library called `boto3`. This library provides an API for working with Amazon services, including SageMaker. To start with, we need to get a handle to the SageMaker runtime."
   ]
  },
  {
   "cell_type": "code",
   "execution_count": 42,
   "metadata": {},
   "outputs": [],
   "source": [
    "import boto3\n",
    "\n",
    "runtime = boto3.Session().client('sagemaker-runtime')"
   ]
  },
  {
   "cell_type": "markdown",
   "metadata": {},
   "source": [
    "And now that we have access to the SageMaker runtime, we can ask it to make use of (invoke) an endpoint that has already been created. However, we need to provide SageMaker with the name of the deployed endpoint. To find this out we can print it out using the `xgb_predictor` object."
   ]
  },
  {
   "cell_type": "code",
   "execution_count": 43,
   "metadata": {},
   "outputs": [
    {
     "data": {
      "text/plain": [
       "'xgboost-2019-05-11-18-10-13-395'"
      ]
     },
     "execution_count": 43,
     "metadata": {},
     "output_type": "execute_result"
    }
   ],
   "source": [
    "xgb_predictor.endpoint"
   ]
  },
  {
   "cell_type": "markdown",
   "metadata": {},
   "source": [
    "Using the SageMaker runtime and the name of our endpoint, we can invoke the endpoint and send it the `test_bow` data."
   ]
  },
  {
   "cell_type": "code",
   "execution_count": 44,
   "metadata": {},
   "outputs": [
    {
     "ename": "ParamValidationError",
     "evalue": "Parameter validation failed:\nInvalid type for parameter Body, value: [0, 0, 0, 0, 0, 0, 0, 0, 0, 0, 0, 0, 0, 0, 0, 0, 0, 0, 0, 0, 0, 0, 0, 0, 0, 0, 0, 0, 0, 0, 0, 0, 0, 0, 0, 0, 0, 0, 0, 0, 0, 0, 0, 0, 0, 0, 0, 0, 0, 0, 0, 0, 0, 0, 0, 0, 0, 0, 0, 0, 0, 0, 0, 0, 0, 0, 0, 0, 0, 0, 0, 0, 0, 0, 0, 0, 0, 0, 0, 0, 0, 0, 0, 0, 0, 0, 0, 0, 0, 0, 0, 0, 0, 0, 0, 0, 0, 0, 0, 0, 0, 0, 0, 0, 0, 0, 0, 0, 0, 0, 0, 0, 0, 0, 0, 0, 0, 0, 0, 0, 0, 0, 0, 0, 0, 0, 0, 0, 0, 0, 0, 0, 0, 0, 0, 0, 0, 0, 0, 0, 0, 0, 0, 0, 0, 0, 0, 0, 0, 0, 0, 0, 0, 0, 0, 0, 0, 0, 0, 0, 0, 0, 0, 0, 0, 0, 0, 0, 0, 0, 0, 0, 0, 0, 0, 0, 0, 0, 0, 0, 0, 0, 0, 0, 0, 0, 0, 0, 0, 0, 0, 0, 0, 0, 0, 0, 0, 0, 0, 0, 0, 0, 0, 0, 0, 0, 0, 0, 0, 0, 0, 0, 0, 0, 0, 0, 0, 0, 0, 0, 0, 0, 0, 0, 0, 0, 1, 0, 0, 0, 0, 0, 0, 0, 0, 0, 0, 0, 0, 0, 0, 0, 0, 0, 0, 0, 0, 0, 0, 0, 0, 0, 0, 0, 0, 0, 1, 0, 0, 0, 0, 0, 0, 0, 0, 0, 0, 0, 0, 0, 0, 0, 0, 0, 0, 0, 0, 0, 0, 0, 0, 0, 0, 0, 0, 0, 0, 0, 0, 0, 0, 0, 0, 0, 0, 0, 0, 0, 0, 0, 0, 0, 0, 0, 0, 0, 0, 0, 0, 0, 0, 0, 0, 0, 0, 0, 0, 0, 0, 0, 0, 0, 0, 0, 0, 0, 0, 0, 0, 0, 0, 0, 0, 0, 0, 0, 0, 0, 0, 0, 0, 0, 0, 0, 0, 0, 0, 0, 0, 0, 0, 0, 0, 0, 0, 0, 0, 0, 0, 0, 0, 0, 0, 0, 0, 0, 0, 0, 0, 0, 0, 0, 0, 0, 0, 0, 0, 0, 0, 0, 0, 0, 0, 0, 0, 0, 0, 0, 0, 0, 0, 0, 0, 0, 0, 0, 0, 0, 0, 0, 0, 0, 0, 0, 0, 0, 0, 0, 0, 0, 0, 0, 0, 0, 0, 0, 0, 0, 0, 0, 0, 0, 0, 0, 0, 0, 0, 0, 0, 0, 0, 0, 0, 0, 0, 0, 0, 0, 0, 0, 0, 0, 0, 0, 0, 0, 0, 0, 0, 0, 0, 0, 0, 0, 0, 0, 0, 0, 0, 0, 0, 0, 0, 0, 0, 0, 0, 0, 0, 0, 0, 0, 0, 0, 0, 0, 0, 0, 0, 0, 0, 0, 0, 0, 0, 0, 0, 0, 0, 0, 0, 0, 0, 0, 0, 0, 0, 0, 0, 0, 0, 0, 0, 0, 0, 0, 0, 0, 0, 0, 0, 0, 0, 0, 0, 0, 0, 0, 0, 0, 0, 0, 0, 0, 0, 0, 0, 0, 0, 0, 0, 0, 0, 0, 0, 0, 0, 0, 0, 0, 0, 0, 0, 0, 0, 0, 0, 0, 0, 0, 0, 0, 0, 0, 0, 0, 0, 0, 0, 0, 0, 0, 0, 0, 0, 0, 0, 0, 0, 0, 0, 0, 0, 0, 0, 0, 0, 0, 0, 0, 0, 0, 0, 0, 0, 0, 0, 0, 0, 0, 0, 0, 0, 0, 0, 0, 0, 0, 0, 0, 0, 0, 0, 0, 0, 0, 0, 0, 0, 0, 0, 0, 0, 0, 0, 0, 0, 0, 0, 0, 0, 0, 0, 0, 0, 0, 0, 0, 0, 0, 0, 0, 0, 0, 0, 0, 1, 0, 0, 0, 0, 0, 0, 0, 0, 0, 0, 0, 0, 0, 0, 0, 0, 0, 0, 0, 0, 0, 0, 0, 0, 0, 0, 0, 0, 0, 0, 0, 0, 0, 0, 0, 0, 0, 0, 0, 0, 0, 0, 0, 0, 0, 0, 0, 0, 0, 0, 0, 0, 0, 0, 0, 0, 0, 0, 0, 0, 0, 0, 0, 0, 0, 0, 0, 0, 0, 0, 0, 0, 0, 0, 0, 0, 0, 0, 0, 0, 0, 0, 0, 0, 0, 0, 0, 0, 0, 0, 0, 0, 0, 0, 0, 0, 0, 0, 0, 0, 0, 0, 0, 0, 0, 0, 0, 0, 0, 0, 0, 0, 0, 0, 0, 0, 0, 0, 0, 0, 0, 0, 0, 0, 0, 0, 0, 0, 0, 0, 0, 0, 0, 0, 0, 0, 0, 0, 0, 0, 0, 0, 0, 0, 0, 0, 0, 0, 0, 0, 0, 0, 0, 0, 0, 0, 0, 0, 0, 0, 0, 0, 0, 0, 0, 0, 0, 0, 0, 0, 0, 0, 0, 0, 0, 0, 0, 0, 0, 0, 0, 0, 0, 0, 0, 0, 0, 0, 0, 0, 0, 0, 0, 0, 0, 0, 0, 0, 0, 0, 0, 0, 0, 0, 0, 0, 0, 0, 0, 0, 0, 0, 0, 0, 0, 0, 0, 0, 0, 0, 0, 0, 0, 0, 0, 0, 0, 0, 0, 0, 0, 0, 0, 0, 0, 0, 0, 0, 0, 0, 0, 0, 0, 0, 0, 0, 0, 0, 0, 0, 0, 0, 0, 1, 0, 0, 0, 0, 0, 0, 0, 0, 0, 0, 0, 0, 0, 0, 0, 0, 0, 0, 0, 0, 0, 0, 0, 0, 0, 0, 0, 0, 0, 0, 0, 0, 0, 0, 0, 0, 0, 0, 0, 0, 0, 0, 0, 0, 0, 0, 0, 0, 0, 0, 0, 0, 0, 0, 0, 0, 0, 0, 0, 0, 0, 0, 0, 0, 0, 0, 0, 0, 0, 0, 0, 0, 0, 0, 0, 0, 0, 0, 0, 0, 0, 0, 0, 0, 0, 0, 1, 0, 0, 0, 0, 0, 0, 0, 0, 0, 0, 0, 0, 0, 0, 0, 0, 0, 0, 0, 0, 0, 0, 0, 0, 0, 0, 0, 0, 0, 0, 0, 0, 0, 0, 0, 0, 0, 0, 0, 0, 0, 0, 0, 0, 0, 0, 0, 0, 0, 0, 0, 0, 0, 0, 0, 0, 0, 0, 0, 0, 0, 0, 0, 0, 0, 0, 0, 0, 0, 0, 0, 0, 0, 0, 0, 0, 0, 0, 0, 0, 0, 0, 0, 0, 0, 0, 0, 0, 0, 0, 0, 0, 0, 0, 0, 0, 0, 0, 0, 0, 0, 0, 0, 0, 0, 0, 0, 0, 0, 0, 0, 0, 0, 0, 0, 0, 0, 0, 0, 0, 0, 0, 0, 0, 0, 0, 0, 0, 0, 0, 0, 0, 0, 0, 0, 0, 0, 0, 0, 0, 0, 0, 0, 0, 0, 0, 0, 0, 0, 0, 0, 0, 0, 0, 0, 0, 0, 0, 0, 0, 0, 0, 0, 0, 0, 0, 0, 0, 0, 0, 0, 0, 0, 0, 0, 0, 0, 0, 0, 0, 0, 0, 0, 0, 0, 0, 0, 0, 0, 0, 0, 0, 0, 0, 0, 0, 0, 0, 0, 0, 0, 0, 0, 0, 0, 0, 0, 0, 0, 0, 0, 0, 0, 0, 0, 0, 0, 0, 0, 0, 0, 0, 0, 0, 0, 0, 0, 0, 0, 0, 0, 0, 0, 0, 0, 0, 0, 0, 0, 0, 0, 0, 0, 0, 0, 0, 0, 0, 0, 0, 0, 0, 1, 0, 0, 0, 0, 0, 0, 0, 0, 0, 0, 0, 0, 0, 0, 0, 0, 0, 0, 0, 0, 0, 0, 0, 0, 0, 0, 0, 0, 0, 0, 0, 0, 0, 0, 0, 0, 0, 0, 0, 0, 0, 0, 0, 0, 0, 0, 0, 0, 0, 0, 0, 0, 0, 0, 0, 1, 0, 0, 0, 0, 0, 0, 0, 0, 0, 0, 0, 0, 0, 0, 0, 0, 0, 0, 0, 0, 0, 0, 0, 0, 0, 0, 0, 0, 0, 0, 0, 0, 0, 0, 0, 0, 0, 0, 0, 0, 0, 0, 0, 0, 0, 0, 0, 0, 0, 0, 0, 0, 0, 0, 0, 0, 0, 0, 0, 0, 0, 0, 0, 0, 0, 0, 0, 0, 0, 0, 0, 0, 0, 0, 0, 0, 0, 0, 0, 0, 0, 0, 0, 0, 0, 0, 0, 0, 0, 0, 0, 0, 0, 0, 0, 0, 0, 0, 0, 0, 0, 0, 0, 0, 0, 0, 0, 0, 0, 0, 0, 0, 0, 0, 0, 0, 0, 0, 0, 0, 0, 0, 0, 0, 0, 0, 0, 0, 0, 0, 0, 0, 0, 0, 0, 0, 0, 0, 0, 0, 0, 0, 0, 0, 0, 0, 0, 0, 0, 0, 0, 0, 0, 0, 0, 0, 0, 0, 0, 0, 0, 0, 0, 0, 0, 0, 0, 0, 0, 0, 0, 0, 0, 0, 0, 0, 0, 0, 0, 0, 0, 0, 0, 0, 0, 0, 0, 0, 0, 0, 0, 0, 0, 0, 0, 0, 0, 0, 0, 0, 0, 0, 0, 0, 0, 0, 0, 0, 0, 0, 0, 0, 0, 0, 0, 0, 0, 0, 0, 0, 0, 0, 0, 0, 0, 0, 0, 0, 0, 0, 0, 0, 0, 0, 0, 0, 0, 0, 0, 0, 0, 0, 0, 0, 0, 0, 0, 0, 0, 0, 0, 0, 0, 0, 0, 0, 0, 0, 0, 0, 0, 0, 0, 0, 0, 0, 0, 0, 0, 0, 0, 0, 0, 0, 0, 0, 0, 0, 0, 0, 0, 0, 0, 0, 0, 0, 0, 0, 0, 0, 0, 0, 0, 0, 0, 0, 0, 0, 0, 0, 0, 0, 0, 0, 0, 0, 0, 0, 0, 0, 0, 0, 0, 0, 0, 0, 0, 0, 0, 0, 0, 0, 0, 0, 0, 0, 0, 0, 0, 0, 0, 0, 0, 0, 0, 0, 0, 0, 0, 0, 0, 0, 0, 0, 0, 0, 0, 0, 0, 0, 0, 0, 0, 0, 0, 0, 0, 0, 0, 0, 0, 0, 0, 0, 0, 0, 0, 0, 0, 0, 0, 0, 0, 0, 0, 0, 0, 0, 0, 0, 0, 0, 0, 0, 0, 0, 0, 0, 0, 0, 0, 0, 0, 0, 0, 0, 0, 0, 0, 0, 0, 0, 0, 0, 0, 0, 0, 0, 0, 0, 0, 0, 0, 0, 0, 0, 0, 0, 0, 0, 0, 0, 0, 0, 0, 0, 0, 0, 0, 0, 0, 0, 0, 0, 0, 0, 0, 0, 0, 0, 0, 0, 0, 0, 0, 0, 0, 0, 0, 0, 0, 0, 0, 0, 0, 0, 0, 0, 0, 0, 0, 0, 0, 0, 0, 0, 0, 0, 0, 0, 0, 0, 0, 0, 0, 0, 0, 0, 0, 0, 0, 0, 0, 0, 0, 0, 0, 0, 0, 0, 0, 0, 0, 0, 0, 0, 0, 0, 0, 0, 0, 0, 0, 0, 0, 0, 0, 0, 0, 0, 0, 0, 0, 0, 0, 0, 0, 0, 0, 0, 0, 0, 0, 0, 0, 0, 0, 0, 0, 0, 0, 0, 0, 0, 0, 0, 0, 0, 0, 0, 0, 0, 0, 0, 0, 0, 0, 0, 0, 0, 0, 0, 0, 0, 0, 0, 0, 0, 0, 0, 0, 0, 0, 0, 0, 0, 0, 0, 0, 0, 0, 0, 0, 0, 0, 0, 0, 0, 0, 0, 0, 0, 0, 0, 0, 0, 0, 0, 0, 0, 0, 0, 0, 0, 0, 0, 0, 0, 0, 0, 0, 0, 0, 0, 0, 0, 0, 0, 0, 0, 0, 0, 0, 0, 0, 0, 0, 0, 0, 0, 0, 0, 0, 0, 0, 0, 0, 0, 0, 0, 0, 0, 0, 0, 0, 0, 0, 0, 0, 0, 0, 0, 0, 0, 0, 0, 0, 0, 0, 0, 0, 0, 0, 0, 0, 0, 0, 0, 0, 0, 0, 0, 0, 0, 0, 0, 0, 0, 0, 0, 0, 0, 0, 0, 0, 0, 0, 0, 0, 0, 0, 1, 0, 0, 0, 0, 0, 0, 0, 0, 0, 0, 0, 0, 0, 0, 0, 0, 0, 0, 0, 0, 0, 0, 0, 0, 0, 0, 0, 0, 0, 0, 0, 0, 0, 0, 0, 0, 0, 0, 0, 0, 0, 0, 0, 0, 0, 0, 0, 0, 0, 0, 0, 0, 0, 0, 0, 0, 0, 0, 0, 0, 0, 0, 0, 0, 0, 0, 0, 0, 0, 0, 0, 0, 0, 0, 1, 0, 0, 0, 0, 0, 0, 0, 0, 0, 0, 0, 0, 0, 0, 0, 0, 0, 0, 0, 0, 1, 0, 0, 1, 0, 0, 0, 0, 0, 0, 0, 0, 0, 0, 0, 0, 0, 0, 0, 0, 0, 0, 0, 0, 0, 0, 0, 0, 0, 0, 0, 0, 0, 0, 0, 0, 0, 0, 0, 0, 0, 0, 0, 0, 0, 0, 0, 0, 0, 0, 0, 0, 0, 0, 0, 0, 0, 0, 0, 0, 0, 0, 0, 0, 0, 0, 0, 0, 0, 0, 0, 0, 0, 0, 0, 0, 0, 0, 0, 0, 0, 0, 0, 0, 0, 0, 0, 0, 0, 0, 0, 0, 0, 0, 0, 0, 0, 0, 0, 0, 0, 0, 0, 0, 0, 0, 0, 0, 0, 0, 0, 0, 0, 0, 0, 0, 0, 0, 0, 0, 0, 0, 0, 0, 0, 0, 0, 0, 0, 0, 0, 0, 0, 0, 0, 0, 0, 0, 0, 0, 0, 0, 0, 0, 0, 0, 0, 0, 0, 0, 0, 0, 0, 0, 0, 0, 0, 0, 0, 0, 0, 0, 0, 0, 0, 0, 0, 0, 0, 0, 0, 0, 0, 0, 0, 0, 0, 0, 0, 0, 0, 0, 0, 0, 0, 0, 0, 0, 0, 0, 0, 0, 0, 0, 0, 0, 0, 0, 0, 0, 0, 0, 0, 0, 0, 0, 0, 0, 0, 0, 0, 0, 0, 0, 0, 0, 0, 0, 0, 0, 0, 0, 0, 0, 0, 0, 0, 0, 0, 0, 0, 0, 0, 0, 0, 0, 0, 0, 0, 0, 0, 0, 0, 0, 0, 0, 0, 0, 0, 0, 0, 0, 0, 0, 0, 0, 0, 0, 0, 0, 0, 0, 0, 0, 0, 0, 0, 0, 0, 0, 0, 0, 0, 0, 0, 0, 0, 0, 0, 0, 0, 0, 0, 0, 0, 0, 0, 0, 0, 0, 0, 0, 0, 0, 0, 0, 0, 0, 0, 0, 0, 0, 0, 0, 0, 0, 0, 0, 0, 0, 0, 0, 0, 0, 0, 0, 0, 0, 0, 0, 0, 0, 0, 0, 0, 0, 0, 0, 0, 0, 0, 0, 0, 0, 0, 0, 0, 0, 0, 0, 0, 0, 0, 0, 0, 0, 0, 0, 0, 0, 0, 0, 0, 0, 0, 0, 0, 0, 0, 0, 0, 0, 0, 0, 0, 0, 0, 0, 0, 0, 0, 0, 0, 0, 0, 0, 0, 0, 0, 0, 0, 0, 0, 0, 0, 0, 0, 0, 0, 0, 0, 0, 0, 0, 0, 0, 0, 0, 0, 0, 0, 0, 0, 0, 0, 0, 0, 0, 0, 0, 0, 0, 0, 0, 0, 0, 0, 0, 0, 0, 0, 0, 0, 0, 0, 0, 0, 0, 0, 0, 0, 0, 0, 0, 0, 0, 0, 0, 0, 0, 0, 0, 0, 0, 0, 0, 0, 0, 0, 0, 0, 0, 0, 0, 0, 0, 0, 0, 0, 0, 0, 0, 0, 0, 0, 0, 0, 0, 0, 0, 1, 0, 0, 0, 0, 0, 0, 0, 0, 0, 0, 0, 0, 0, 0, 0, 0, 0, 0, 0, 0, 0, 0, 0, 0, 0, 0, 0, 0, 0, 0, 0, 0, 0, 0, 0, 0, 0, 0, 0, 0, 0, 0, 0, 0, 0, 0, 0, 0, 0, 0, 0, 0, 0, 0, 0, 0, 0, 0, 0, 0, 0, 0, 0, 0, 0, 0, 0, 0, 0, 0, 0, 0, 0, 0, 0, 0, 0, 0, 0, 0, 0, 0, 0, 0, 0, 0, 0, 0, 0, 0, 0, 0, 0, 0, 0, 0, 0, 0, 0, 0, 0, 0, 0, 0, 0, 0, 0, 0, 0, 0, 0, 0, 0, 0, 0, 0, 0, 0, 0, 0, 0, 0, 0, 0, 0, 0, 0, 0, 0, 0, 0, 0, 0, 0, 0, 0, 0, 0, 0, 0, 0, 0, 0, 0, 0, 0, 0, 0, 0, 0, 0, 0, 0, 0, 0, 0, 0, 0, 0, 0, 0, 0, 0, 0, 0, 0, 0, 0, 0, 0, 0, 0, 0, 0, 0, 0, 0, 0, 0, 0, 0, 0, 0, 0, 0, 0, 0, 0, 0, 0, 0, 0, 0, 0, 0, 0, 0, 0, 0, 0, 0, 0, 0, 0, 0, 0, 0, 0, 0, 0, 0, 0, 0, 0, 0, 0, 0, 0, 0, 0, 0, 0, 0, 0, 0, 0, 0, 0, 0, 0, 0, 0, 0, 0, 0, 0, 0, 0, 0, 0, 0, 0, 0, 0, 0, 0, 0, 0, 0, 0, 0, 0, 0, 0, 0, 0, 0, 0, 0, 0, 0, 0, 0, 0, 0, 0, 0, 0, 0, 0, 0, 0, 0, 0, 0, 0, 0, 0, 0, 0, 0, 0, 0, 0, 0, 0, 0, 0, 0, 0, 0, 0, 0, 0, 0, 0, 0, 0, 0, 0, 0, 0, 0, 0, 0, 0, 0, 0, 0, 0, 0, 0, 0, 0, 0, 0, 0, 0, 0, 0, 0, 0, 0, 0, 0, 0, 0, 0, 0, 0, 0, 0, 0, 0, 0, 0, 0, 0, 0, 0, 0, 0, 0, 0, 0, 0, 0, 0, 0, 0, 0, 0, 0, 0, 0, 0, 0, 0, 0, 0, 0, 0, 0, 0, 0, 0, 0, 0, 0, 0, 0, 0, 0, 0, 0, 0, 0, 0, 0, 0, 0, 0, 0, 0, 0, 0, 0, 0, 0, 0, 0, 0, 0, 0, 0, 0, 0, 0, 0, 0, 0, 0, 0, 0, 0, 0, 0, 0, 0, 0, 0, 0, 0, 0, 0, 0, 0, 0, 0, 0, 0, 0, 0, 0, 0, 0, 0, 0, 0, 0, 0, 0, 0, 0, 0, 0, 0, 0, 0, 0, 0, 0, 0, 0, 0, 0, 0, 0, 0, 0, 0, 0, 0, 0, 0, 0, 0, 0, 0, 0, 0, 0, 0, 0, 0, 0, 0, 0, 0, 0, 0, 0, 0, 0, 0, 0, 0, 0, 0, 0, 0, 0, 0, 0, 0, 0, 0, 0, 0, 0, 0, 0, 0, 0, 0, 0, 0, 0, 0, 0, 0, 0, 0, 0, 0, 0, 0, 0, 0, 0, 0, 0, 1, 0, 0, 0, 0, 0, 0, 0, 0, 0, 0, 0, 0, 0, 0, 0, 0, 0, 0, 0, 0, 0, 0, 0, 0, 0, 0, 0, 0, 0, 0, 0, 0, 0, 0, 0, 2, 0, 0, 0, 0, 0, 0, 0, 0, 0, 0, 0, 0, 0, 0, 0, 0, 0, 0, 0, 0, 0, 0, 0, 0, 0, 0, 0, 0, 0, 0, 0, 0, 0, 0, 0, 0, 0, 0, 0, 0, 1, 0, 0, 0, 0, 0, 0, 0, 0, 0, 0, 0, 0, 0, 0, 0, 0, 0, 0, 0, 0, 0, 0, 0, 0, 0, 0, 0, 0, 0, 0, 0, 0, 0, 0, 0, 0, 0, 0, 0, 0, 0, 0, 0, 0, 0, 0, 0, 0, 0, 0, 0, 0, 0, 0, 0, 0, 0, 0, 0, 0, 0, 0, 0, 0, 0, 0, 0, 0, 0, 0, 0, 0, 0, 0, 0, 0, 0, 0, 0, 0, 0, 0, 0, 0, 0, 0, 0, 0, 0, 0, 0, 0, 0, 0, 0, 0, 0, 0, 0, 0, 0, 0, 0, 0, 0, 0, 0, 0, 0, 0, 0, 0, 0, 0, 0, 0, 0, 0, 0, 0, 0, 0, 0, 0, 0, 0, 0, 0, 0, 0, 0, 0, 0, 0, 0, 0, 0, 0, 0, 0, 0, 0, 0, 0, 0, 0, 0, 0, 0, 0, 0, 0, 0, 0, 0, 0, 0, 0, 0, 0, 0, 0, 0, 0, 0, 0, 0, 0, 0, 0, 0, 0, 0, 0, 0, 0, 0, 0, 0, 0, 0, 0, 0, 0, 0, 0, 0, 0, 0, 0, 0, 0, 0, 0, 0, 0, 0, 0, 0, 0, 0, 0, 0, 0, 0, 0, 0, 0, 0, 0, 0, 0, 0, 0, 0, 0, 0, 0, 0, 0, 0, 0, 0, 0, 0, 0, 0, 0, 0, 0, 0, 0, 0, 0, 0, 0, 0, 0, 0, 0, 0, 0, 0, 0, 0, 0, 0, 0, 0, 0, 0, 0, 0, 0, 0, 0, 0, 0, 0, 0, 0, 0, 0, 0, 0, 0, 0, 0, 0, 0, 0, 0, 0, 0, 0, 0, 0, 0, 0, 0, 0, 0, 0, 0, 0, 0, 0, 0, 0, 0, 0, 0, 0, 0, 0, 0, 0, 0, 0, 0, 0, 0, 0, 0, 0, 0, 0, 0, 0, 0, 0, 0, 0, 0, 0, 0, 0, 0, 0, 0, 0, 0, 0, 0, 0, 0, 0, 0, 0, 0, 0, 0, 0, 0, 0, 0, 0, 0, 0, 0, 0, 0, 0, 0, 0, 0, 0, 0, 0, 0, 0, 0, 0, 0, 0, 0, 0, 0, 0, 0, 0, 0, 0, 0, 0, 0, 0, 0, 0, 0, 0, 0, 0, 0, 0, 0, 0, 0, 0, 0, 0, 0, 0, 0, 0, 0, 0, 0, 0, 0, 0, 0, 0, 0, 0, 0, 0, 0, 0, 0, 0, 0, 0, 0, 0, 0, 0, 0, 0, 0, 0, 0, 0, 0, 0, 0, 0, 0, 0, 0, 0, 0, 0, 0, 0, 0, 0, 0, 0, 0, 0, 0, 0, 0, 0, 0, 0, 0, 0, 0, 0, 0, 0, 0, 0, 0, 0, 0, 0, 0, 0, 0, 0, 0, 0, 0, 0, 0, 0, 0, 0, 0, 0, 0, 0, 0, 0, 0, 0, 0, 0, 0, 0, 0, 0, 0, 0, 0, 0, 0, 0, 0, 0, 0, 0, 0, 0, 0, 0, 0, 0, 0, 0, 0, 0, 0, 0, 1, 0, 0, 0, 0, 0, 0, 0, 0, 0, 0, 0, 0, 0, 0, 0, 0, 0, 0, 0, 0, 0, 0, 0, 0, 0, 0, 0, 0, 0, 0, 0, 0, 0, 0, 0, 0, 0, 0, 0, 0, 0, 0, 0, 0, 0, 0, 0, 0, 0, 0, 0, 0, 0, 0, 0, 0, 0, 0, 0, 0, 0, 0, 0, 0, 0, 0, 0, 0, 0, 0, 0, 0, 0, 0, 0, 0, 0, 0, 0, 0, 0, 0, 0, 0, 0, 0, 0, 0, 0, 0, 0, 0, 0, 0, 0, 0, 0, 0, 0, 0, 0, 0, 0, 0, 0, 0, 0, 0, 0, 0, 2, 0, 0, 0, 0, 0, 0, 0, 0, 0, 0, 0, 0, 0, 0, 0, 0, 0, 0, 0, 0, 0, 0, 0, 0, 0, 0, 0, 0, 0, 0, 0, 0, 0, 0, 0, 0, 0, 0, 0, 0, 0, 0, 0, 0, 0, 0, 0, 0, 0, 0, 0, 0, 0, 0, 0, 0, 0, 0, 0, 0, 0, 0, 0, 0, 0, 0, 0, 0, 0, 0, 0, 0, 0, 0, 0, 0, 0, 0, 0, 0, 0, 0, 0, 0, 0, 0, 0, 0, 0, 0, 0, 0, 0, 0, 0, 0, 0, 0, 0, 0, 0, 0, 0, 0, 0, 0, 0, 0, 0, 0, 0, 0, 0, 0, 0, 0, 0, 0, 0, 0, 0, 0, 0, 0, 0, 0, 0, 0, 0, 0, 0, 0, 0, 0, 0, 0, 0, 0, 0, 0, 0, 0, 0, 0, 0, 0, 0, 0, 0, 0, 0, 0, 0, 0, 0, 0, 0, 0, 0, 0, 0, 0, 0, 0, 0, 0, 0, 0, 0, 0, 0, 0, 0, 0, 0, 0, 0, 0, 0, 0, 0, 0, 0, 0, 0, 0, 0, 0, 0, 0, 0, 0, 0, 0, 0, 0, 0, 0, 0, 0, 0, 0, 0, 0, 0, 0, 0, 0, 0, 0, 0, 0, 0, 0, 0, 0, 0, 0, 0, 0, 0, 0, 0, 0, 0, 0, 0, 0, 0, 0, 0, 0, 0, 0, 0, 0, 0, 0, 0, 0, 0, 0, 0, 0, 0, 0, 0, 0, 0, 0, 0, 0, 0, 0, 0, 0, 0, 0, 0, 0, 0, 0, 0, 0, 0, 0, 0, 0, 0, 0, 0, 0, 0, 0, 0, 0, 0, 0, 0, 0, 0, 0, 0, 0, 0, 0, 0, 0, 0, 0, 0, 0, 0, 0, 0, 0, 0, 0, 0, 0, 0, 0, 0, 0, 0, 0, 0, 0, 0, 0, 0, 0, 0, 0, 0, 0, 0, 0, 0, 0, 0, 0, 0, 0, 0, 0, 0, 0, 0, 0, 0, 0, 0, 0, 0, 0, 0, 0, 0, 0, 0, 0, 0, 0, 0, 0, 0, 0, 0, 0, 0, 0, 0, 0, 0, 0, 0, 0, 0, 0, 0, 0, 0, 0, 0, 0, 0, 0, 0, 0, 0, 0, 0, 0, 0, 0, 0, 0, 0, 0, 0, 0, 0, 0, 0, 0, 0, 0, 0, 0, 0, 0, 0, 0, 0, 0, 0, 0, 0, 0, 0, 0, 0, 0, 0, 0, 0, 0, 0, 0, 0, 0, 0, 0, 0, 0, 0, 0, 0, 0, 0, 0, 0, 0, 0, 0, 0, 0, 0, 0, 0, 0, 0, 0, 0, 0, 0, 0, 0, 0, 0, 0, 0, 0, 0, 0, 0, 0, 0, 0, 0, 0, 0, 0, 0, 0, 0, 0, 0, 0, 0, 0, 0, 0, 0, 0, 0, 0, 0, 0, 0, 0, 0, 0, 0, 0, 0, 0, 0, 0, 0, 0, 0, 0, 0, 0, 0, 0, 0, 0, 0, 0, 0, 0, 0, 0, 0, 0, 0, 0, 0, 0, 0, 0, 0, 0, 0, 0, 0, 0, 0, 0, 0, 0, 0, 0, 0, 0, 0, 0, 0, 0, 0, 0, 0, 0, 0, 0, 0, 0, 0, 0, 0, 0, 0, 0, 0, 0, 0, 0, 0, 0, 0, 0, 0, 0, 0, 0, 0, 0, 0, 0, 0, 0, 0, 0, 0, 0, 0, 0, 0, 0, 0, 0, 0, 0, 0, 0, 0, 0, 0, 0, 0, 0, 0, 0, 0, 0, 0, 0, 0, 0, 0, 0, 0, 0, 0, 0, 0, 0, 0, 0, 0, 0, 0, 0, 0, 0, 0, 0, 0, 0, 0, 0, 0, 0, 0, 0, 0, 0, 0, 0, 0, 0, 0, 0, 0, 0, 0, 0, 0, 0, 0, 0, 0, 0, 0, 0, 0, 0, 0, 0, 0, 0, 0, 0, 0, 0, 0, 0, 0, 0, 0, 0, 0, 0, 0, 0, 0, 0, 0, 0, 0, 0, 0, 0, 0, 0, 0, 0, 0, 0, 0, 0, 0, 0, 0, 0, 0, 0, 0, 0, 0, 0, 0, 0, 0, 0, 0, 0, 0, 0, 0, 0, 0, 0, 0, 0, 0, 0, 1, 0, 0, 0, 0, 0, 0, 0, 0, 0, 0, 0, 0, 0, 0, 0, 0, 0, 0, 0, 0, 0, 0, 0, 0, 0, 0, 0, 0, 0, 0, 0, 0, 0, 0, 0, 0, 0, 0, 0, 0, 0, 0, 0, 0, 0, 0, 0, 0, 0, 0, 0, 0, 0, 0, 0, 0, 0, 0, 0, 0, 0, 0, 0, 0, 0, 0, 0, 0, 0, 0, 0, 0, 0, 0, 0, 0, 0, 0, 0, 0, 0, 0, 0, 0, 0, 0, 0, 0, 0, 0, 0, 0, 0, 0, 0, 0, 0, 0, 0, 0, 0, 0, 0, 0, 0, 0, 0, 1, 0, 0, 0, 0, 0, 0, 0, 0, 0, 0, 0, 0, 0, 0, 0, 0, 0, 0, 0, 0, 0, 0, 0, 0, 0, 0, 0, 0, 0, 0, 0, 0, 0, 0, 0, 0, 0, 0, 0, 0, 0, 0, 0, 0, 0, 0, 0, 0, 0, 0, 0, 0, 0, 0, 0, 0, 0, 0, 0, 0, 0, 0, 0, 0, 0, 0, 0, 0, 0, 0, 0, 0, 0, 0, 0, 0, 0, 0, 0, 0, 0, 0, 0, 0, 0, 0, 0, 0, 0, 0, 0, 0, 0, 0, 0, 0, 0, 0, 0, 0, 0, 0, 0, 0, 0, 0, 0, 0, 0, 0, 0, 0, 0, 0, 0, 0, 0, 0, 0, 0, 0, 0, 0, 0, 0, 0, 0, 0, 0, 0, 0, 0, 0, 0, 0, 0, 0, 0, 0, 0, 0, 0, 0, 0, 0, 0, 0, 0, 0, 0, 0, 0, 0, 0, 0, 0, 0, 0, 0, 0, 0, 0, 0, 0, 0, 0, 0, 0, 0, 0, 0, 0, 0, 0, 0, 0, 0, 0, 0, 0, 0, 0, 0, 0, 0, 0, 0, 0, 0, 0, 0, 0, 0, 0, 0, 0, 0, 0, 0, 0, 0, 0, 0, 0, 0, 0, 0, 0, 0, 0, 0, 0, 0, 0, 0, 0, 0, 0, 0, 0, 0, 0, 0, 0, 0, 0, 0, 0, 0, 0, 0, 0, 0, 0, 0, 0, 0, 0, 0, 0, 0, 0, 0, 0, 0, 0, 0, 0, 0, 0, 0, 0, 0, 0, 0, 0, 0, 0, 0, 0, 0, 0, 0, 0, 0, 0, 0, 0, 0, 0, 0, 0, 0, 0, 0, 0, 0, 0, 0, 0, 0, 0, 0, 0, 0, 0, 0, 0, 0, 0, 0, 0, 0, 0, 0, 0, 0, 0, 0, 0, 0, 0, 0, 0, 0, 0, 0, 0, 0, 0, 0, 0, 0, 0, 0, 0, 0, 0, 0, 0, 0, 0, 0, 0, 0, 0, 0, 0, 0, 0, 0, 0, 0, 0, 0, 0, 0, 0, 0, 0, 0, 0, 0, 0, 0, 0, 0, 0, 0, 0, 0, 0, 0, 0, 0, 0, 0, 0, 0, 0, 0, 0, 0, 0, 0, 0, 0, 0, 0, 0, 0, 0, 0, 0, 0, 0, 0, 0, 0, 0, 0, 0, 0, 0, 0, 0, 0, 0, 0, 0, 0, 0, 0, 0, 0, 0, 0, 0, 0, 0, 0, 0, 0, 0, 0, 0, 0, 0, 0, 0, 0, 0, 0, 0, 0, 0, 0, 0, 0, 0, 0, 0, 0, 0, 0, 0, 0, 0, 0, 0, 0, 0, 0, 0, 0, 0, 0, 0, 0, 0, 0, 0, 0, 0, 0, 0, 0, 0, 0, 0, 0, 0, 0, 0, 0, 0, 0, 0, 0, 0, 0, 0, 0, 2, 0, 1, 0], type: <class 'list'>, valid types: <class 'bytes'>, <class 'bytearray'>, file-like object",
     "output_type": "error",
     "traceback": [
      "\u001b[0;31m---------------------------------------------------------------------------\u001b[0m",
      "\u001b[0;31mParamValidationError\u001b[0m                      Traceback (most recent call last)",
      "\u001b[0;32m<ipython-input-44-c9ab54ae3a48>\u001b[0m in \u001b[0;36m<module>\u001b[0;34m()\u001b[0m\n\u001b[1;32m      1\u001b[0m response = runtime.invoke_endpoint(EndpointName = xgb_predictor.endpoint, # The name of the endpoint we created\n\u001b[1;32m      2\u001b[0m                                        \u001b[0mContentType\u001b[0m \u001b[0;34m=\u001b[0m \u001b[0;34m'text/csv'\u001b[0m\u001b[0;34m,\u001b[0m                     \u001b[0;31m# The data format that is expected\u001b[0m\u001b[0;34m\u001b[0m\u001b[0m\n\u001b[0;32m----> 3\u001b[0;31m                                        Body = test_bow)\n\u001b[0m",
      "\u001b[0;32m~/anaconda3/envs/python3/lib/python3.6/site-packages/botocore/client.py\u001b[0m in \u001b[0;36m_api_call\u001b[0;34m(self, *args, **kwargs)\u001b[0m\n\u001b[1;32m    355\u001b[0m                     \"%s() only accepts keyword arguments.\" % py_operation_name)\n\u001b[1;32m    356\u001b[0m             \u001b[0;31m# The \"self\" in this scope is referring to the BaseClient.\u001b[0m\u001b[0;34m\u001b[0m\u001b[0;34m\u001b[0m\u001b[0m\n\u001b[0;32m--> 357\u001b[0;31m             \u001b[0;32mreturn\u001b[0m \u001b[0mself\u001b[0m\u001b[0;34m.\u001b[0m\u001b[0m_make_api_call\u001b[0m\u001b[0;34m(\u001b[0m\u001b[0moperation_name\u001b[0m\u001b[0;34m,\u001b[0m \u001b[0mkwargs\u001b[0m\u001b[0;34m)\u001b[0m\u001b[0;34m\u001b[0m\u001b[0m\n\u001b[0m\u001b[1;32m    358\u001b[0m \u001b[0;34m\u001b[0m\u001b[0m\n\u001b[1;32m    359\u001b[0m         \u001b[0m_api_call\u001b[0m\u001b[0;34m.\u001b[0m\u001b[0m__name__\u001b[0m \u001b[0;34m=\u001b[0m \u001b[0mstr\u001b[0m\u001b[0;34m(\u001b[0m\u001b[0mpy_operation_name\u001b[0m\u001b[0;34m)\u001b[0m\u001b[0;34m\u001b[0m\u001b[0m\n",
      "\u001b[0;32m~/anaconda3/envs/python3/lib/python3.6/site-packages/botocore/client.py\u001b[0m in \u001b[0;36m_make_api_call\u001b[0;34m(self, operation_name, api_params)\u001b[0m\n\u001b[1;32m    632\u001b[0m         }\n\u001b[1;32m    633\u001b[0m         request_dict = self._convert_to_request_dict(\n\u001b[0;32m--> 634\u001b[0;31m             api_params, operation_model, context=request_context)\n\u001b[0m\u001b[1;32m    635\u001b[0m \u001b[0;34m\u001b[0m\u001b[0m\n\u001b[1;32m    636\u001b[0m         \u001b[0mservice_id\u001b[0m \u001b[0;34m=\u001b[0m \u001b[0mself\u001b[0m\u001b[0;34m.\u001b[0m\u001b[0m_service_model\u001b[0m\u001b[0;34m.\u001b[0m\u001b[0mservice_id\u001b[0m\u001b[0;34m.\u001b[0m\u001b[0mhyphenize\u001b[0m\u001b[0;34m(\u001b[0m\u001b[0;34m)\u001b[0m\u001b[0;34m\u001b[0m\u001b[0m\n",
      "\u001b[0;32m~/anaconda3/envs/python3/lib/python3.6/site-packages/botocore/client.py\u001b[0m in \u001b[0;36m_convert_to_request_dict\u001b[0;34m(self, api_params, operation_model, context)\u001b[0m\n\u001b[1;32m    680\u001b[0m             api_params, operation_model, context)\n\u001b[1;32m    681\u001b[0m         request_dict = self._serializer.serialize_to_request(\n\u001b[0;32m--> 682\u001b[0;31m             api_params, operation_model)\n\u001b[0m\u001b[1;32m    683\u001b[0m         \u001b[0;32mif\u001b[0m \u001b[0;32mnot\u001b[0m \u001b[0mself\u001b[0m\u001b[0;34m.\u001b[0m\u001b[0m_client_config\u001b[0m\u001b[0;34m.\u001b[0m\u001b[0minject_host_prefix\u001b[0m\u001b[0;34m:\u001b[0m\u001b[0;34m\u001b[0m\u001b[0m\n\u001b[1;32m    684\u001b[0m             \u001b[0mrequest_dict\u001b[0m\u001b[0;34m.\u001b[0m\u001b[0mpop\u001b[0m\u001b[0;34m(\u001b[0m\u001b[0;34m'host_prefix'\u001b[0m\u001b[0;34m,\u001b[0m \u001b[0;32mNone\u001b[0m\u001b[0;34m)\u001b[0m\u001b[0;34m\u001b[0m\u001b[0m\n",
      "\u001b[0;32m~/anaconda3/envs/python3/lib/python3.6/site-packages/botocore/validate.py\u001b[0m in \u001b[0;36mserialize_to_request\u001b[0;34m(self, parameters, operation_model)\u001b[0m\n\u001b[1;32m    295\u001b[0m                                                     operation_model.input_shape)\n\u001b[1;32m    296\u001b[0m             \u001b[0;32mif\u001b[0m \u001b[0mreport\u001b[0m\u001b[0;34m.\u001b[0m\u001b[0mhas_errors\u001b[0m\u001b[0;34m(\u001b[0m\u001b[0;34m)\u001b[0m\u001b[0;34m:\u001b[0m\u001b[0;34m\u001b[0m\u001b[0m\n\u001b[0;32m--> 297\u001b[0;31m                 \u001b[0;32mraise\u001b[0m \u001b[0mParamValidationError\u001b[0m\u001b[0;34m(\u001b[0m\u001b[0mreport\u001b[0m\u001b[0;34m=\u001b[0m\u001b[0mreport\u001b[0m\u001b[0;34m.\u001b[0m\u001b[0mgenerate_report\u001b[0m\u001b[0;34m(\u001b[0m\u001b[0;34m)\u001b[0m\u001b[0;34m)\u001b[0m\u001b[0;34m\u001b[0m\u001b[0m\n\u001b[0m\u001b[1;32m    298\u001b[0m         return self._serializer.serialize_to_request(parameters,\n\u001b[1;32m    299\u001b[0m                                                      operation_model)\n",
      "\u001b[0;31mParamValidationError\u001b[0m: Parameter validation failed:\nInvalid type for parameter Body, value: [0, 0, 0, 0, 0, 0, 0, 0, 0, 0, 0, 0, 0, 0, 0, 0, 0, 0, 0, 0, 0, 0, 0, 0, 0, 0, 0, 0, 0, 0, 0, 0, 0, 0, 0, 0, 0, 0, 0, 0, 0, 0, 0, 0, 0, 0, 0, 0, 0, 0, 0, 0, 0, 0, 0, 0, 0, 0, 0, 0, 0, 0, 0, 0, 0, 0, 0, 0, 0, 0, 0, 0, 0, 0, 0, 0, 0, 0, 0, 0, 0, 0, 0, 0, 0, 0, 0, 0, 0, 0, 0, 0, 0, 0, 0, 0, 0, 0, 0, 0, 0, 0, 0, 0, 0, 0, 0, 0, 0, 0, 0, 0, 0, 0, 0, 0, 0, 0, 0, 0, 0, 0, 0, 0, 0, 0, 0, 0, 0, 0, 0, 0, 0, 0, 0, 0, 0, 0, 0, 0, 0, 0, 0, 0, 0, 0, 0, 0, 0, 0, 0, 0, 0, 0, 0, 0, 0, 0, 0, 0, 0, 0, 0, 0, 0, 0, 0, 0, 0, 0, 0, 0, 0, 0, 0, 0, 0, 0, 0, 0, 0, 0, 0, 0, 0, 0, 0, 0, 0, 0, 0, 0, 0, 0, 0, 0, 0, 0, 0, 0, 0, 0, 0, 0, 0, 0, 0, 0, 0, 0, 0, 0, 0, 0, 0, 0, 0, 0, 0, 0, 0, 0, 0, 0, 0, 0, 1, 0, 0, 0, 0, 0, 0, 0, 0, 0, 0, 0, 0, 0, 0, 0, 0, 0, 0, 0, 0, 0, 0, 0, 0, 0, 0, 0, 0, 0, 1, 0, 0, 0, 0, 0, 0, 0, 0, 0, 0, 0, 0, 0, 0, 0, 0, 0, 0, 0, 0, 0, 0, 0, 0, 0, 0, 0, 0, 0, 0, 0, 0, 0, 0, 0, 0, 0, 0, 0, 0, 0, 0, 0, 0, 0, 0, 0, 0, 0, 0, 0, 0, 0, 0, 0, 0, 0, 0, 0, 0, 0, 0, 0, 0, 0, 0, 0, 0, 0, 0, 0, 0, 0, 0, 0, 0, 0, 0, 0, 0, 0, 0, 0, 0, 0, 0, 0, 0, 0, 0, 0, 0, 0, 0, 0, 0, 0, 0, 0, 0, 0, 0, 0, 0, 0, 0, 0, 0, 0, 0, 0, 0, 0, 0, 0, 0, 0, 0, 0, 0, 0, 0, 0, 0, 0, 0, 0, 0, 0, 0, 0, 0, 0, 0, 0, 0, 0, 0, 0, 0, 0, 0, 0, 0, 0, 0, 0, 0, 0, 0, 0, 0, 0, 0, 0, 0, 0, 0, 0, 0, 0, 0, 0, 0, 0, 0, 0, 0, 0, 0, 0, 0, 0, 0, 0, 0, 0, 0, 0, 0, 0, 0, 0, 0, 0, 0, 0, 0, 0, 0, 0, 0, 0, 0, 0, 0, 0, 0, 0, 0, 0, 0, 0, 0, 0, 0, 0, 0, 0, 0, 0, 0, 0, 0, 0, 0, 0, 0, 0, 0, 0, 0, 0, 0, 0, 0, 0, 0, 0, 0, 0, 0, 0, 0, 0, 0, 0, 0, 0, 0, 0, 0, 0, 0, 0, 0, 0, 0, 0, 0, 0, 0, 0, 0, 0, 0, 0, 0, 0, 0, 0, 0, 0, 0, 0, 0, 0, 0, 0, 0, 0, 0, 0, 0, 0, 0, 0, 0, 0, 0, 0, 0, 0, 0, 0, 0, 0, 0, 0, 0, 0, 0, 0, 0, 0, 0, 0, 0, 0, 0, 0, 0, 0, 0, 0, 0, 0, 0, 0, 0, 0, 0, 0, 0, 0, 0, 0, 0, 0, 0, 0, 0, 0, 0, 0, 0, 0, 0, 0, 0, 0, 0, 0, 0, 0, 0, 0, 0, 0, 0, 0, 0, 0, 0, 0, 0, 0, 0, 0, 0, 0, 0, 0, 0, 0, 0, 0, 0, 0, 0, 0, 0, 0, 0, 0, 0, 0, 0, 0, 0, 0, 0, 0, 0, 0, 0, 0, 0, 0, 1, 0, 0, 0, 0, 0, 0, 0, 0, 0, 0, 0, 0, 0, 0, 0, 0, 0, 0, 0, 0, 0, 0, 0, 0, 0, 0, 0, 0, 0, 0, 0, 0, 0, 0, 0, 0, 0, 0, 0, 0, 0, 0, 0, 0, 0, 0, 0, 0, 0, 0, 0, 0, 0, 0, 0, 0, 0, 0, 0, 0, 0, 0, 0, 0, 0, 0, 0, 0, 0, 0, 0, 0, 0, 0, 0, 0, 0, 0, 0, 0, 0, 0, 0, 0, 0, 0, 0, 0, 0, 0, 0, 0, 0, 0, 0, 0, 0, 0, 0, 0, 0, 0, 0, 0, 0, 0, 0, 0, 0, 0, 0, 0, 0, 0, 0, 0, 0, 0, 0, 0, 0, 0, 0, 0, 0, 0, 0, 0, 0, 0, 0, 0, 0, 0, 0, 0, 0, 0, 0, 0, 0, 0, 0, 0, 0, 0, 0, 0, 0, 0, 0, 0, 0, 0, 0, 0, 0, 0, 0, 0, 0, 0, 0, 0, 0, 0, 0, 0, 0, 0, 0, 0, 0, 0, 0, 0, 0, 0, 0, 0, 0, 0, 0, 0, 0, 0, 0, 0, 0, 0, 0, 0, 0, 0, 0, 0, 0, 0, 0, 0, 0, 0, 0, 0, 0, 0, 0, 0, 0, 0, 0, 0, 0, 0, 0, 0, 0, 0, 0, 0, 0, 0, 0, 0, 0, 0, 0, 0, 0, 0, 0, 0, 0, 0, 0, 0, 0, 0, 0, 0, 0, 0, 0, 0, 0, 0, 0, 0, 0, 0, 0, 0, 0, 1, 0, 0, 0, 0, 0, 0, 0, 0, 0, 0, 0, 0, 0, 0, 0, 0, 0, 0, 0, 0, 0, 0, 0, 0, 0, 0, 0, 0, 0, 0, 0, 0, 0, 0, 0, 0, 0, 0, 0, 0, 0, 0, 0, 0, 0, 0, 0, 0, 0, 0, 0, 0, 0, 0, 0, 0, 0, 0, 0, 0, 0, 0, 0, 0, 0, 0, 0, 0, 0, 0, 0, 0, 0, 0, 0, 0, 0, 0, 0, 0, 0, 0, 0, 0, 0, 0, 1, 0, 0, 0, 0, 0, 0, 0, 0, 0, 0, 0, 0, 0, 0, 0, 0, 0, 0, 0, 0, 0, 0, 0, 0, 0, 0, 0, 0, 0, 0, 0, 0, 0, 0, 0, 0, 0, 0, 0, 0, 0, 0, 0, 0, 0, 0, 0, 0, 0, 0, 0, 0, 0, 0, 0, 0, 0, 0, 0, 0, 0, 0, 0, 0, 0, 0, 0, 0, 0, 0, 0, 0, 0, 0, 0, 0, 0, 0, 0, 0, 0, 0, 0, 0, 0, 0, 0, 0, 0, 0, 0, 0, 0, 0, 0, 0, 0, 0, 0, 0, 0, 0, 0, 0, 0, 0, 0, 0, 0, 0, 0, 0, 0, 0, 0, 0, 0, 0, 0, 0, 0, 0, 0, 0, 0, 0, 0, 0, 0, 0, 0, 0, 0, 0, 0, 0, 0, 0, 0, 0, 0, 0, 0, 0, 0, 0, 0, 0, 0, 0, 0, 0, 0, 0, 0, 0, 0, 0, 0, 0, 0, 0, 0, 0, 0, 0, 0, 0, 0, 0, 0, 0, 0, 0, 0, 0, 0, 0, 0, 0, 0, 0, 0, 0, 0, 0, 0, 0, 0, 0, 0, 0, 0, 0, 0, 0, 0, 0, 0, 0, 0, 0, 0, 0, 0, 0, 0, 0, 0, 0, 0, 0, 0, 0, 0, 0, 0, 0, 0, 0, 0, 0, 0, 0, 0, 0, 0, 0, 0, 0, 0, 0, 0, 0, 0, 0, 0, 0, 0, 0, 0, 0, 0, 0, 0, 0, 0, 0, 0, 0, 0, 0, 1, 0, 0, 0, 0, 0, 0, 0, 0, 0, 0, 0, 0, 0, 0, 0, 0, 0, 0, 0, 0, 0, 0, 0, 0, 0, 0, 0, 0, 0, 0, 0, 0, 0, 0, 0, 0, 0, 0, 0, 0, 0, 0, 0, 0, 0, 0, 0, 0, 0, 0, 0, 0, 0, 0, 0, 1, 0, 0, 0, 0, 0, 0, 0, 0, 0, 0, 0, 0, 0, 0, 0, 0, 0, 0, 0, 0, 0, 0, 0, 0, 0, 0, 0, 0, 0, 0, 0, 0, 0, 0, 0, 0, 0, 0, 0, 0, 0, 0, 0, 0, 0, 0, 0, 0, 0, 0, 0, 0, 0, 0, 0, 0, 0, 0, 0, 0, 0, 0, 0, 0, 0, 0, 0, 0, 0, 0, 0, 0, 0, 0, 0, 0, 0, 0, 0, 0, 0, 0, 0, 0, 0, 0, 0, 0, 0, 0, 0, 0, 0, 0, 0, 0, 0, 0, 0, 0, 0, 0, 0, 0, 0, 0, 0, 0, 0, 0, 0, 0, 0, 0, 0, 0, 0, 0, 0, 0, 0, 0, 0, 0, 0, 0, 0, 0, 0, 0, 0, 0, 0, 0, 0, 0, 0, 0, 0, 0, 0, 0, 0, 0, 0, 0, 0, 0, 0, 0, 0, 0, 0, 0, 0, 0, 0, 0, 0, 0, 0, 0, 0, 0, 0, 0, 0, 0, 0, 0, 0, 0, 0, 0, 0, 0, 0, 0, 0, 0, 0, 0, 0, 0, 0, 0, 0, 0, 0, 0, 0, 0, 0, 0, 0, 0, 0, 0, 0, 0, 0, 0, 0, 0, 0, 0, 0, 0, 0, 0, 0, 0, 0, 0, 0, 0, 0, 0, 0, 0, 0, 0, 0, 0, 0, 0, 0, 0, 0, 0, 0, 0, 0, 0, 0, 0, 0, 0, 0, 0, 0, 0, 0, 0, 0, 0, 0, 0, 0, 0, 0, 0, 0, 0, 0, 0, 0, 0, 0, 0, 0, 0, 0, 0, 0, 0, 0, 0, 0, 0, 0, 0, 0, 0, 0, 0, 0, 0, 0, 0, 0, 0, 0, 0, 0, 0, 0, 0, 0, 0, 0, 0, 0, 0, 0, 0, 0, 0, 0, 0, 0, 0, 0, 0, 0, 0, 0, 0, 0, 0, 0, 0, 0, 0, 0, 0, 0, 0, 0, 0, 0, 0, 0, 0, 0, 0, 0, 0, 0, 0, 0, 0, 0, 0, 0, 0, 0, 0, 0, 0, 0, 0, 0, 0, 0, 0, 0, 0, 0, 0, 0, 0, 0, 0, 0, 0, 0, 0, 0, 0, 0, 0, 0, 0, 0, 0, 0, 0, 0, 0, 0, 0, 0, 0, 0, 0, 0, 0, 0, 0, 0, 0, 0, 0, 0, 0, 0, 0, 0, 0, 0, 0, 0, 0, 0, 0, 0, 0, 0, 0, 0, 0, 0, 0, 0, 0, 0, 0, 0, 0, 0, 0, 0, 0, 0, 0, 0, 0, 0, 0, 0, 0, 0, 0, 0, 0, 0, 0, 0, 0, 0, 0, 0, 0, 0, 0, 0, 0, 0, 0, 0, 0, 0, 0, 0, 0, 0, 0, 0, 0, 0, 0, 0, 0, 0, 0, 0, 0, 0, 0, 0, 0, 0, 0, 0, 0, 0, 0, 0, 0, 0, 0, 0, 0, 0, 0, 0, 0, 0, 0, 0, 0, 0, 0, 0, 0, 0, 0, 0, 0, 0, 0, 0, 0, 0, 0, 0, 0, 0, 0, 0, 0, 0, 0, 0, 0, 0, 0, 0, 0, 0, 0, 0, 0, 0, 0, 0, 0, 0, 0, 0, 0, 0, 0, 0, 0, 0, 0, 0, 0, 0, 0, 0, 0, 0, 0, 0, 0, 0, 0, 0, 0, 0, 0, 0, 0, 0, 0, 0, 0, 0, 0, 0, 0, 0, 0, 0, 0, 0, 0, 0, 0, 0, 0, 0, 0, 0, 0, 0, 0, 0, 0, 0, 0, 0, 0, 0, 0, 0, 0, 0, 0, 0, 0, 0, 0, 0, 0, 0, 0, 0, 0, 0, 0, 0, 0, 0, 0, 0, 0, 0, 0, 0, 0, 0, 0, 0, 0, 0, 0, 0, 0, 0, 0, 0, 0, 0, 0, 0, 0, 0, 0, 0, 0, 0, 0, 0, 0, 0, 0, 0, 0, 0, 0, 0, 0, 0, 0, 0, 0, 0, 0, 0, 0, 0, 0, 0, 0, 0, 0, 0, 0, 0, 0, 0, 0, 0, 0, 0, 0, 0, 0, 0, 0, 0, 0, 0, 0, 0, 0, 0, 0, 0, 0, 0, 0, 0, 0, 0, 0, 0, 1, 0, 0, 0, 0, 0, 0, 0, 0, 0, 0, 0, 0, 0, 0, 0, 0, 0, 0, 0, 0, 0, 0, 0, 0, 0, 0, 0, 0, 0, 0, 0, 0, 0, 0, 0, 0, 0, 0, 0, 0, 0, 0, 0, 0, 0, 0, 0, 0, 0, 0, 0, 0, 0, 0, 0, 0, 0, 0, 0, 0, 0, 0, 0, 0, 0, 0, 0, 0, 0, 0, 0, 0, 0, 0, 1, 0, 0, 0, 0, 0, 0, 0, 0, 0, 0, 0, 0, 0, 0, 0, 0, 0, 0, 0, 0, 1, 0, 0, 1, 0, 0, 0, 0, 0, 0, 0, 0, 0, 0, 0, 0, 0, 0, 0, 0, 0, 0, 0, 0, 0, 0, 0, 0, 0, 0, 0, 0, 0, 0, 0, 0, 0, 0, 0, 0, 0, 0, 0, 0, 0, 0, 0, 0, 0, 0, 0, 0, 0, 0, 0, 0, 0, 0, 0, 0, 0, 0, 0, 0, 0, 0, 0, 0, 0, 0, 0, 0, 0, 0, 0, 0, 0, 0, 0, 0, 0, 0, 0, 0, 0, 0, 0, 0, 0, 0, 0, 0, 0, 0, 0, 0, 0, 0, 0, 0, 0, 0, 0, 0, 0, 0, 0, 0, 0, 0, 0, 0, 0, 0, 0, 0, 0, 0, 0, 0, 0, 0, 0, 0, 0, 0, 0, 0, 0, 0, 0, 0, 0, 0, 0, 0, 0, 0, 0, 0, 0, 0, 0, 0, 0, 0, 0, 0, 0, 0, 0, 0, 0, 0, 0, 0, 0, 0, 0, 0, 0, 0, 0, 0, 0, 0, 0, 0, 0, 0, 0, 0, 0, 0, 0, 0, 0, 0, 0, 0, 0, 0, 0, 0, 0, 0, 0, 0, 0, 0, 0, 0, 0, 0, 0, 0, 0, 0, 0, 0, 0, 0, 0, 0, 0, 0, 0, 0, 0, 0, 0, 0, 0, 0, 0, 0, 0, 0, 0, 0, 0, 0, 0, 0, 0, 0, 0, 0, 0, 0, 0, 0, 0, 0, 0, 0, 0, 0, 0, 0, 0, 0, 0, 0, 0, 0, 0, 0, 0, 0, 0, 0, 0, 0, 0, 0, 0, 0, 0, 0, 0, 0, 0, 0, 0, 0, 0, 0, 0, 0, 0, 0, 0, 0, 0, 0, 0, 0, 0, 0, 0, 0, 0, 0, 0, 0, 0, 0, 0, 0, 0, 0, 0, 0, 0, 0, 0, 0, 0, 0, 0, 0, 0, 0, 0, 0, 0, 0, 0, 0, 0, 0, 0, 0, 0, 0, 0, 0, 0, 0, 0, 0, 0, 0, 0, 0, 0, 0, 0, 0, 0, 0, 0, 0, 0, 0, 0, 0, 0, 0, 0, 0, 0, 0, 0, 0, 0, 0, 0, 0, 0, 0, 0, 0, 0, 0, 0, 0, 0, 0, 0, 0, 0, 0, 0, 0, 0, 0, 0, 0, 0, 0, 0, 0, 0, 0, 0, 0, 0, 0, 0, 0, 0, 0, 0, 0, 0, 0, 0, 0, 0, 0, 0, 0, 0, 0, 0, 0, 0, 0, 0, 0, 0, 0, 0, 0, 0, 0, 0, 0, 0, 0, 0, 0, 0, 0, 0, 0, 0, 0, 0, 0, 0, 0, 0, 0, 0, 0, 0, 0, 0, 0, 0, 0, 0, 0, 0, 0, 0, 0, 0, 0, 0, 0, 0, 0, 0, 0, 0, 0, 0, 0, 0, 0, 0, 0, 0, 0, 0, 0, 0, 0, 0, 0, 0, 0, 0, 0, 0, 0, 1, 0, 0, 0, 0, 0, 0, 0, 0, 0, 0, 0, 0, 0, 0, 0, 0, 0, 0, 0, 0, 0, 0, 0, 0, 0, 0, 0, 0, 0, 0, 0, 0, 0, 0, 0, 0, 0, 0, 0, 0, 0, 0, 0, 0, 0, 0, 0, 0, 0, 0, 0, 0, 0, 0, 0, 0, 0, 0, 0, 0, 0, 0, 0, 0, 0, 0, 0, 0, 0, 0, 0, 0, 0, 0, 0, 0, 0, 0, 0, 0, 0, 0, 0, 0, 0, 0, 0, 0, 0, 0, 0, 0, 0, 0, 0, 0, 0, 0, 0, 0, 0, 0, 0, 0, 0, 0, 0, 0, 0, 0, 0, 0, 0, 0, 0, 0, 0, 0, 0, 0, 0, 0, 0, 0, 0, 0, 0, 0, 0, 0, 0, 0, 0, 0, 0, 0, 0, 0, 0, 0, 0, 0, 0, 0, 0, 0, 0, 0, 0, 0, 0, 0, 0, 0, 0, 0, 0, 0, 0, 0, 0, 0, 0, 0, 0, 0, 0, 0, 0, 0, 0, 0, 0, 0, 0, 0, 0, 0, 0, 0, 0, 0, 0, 0, 0, 0, 0, 0, 0, 0, 0, 0, 0, 0, 0, 0, 0, 0, 0, 0, 0, 0, 0, 0, 0, 0, 0, 0, 0, 0, 0, 0, 0, 0, 0, 0, 0, 0, 0, 0, 0, 0, 0, 0, 0, 0, 0, 0, 0, 0, 0, 0, 0, 0, 0, 0, 0, 0, 0, 0, 0, 0, 0, 0, 0, 0, 0, 0, 0, 0, 0, 0, 0, 0, 0, 0, 0, 0, 0, 0, 0, 0, 0, 0, 0, 0, 0, 0, 0, 0, 0, 0, 0, 0, 0, 0, 0, 0, 0, 0, 0, 0, 0, 0, 0, 0, 0, 0, 0, 0, 0, 0, 0, 0, 0, 0, 0, 0, 0, 0, 0, 0, 0, 0, 0, 0, 0, 0, 0, 0, 0, 0, 0, 0, 0, 0, 0, 0, 0, 0, 0, 0, 0, 0, 0, 0, 0, 0, 0, 0, 0, 0, 0, 0, 0, 0, 0, 0, 0, 0, 0, 0, 0, 0, 0, 0, 0, 0, 0, 0, 0, 0, 0, 0, 0, 0, 0, 0, 0, 0, 0, 0, 0, 0, 0, 0, 0, 0, 0, 0, 0, 0, 0, 0, 0, 0, 0, 0, 0, 0, 0, 0, 0, 0, 0, 0, 0, 0, 0, 0, 0, 0, 0, 0, 0, 0, 0, 0, 0, 0, 0, 0, 0, 0, 0, 0, 0, 0, 0, 0, 0, 0, 0, 0, 0, 0, 0, 0, 0, 0, 0, 0, 0, 0, 0, 0, 0, 0, 0, 0, 0, 0, 0, 0, 0, 0, 0, 0, 0, 0, 0, 0, 0, 0, 0, 0, 0, 0, 0, 0, 0, 0, 0, 0, 0, 0, 0, 0, 0, 0, 0, 0, 0, 0, 0, 0, 0, 0, 0, 0, 0, 0, 0, 0, 0, 0, 0, 0, 0, 0, 0, 0, 0, 0, 0, 0, 0, 0, 0, 0, 0, 0, 0, 0, 0, 0, 0, 0, 0, 0, 0, 0, 0, 0, 0, 0, 0, 0, 0, 0, 0, 0, 1, 0, 0, 0, 0, 0, 0, 0, 0, 0, 0, 0, 0, 0, 0, 0, 0, 0, 0, 0, 0, 0, 0, 0, 0, 0, 0, 0, 0, 0, 0, 0, 0, 0, 0, 0, 2, 0, 0, 0, 0, 0, 0, 0, 0, 0, 0, 0, 0, 0, 0, 0, 0, 0, 0, 0, 0, 0, 0, 0, 0, 0, 0, 0, 0, 0, 0, 0, 0, 0, 0, 0, 0, 0, 0, 0, 0, 1, 0, 0, 0, 0, 0, 0, 0, 0, 0, 0, 0, 0, 0, 0, 0, 0, 0, 0, 0, 0, 0, 0, 0, 0, 0, 0, 0, 0, 0, 0, 0, 0, 0, 0, 0, 0, 0, 0, 0, 0, 0, 0, 0, 0, 0, 0, 0, 0, 0, 0, 0, 0, 0, 0, 0, 0, 0, 0, 0, 0, 0, 0, 0, 0, 0, 0, 0, 0, 0, 0, 0, 0, 0, 0, 0, 0, 0, 0, 0, 0, 0, 0, 0, 0, 0, 0, 0, 0, 0, 0, 0, 0, 0, 0, 0, 0, 0, 0, 0, 0, 0, 0, 0, 0, 0, 0, 0, 0, 0, 0, 0, 0, 0, 0, 0, 0, 0, 0, 0, 0, 0, 0, 0, 0, 0, 0, 0, 0, 0, 0, 0, 0, 0, 0, 0, 0, 0, 0, 0, 0, 0, 0, 0, 0, 0, 0, 0, 0, 0, 0, 0, 0, 0, 0, 0, 0, 0, 0, 0, 0, 0, 0, 0, 0, 0, 0, 0, 0, 0, 0, 0, 0, 0, 0, 0, 0, 0, 0, 0, 0, 0, 0, 0, 0, 0, 0, 0, 0, 0, 0, 0, 0, 0, 0, 0, 0, 0, 0, 0, 0, 0, 0, 0, 0, 0, 0, 0, 0, 0, 0, 0, 0, 0, 0, 0, 0, 0, 0, 0, 0, 0, 0, 0, 0, 0, 0, 0, 0, 0, 0, 0, 0, 0, 0, 0, 0, 0, 0, 0, 0, 0, 0, 0, 0, 0, 0, 0, 0, 0, 0, 0, 0, 0, 0, 0, 0, 0, 0, 0, 0, 0, 0, 0, 0, 0, 0, 0, 0, 0, 0, 0, 0, 0, 0, 0, 0, 0, 0, 0, 0, 0, 0, 0, 0, 0, 0, 0, 0, 0, 0, 0, 0, 0, 0, 0, 0, 0, 0, 0, 0, 0, 0, 0, 0, 0, 0, 0, 0, 0, 0, 0, 0, 0, 0, 0, 0, 0, 0, 0, 0, 0, 0, 0, 0, 0, 0, 0, 0, 0, 0, 0, 0, 0, 0, 0, 0, 0, 0, 0, 0, 0, 0, 0, 0, 0, 0, 0, 0, 0, 0, 0, 0, 0, 0, 0, 0, 0, 0, 0, 0, 0, 0, 0, 0, 0, 0, 0, 0, 0, 0, 0, 0, 0, 0, 0, 0, 0, 0, 0, 0, 0, 0, 0, 0, 0, 0, 0, 0, 0, 0, 0, 0, 0, 0, 0, 0, 0, 0, 0, 0, 0, 0, 0, 0, 0, 0, 0, 0, 0, 0, 0, 0, 0, 0, 0, 0, 0, 0, 0, 0, 0, 0, 0, 0, 0, 0, 0, 0, 0, 0, 0, 0, 0, 0, 0, 0, 0, 0, 0, 0, 0, 0, 0, 0, 0, 0, 0, 0, 0, 0, 0, 0, 0, 0, 0, 0, 0, 0, 0, 0, 0, 0, 0, 0, 0, 0, 0, 0, 0, 0, 0, 0, 0, 0, 0, 0, 0, 0, 0, 0, 0, 0, 0, 0, 0, 0, 0, 0, 0, 0, 0, 0, 0, 0, 0, 0, 0, 1, 0, 0, 0, 0, 0, 0, 0, 0, 0, 0, 0, 0, 0, 0, 0, 0, 0, 0, 0, 0, 0, 0, 0, 0, 0, 0, 0, 0, 0, 0, 0, 0, 0, 0, 0, 0, 0, 0, 0, 0, 0, 0, 0, 0, 0, 0, 0, 0, 0, 0, 0, 0, 0, 0, 0, 0, 0, 0, 0, 0, 0, 0, 0, 0, 0, 0, 0, 0, 0, 0, 0, 0, 0, 0, 0, 0, 0, 0, 0, 0, 0, 0, 0, 0, 0, 0, 0, 0, 0, 0, 0, 0, 0, 0, 0, 0, 0, 0, 0, 0, 0, 0, 0, 0, 0, 0, 0, 0, 0, 0, 2, 0, 0, 0, 0, 0, 0, 0, 0, 0, 0, 0, 0, 0, 0, 0, 0, 0, 0, 0, 0, 0, 0, 0, 0, 0, 0, 0, 0, 0, 0, 0, 0, 0, 0, 0, 0, 0, 0, 0, 0, 0, 0, 0, 0, 0, 0, 0, 0, 0, 0, 0, 0, 0, 0, 0, 0, 0, 0, 0, 0, 0, 0, 0, 0, 0, 0, 0, 0, 0, 0, 0, 0, 0, 0, 0, 0, 0, 0, 0, 0, 0, 0, 0, 0, 0, 0, 0, 0, 0, 0, 0, 0, 0, 0, 0, 0, 0, 0, 0, 0, 0, 0, 0, 0, 0, 0, 0, 0, 0, 0, 0, 0, 0, 0, 0, 0, 0, 0, 0, 0, 0, 0, 0, 0, 0, 0, 0, 0, 0, 0, 0, 0, 0, 0, 0, 0, 0, 0, 0, 0, 0, 0, 0, 0, 0, 0, 0, 0, 0, 0, 0, 0, 0, 0, 0, 0, 0, 0, 0, 0, 0, 0, 0, 0, 0, 0, 0, 0, 0, 0, 0, 0, 0, 0, 0, 0, 0, 0, 0, 0, 0, 0, 0, 0, 0, 0, 0, 0, 0, 0, 0, 0, 0, 0, 0, 0, 0, 0, 0, 0, 0, 0, 0, 0, 0, 0, 0, 0, 0, 0, 0, 0, 0, 0, 0, 0, 0, 0, 0, 0, 0, 0, 0, 0, 0, 0, 0, 0, 0, 0, 0, 0, 0, 0, 0, 0, 0, 0, 0, 0, 0, 0, 0, 0, 0, 0, 0, 0, 0, 0, 0, 0, 0, 0, 0, 0, 0, 0, 0, 0, 0, 0, 0, 0, 0, 0, 0, 0, 0, 0, 0, 0, 0, 0, 0, 0, 0, 0, 0, 0, 0, 0, 0, 0, 0, 0, 0, 0, 0, 0, 0, 0, 0, 0, 0, 0, 0, 0, 0, 0, 0, 0, 0, 0, 0, 0, 0, 0, 0, 0, 0, 0, 0, 0, 0, 0, 0, 0, 0, 0, 0, 0, 0, 0, 0, 0, 0, 0, 0, 0, 0, 0, 0, 0, 0, 0, 0, 0, 0, 0, 0, 0, 0, 0, 0, 0, 0, 0, 0, 0, 0, 0, 0, 0, 0, 0, 0, 0, 0, 0, 0, 0, 0, 0, 0, 0, 0, 0, 0, 0, 0, 0, 0, 0, 0, 0, 0, 0, 0, 0, 0, 0, 0, 0, 0, 0, 0, 0, 0, 0, 0, 0, 0, 0, 0, 0, 0, 0, 0, 0, 0, 0, 0, 0, 0, 0, 0, 0, 0, 0, 0, 0, 0, 0, 0, 0, 0, 0, 0, 0, 0, 0, 0, 0, 0, 0, 0, 0, 0, 0, 0, 0, 0, 0, 0, 0, 0, 0, 0, 0, 0, 0, 0, 0, 0, 0, 0, 0, 0, 0, 0, 0, 0, 0, 0, 0, 0, 0, 0, 0, 0, 0, 0, 0, 0, 0, 0, 0, 0, 0, 0, 0, 0, 0, 0, 0, 0, 0, 0, 0, 0, 0, 0, 0, 0, 0, 0, 0, 0, 0, 0, 0, 0, 0, 0, 0, 0, 0, 0, 0, 0, 0, 0, 0, 0, 0, 0, 0, 0, 0, 0, 0, 0, 0, 0, 0, 0, 0, 0, 0, 0, 0, 0, 0, 0, 0, 0, 0, 0, 0, 0, 0, 0, 0, 0, 0, 0, 0, 0, 0, 0, 0, 0, 0, 0, 0, 0, 0, 0, 0, 0, 0, 0, 0, 0, 0, 0, 0, 0, 0, 0, 0, 0, 0, 0, 0, 0, 0, 0, 0, 0, 0, 0, 0, 0, 0, 0, 0, 0, 0, 0, 0, 0, 0, 0, 0, 0, 0, 0, 0, 0, 0, 0, 0, 0, 0, 0, 0, 0, 0, 0, 0, 0, 0, 0, 0, 0, 0, 0, 0, 0, 0, 0, 0, 0, 0, 0, 0, 0, 0, 0, 0, 0, 0, 0, 0, 0, 0, 0, 0, 0, 0, 0, 0, 0, 0, 0, 0, 0, 0, 0, 0, 0, 0, 0, 0, 0, 0, 0, 0, 0, 0, 0, 0, 0, 0, 0, 0, 0, 0, 0, 0, 0, 0, 0, 0, 0, 0, 0, 0, 0, 0, 0, 0, 0, 0, 0, 0, 0, 0, 0, 0, 0, 0, 0, 0, 0, 0, 0, 0, 1, 0, 0, 0, 0, 0, 0, 0, 0, 0, 0, 0, 0, 0, 0, 0, 0, 0, 0, 0, 0, 0, 0, 0, 0, 0, 0, 0, 0, 0, 0, 0, 0, 0, 0, 0, 0, 0, 0, 0, 0, 0, 0, 0, 0, 0, 0, 0, 0, 0, 0, 0, 0, 0, 0, 0, 0, 0, 0, 0, 0, 0, 0, 0, 0, 0, 0, 0, 0, 0, 0, 0, 0, 0, 0, 0, 0, 0, 0, 0, 0, 0, 0, 0, 0, 0, 0, 0, 0, 0, 0, 0, 0, 0, 0, 0, 0, 0, 0, 0, 0, 0, 0, 0, 0, 0, 0, 0, 1, 0, 0, 0, 0, 0, 0, 0, 0, 0, 0, 0, 0, 0, 0, 0, 0, 0, 0, 0, 0, 0, 0, 0, 0, 0, 0, 0, 0, 0, 0, 0, 0, 0, 0, 0, 0, 0, 0, 0, 0, 0, 0, 0, 0, 0, 0, 0, 0, 0, 0, 0, 0, 0, 0, 0, 0, 0, 0, 0, 0, 0, 0, 0, 0, 0, 0, 0, 0, 0, 0, 0, 0, 0, 0, 0, 0, 0, 0, 0, 0, 0, 0, 0, 0, 0, 0, 0, 0, 0, 0, 0, 0, 0, 0, 0, 0, 0, 0, 0, 0, 0, 0, 0, 0, 0, 0, 0, 0, 0, 0, 0, 0, 0, 0, 0, 0, 0, 0, 0, 0, 0, 0, 0, 0, 0, 0, 0, 0, 0, 0, 0, 0, 0, 0, 0, 0, 0, 0, 0, 0, 0, 0, 0, 0, 0, 0, 0, 0, 0, 0, 0, 0, 0, 0, 0, 0, 0, 0, 0, 0, 0, 0, 0, 0, 0, 0, 0, 0, 0, 0, 0, 0, 0, 0, 0, 0, 0, 0, 0, 0, 0, 0, 0, 0, 0, 0, 0, 0, 0, 0, 0, 0, 0, 0, 0, 0, 0, 0, 0, 0, 0, 0, 0, 0, 0, 0, 0, 0, 0, 0, 0, 0, 0, 0, 0, 0, 0, 0, 0, 0, 0, 0, 0, 0, 0, 0, 0, 0, 0, 0, 0, 0, 0, 0, 0, 0, 0, 0, 0, 0, 0, 0, 0, 0, 0, 0, 0, 0, 0, 0, 0, 0, 0, 0, 0, 0, 0, 0, 0, 0, 0, 0, 0, 0, 0, 0, 0, 0, 0, 0, 0, 0, 0, 0, 0, 0, 0, 0, 0, 0, 0, 0, 0, 0, 0, 0, 0, 0, 0, 0, 0, 0, 0, 0, 0, 0, 0, 0, 0, 0, 0, 0, 0, 0, 0, 0, 0, 0, 0, 0, 0, 0, 0, 0, 0, 0, 0, 0, 0, 0, 0, 0, 0, 0, 0, 0, 0, 0, 0, 0, 0, 0, 0, 0, 0, 0, 0, 0, 0, 0, 0, 0, 0, 0, 0, 0, 0, 0, 0, 0, 0, 0, 0, 0, 0, 0, 0, 0, 0, 0, 0, 0, 0, 0, 0, 0, 0, 0, 0, 0, 0, 0, 0, 0, 0, 0, 0, 0, 0, 0, 0, 0, 0, 0, 0, 0, 0, 0, 0, 0, 0, 0, 0, 0, 0, 0, 0, 0, 0, 0, 0, 0, 0, 0, 0, 0, 0, 0, 0, 0, 0, 0, 0, 0, 0, 0, 0, 0, 0, 0, 0, 0, 0, 0, 0, 0, 0, 0, 0, 0, 0, 0, 0, 0, 0, 0, 0, 0, 0, 0, 0, 0, 0, 0, 0, 0, 0, 0, 0, 0, 0, 0, 0, 0, 0, 0, 0, 0, 0, 0, 0, 0, 0, 2, 0, 1, 0], type: <class 'list'>, valid types: <class 'bytes'>, <class 'bytearray'>, file-like object"
     ]
    }
   ],
   "source": [
    "response = runtime.invoke_endpoint(EndpointName = xgb_predictor.endpoint, # The name of the endpoint we created\n",
    "                                       ContentType = 'text/csv',                     # The data format that is expected\n",
    "                                       Body = test_bow)"
   ]
  },
  {
   "cell_type": "markdown",
   "metadata": {},
   "source": [
    "So why did we get an error?\n",
    "\n",
    "Because we tried to send the endpoint a list of integers but it expected us to send data of type `text/csv`. So, we need to convert it."
   ]
  },
  {
   "cell_type": "code",
   "execution_count": 45,
   "metadata": {},
   "outputs": [],
   "source": [
    "response = runtime.invoke_endpoint(EndpointName = xgb_predictor.endpoint, # The name of the endpoint we created\n",
    "                                       ContentType = 'text/csv',                     # The data format that is expected\n",
    "                                       Body = ','.join([str(val) for val in test_bow]).encode('utf-8'))"
   ]
  },
  {
   "cell_type": "code",
   "execution_count": 46,
   "metadata": {},
   "outputs": [
    {
     "name": "stdout",
     "output_type": "stream",
     "text": [
      "{'ResponseMetadata': {'RequestId': '335dde9a-649d-4ce2-80fd-6f14a52c4f6c', 'HTTPStatusCode': 200, 'HTTPHeaders': {'x-amzn-requestid': '335dde9a-649d-4ce2-80fd-6f14a52c4f6c', 'x-amzn-invoked-production-variant': 'AllTraffic', 'date': 'Sat, 11 May 2019 19:02:43 GMT', 'content-type': 'text/csv; charset=utf-8', 'content-length': '14'}, 'RetryAttempts': 0}, 'ContentType': 'text/csv; charset=utf-8', 'InvokedProductionVariant': 'AllTraffic', 'Body': <botocore.response.StreamingBody object at 0x7fe48e402be0>}\n"
     ]
    }
   ],
   "source": [
    "print(response)"
   ]
  },
  {
   "cell_type": "markdown",
   "metadata": {},
   "source": [
    "As we can see, the response from our model is a somewhat complicated looking dict that contains a bunch of information. The bit that we are most interested in is `'Body'` object which is a streaming object that we need to `read` in order to make use of."
   ]
  },
  {
   "cell_type": "code",
   "execution_count": 47,
   "metadata": {},
   "outputs": [
    {
     "name": "stdout",
     "output_type": "stream",
     "text": [
      "0.334744274616\n"
     ]
    }
   ],
   "source": [
    "response = response['Body'].read().decode('utf-8')\n",
    "print(response)"
   ]
  },
  {
   "cell_type": "markdown",
   "metadata": {},
   "source": [
    "Now that we know how to process the incoming user data we can start setting up the infrastructure to make our simple web app work. To do this we will make use of two different services. Amazon's Lambda and API Gateway services.\n",
    "\n",
    "Lambda is a service which allows someone to write some relatively simple code and have it executed whenever a chosen trigger occurs. For example, you may want to update a database whenever new data is uploaded to a folder stored on S3.\n",
    "\n",
    "API Gateway is a service that allows you to create HTTP endpoints (url addresses) which are connected to other AWS services. One of the benefits to this is that you get to decide what credentials, if any, are required to access these endpoints.\n",
    "\n",
    "In our case we are going to set up an HTTP endpoint through API Gateway which is open to the public. Then, whenever anyone sends data to our public endpoint we will trigger a Lambda function which will send the input (in our case a review) to our model's endpoint and then return the result."
   ]
  },
  {
   "cell_type": "markdown",
   "metadata": {},
   "source": [
    "### Setting up a Lambda function\n",
    "\n",
    "The first thing we are going to do is set up a Lambda function. This Lambda function will be executed whenever our public API has data sent to it. When it is executed it will receive the data, perform any sort of processing that is required, send the data (the review) to the SageMaker endpoint we've created and then return the result.\n",
    "\n",
    "#### Part A: Create an IAM Role for the Lambda function\n",
    "\n",
    "Since we want the Lambda function to call a SageMaker endpoint, we need to make sure that it has permission to do so. To do this, we will construct a role that we can later give the Lambda function.\n",
    "\n",
    "Using the AWS Console, navigate to the **IAM** page and click on **Roles**. Then, click on **Create role**. Make sure that the **AWS service** is the type of trusted entity selected and choose **Lambda** as the service that will use this role, then click **Next: Permissions**.\n",
    "\n",
    "In the search box type `sagemaker` and select the check box next to the **AmazonSageMakerFullAccess** policy. Then, click on **Next: Review**.\n",
    "\n",
    "Lastly, give this role a name. Make sure you use a name that you will remember later on, for example `LambdaSageMakerRole`. Then, click on **Create role**."
   ]
  },
  {
   "cell_type": "markdown",
   "metadata": {},
   "source": [
    "#### Part B: Create a Lambda function\n",
    "\n",
    "Now it is time to actually create the Lambda function. Remember from earlier that in order to process the user provided input and send it to our endpoint we need to gather two pieces of information:\n",
    "\n",
    " - The name of the endpoint, and\n",
    " - the vocabulary object.\n",
    "\n",
    "We will copy these pieces of information to our Lambda function after we create it.\n",
    "\n",
    "To start, using the AWS Console, navigate to the AWS Lambda page and click on **Create a function**. When you get to the next page, make sure that **Author from scratch** is selected. Now, name your Lambda function, using a name that you will remember later on, for example `sentiment_analysis_xgboost_func`. Make sure that the **Python 3.6** runtime is selected and then choose the role that you created in the previous part. Then, click on **Create Function**.\n",
    "\n",
    "On the next page you will see some information about the Lambda function you've just created. If you scroll down you should see an editor in which you can write the code that will be executed when your Lambda function is triggered. Collecting the code we wrote above to process a single review and adding it to the provided example `lambda_handler` we arrive at the following.\n",
    "\n",
    "```python\n",
    "# We need to use the low-level library to interact with SageMaker since the SageMaker API\n",
    "# is not available natively through Lambda.\n",
    "import boto3\n",
    "\n",
    "# And we need the regular expression library to do some of the data processing\n",
    "import re\n",
    "\n",
    "REPLACE_NO_SPACE = re.compile(\"(\\.)|(\\;)|(\\:)|(\\!)|(\\')|(\\?)|(\\,)|(\\\")|(\\()|(\\))|(\\[)|(\\])\")\n",
    "REPLACE_WITH_SPACE = re.compile(\"(<br\\s*/><br\\s*/>)|(\\-)|(\\/)\")\n",
    "\n",
    "def review_to_words(review):\n",
    "    words = REPLACE_NO_SPACE.sub(\"\", review.lower())\n",
    "    words = REPLACE_WITH_SPACE.sub(\" \", words)\n",
    "    return words\n",
    "    \n",
    "def bow_encoding(words, vocabulary):\n",
    "    bow = [0] * len(vocabulary) # Start by setting the count for each word in the vocabulary to zero.\n",
    "    for word in words.split():  # For each word in the string\n",
    "        if word in vocabulary:  # If the word is one that occurs in the vocabulary, increase its count.\n",
    "            bow[vocabulary[word]] += 1\n",
    "    return bow\n",
    "\n",
    "\n",
    "def lambda_handler(event, context):\n",
    "    \n",
    "    vocab = \"*** ACTUAL VOCABULARY GOES HERE ***\"\n",
    "    \n",
    "    words = review_to_words(event['body'])\n",
    "    bow = bow_encoding(words, vocab)\n",
    "\n",
    "    # The SageMaker runtime is what allows us to invoke the endpoint that we've created.\n",
    "    runtime = boto3.Session().client('sagemaker-runtime')\n",
    "\n",
    "    # Now we use the SageMaker runtime to invoke our endpoint, sending the review we were given\n",
    "    response = runtime.invoke_endpoint(EndpointName = '***ENDPOINT NAME HERE***',# The name of the endpoint we created\n",
    "                                       ContentType = 'text/csv',                 # The data format that is expected\n",
    "                                       Body = ','.join([str(val) for val in bow]).encode('utf-8')) # The actual review\n",
    "\n",
    "    # The response is an HTTP response whose body contains the result of our inference\n",
    "    result = response['Body'].read().decode('utf-8')\n",
    "    \n",
    "    # Round the result so that our web app only gets '1' or '0' as a response.\n",
    "    result = round(float(result))\n",
    "\n",
    "    return {\n",
    "        'statusCode' : 200,\n",
    "        'headers' : { 'Content-Type' : 'text/plain', 'Access-Control-Allow-Origin' : '*' },\n",
    "        'body' : str(result)\n",
    "    }\n",
    "```"
   ]
  },
  {
   "cell_type": "markdown",
   "metadata": {},
   "source": [
    "Once you have copy and pasted the code above into the Lambda code editor, replace the `**ENDPOINT NAME HERE**` portion with the name of the endpoint that we deployed earlier. You can determine the name of the endpoint using the code cell below."
   ]
  },
  {
   "cell_type": "code",
   "execution_count": 48,
   "metadata": {},
   "outputs": [
    {
     "data": {
      "text/plain": [
       "'xgboost-2019-05-11-18-10-13-395'"
      ]
     },
     "execution_count": 48,
     "metadata": {},
     "output_type": "execute_result"
    }
   ],
   "source": [
    "xgb_predictor.endpoint"
   ]
  },
  {
   "cell_type": "markdown",
   "metadata": {},
   "source": [
    "In addition, you will need to copy the vocabulary dict to the appropriate place in the code at the beginning of the `lambda_handler` method. The cell below prints out the vocabulary dict in a way that is easy to copy and paste."
   ]
  },
  {
   "cell_type": "code",
   "execution_count": 49,
   "metadata": {},
   "outputs": [
    {
     "name": "stdout",
     "output_type": "stream",
     "text": [
      "{'began': 441, 'watching': 4815, 'this': 4457, 'movie': 2926, 'with': 4911, 'low': 2676, 'expectations': 1576, 'as': 311, 'matter': 2769, 'of': 3083, 'fact': 1621, 'only': 3110, 'noticed': 3049, 'it': 2366, 'because': 432, 'was': 4805, 'an': 223, 'adaptation': 113, 'novel': 3052, 'never': 3001, 'read': 3543, 'im': 2232, 'glad': 1916, 'my': 2951, 'were': 4848, 'the': 4426, 'wasnt': 4807, 'nothing': 3047, 'close': 853, 'to': 4507, 'good': 1937, 'but': 636, 'manages': 2725, 'keep': 2449, 'you': 4986, 'interested': 2324, 'what': 4858, 'really': 3556, 'drags': 1345, 'story': 4207, 'down': 1335, 'is': 2360, 'work': 4940, 'done': 1322, 'by': 642, 'director': 1264, 'and': 226, 'actors': 104, 'hasnt': 2044, 'no': 3020, 'nice': 3008, 'shots': 3950, 'scares': 3806, 'dialogs': 1233, 'are': 285, 'dumb': 1385, 'special': 4097, 'effects': 1431, 'crap': 1031, 'things': 4451, 'that': 4424, 'said': 3774, 'keeps': 2451, 'guess': 1989, 'book': 535, 'must': 2950, 'be': 418, 'without': 4913, 'using': 4698, 'much': 2934, 'horror': 2168, 'vote': 4766, '10': 0, 'ill': 2228, 'make': 2713, 'short': 3946, 'sucked': 4270, 'watched': 4813, 'part': 3193, 'earlier': 1399, 'today': 4508, 'thought': 4462, 'one': 3107, 'greatest': 1966, 'films': 1721, 'ever': 1538, 'gave': 1875, 'out': 3141, 'stars': 4155, 'so': 4046, 'perhaps': 3235, 'would': 4957, 'sequels': 3886, 'wrong': 4973, 'bored': 541, 'me': 2778, 'death': 1141, 'different': 1248, 'from': 1840, 'first': 1736, 'had': 2003, 'plot': 3309, 'continue': 969, 'thats': 4425, 'like': 2599, 'bad': 382, 'or': 3124, 'something': 4066, 'love': 2669, 'walken': 4777, 'felt': 1692, 'sorry': 4076, 'for': 1784, 'him': 2110, 'here': 2086, 'happy': 2032, 'about': 67, 'glenn': 1918, 'being': 448, 'in': 2257, 'film': 1716, 'dont': 1324, 'youll': 4988, 'miss': 2866, 'there': 4438, 'full': 1846, 'cast': 710, 'crappy': 1032, 'people': 3221, 'such': 4268, 'eric': 1514, 'roberts': 3714, 'jennifer': 2392, 'however': 2183, 'breath': 573, 'fresh': 1833, 'air': 164, 'see': 3855, 'ethan': 1528, 'hes': 2093, 'funniest': 1851, 'on': 3105, 'earth': 1403, 'will': 4886, 'little': 2624, 'less': 2575, 'watch': 4811, 'feel': 1684, 'yourself': 4993, 'fan': 1648, 'am': 204, 'gonna': 1936, 'wait': 4770, 'few': 1700, 'days': 1130, 'before': 440, 'better': 472, 'than': 4420, 'last': 2521, 'scene': 3809, 'most': 2909, 'beautiful': 428, 'shown': 3959, 'fast': 1661, 'forward': 1808, 'skip': 4016, 'if': 2222, 'cant': 671, 'stomach': 4196, 'awful': 372, 'didnt': 1242, 'think': 4452, 'french': 1830, 'could': 1007, 'clearly': 840, 'very': 4723, 'has': 2043, 'been': 438, 'essentially': 1523, 'uses': 4697, 'its': 2370, 'title': 4504, 'character': 758, 'point': 3316, 'portrayal': 3341, 'her': 2085, 'life': 2592, 'person': 3238, 'have': 2052, 'do': 1302, 'real': 3547, 'script': 3834, 'pretentious': 3383, 'stilted': 4190, 'facts': 1624, 'offensive': 3086, 'even': 1533, 'genre': 1888, 'all': 187, 'too': 4522, 'often': 3095, 'makes': 2716, 'living': 2629, 'rather': 3528, 'history': 2121, 'along': 195, 'some': 4061, 'fairly': 1631, 'decent': 1147, 'set': 3898, 'design': 1202, 'physical': 3262, 'primary': 3394, 'obvious': 3071, 'beginning': 443, 'filmmakers': 1720, 'aware': 368, 'they': 4442, 'waste': 4808, 'time': 4495, 'various': 4715, 'erotic': 1515, 'sequences': 3888, 'which': 4867, 'far': 1653, 'more': 2904, 'development': 1225, 'unfortunately': 4654, 'appeal': 271, 'seeing': 3857, 'pretty': 3384, 'young': 4989, 'girl': 1909, 'state': 4160, 'sexual': 3908, 'cannot': 670, 'does': 1308, 'not': 3040, 'acting': 99, 'score': 3822, 'generic': 1885, 'despite': 1211, 'interesting': 2325, 'two': 4620, 'cinematography': 820, 'ok': 3098, 'colors': 879, 'also': 199, 'ridiculous': 3693, 'appropriate': 283, '1960s': 15, 'costume': 1005, 'drama': 1346, 'any': 256, 'event': 1535, 'leaves': 2556, 'camera': 659, 'body': 527, 'told': 4513, 'near': 2979, 'complete': 921, 'failure': 1629, 'intelligent': 2314, 'enough': 1491, 'serious': 3891, 'slow': 4031, 'soft': 4051, 'core': 995, 'can': 665, 'fail': 1625, 'after': 143, 'based': 404, 'endearing': 1469, 'tells': 4397, 'his': 2118, 'affected': 137, 'considered': 951, 'basically': 407, 'everyone': 1542, 'including': 2264, 'mother': 2911, 'amazingly': 210, 'he': 2056, 'himself': 2111, 'draw': 1349, 'write': 4967, 'foot': 1781, 'control': 977, 'amazing': 209, 'courage': 1018, 'truly': 4597, 'unforgettable': 4652, 'oscar': 3133, 'winning': 4898, 'performance': 3228, 'daniel': 1111, 'day': 1129, 'lewis': 2586, 'just': 2437, 'rented': 3628, 'lots': 2662, 'reviews': 3679, 'wow': 4962, 'pile': 3275, 'anyone': 259, 'know': 2489, 'get': 1899, 'five': 1743, 'dollars': 1315, 'back': 378, 'finally': 1724, 'someone': 4064, 'stop': 4201, 'loss': 2659, 'worst': 4952, 'iraq': 2351, 'war': 4792, 'number': 3060, 'spot': 4131, 'fair': 1630, 'movies': 2927, 'anyway': 261, 'wont': 4932, 'into': 2332, 'technical': 4381, 'theres': 4440, 'hundred': 2195, 'other': 3135, 'detail': 1217, 'them': 4432, 'bothered': 549, 'couldve': 1009, 'made': 2697, 'somewhat': 4068, 'writer': 4968, 'should': 3951, 'given': 1913, 'credit': 1049, 'she': 3923, 'obviously': 3072, 'vivid': 4760, 'imagination': 2236, 'reality': 3551, 'anybody': 257, 'wonder': 4926, 'message': 2819, 'seriously': 3892, 'amazed': 208, 'at': 331, 'positive': 3346, 'hard': 2033, 'overlook': 3153, 'sucks': 4271, 'characters': 760, 'shallow': 3917, 'say': 3799, 'least': 2554, 'poor': 3328, 'best': 469, 'ironic': 2355, 'suppose': 4305, 'supposed': 4306, 'biggest': 480, 'bomb': 531, 'ive': 2372, 'seen': 3865, 'year': 4978, 'piece': 3272, 'trash': 4565, 'racist': 3503, 'once': 3106, 'while': 4868, 'pretending': 3382, 'terribly': 4408, 'sophisticated': 4075, 'atrocious': 335, 'performances': 3229, 'cliche': 843, 'ridden': 3691, 'screenplay': 3831, 'boring': 543, 'direction': 1261, 'clear': 839, 'scenes': 3811, 'especially': 1520, 'tongue': 4518, 'another': 250, 'man': 2721, 'gross': 1978, 'where': 4864, 'eastwood': 1409, 'friend': 1835, 'who': 4871, 'russian': 3762, 'room': 3735, 'king': 2479, 'artist': 307, 'dreams': 1355, 'paris': 3189, 'actor': 103, 'screen': 3829, 'looking': 2648, 'shame': 3918, 'learn': 2550, 'working': 4944, 'cutting': 1092, 'edge': 1418, 'gay': 1876, 'try': 4600, 'string': 4227, 'stereotypes': 4179, 'then': 4436, 'coming': 896, 'dub': 1378, 'isnt': 2362, 'hour': 2176, 'lot': 2661, 'comic': 893, '3rd': 47, 'stuff': 4243, 'trying': 4601, 'huge': 2185, 'treasure': 4571, 'women': 4923, 'bit': 488, 'course': 1019, 'still': 4188, 'family': 1645, 'words': 4938, 'pleasantly': 3303, 'surprised': 4313, 'hearing': 2063, 'many': 2732, 'might': 2835, 'rolling': 3730, 'during': 1387, 'credits': 1050, 'overall': 3150, 'id': 2212, 'again': 146, 'iii': 2227, 'season': 3843, 'finale': 1723, 'sent': 3880, 'mix': 2876, 'messages': 2820, 'feelings': 1686, 'joy': 2422, 'viewers': 4739, 'entire': 1502, 'nine': 3017, 'lie': 2590, 'husband': 2204, 'dan': 1102, 'died': 1244, 'won': 4925, 'how': 2181, 'wished': 4905, 'wanted': 4789, 'confused': 941, 'when': 4862, 'ended': 1470, 'up': 4683, 'david': 1124, 'mark': 2739, 'admit': 122, 'pregnant': 3369, 'believe': 454, 'mixed': 2877, 'always': 203, 'show': 3953, 'mary': 2751, 'lou': 2663, 'whose': 4877, 'spirit': 4113, 'seeks': 3860, 'revenge': 3675, 'those': 4460, 'let': 2579, 'come': 886, 'doom': 1326, 'well': 4843, 'mainly': 2708, 'takes': 4351, 'place': 3282, 'falls': 1640, '80s': 59, 'trap': 4563, 'weird': 4841, 'stupid': 4247, 'demented': 1176, 'horse': 2170, 'tries': 4585, 'take': 4349, 'over': 3148, 'persons': 3244, 'whether': 4866, 'succeeds': 4264, 'find': 1726, 'largely': 2518, 'around': 297, 'bunch': 623, 'worthless': 4954, 'sequel': 3885, 'thing': 4450, 'common': 906, 'name': 2960, 'high': 2100, 'school': 3813, 'flick': 1754, 'fall': 1637, 'gore': 1941, 'pointless': 3318, 'nudity': 3059, 'against': 147, 'catholic': 720, 'church': 813, 'basic': 406, 'give': 1912, 'your': 4991, 'doing': 1312, 'else': 1448, 'clint': 850, 'arrives': 302, 'small': 4033, 'town': 4541, 'wife': 4884, 'news': 3005, 'daughter': 1121, 'finds': 1728, 'chance': 747, 'sort': 4077, 'whilst': 4869, 'sheriff': 3929, 'important': 2247, 'reputation': 3640, 'fear': 1676, 'mysterious': 2955, 'hold': 2129, 'meeting': 2794, 'chooses': 800, 'hire': 2116, 'rid': 3690, 'elements': 1443, 'gun': 1996, 'seems': 3864, 'either': 1438, 'forgotten': 1797, 'under': 4639, 'writing': 4971, 'user': 4696, 'comments': 901, 'written': 4972, 'although': 201, 'production': 3419, 'values': 4710, 'scream': 3826, 'western': 4853, 'fine': 1729, 'entry': 1504, 'standard': 4144, 'theme': 4433, 'turning': 4608, 'dark': 1115, 'angel': 231, 'probably': 3407, 'years': 4979, 'myself': 2953, 'synopsis': 4344, 'line': 2610, 'similarly': 3980, 'pictures': 3270, 'yet': 4984, 'dramatic': 1348, 'picture': 3269, 'enjoyable': 1485, 'moments': 2887, 'both': 547, 'technically': 4382, 'robert': 3713, 'lead': 2545, 'perfectly': 3226, 'thru': 4483, 'menace': 2806, 'we': 4823, 'talk': 4358, 'presence': 3373, 'john': 2409, 'wayne': 4821, 'heston': 2094, 'right': 3696, 'sequence': 3887, 'sees': 3866, 'standing': 4146, 'shadows': 3913, 'face': 1616, 'staring': 4152, 'us': 4690, 'rest': 3657, 'shadow': 3912, 'solely': 4056, 'big': 478, 'single': 3996, 'ted': 4386, 'de': 1131, 'kick': 2460, 'guns': 1998, 'minor': 2857, 'villains': 4745, 'sadly': 3769, 'lacking': 2504, 'alex': 179, 'north': 3036, 'fans': 1650, 'certainly': 738, 'their': 4431, 'ears': 1402, 'lee': 2559, 'highly': 2105, 'impressive': 2253, 'majority': 2712, 'shot': 3949, 'studio': 4240, 'directed': 1259, 'co': 867, 'richard': 3686, 'wilson': 4891, 'holds': 2131, 'surprises': 4314, 'tone': 4517, 'violent': 4748, 'above': 68, 'watchable': 4812, '75': 57, 'premise': 3370, 'execution': 1566, 'doesnt': 1309, 'mean': 2779, 'worth': 4953, 'look': 2646, 'splendid': 4119, 'supporting': 4304, 'fun': 1848, 'mystery': 2956, 'great': 1964, 'woman': 4921, 'determined': 1221, 'solve': 4060, 'enjoy': 1484, 'thomas': 4458, 'female': 1693, 'marks': 2742, 'target': 4366, 'audience': 352, 'adult': 125, 'male': 2719, 'tortured': 4530, 'count': 1010, 'typical': 4623, 'ingredients': 2289, 'introduced': 2337, 'opening': 3114, 'hand': 2015, 'rip': 3700, 'lacks': 2505, 'style': 4249, 'eg': 1434, 'mediocre': 2791, 'mentioned': 2811, 'italian': 2367, 'accent': 78, 'bottom': 551, 'theater': 4427, 'warning': 4800, 'kind': 2476, 'hope': 2155, 'enter': 1494, 'wouldve': 4959, 'fitting': 1742, 'describe': 1194, 'hell': 2077, 'stupidity': 4248, 'fails': 1628, 'definitely': 1162, 'aimed': 162, 'stolen': 4195, 'minute': 2858, 'bugs': 613, 'cartoon': 704, 'stretched': 4222, 'mr': 2929, 'fantastic': 1651, '90': 60, 'painful': 3171, 'minutes': 2859, 'remember': 3616, 'funny': 1852, 'hollywood': 2137, 'produce': 3413, 'blame': 499, 'consistent': 953, 'rate': 3526, 'sad': 3767, 'offended': 3085, 'balls': 390, 'jokes': 2415, 'thin': 4449, 'nearly': 2981, 'everything': 1544, 'spoil': 4121, 'anything': 260, 'baby': 376, 'actually': 109, 'poorly': 3329, 'did': 1241, 'ending': 1471, 'resolution': 3649, 'actual': 108, 'end': 1468, 'stood': 4199, 'walked': 4776, 'star': 4150, 'deserves': 1201, 'six': 4010, 'spent': 4108, 'deserve': 1199, 'god': 1926, 'gets': 1900, 'going': 1931, 'paying': 3217, 'reasonable': 3558, 'avoid': 363, 'costs': 1004, 'warned': 4798, 'got': 1944, 'excuse': 1564, 'thinking': 4453, 'idiots': 2220, 'involved': 2346, 'allowed': 190, 'failed': 1626, 'entertain': 1497, 'level': 2584, 'attempt': 340, 'lesbian': 2573, 'ladies': 2506, 'heard': 2062, 'help': 2079, 'flawed': 1750, 'night': 3013, 'true': 4596, 'comedy': 890, 'tragedy': 4551, 'intent': 2318, 'thankfully': 4422, 'la': 2500, 'familiar': 1643, 'follow': 1772, 'job': 2405, 'youre': 4992, 'off': 3084, 'reading': 3544, 'nick': 3012, 'excellent': 1555, 'pokemon': 3320, 'legendary': 2565, 'strong': 4229, 'though': 4461, 'turns': 4609, 'evil': 1548, 'appearance': 274, 'seem': 3861, 'powerful': 3360, 'except': 1556, 'fight': 1707, 'may': 2775, 'meet': 2793, 'younger': 4990, 'professor': 3422, 'realise': 3548, 'saw': 3798, 'expect': 1575, 'series': 3890, 'absolute': 71, 'masterpiece': 2759, 'become': 433, 'favourite': 1673, 'nobody': 3022, 'portrayed': 3342, 'harsh': 2040, 'old': 3100, 'becomes': 434, 'father': 1666, 'figure': 1711, 'william': 4887, 'robinson': 3716, 'almost': 193, 'mouse': 2919, 'country': 1014, 'heart': 2064, 'knew': 2486, 'exactly': 1551, 'turn': 4605, 'extremely': 1610, 'emotions': 1461, 'happening': 2028, 'range': 3516, 'these': 4441, 'world': 4946, 'shows': 3960, 'difference': 1246, 'between': 475, 'cities': 823, 'countryside': 1015, 'countries': 1013, 'missing': 2869, 'brilliant': 583, 'grinch': 1975, 'stole': 4194, 'christmas': 810, 'wonderful': 4928, 'easily': 1406, 'reason': 3557, 'remake': 3612, 'mention': 2810, 'humans': 2190, 'perfect': 3224, 'whats': 4860, 'purpose': 3474, 'seemed': 3862, 'odd': 3080, 'jim': 2402, 'carrey': 696, 'comedic': 888, 'sense': 3877, 'top': 4525, 'unintentionally': 4659, 'laughable': 2530, 'added': 116, 'dialog': 1232, 'childish': 791, 'whole': 4873, 'needed': 2988, 'destroyed': 1214, 'period': 3236, 'whos': 4876, 'getting': 1901, 'ready': 3546, 'intended': 2315, 'go': 1924, 'curious': 1083, 'worried': 4949, 'lives': 2628, 'kicks': 2463, 'decides': 1150, 'want': 4788, 'steal': 4170, 'together': 4511, 'version': 4720, 'soon': 4074, 'realizes': 3554, 'recommend': 3571, 'stick': 4185, 'simple': 3983, 'disturbing': 1300, 'opinion': 3118, 'presentation': 3375, 'meant': 2784, 'starring': 4154, 'carry': 700, 'karloff': 2445, 'played': 3297, 'every': 1539, 'waitress': 4773, 'area': 286, 'put': 3480, 'mildly': 2840, 'drives': 1367, 'tiny': 4500, 'couple': 1016, 'saves': 3796, 'taking': 4352, 'bullet': 620, 'behind': 447, 'official': 3094, 'national': 2970, 'press': 3379, 'remarks': 3615, 'sweet': 4336, 'looks': 2649, 'opportunity': 3121, 'department': 1182, 'government': 1948, 'times': 4497, 'learns': 2553, 'romantic': 3733, 'attention': 345, 'sinister': 3998, 'making': 2718, 'involving': 2349, 'wishes': 4906, 'blonde': 511, 'lol': 2640, 'features': 1680, 'fox': 1814, 'way': 4820, 'jungle': 2434, 'honesty': 2148, 'lack': 2502, 'community': 908, 'laugh': 2529, 'rent': 3626, 'mistake': 2871, 'box': 555, 'travel': 4567, 'sci': 3815, 'fi': 1701, 'instead': 2307, 'christian': 808, 'example': 1553, 'sold': 4052, 'etc': 1527, 'found': 1811, 'morality': 2903, 'divorce': 1301, 'sides': 3967, 'moral': 2902, 'society': 4050, 'racial': 3501, 'social': 4049, 'instance': 2304, 'hero': 2088, 'clothing': 861, 'store': 4204, 'owner': 3159, 'sound': 4081, 'womens': 4924, 'styles': 4250, 'recent': 3566, 'each': 1395, 'chapter': 757, 'wanting': 4790, 'happen': 2026, 'next': 3007, 'episode': 1507, 'struggle': 4234, 'maintain': 2710, 'friendship': 1838, 'throughout': 4478, 'ends': 1474, 'bitter': 491, 'taste': 4369, 'mouth': 2920, 'knowing': 2490, 'happens': 2029, 'friends': 1837, 'twenty': 4612, 'finish': 1732, 'claim': 828, 'losing': 2658, '18': 10, 'category': 718, 'reunion': 3669, 'raise': 3507, 'bring': 585, 'went': 4847, 'since': 3990, 'answers': 252, 'welcome': 4842, 'niro': 3019, 'taxi': 4371, 'driver': 1366, 'inspector': 2299, 'peter': 3247, 'sellers': 3872, 'clue': 864, 'opposite': 3123, 'sex': 3907, 'effort': 1432, 'same': 3778, 'plight': 3308, 'brave': 567, 'extended': 1604, 'business': 633, 'places': 3284, 'theory': 4437, 'theyre': 4445, 'youth': 4994, 'type': 4621, 'older': 3101, 'own': 3158, 'age': 148, 'increasingly': 2268, 'isolated': 2363, 'pulled': 3462, 'managed': 2723, 'combine': 884, 'superb': 4296, 'smart': 4035, 'subtle': 4260, 'analysis': 224, 'criticism': 1063, 'happened': 2027, 'turned': 4606, 'dull': 1384, 'class': 833, 'warm': 4794, 'upper': 4685, 'wins': 4899, 'trite': 4589, 'walking': 4779, 'stereotype': 4178, 'self': 3869, 'roots': 3738, 'rich': 3685, 'honest': 2146, 'guy': 2000, 'barely': 399, 'average': 362, 'disappointing': 1274, 'aspect': 321, 'depressed': 1187, 'cop': 991, 'works': 4945, 'action': 100, 'cinema': 816, 'pace': 3161, 'laughs': 2534, 'thrill': 4471, 'recommended': 3572, 'pleasant': 3302, 'entertaining': 1499, 'join': 2412, 'efforts': 1433, 'cold': 872, 'difficult': 1249, 'trust': 4598, 'surprise': 4312, 'side': 3965, 'alike': 185, 'city': 825, 'center': 732, 'classics': 837, 'new': 3003, 'wave': 4818, 'jean': 2389, 'drew': 1360, 'simplicity': 3984, 'early': 1400, 'century': 736, 'complicated': 925, 'occasionally': 3075, 'hilarious': 2106, 'emotionally': 1460, 'mind': 2849, 'whatever': 4859, 'numerous': 3062, 'student': 4238, 'simply': 3986, 'willing': 4889, 'handle': 2018, 'cuts': 1091, 'music': 2946, 'video': 4733, 'soap': 4047, 'opera': 3116, 'twists': 4619, 'dialogue': 1234, 'clever': 841, 'surprisingly': 4316, 'quite': 3495, 'roles': 3727, 'viewer': 4738, 'feels': 1687, 'within': 4912, 'undoubtedly': 4648, 'stays': 4169, 'examples': 1554, 'feature': 1678, 'sometimes': 4067, 'points': 3319, 'interest': 2323, 'widmark': 4882, 'doctor': 1304, 'mental': 2808, 'due': 1382, 'problems': 3409, 'ludicrous': 2685, 'conflict': 939, 'deal': 1135, 'library': 2589, 'wants': 4791, 'patients': 3212, 'somehow': 4063, 'breaks': 571, 'danger': 1109, 'families': 1644, 'start': 4156, 'apart': 264, 'sounds': 4084, 'occur': 3076, 'children': 792, 'logic': 2638, 'massive': 2756, 'wonders': 4931, 'buy': 640, 'following': 1774, 'composed': 926, 'academy': 77, 'award': 366, 'moment': 2886, 'brilliantly': 584, 'window': 4894, 'thus': 4486, 'long': 2644, 'pacing': 3163, 'viewing': 4740, 'why': 4878, 'comes': 891, 'focus': 1766, 'quickly': 3491, 'tell': 4395, 'original': 3129, 'sat': 3786, 'through': 4477, 'improvement': 2256, '45': 50, 'dead': 1132, 'nightmares': 3015, 'freddy': 1826, 'acts': 107, 'host': 2173, 'accept': 80, 'became': 431, 'carried': 698, 'looked': 2647, 'productions': 3420, 'call': 651, 'paid': 3169, 'certain': 737, 'types': 4622, 'ones': 3108, 'starting': 4158, 'brand': 565, 'having': 2054, 'porn': 3336, 'offered': 3088, 'week': 4837, 'half': 2007, 'expected': 1577, 'guest': 1992, 'already': 197, 'elm': 1447, 'asleep': 320, 'police': 3322, 'officer': 3092, 'crime': 1055, 'attacked': 338, 'son': 4070, 'killed': 2469, 'stand': 4143, 'station': 4164, 'free': 1827, 'thanks': 4423, 'corrupt': 1001, 'judge': 2424, '30': 42, 'court': 1020, 'matters': 2770, 'hands': 2020, 'group': 1980, 'led': 2558, 'fred': 1825, 'robin': 3715, 'hood': 2151, 'criminal': 1057, 'law': 2538, 'attempts': 343, 'track': 4544, 'bag': 384, 'ordinary': 3128, 'boy': 557, 'sick': 3963, 'otherwise': 3137, 'usual': 4699, 'involves': 2348, 'car': 680, 'chases': 771, 'plenty': 3307, 'prison': 3401, 'shower': 3957, 'bare': 398, 'ed': 1415, 'run': 3755, 'money': 2888, 'filming': 1718, 'knows': 2493, 'bell': 458, 'bother': 548, 'forgettable': 1794, 'nonsense': 3030, 'hits': 2125, 'lake': 2509, 'hence': 2083, 'our': 3139, 'proceeds': 3411, 'population': 3335, 'california': 650, 'capital': 673, 'monster': 2892, 'escape': 1517, 'mst3k': 2932, 'featuring': 1681, 'motion': 2913, 'beast': 422, 'dreadful': 1353, '1970s': 17, 'budget': 610, 'exploitation': 1592, 'guilty': 1995, 'crimes': 1056, 'obnoxious': 3067, 'serve': 3893, 'relief': 3605, 'stock': 4193, 'act': 97, 'pathetic': 3210, 'humanity': 2189, 'utterly': 4702, 'disappointed': 1273, 'higher': 2101, 'intense': 2316, 'reviewers': 3678, 'repeated': 3631, 'movements': 2924, '70': 55, 'aired': 165, 'public': 3460, 'television': 4394, 'seventies': 3904, 'homer': 2144, 'journey': 2421, 'home': 2142, 'epic': 1506, 'ancient': 225, 'list': 2617, 'events': 1536, 'dvd': 1391, 'language': 2516, 'pity': 3281, 'english': 1483, 'subtitles': 4259, 'problem': 3408, 'strongly': 4231, 'producer': 3415, 'buck': 605, 'treated': 4573, 'showing': 3958, 'girls': 1911, 'sexy': 3911, 'cops': 993, 'add': 115, 'decided': 1149, 'fill': 1714, 'space': 4090, 'ms': 2931, 'whom': 4875, 'talent': 4354, 'garbage': 1870, 'blowing': 515, 'head': 2057, 'boyfriend': 558, 'singer': 3993, 'demons': 1178, 'rock': 3720, 'band': 391, 'couldnt': 1008, 'shake': 3914, 'towards': 4540, 'ways': 4822, 'putting': 3482, 'returns': 3668, 'soul': 4079, 'album': 175, 'souls': 4080, 'anger': 235, 'members': 2801, 'returning': 3667, 'lousy': 2667, 'cheap': 774, 'plans': 3292, 'kill': 2468, 'arent': 288, 'effective': 1429, 'background': 380, 'reflection': 3585, 'dozen': 1338, 'memory': 2804, 'four': 1812, 'ghosts': 1903, 'personal': 3240, 'speaking': 4095, 'flat': 1748, 'oz': 3160, 'cup': 1080, 'drawing': 1350, 'scooby': 3820, 'doo': 1325, 'cartoons': 705, 'friendly': 1836, 'aged': 149, 'image': 2233, 'murdered': 2940, 'child': 789, 'explore': 1594, 'murder': 2939, 'parents': 3188, 'reach': 3536, 'cabin': 643, 'rarely': 3524, 'images': 2235, 'eerie': 1427, 'overdone': 3152, 'doors': 1329, 'open': 3112, 'themselves': 4435, 'forest': 1791, 'havent': 2053, 'door': 1328, 'note': 3044, 'scary': 3807, 'calling': 653, 'wrap': 4963, 'pet': 3246, 'somebody': 4062, 'stephen': 4176, 'across': 96, 'kings': 2481, 'creepy': 1052, 'check': 777, 'now': 3054, 'front': 1841, 'tv': 4610, 'changing': 752, 'begin': 442, 'wedding': 4836, 'protagonists': 3442, 'change': 749, 'born': 544, 'usually': 4700, 'talks': 4361, 'normal': 3033, 'particular': 3194, 'seconds': 3848, 'known': 2492, 'central': 735, 'opinions': 3119, 'create': 1036, 'destroy': 1213, 'sure': 4308, 'forget': 1793, 'unique': 4662, 'bold': 528, 'developed': 1223, 'directors': 1266, 'afraid': 140, 'ask': 316, 'questions': 3489, 'dig': 1250, 'surface': 4310, 'nature': 2975, 'practically': 3362, 'demands': 1175, 'minded': 2850, 'provoking': 3452, 'entertainment': 1500, 'filmmaker': 1719, 'vision': 4754, 'accomplished': 87, 'channel': 753, 'directions': 1262, 'island': 2361, 'superior': 4300, 'complex': 923, 'political': 3324, 'system': 4345, 'health': 2060, 'allows': 192, 'die': 1243, 'hospital': 2172, 'notion': 3050, 'sport': 4129, 'ah': 158, 'totally': 4532, 'itself': 2371, 'black': 493, 'hole': 2132, 'writes': 4970, 'philosophical': 3253, 'street': 4216, 'interviews': 2330, 'filmed': 1717, 'discover': 1279, 'scripted': 3835, 'lines': 2612, 'scenery': 3810, 'carefully': 689, 'san': 3780, 'festival': 1697, '25': 40, '2002': 32, 'sensitive': 3879, 'issue': 2364, 'india': 2273, 'kept': 2456, 'indian': 2274, 'producers': 3416, 'used': 4693, 'adds': 119, 'agree': 155, 'topic': 4526, 'treatment': 4574, 'similar': 3978, 'thank': 4421, 'kapoor': 2443, 'khan': 2459, 'lets': 2580, 'hamlet': 2013, 'filled': 1715, 'embarrassed': 1453, 'terrible': 4407, 'product': 3418, 'visit': 4755, 'quote': 3496, 'matthew': 2772, 'men': 2805, 'rare': 3523, 'species': 4098, 'distance': 1294, 'pay': 3216, 'millions': 2848, 'earned': 1401, 'college': 875, 'charm': 767, 'admittedly': 123, 'faults': 1669, 'naturally': 2974, 'besides': 468, 'miscast': 2862, 'role': 3726, 'grade': 1951, 'liked': 2600, 'live': 2625, 'charming': 768, 'wacky': 4769, 'attitude': 346, 'took': 4523, 'crazy': 1035, 'exists': 1573, 'gadget': 1860, 'maybe': 2776, 'hitchcock': 2123, 'feeling': 1685, 'runs': 3757, 'develop': 1222, 'unusual': 4681, 'disappoint': 1272, 'screenwriter': 3833, 'surreal': 4317, 'tale': 4353, 'absolutely': 72, 'soundtrack': 4085, 'future': 1856, 'somewhere': 4069, 'deep': 1154, 'asked': 317, 'joke': 2414, 'entirely': 1503, 'neither': 2996, 'skills': 4014, 'incredibly': 2270, 'drunk': 1375, 'need': 2987, 'corpse': 999, 'fish': 1738, 'shape': 3919, 'disc': 1278, 'player': 3298, 'fully': 1847, 'expecting': 1578, 'breasts': 572, 'science': 3816, 'fiction': 1702, 'noir': 3023, 'intelligence': 2313, 'pre': 3365, 'england': 1482, 'usa': 4691, 'art': 304, 'houses': 2180, 'arrived': 301, 'main': 2707, 'white': 4870, 'sir': 4000, 'joan': 2404, 'use': 4692, 'reference': 3582, 'discuss': 1283, 'explain': 1586, 'chemistry': 782, 'chain': 741, 'importance': 2246, 'provides': 3450, 'suit': 4284, 'game': 1864, 'explosion': 1596, 'major': 2711, 'acted': 98, 'delivered': 1170, 'gifted': 1907, 'believable': 453, 'play': 3296, 'irony': 2357, 'greek': 1970, 'everybody': 1540, 'worthy': 4956, 'three': 4469, 'particularly': 3195, 'brought': 600, 'break': 569, 'bette': 471, 'davis': 1126, 'mildred': 2841, 'rogers': 3725, 'showed': 3956, 'industry': 2280, 'struggles': 4235, 'jack': 2373, 'warner': 4799, 'realize': 3552, 'care': 684, 'philip': 3252, 'hide': 2097, 'fallen': 1638, 'weak': 4824, 'onto': 3111, 'occasion': 3073, 'gives': 1914, 'ran': 3513, 'away': 369, 'toward': 4539, 'relationship': 3597, 'leslie': 2574, 'howard': 2182, 'appear': 273, 'alan': 171, 'recently': 3567, 'vhs': 4725, 'wrote': 4974, 'nominated': 3025, 'youve': 4995, 'include': 2261, 'bob': 524, 'plays': 3301, 'released': 3603, 'infamous': 2284, 'conservative': 948, 'party': 3200, 'liberal': 2588, 'immediately': 2242, 'begins': 444, 'search': 3841, 'discovers': 1281, 'london': 2641, 'club': 863, 'identity': 2217, 'computer': 927, 'steals': 4172, 'smith': 4038, 'left': 2561, 'south': 4087, 'america': 212, 'wild': 4885, 'american': 213, 'headed': 2058, 'security': 3854, 'blue': 518, 'light': 2595, 'asks': 319, 'defeat': 1157, 'techniques': 4384, 'scheme': 3812, 'starts': 4159, 'assistant': 326, 'amount': 219, 'appears': 278, 'secretary': 3850, 'maggie': 2702, 'happily': 2030, 'ahead': 159, 'stories': 4205, 'legend': 2564, 'called': 652, 'adventures': 131, 'bland': 500, 'commented': 900, 'youd': 4987, 'horrible': 2163, 'approach': 282, 'visual': 4757, 'media': 2789, 'shouldnt': 3952, 'force': 1786, 'religious': 3608, 'propaganda': 3435, 'talking': 4360, 'conclusion': 936, 'human': 2188, 'weapon': 4828, 'guys': 2001, 'dancing': 1107, 'steven': 4182, 'jeff': 2390, 'forms': 1801, 'dance': 1103, 'predictable': 3367, 'fights': 1710, 'beats': 426, 'rush': 3759, 'rental': 3627, 'collection': 874, 'suggested': 4281, 'hurt': 2202, 'phone': 3255, 'bill': 481, 'pleasure': 3306, 'confusing': 942, 'mess': 2818, 'editing': 1421, 'slight': 4027, 'resemblance': 3645, 'falling': 1639, 'engaging': 1481, 'broken': 594, 'european': 1530, 'driving': 1368, 'road': 3709, 'unknown': 4668, 'speak': 4094, 'rain': 3506, 'loved': 2670, 'came': 656, 'classic': 835, 'ron': 3734, 'hot': 2174, 'underrated': 4642, 'mad': 2696, 'gem': 1877, 'mine': 2853, 'wish': 4904, 'release': 3602, 'tape': 4365, 'worn': 4948, 'cult': 1077, 'military': 2844, 'humor': 2192, 'worse': 4951, 'joey': 2408, 'eventually': 1537, 'rachel': 3500, 'green': 1971, 'barry': 401, 'discovered': 1280, 'independent': 2272, 'lost': 2660, 'susan': 4326, 'partner': 3198, 'moving': 2928, 'apartment': 265, 'paul': 3214, 'ps': 3453, 'proves': 3447, 'noted': 3045, 'listed': 2618, 'frame': 1815, 'drivel': 1364, 'expression': 1602, 'listen': 2619, 'tom': 4514, 'twilight': 4614, 'careers': 687, 'risk': 3704, 'impressed': 2251, 'sets': 3899, 'james': 2378, 'stewart': 4184, 'upon': 4684, 'magnificent': 2705, 'margaret': 2735, 'reveals': 3673, 'actress': 105, 'tragic': 4552, 'qualities': 3483, 'performer': 3231, 'easy': 1410, 'achieve': 92, 'breathtaking': 574, 'originally': 3131, 'silent': 3975, 'later': 2525, 'dubbed': 1379, 'voice': 4761, 'remains': 3611, 'stunning': 4244, 'tour': 4538, 'louis': 2665, 'brooks': 596, 'singing': 3995, 'helps': 2082, 'dubbing': 1380, 'resort': 3650, 'georges': 1894, 'enters': 1496, 'pair': 3176, 'legs': 2566, 'inside': 2297, 'sit': 4003, 'europe': 1529, 'sitting': 4007, 'reactions': 3542, 'louise': 2666, 'consider': 949, 'checking': 778, 'buffs': 612, 'speed': 4103, 'correct': 1000, '1990s': 25, 'versions': 4721, 'dated': 1119, 'compared': 912, 'bbc': 417, '1980s': 21, 'pieces': 3273, 'park': 3190, 'length': 2569, '90s': 61, 'st': 4137, 'covered': 1023, 'timothy': 4499, 'dalton': 1098, 'rochester': 3719, 'playing': 3300, 'jane': 2380, 'scope': 3821, 'southern': 4088, 'roy': 3745, 'nasty': 2968, 'form': 1798, 'super': 4295, 'cliff': 847, 'deaths': 1142, 'dangerous': 1110, 'stretch': 4221, 'meets': 2795, 'match': 2762, 'cool': 989, 'michael': 2829, 'smooth': 4041, 'martin': 2748, 'specific': 4099, 'intention': 2319, 'brother': 598, 'joe': 2407, 'brief': 579, 'cameo': 657, 'intriguing': 2335, '70s': 56, 'drive': 1363, 'soldier': 4053, 'boys': 559, 'gripping': 1976, 'creates': 1038, '50s': 52, 'setting': 3900, 'suspense': 4330, 'tense': 4403, 'wit': 4908, 'plus': 3311, 'michelle': 2830, 'gas': 1874, 'gary': 1873, 'morgan': 2905, 'local': 2634, 'johnny': 2410, 'climactic': 848, 'thrilling': 4474, 'terry': 4415, 'sharp': 3922, 'drawn': 1351, 'obsessed': 3069, 'kid': 2464, 'fatal': 1664, 'hit': 2122, 'incident': 2260, 'jesus': 2399, 'further': 1853, 'quality': 3484, 'winner': 4897, 'hours': 2177, 'travesty': 4570, 'honestly': 2147, 'prepared': 3371, 'faithful': 1634, 'plan': 3287, 'pick': 3265, 'copy': 994, 'florida': 1761, 'uk': 4626, 'oh': 3096, 'cruel': 1070, 'accents': 79, 'mans': 2730, 'british': 589, 'via': 4726, 'ireland': 2352, 'non': 3027, 'existent': 1572, 'prove': 3445, 'gone': 1935, 'union': 4661, 'flying': 1764, 'horribly': 2164, 'royal': 3746, 'navy': 2976, 'flies': 1756, 'literally': 2622, 'zero': 4996, 'available': 361, 'wars': 4804, 'troops': 4591, 'argument': 291, 'goes': 1930, 'interview': 2329, 'website': 4834, 'assume': 328, 'facial': 1619, 'hair': 2005, 'tried': 4584, 'extras': 1608, 'text': 4419, 'convey': 982, 'ironically': 2356, 'giving': 1915, 'ex': 1549, 'advice': 133, 'spielberg': 4110, 'wells': 4845, 'drug': 1373, 'hopes': 2159, 'leave': 2555, 'past': 3207, 'deals': 1137, 'trouble': 4592, 'trailer': 4554, 'instantly': 2306, 'finding': 1727, 'lucky': 2683, 'teenager': 4390, 'instant': 2305, 'romance': 3732, 'gangster': 1868, 'beat': 423, 'says': 3801, 'yes': 4982, 'throw': 4479, 'racism': 3502, 'hate': 2046, 'okay': 3099, 'shed': 3924, 'completely': 922, 'horrendous': 2162, 'rise': 3702, 'power': 3359, 'dressed': 1358, 'chief': 788, 'baseball': 403, 'parts': 3199, 'cringe': 1059, 'needless': 2989, 'foul': 1810, 'bears': 421, 'tonight': 4519, 'preview': 3386, 'screening': 3830, 'ripped': 3701, 'leaving': 2557, 'seat': 3845, 'sutherland': 4333, 'douglas': 1334, 'choice': 797, 'catherine': 719, 'jones': 2418, 'shoot': 3942, 'turkey': 4604, 'eva': 1531, 'shes': 3930, '20': 29, 'planet': 3289, 'secret': 3849, 'service': 3896, 'thriller': 4472, 'fire': 1734, 'safety': 3772, 'grown': 1984, 'kinds': 2478, 'mitchell': 2875, 'elaborate': 1439, 'defend': 1158, 'herself': 2092, 'case': 707, 'attractive': 351, 'defense': 1159, 'attorney': 348, 'rule': 3753, 'blank': 501, 'shut': 3961, 'final': 1722, 'result': 3660, 'insult': 2309, 'justice': 2438, 'killer': 2470, 'jail': 2376, 'innocent': 2294, 'victim': 4729, 'trial': 4580, 'eyes': 1613, 'vincent': 4746, 'surrounding': 4319, 'taylor': 4372, 'cross': 1066, 'sleazy': 4023, 'rating': 3529, 'forced': 1787, 'anymore': 258, 'lifetime': 2594, 'pays': 3218, 'killing': 2472, 'loser': 2655, 'constantly': 958, 'sight': 3969, 'word': 4937, 'twice': 4613, 'tender': 4401, 'viewed': 4737, 'philosophy': 3254, 'christians': 809, 'severe': 3906, 'paranoia': 3186, 'lived': 2626, 'christ': 807, '40': 48, 'explained': 1587, 'psychiatrist': 3455, 'belief': 451, 'reminded': 3619, 'longer': 2645, 'terms': 4406, 'taken': 4350, 'experience': 1580, 'childhood': 790, 'documentary': 1307, 'stated': 4161, 'recall': 3562, 'study': 4242, 'necessarily': 2983, 'incredible': 2269, 'native': 2972, 'required': 3641, 'schools': 3814, 're': 3535, 'zombie': 4997, 'review': 3676, 'site': 4005, 'suck': 4269, 'incoherent': 2265, 'understand': 4643, 'truck': 4595, 'continuity': 972, 'stands': 4147, 'please': 3304, 'girlfriend': 1910, 'sister': 4001, 'naked': 2959, 'ugly': 4625, 'mentioning': 2812, 'cover': 1022, 'decide': 1148, 'humour': 2194, 'snake': 4042, 'plane': 3288, 'potential': 3355, 'draws': 1352, 'situation': 4008, 'hundreds': 2196, 'firstly': 1737, 'cheek': 779, 'smile': 4036, 'genuinely': 1892, 'represents': 3639, 'secondly': 3847, 'wear': 4830, 'ratings': 3530, 'enormous': 1490, 'ian': 2209, 'author': 359, 'hitler': 2124, 'scientific': 3817, 'historically': 2120, 'mistakes': 2873, 'dies': 1245, 'moves': 2925, 'moved': 2922, 'frustrated': 1842, 'alfred': 181, 'characterization': 759, 'noble': 3021, 'follows': 1775, 'view': 4736, 'anti': 254, 'charisma': 762, 'nor': 3032, 'orders': 3127, 'disgusting': 1286, 'able': 66, 'portray': 3340, 'private': 3404, 'strange': 4211, 'beyond': 476, 'historical': 2119, 'location': 2635, 'impression': 2252, 'era': 1513, 'dentist': 1180, 'explaining': 1588, 'actions': 101, 'catches': 715, 'wives': 4918, 'providing': 3451, 'pool': 3327, 'phantom': 3251, 'mall': 2720, 'fits': 1741, 'famous': 1647, 'idea': 2213, 'homage': 2141, 'bright': 581, 'grave': 1962, 'useless': 4695, 'flashbacks': 1747, 'memorable': 2802, 'necessary': 2984, 'build': 614, 'spoilers': 4124, 'brutally': 604, 'torn': 4528, 'house': 2178, 'sell': 3871, 'order': 3126, 'survived': 4322, 'hidden': 2096, 'meanwhile': 2785, 'annoying': 249, 'conspiracy': 956, 'desperately': 1209, 'innovative': 2295, 'killings': 2473, 'satisfying': 3791, 'included': 2262, 'ken': 2453, 'recognize': 3569, 'dawn': 1127, 'equal': 1509, 'limited': 2606, 'mayor': 2777, 'elegant': 1441, 'lady': 2507, 'praise': 3364, 'leading': 2547, 'named': 2961, 'achievement': 94, 'career': 686, 'connection': 946, 'george': 1893, 'company': 910, 'produced': 3414, '11': 2, 'picked': 3266, 'bin': 483, 'canadian': 667, 'grand': 1953, 'macy': 2695, 'reminiscent': 3621, 'comedies': 889, '1950s': 14, 'crying': 1074, 'ages': 152, 'domino': 1319, 'mickey': 2831, 'christopher': 811, 'tony': 4521, 'scott': 3824, 'adventure': 130, 'bizarre': 492, 'emotional': 1459, 'hated': 2047, 'flicks': 1755, 'dad': 1095, 'model': 2880, 'bought': 552, 'warn': 4797, 'unless': 4669, 'calls': 654, 'teenage': 4389, 'hear': 2061, 'ramones': 3512, 'until': 4680, 'ignore': 2224, 'tired': 4501, 'teacher': 4375, 'sing': 3992, 'edition': 1422, 'project': 3427, 'question': 3487, 'sam': 3777, 'familys': 1646, 'related': 3594, 'prior': 3400, 'becoming': 435, 'kissing': 2484, 'kate': 2446, 'funnier': 1850, 'concerned': 932, 'kids': 2467, 'grew': 1972, 'provided': 3449, 'slapstick': 4019, 'drop': 1369, 'hat': 2045, 'absurd': 73, 'ben': 463, 'multi': 2935, 'idiot': 2218, 'anyways': 262, 'hey': 2095, 'forgive': 1795, 'fault': 1668, 'kinda': 2477, 'jimmy': 2403, 'werent': 4849, 'deserved': 1200, 'alone': 194, 'vacation': 4704, 'forever': 1792, 'shines': 3932, 'vehicle': 4718, 'shock': 3938, 'ability': 65, 'gags': 1862, 'genius': 1887, 'touching': 4536, 'tribute': 4581, 'hollywoods': 2138, 'makers': 2715, 'chosen': 805, 'wonderfully': 4929, 'present': 3374, 'ie': 2221, 'middle': 2833, 'costumes': 1006, 'settings': 3901, 'created': 1037, 'finest': 1730, 'appealing': 272, 'lovers': 2673, 'raymond': 3534, 'comical': 894, 'convincing': 985, 'china': 795, '30s': 44, 'jealous': 2388, 'mexican': 2826, 'bird': 484, 'awesome': 371, 'granted': 1957, 'educational': 1425, 'content': 966, 'satisfy': 3790, 'standards': 4145, 'loosely': 2651, 'irritating': 2359, 'lacked': 2503, '100': 1, 'theyll': 4444, 'saying': 3800, 'nancy': 2964, 'respected': 3653, '14': 6, 'rushed': 3760, 'followed': 1773, 'blood': 512, 'controversial': 978, 'shocking': 3940, 'exceptionally': 1559, 'international': 2326, 'writers': 4969, 'remarkable': 3613, 'locations': 2636, 'slightly': 4029, 'exceptional': 1558, 'perry': 3237, 'blake': 498, 'profound': 3423, 'unexpected': 4650, 'sympathy': 4343, 'masterful': 2758, 'opens': 3115, 'brings': 587, 'suddenly': 4273, 'flash': 1745, 'investigation': 2343, 'occurred': 3077, 'horrific': 2166, 'deeply': 1156, 'reviewer': 3677, 'farm': 1656, 'plain': 3286, 'murders': 2943, 'dennis': 1179, 'fame': 1642, 'beach': 419, 'encounters': 1467, 'gods': 1928, 'sake': 3775, 'lame': 2510, 'unbelievable': 4634, 'cute': 1090, 'save': 3794, 'interaction': 2322, 'mafia': 2700, 'weekend': 4838, 'remote': 3622, 'river': 3707, 'jon': 2416, 'voight': 4764, 'burt': 629, 'reynolds': 3684, 'bobby': 525, 'ned': 2986, 'beatty': 427, 'cox': 1026, 'among': 217, 'attack': 337, 'trip': 4588, 'nightmare': 3014, 'violence': 4747, 'rape': 3521, 'mood': 2898, 'immensely': 2243, 'mostly': 2910, 'debut': 1143, 'guts': 1999, 'jobs': 2406, 'escapes': 1519, 'letter': 2581, 'essential': 1522, 'capture': 676, 'realistic': 3550, 'senseless': 3878, 'doomed': 1327, 'shooting': 3943, 'weapons': 4829, 'hadnt': 2004, 'photography': 3260, 'colour': 880, 'balance': 387, 'rated': 3527, 'lowest': 2678, 'possibly': 3351, 'unwatchable': 4682, 'board': 522, 'spoken': 4126, 'strikes': 4225, 'means': 2783, 'modern': 2882, 'stage': 4139, 'flaw': 1749, 'running': 3756, 'cut': 1089, 'effect': 1428, 'medium': 2792, 'tiresome': 4502, 'structure': 4233, 'illogical': 2231, 'inept': 2281, 'details': 1219, 'technique': 4383, 'ship': 3934, 'musical': 2947, 'ships': 3935, 'presented': 3376, 'unconvincing': 4638, 'damage': 1099, 'staged': 4140, 'presumably': 3380, 'tied': 4489, 'excitement': 1562, 'glorious': 1921, 'several': 3905, 'clumsy': 866, 'curiosity': 1082, 'started': 4157, 'andrew': 228, 'storyline': 4208, 'thumbs': 4485, 'york': 4985, 'ad': 110, 'executive': 1567, 'move': 2921, 'construction': 960, 'water': 4816, 'feet': 1688, 'basement': 405, 'cary': 706, 'grant': 1956, 'imagined': 2239, 'lawyer': 2541, 'attitudes': 347, 'changed': 750, 'mrs': 2930, 'naive': 2958, 'causing': 726, 'horrors': 2169, '2003': 33, 'bloody': 513, 'toys': 4543, 'games': 1865, 'others': 3136, 'dvds': 1392, '16': 8, 'episodes': 1508, 'hoping': 2160, 'compare': 911, 'animation': 242, 'notch': 3043, 'competition': 918, 'proper': 3436, 'distribution': 1298, 'whoever': 4872, 'needs': 2990, 'dignity': 1252, 'meat': 2787, 'market': 2740, 'none': 3028, 'books': 536, 'wall': 4781, 'angry': 238, 'sisters': 4002, 'ought': 3138, 'scientist': 3818, 'sin': 3988, 'appreciated': 280, 'comics': 895, 'meaningful': 2781, 'date': 1118, 'atmosphere': 333, 'displayed': 1292, 'rising': 3703, 'medical': 2790, 'research': 3644, 'rebel': 3561, 'west': 4852, 'replaced': 3634, 'equally': 1510, 'suspenseful': 4331, 'paced': 3162, 'albeit': 173, 'briefly': 580, 'telling': 4396, 'distant': 1295, 'professional': 3421, 'dick': 1239, 'beauty': 430, 'genuine': 1891, 'futuristic': 1857, 'conventional': 979, 'exotic': 1574, 'names': 2963, 'arts': 310, 'poster': 3353, 'originality': 3130, 'miller': 2846, 'namely': 2962, 'bleak': 503, 'willis': 4890, 'persona': 3239, 'previous': 3387, 'straight': 4210, 'cause': 723, 'display': 1291, 'clichés': 846, 'ring': 3698, 'tales': 4357, 'leads': 2548, 'commit': 904, 'suicide': 4283, 'captures': 678, 'destruction': 1216, 'motives': 2916, 'elephant': 1444, 'skin': 4015, 'likely': 2601, 'post': 3352, 'retarded': 3663, 'dream': 1354, 'someones': 4065, 'junk': 2436, 'yeah': 4977, 'possessed': 3347, 'kills': 2474, 'losers': 2656, 'bus': 631, 'statement': 4162, 'gruesome': 1986, 'brutal': 603, 'pro': 3406, 'twisted': 4618, 'thoughts': 4464, 'contains': 964, 'separate': 3883, 'connected': 945, 'results': 3662, 'endless': 1473, 'torture': 4529, 'victims': 4730, 'surely': 4309, 'devil': 1228, 'misery': 2865, 'personally': 3243, 'focused': 1767, 'fake': 1635, 'amateurish': 207, 'crash': 1033, 'tension': 4404, 'missed': 2867, 'metal': 2823, 'icon': 2211, 'link': 2613, 'teenagers': 4391, 'troubled': 4593, 'juvenile': 2441, 'imagine': 2238, 'influenced': 2287, 'hoped': 2156, 'lovely': 2671, 'desperation': 1210, 'despair': 1207, 'convoluted': 987, 'threw': 4470, 'wasting': 4810, 'portrays': 3344, 'meaning': 2780, 'relatives': 3601, 'favorite': 1671, 'laughed': 2532, 'cried': 1054, 'luck': 2681, 'realized': 3553, 'unable': 4631, 'anywhere': 263, 'digital': 1251, 'cable': 644, 'searching': 3842, 'broadcast': 591, 'eight': 1436, 'exciting': 1563, 'contact': 961, 'radio': 3504, 'tune': 4602, 'installment': 2303, 'hooked': 2153, 'waited': 4771, 'learned': 2551, 'months': 2897, 'contrary': 974, 'casting': 711, 'captain': 674, 'dean': 1139, 'anderson': 227, 'burned': 626, 'complaint': 920, 'terrorist': 4413, 'arm': 292, 'jet': 2400, 'pilot': 3276, 'folks': 1771, 'players': 3299, 'blown': 516, 'aside': 315, 'enjoyed': 1486, 'building': 615, 'foreign': 1790, 'contain': 962, 'soldiers': 4054, 'fighting': 1709, 'held': 2074, 'ground': 1979, 'opened': 3113, 'ass': 323, 'noise': 3024, 'stay': 4166, 'sign': 3970, 'thrills': 4475, 'apparently': 270, 'issues': 2365, 'illegal': 2229, 'messed': 2821, 'lazy': 2543, 'grey': 1973, 'buying': 641, 'tough': 4537, 'henry': 2084, 'normally': 3034, 'villain': 4744, 'machine': 2693, 'punch': 3466, 'equivalent': 1512, 'dirty': 1268, 'harry': 2039, '50': 51, 'perform': 3227, 'stunts': 4246, 'le': 2544, 'train': 4556, 'wreck': 4965, 'tear': 4379, 'worked': 4941, 'doubt': 1332, 'stereotypical': 4180, 'negative': 2991, 'melodrama': 2797, 'sounded': 4082, 'delivering': 1171, 'imdb': 2240, 'goofy': 1939, 'curse': 1086, 'driven': 1365, 'pushing': 3479, 'plausible': 3295, 'explanation': 1590, 'motivation': 2914, 'field': 1704, 'wise': 4903, 'woods': 4935, 'glory': 1922, 'dealing': 1136, 'cases': 708, 'represent': 3637, 'roman': 3731, 'holiday': 2134, 'maker': 2714, 'classes': 834, 'appeared': 276, 'loose': 2650, 'victoria': 4732, 'general': 1880, 'successful': 4266, 'silver': 3977, 'flow': 1762, 'conversation': 980, 'broke': 593, 'laughter': 2535, 'deliberately': 1166, 'stranger': 4213, 'australia': 356, 'suggests': 4282, 'unnecessary': 4672, 'delivery': 1173, 'suspect': 4327, 'natural': 2973, 'button': 639, 'generally': 1881, 'value': 4709, 'test': 4416, 'redeeming': 3577, 'alive': 186, 'fabulous': 1615, 'goldberg': 1933, 'danny': 1112, 'glover': 1923, 'nomination': 3026, 'emotion': 1458, 'songs': 4072, 'scripts': 3836, 'stunt': 4245, 'tend': 4400, 'chinese': 796, 'cinemas': 817, 'unrealistic': 4677, 'properly': 3437, 'concerning': 933, 'womans': 4922, 'pointed': 3317, 'wearing': 4831, 'traditional': 4550, 'outfit': 3144, 'abc': 63, 'stopped': 4202, 'appreciate': 279, 'larry': 2520, 'sean': 3840, 'crew': 1053, 'ha': 2002, 'celluloid': 731, 'nicely': 3009, 'comparing': 913, 'cry': 1073, 'vampire': 4711, 'suitable': 4285, '35': 45, 'wouldnt': 4958, 'claimed': 829, 'matrix': 2767, 'lies': 2591, 'choreography': 802, 'unbelievably': 4635, 'arms': 294, 'circle': 821, 'smaller': 4034, 'carl': 692, 'inspiration': 2300, 'cuba': 1075, 'jr': 2423, 'second': 3846, 'food': 1778, 'inspired': 2301, 'landscapes': 2514, 'photographer': 3259, 'subsequent': 4257, 'popular': 3333, 'focusing': 1769, 'trail': 4553, 'boss': 546, 'favor': 1670, 'seasons': 3844, 'unlike': 4670, 'gritty': 1977, 'steve': 4181, 'rocky': 3723, 'captured': 677, 'split': 4120, 'individual': 2277, 'affair': 135, 'serial': 3889, 'killers': 2471, 'heroes': 2089, 'realism': 3549, 'respect': 3652, 'authority': 360, 'shall': 3916, 'whenever': 4863, 'wide': 4880, 'dry': 1377, 'record': 3573, 'challenging': 744, 'duty': 1390, 'regret': 3591, 'knowledge': 2491, 'hatred': 2049, 'red': 3576, 'embarrassment': 1455, 'thrown': 4481, 'plague': 3285, 'planned': 3290, 'considering': 952, 'ghost': 1902, 'animal': 239, 'lover': 2672, 'animals': 240, 'aliens': 184, 'unpleasant': 4674, 'entertained': 1498, 'singers': 3994, 'awards': 367, 'lifestyle': 2593, 'program': 3424, 'property': 3438, '2000': 30, 'cameron': 661, 'projects': 3428, 'helen': 2075, 'stronger': 4230, 'crafted': 1029, 'painting': 3175, 'feed': 1683, 'sun': 4292, 'claims': 830, 'buildings': 616, 'hed': 2072, 'wealthy': 4827, 'supposedly': 4307, 'ii': 2226, 'hip': 2114, '1980': 20, 'shakespeare': 3915, 'web': 4833, 'closed': 854, 'cost': 1003, 'halloween': 2010, 'opportunities': 3120, 'boredom': 542, 'cares': 690, 'loses': 2657, 'possible': 3350, 'large': 2517, 'measure': 2786, 'superficial': 4298, 'technology': 4385, 'cardboard': 682, 'golden': 1934, 'rooms': 3736, 'revolution': 3680, 'edited': 1420, 'alas': 172, 'below': 462, 'exist': 1569, 'ralph': 3510, 'tree': 4576, 'grandfather': 1954, 'constant': 957, 'bull': 619, 'personality': 3242, 'notice': 3048, 'photos': 3261, 'weeks': 4839, 'germany': 1898, 'gotten': 1947, 'uncle': 4636, 'france': 1816, 'spending': 4106, 'relationships': 3598, 'married': 2744, 'developing': 1224, 'stuck': 4237, 'sadistic': 3768, 'basis': 408, 'directing': 1260, 'ruins': 3752, 'substance': 4258, 'description': 1197, 'sunshine': 4294, 'shining': 3933, 'powers': 3361, 'plastic': 3294, 'magical': 2704, 'specifically': 4100, 'double': 1331, 'mask': 2752, 'desired': 1206, 'strip': 4228, 'upset': 4687, 'ruin': 3750, 'spin': 4112, 'lose': 2654, 'excessive': 1560, 'fly': 1763, 'inane': 2258, 'song': 4071, 'pg': 3250, '13': 4, 'comparison': 914, 'bound': 553, 'trained': 4557, 'wicked': 4879, 'pure': 3471, 'danes': 1108, 'outstanding': 3147, 'delightful': 1168, 'magic': 2703, 'round': 3742, 'kidding': 2465, 'dramas': 1347, 'treat': 4572, 'truth': 4599, 'vice': 4727, 'mike': 2838, 'animated': 241, 'status': 4165, 'mothers': 2912, 'speaks': 4096, 'universal': 4665, 'relate': 3593, 'pursuit': 3476, 'asking': 318, 'creativity': 1042, 'apparent': 269, 'experienced': 1581, 'opposed': 3122, 'critical': 1062, 'flop': 1760, 'soviet': 4089, 'restored': 3659, 'commercial': 902, 'cage': 645, 'kelly': 2452, 'sticks': 4186, 'cameos': 658, 'loves': 2674, 'includes': 2263, 'lisa': 2616, 'amanda': 205, '3d': 46, 'jason': 2383, 'mom': 2885, 'drugs': 1374, 'likable': 2598, 'nowhere': 3056, 'land': 2511, 'blatant': 502, 'parker': 3191, 'legal': 2563, 'sitcom': 4004, 'pot': 3354, 'brain': 562, 'helping': 2081, 'ray': 3533, 'introduction': 2339, 'cinematic': 818, 'samurai': 3779, 'trilogy': 4586, 'blade': 495, 'honor': 2150, 'veteran': 4724, 'itll': 2369, 'reached': 3537, 'jumped': 2430, 'everywhere': 1545, 'arrested': 298, 'peace': 3219, 'nation': 2969, 'late': 2523, 'japan': 2381, 'wwii': 4975, 'frequent': 1831, 'bumbling': 622, 'slowly': 4032, 'unfortunate': 4653, 'fate': 1665, 'progresses': 3426, 'centers': 734, 'primarily': 3393, 'growing': 1983, 'folk': 1770, 'backdrop': 379, 'push': 3477, 'holding': 2130, 'japanese': 2382, 'frank': 1821, 'discussion': 1284, 'glimpse': 1919, 'domestic': 1318, 'resources': 3651, 'actresses': 106, 'pitch': 3279, 'inner': 2292, 'strength': 4219, 'household': 2179, 'circumstances': 822, 'lovable': 2668, 'understanding': 4645, 'attracted': 349, 'wasted': 4809, 'continued': 970, 'tears': 4380, 'everyday': 1541, 'roll': 3728, 'remind': 3618, 'kim': 2475, 'haunting': 2051, 'companion': 909, 'un': 4630, 'transformation': 4560, 'witch': 4909, 'attraction': 350, 'altogether': 202, 'terrific': 4409, 'lemmon': 2567, 'aunt': 355, 'alcoholic': 177, 'drinking': 1362, 'theatrical': 4430, 'williams': 4888, 'reduced': 3579, 'laughing': 2533, 'reminds': 3620, 'anne': 246, 'gentle': 1890, 'miracle': 2860, 'understated': 4646, 'impact': 2244, 'mixture': 2878, 'photographed': 3258, 'themes': 4434, 'muslim': 2949, 'elderly': 1440, 'ultimate': 4627, 'italy': 2368, 'fathers': 1667, 'encounter': 1466, 'promises': 3432, 'guide': 1993, 'duo': 1386, 'bar': 396, 'countless': 1012, 'border': 539, 'agents': 151, 'progress': 3425, 'reasons': 3560, 'beliefs': 452, 'surrounded': 4318, 'overwhelming': 3157, 'manner': 2729, 'extraordinary': 1607, 'catch': 714, 'currently': 1085, 'movement': 2923, 'hype': 2207, 'descent': 1193, 'hoffman': 2128, 'manager': 2724, 'stealing': 4171, 'survive': 4321, 'streets': 4217, 'breaking': 570, 'midnight': 2834, 'cowboy': 1025, 'urban': 4688, 'students': 4239, 'busy': 635, 'victor': 4731, 'centered': 733, 'psycho': 3457, 'sends': 3876, 'thinks': 4454, 'concern': 931, 'psychotic': 3459, 'consequences': 947, 'burton': 630, 'accused': 91, 'fellow': 1691, 'hanging': 2023, 'deeper': 1155, 'process': 3412, 'culture': 1079, 'believes': 456, 'laws': 2540, 'sudden': 4272, 'discovery': 1282, 'steps': 4177, 'sky': 4017, 'contrast': 975, 'annie': 247, 'chris': 806, 'dinner': 1254, 'disturbed': 1299, 'subject': 4253, 'charlie': 765, 'continues': 971, 'convinced': 984, 'refuses': 3587, 'priest': 3392, 'mysteries': 2954, 'according': 88, 'underground': 4640, 'fears': 1677, 'climax': 849, 'morning': 2906, 'possibility': 3349, 'hint': 2112, 'spiritual': 4116, 'promising': 3433, 'element': 1442, 'yesterday': 4983, 'hates': 2048, 'unhappy': 4656, 'receives': 3565, 'third': 4455, 'bruce': 602, 'grace': 1950, 'merely': 2815, 'device': 1227, 'pop': 3330, 'marry': 2745, 'winds': 4895, 'heavy': 2070, 'handed': 2016, 'sounding': 4083, 'subtlety': 4261, '2nd': 41, 'blah': 496, 'freeman': 1829, 'choices': 798, 'aint': 163, 'proceedings': 3410, 'gag': 1861, 'selfish': 3870, 'saving': 3797, 'bang': 393, 'em': 1452, 'heads': 2059, 'unfunny': 4655, 'corporate': 998, 'jay': 2386, 'fool': 1779, 'cruise': 1071, 'compelling': 916, 'perfection': 3225, 'credible': 1048, 'expressions': 1603, 'bottle': 550, 'lights': 2597, 'hook': 2152, 'dear': 1140, 'proud': 3444, 'associated': 327, 'batman': 413, 'superman': 4301, 'cgi': 740, 'buff': 611, 'theyd': 4443, 'anime': 243, 'committed': 905, 'terrorists': 4414, 'fictional': 1703, 'blond': 510, 'eyed': 1612, 'al': 170, 'charles': 764, 'britain': 588, 'tiger': 4491, 'giant': 1905, 'fond': 1776, 'mini': 2854, 'size': 4012, 'puts': 3481, 'bible': 477, 'purple': 3473, 'yelling': 4980, 'antics': 255, 'chasing': 772, 'extreme': 1609, 'gang': 1867, 'cat': 713, 'anna': 245, 'hired': 2117, 'finished': 1733, 'sorts': 4078, 'chaos': 755, 'criminals': 1058, 'uneven': 4649, 'handful': 2017, 'witty': 4917, 'touch': 4533, 'unfolds': 4651, 'desert': 1198, 'mountains': 2918, 'nearby': 2980, 'likes': 2602, 'thick': 4447, 'moore': 2901, 'makeup': 2717, 'stan': 4142, 'relatively': 3600, 'unaware': 4632, 'con': 928, '1973': 19, 'heroine': 2091, 'thief': 4448, 'sports': 4130, 'nevertheless': 3002, 'spanish': 4092, 'prisoner': 3402, 'ride': 3692, 'brilliance': 582, 'blob': 507, 'teens': 4392, 'attached': 336, 'doctors': 1305, 'office': 3091, 'eating': 1413, 'path': 3209, 'cheesy': 781, 'touches': 4535, 'chess': 783, 'sword': 4340, 'faced': 1617, 'beating': 425, '12': 3, 'wandering': 4785, 'changes': 751, 'officers': 3093, 'virtually': 4751, 'heres': 2087, 'dinosaurs': 1256, 'jerry': 2396, 'awe': 370, 'hopefully': 2157, 'daughters': 1122, 'beautifully': 429, 'suited': 4286, 'regular': 3592, 'ago': 154, 'crack': 1027, 'stanley': 4148, 'suggest': 4280, 'thrillers': 4473, 'suspects': 4328, 'silence': 3974, 'whatsoever': 4861, 'till': 4493, 'valuable': 4708, 'merits': 2817, 'iran': 2350, 'credibility': 1047, 'slightest': 4028, 'landscape': 2513, 'errors': 1516, 'whereas': 4865, 'banned': 395, 'classical': 836, 'grim': 1974, 'alien': 183, 'misses': 2868, 'scared': 3805, 'fell': 1690, 'scientists': 3819, 'diana': 1237, 'battle': 414, 'brothers': 599, 'boxing': 556, 'lessons': 2578, 'theaters': 4428, 'critics': 1064, 'passed': 3202, 'empathy': 1462, 'urge': 4689, 'renting': 3629, 'eye': 1611, 'candy': 668, 'purposes': 3475, 'lyrics': 2692, 'boat': 523, 'accidentally': 85, 'titled': 4505, 'extra': 1606, 'coffee': 870, 'seemingly': 3863, 'decision': 1151, 'mundane': 2938, 'passes': 3203, 'contemporary': 965, 'cheating': 776, 'grandmother': 1955, 'homeless': 2143, 'serves': 3895, 'protagonist': 3441, 'concept': 930, 'storytelling': 4209, '15': 7, 'sacrifice': 3766, 'wondering': 4930, 'handled': 2019, 'ashamed': 312, 'hints': 2113, 'caught': 722, 'crocodile': 1065, 'hunter': 2199, 'cia': 814, 'australian': 357, 'strangely': 4212, 'choreographed': 801, 'knife': 2487, 'agent': 150, 'ridiculously': 3694, 'ten': 4399, 'million': 2847, 'described': 1195, 'alternate': 200, 'buddies': 608, 'accepted': 82, 'buddy': 609, 'mountain': 2917, 'leg': 2562, 'returned': 3666, 'absence': 70, 'suspicious': 4332, 'potentially': 3356, 'tunes': 4603, 'outer': 3143, 'twist': 4617, 'implausible': 2245, 'spend': 4105, 'football': 1783, 'team': 4378, 'bet': 470, 'stinker': 4191, 'memories': 2803, 'virginia': 4750, 'hardly': 2036, 'empty': 1465, 'stayed': 4167, 'enjoying': 1487, 'ice': 2210, 'nuts': 3064, 'fantasy': 1652, 'thousand': 4465, 'nights': 3016, 'prince': 3396, 'arrive': 300, 'june': 2433, 'haunted': 2050, 'blind': 506, 'dog': 1310, 'performed': 3230, 'rex': 3683, 'ranks': 3519, 'alexander': 180, 'powell': 3358, 'tim': 4494, 'miles': 2843, 'caused': 724, 'fx': 1858, 'oscars': 3134, 'furthermore': 1854, 'toilet': 4512, 'paper': 3183, 'touched': 4534, 'dealt': 1138, 'subjects': 4254, 'tends': 4402, 'decades': 1145, 'sings': 3997, 'recording': 3575, 'village': 4743, 'halfway': 2008, 'wrapped': 4964, 'happiness': 2031, 'heaven': 2068, 'thoroughly': 4459, 'hopper': 2161, 'former': 1800, 'snl': 4044, 'attempted': 341, 'miserably': 2864, 'elsewhere': 1449, 'support': 4303, 'mass': 2753, 'evening': 1534, 'sheer': 3925, 'suffice': 4279, 'depth': 1190, 'frequently': 1832, 'teen': 4388, 'canada': 666, 'audiences': 353, 'outside': 3146, 'gender': 1878, 'react': 3540, 'situations': 4009, 'bodies': 526, 'enemy': 1477, 'comfortable': 892, 'broad': 590, 'requires': 3642, 'quick': 3490, 'humorous': 2193, 'recognition': 3568, 'flaws': 1752, '17': 9, 'solution': 4059, 'evidence': 1546, 'position': 3345, 'enthusiasm': 1501, 'complain': 919, 'sloppy': 4030, 'selling': 3873, 'neat': 2982, 'portrait': 3339, 'damn': 1100, 'uncomfortable': 4637, 'mile': 2842, 'julie': 2428, 'waters': 4817, 'revelation': 3674, 'greed': 1968, 'heat': 2067, 'responsible': 3656, 'equipment': 1511, 'closely': 855, 'compelled': 915, 'contained': 963, 'bollywood': 530, 'coach': 868, 'jazz': 2387, 'cook': 988, 'secretly': 3851, 'chaplin': 756, 'lonely': 2643, 'bank': 394, 'internet': 2327, 'shy': 3962, 'met': 2822, 'birthday': 487, 'impossible': 2249, 'gorgeous': 1942, 'indeed': 2271, 'brazil': 568, 'shelley': 3928, 'winters': 4901, 'ideas': 2215, 'color': 877, 'pseudo': 3454, 'expensive': 1579, 'badly': 383, 'intrigue': 2333, 'jumping': 2431, 'bed': 436, 'lily': 2605, 'heck': 2071, 'gerard': 1895, 'combat': 882, 'physically': 3263, 'birth': 486, 'forgot': 1796, 'par': 3184, 'disappointment': 1275, 'creating': 1039, 'spectacular': 4101, 'sentimental': 3882, 'clean': 838, 'liners': 2611, 'adam': 111, 'sandler': 3781, 'suffers': 4278, 'butt': 638, 'existed': 1570, 'julia': 2427, 'summary': 4290, 'prevent': 3385, 'barbara': 397, 'captivating': 675, 'viewings': 4741, 'neck': 2985, 'success': 4265, 'locked': 2637, 'stale': 4141, 'questionable': 3488, 'received': 3564, 'reaction': 3541, 'intellectual': 2312, 'exploration': 1593, 'identify': 2216, 'offers': 3090, 'parallel': 3185, 'corruption': 1002, 'spots': 4132, 'revealing': 3672, 'humble': 2191, 'protect': 3443, 'feminist': 1695, 'faith': 1633, 'voices': 4763, 'chase': 769, 'earl': 1398, 'ensemble': 1492, 'figures': 1713, 'religion': 3607, 'toy': 4542, 'accompanied': 86, 'dimensional': 1253, 'imitation': 2241, 'cinematographer': 819, 'colonel': 876, 'key': 2458, 'individuals': 2278, 'per': 3223, 'direct': 1258, 'unpredictable': 4675, 'jumps': 2432, 'strangers': 4214, 'beaten': 424, 'raped': 3522, 'desire': 1205, 'benefit': 465, 'farce': 1654, '1933': 12, 'dr': 1340, 'fu': 1844, 'mentions': 2813, 'dropped': 1370, 'pink': 3277, 'global': 1920, 'hunt': 2198, 'retired': 3664, 'detective': 1220, 'comedian': 887, 'downhill': 1336, 'mate': 2765, 'wood': 4933, 'wondered': 4927, 'remotely': 3623, 'workers': 4943, 'tracks': 4545, 'performing': 3233, 'unlikely': 4671, 'access': 83, 'cameras': 660, 'network': 3000, 'suspend': 4329, 'disbelief': 1277, 'dolph': 1317, 'win': 4892, 'delivers': 1172, 'share': 3920, 'provide': 3448, 'german': 1896, 'useful': 4694, 'listening': 2620, 'awfully': 373, 'handsome': 2021, 'walker': 4778, 'dave': 1123, 'territory': 4411, 'army': 295, 'remaining': 3610, 'visits': 4756, 'hotel': 2175, 'indians': 2275, 'showdown': 3955, 'semi': 3874, 'subplot': 4255, 'waiting': 4772, 'dogs': 1311, 'teach': 4374, 'inducing': 2279, 'dislike': 1288, 'westerns': 4854, 'block': 508, 'witness': 4914, 'females': 1694, 'myers': 2952, 'walks': 4780, 'saved': 3795, 'carpenter': 694, 'builds': 617, 'unbearable': 4633, 'degree': 1164, 'terrifying': 4410, 'focuses': 1768, 'relevant': 3604, 'abuse': 74, 'dress': 1357, 'latter': 2528, 'advantage': 129, 'aspects': 322, 'forty': 1807, 'principal': 3398, 'activities': 102, 'amongst': 218, 'extent': 1605, 'husbands': 2205, 'addition': 118, 'diamond': 1236, 'bigger': 479, 'worlds': 4947, 'precious': 3366, 'material': 2766, 'cinderella': 815, 'disneys': 1290, 'pan': 3180, 'disney': 1289, 'atlantis': 332, 'loving': 2675, 'current': 1084, 'abusive': 75, 'redemption': 3578, 'chan': 746, 'highlight': 2103, 'assault': 324, 'mansion': 2731, 'cliché': 844, 'reaches': 3538, 'kung': 2498, 'flesh': 1753, 'zombies': 4998, 'attend': 344, 'zone': 4999, 'carrie': 697, 'baker': 385, 'neighbors': 2994, 'billy': 482, 'colorful': 878, 'stylish': 4251, 'nelson': 2997, 'rob': 3710, 'gray': 1963, 'don': 1320, '2006': 36, 'spirited': 4114, 'civil': 826, 'fortunately': 1805, 'spain': 4091, 'talked': 4359, 'rough': 3741, 'lesson': 2577, 'roger': 3724, 'resident': 3647, 'hill': 2108, 'silly': 3976, 'horrid': 2165, 'graphics': 1959, 'monsters': 2893, 'levels': 2585, 'huh': 2187, 'editor': 1423, 'confidence': 938, 'perspective': 3245, 'tedious': 4387, 'theatre': 4429, 'loud': 2664, 'hysterical': 2208, 'kicked': 2461, 'sum': 4289, 'bath': 411, 'promised': 3431, 'tag': 4348, 'consists': 955, 'regarding': 3589, 'marriage': 2743, 'narration': 2965, 'twelve': 4611, 'print': 3399, 'montage': 2894, 'eat': 1411, 'eddie': 1416, 'disappeared': 1271, 'gandhi': 1866, 'obscure': 3068, '1930s': 11, 'causes': 725, 'widely': 4881, 'believed': 455, 'mexico': 2827, 'scottish': 3825, 'member': 2800, 'achieved': 93, 'revealed': 3671, 'states': 4163, 'shortly': 3947, 'sympathetic': 4342, 'explored': 1595, 'spoke': 4125, 'therefore': 4439, 'cultural': 1078, 'influence': 2286, 'brosnan': 597, 'bond': 532, 'molly': 2884, 'voiced': 4762, 'fascinating': 1658, 'vicious': 4728, 'energy': 1478, 'investigate': 2342, 'solid': 4057, 'chilling': 794, 'surprising': 4315, 'hammer': 2014, 'arguably': 289, 'flawless': 1751, 'spooky': 4128, 'gothic': 1945, 'authentic': 358, 'fourth': 1813, 'wears': 4832, 'parody': 3192, 'dracula': 1341, 'pitt': 3280, 'queen': 3485, 'highlights': 2104, 'greatly': 1967, 'repeat': 3630, 'slasher': 4020, 'clips': 852, 'rocket': 3721, 'blow': 514, 'ups': 4686, 'flight': 1757, 'smoking': 4040, 'clip': 851, 'letting': 2583, 'ignorant': 2223, 'talented': 4355, 'adding': 117, 'factor': 1622, 'commentary': 899, 'mill': 2845, 'gratuitous': 1961, 'thousands': 4466, 'birds': 485, 'march': 2734, 'deliver': 1169, 'areas': 287, 'importantly': 2248, 'jump': 2429, 'wed': 4835, 'greater': 1965, 'relative': 3599, 'africa': 141, 'built': 618, 'visible': 4753, 'hunting': 2201, 'lord': 2652, 'rings': 3699, 'ourselves': 3140, 'pretend': 3381, 'bear': 420, 'packed': 3166, 'plant': 3293, 'beer': 439, 'swim': 4337, 'tons': 4520, 'wallace': 4782, 'creature': 1045, 'removed': 3624, 'context': 968, 'suffering': 4277, 'carter': 703, '60s': 54, 'adults': 126, 'amitabh': 216, 'dying': 1393, 'akshay': 169, 'spoiled': 4122, 'streisand': 4218, 'segment': 3867, 'poverty': 3357, 'performers': 3232, 'hugh': 2186, 'woody': 4936, 'refreshing': 3586, 'crowd': 1067, 'allen': 188, 'walk': 4775, 'smiling': 4037, 'inspiring': 2302, 'rotten': 3740, 'tomatoes': 4515, 'nations': 2971, 'fashioned': 1660, 'portraying': 3343, 'triumph': 4590, 'sunday': 4293, 'learning': 2552, 'creep': 1051, 'wound': 4960, 'ignored': 2225, 'annoyed': 248, 'ultimately': 4628, 'accident': 84, 'desperate': 1208, 'tie': 4488, 'kevin': 2457, 'random': 3514, 'page': 3167, 'laid': 2508, 'chances': 748, 'parties': 3196, 'hall': 2009, 'executed': 1565, 'angle': 236, 'laughably': 2531, 'theyve': 4446, 'gory': 1943, 'notably': 3042, 'gordon': 1940, 'chest': 784, 'rubbish': 3748, 'spell': 4104, 'sue': 4274, 'channels': 754, '24': 39, 'babe': 375, 'andy': 230, 'bits': 490, 'afford': 138, 'cube': 1076, 'cared': 685, 'afternoon': 144, 'trees': 4577, 'translation': 4562, 'kiss': 2483, 'yellow': 4981, 'dust': 1388, 'endings': 1472, 'similarities': 3979, 'amateur': 206, 'tradition': 4549, 'vast': 4716, 'displays': 1293, 'picks': 3268, 'vs': 4767, 'closer': 856, 'wet': 4855, '20th': 38, 'riveting': 3708, 'leader': 2546, 'pull': 3461, 'depicts': 1186, 'rural': 3758, 'safe': 3771, 'cash': 709, 'repeatedly': 3632, 'belongs': 460, 'mature': 2773, 'guilt': 1994, 'proof': 3434, 'exaggerated': 1552, 'bridge': 578, 'traveling': 4568, 'reveal': 3670, 'previously': 3388, '1st': 28, 'corny': 997, 'americans': 214, 'fortune': 1806, 'return': 3665, 'freak': 1824, 'hang': 2022, 'hamilton': 2012, 'sleep': 4024, 'lloyd': 2630, 'environment': 1505, 'dare': 1113, 'fairy': 1632, 'passionate': 3206, 'blend': 504, 'artists': 309, 'disappear': 1270, 'format': 1799, 'rules': 3754, 'covers': 1024, 'wes': 4851, 'waves': 4819, 'surfing': 4311, 'total': 4531, 'footage': 1782, 'aging': 153, 'convince': 983, 'bone': 533, 'comment': 898, 'hills': 2109, 'spoiler': 4123, 'teeth': 4393, 'disjointed': 1287, 'holes': 2133, '1984': 23, 'dragon': 1344, 'master': 2757, 'superbly': 4297, 'training': 4558, 'heavily': 2069, 'idiotic': 2219, 'rival': 3706, 'mars': 2746, 'notorious': 3051, 'reel': 3581, 'timing': 4498, 'prequel': 3372, 'answer': 251, 'luckily': 2682, 'lust': 2689, 'sub': 4252, 'sadness': 3770, 'freedom': 1828, 'airplane': 166, 'manage': 2722, 'express': 1600, 'innocence': 2293, 'explosions': 1597, 'politics': 3326, 'timeless': 4496, 'narrative': 2966, 'patient': 3211, 'raised': 3508, 'thugs': 4484, 'basketball': 409, 'university': 4667, 'championship': 745, 'soccer': 4048, 'quirky': 3493, 'hurts': 2203, 'chair': 742, 'slick': 4026, 'larger': 2519, 'revolves': 3682, 'matches': 2764, 'skill': 4013, 'justify': 2439, 'existence': 1571, 'significant': 3972, 'martial': 2747, 'lengthy': 2570, 'blockbuster': 509, 'impress': 2250, 'fancy': 1649, 'understood': 4647, 'pack': 3165, 'price': 3389, 'manhattan': 2726, 'broadway': 592, 'matt': 2768, 'rats': 3531, 'lips': 2615, 'rat': 3525, 'exception': 1557, 'twins': 4616, 'sappy': 3784, 'speech': 4102, 'goodness': 1938, 'behavior': 446, 'swimming': 4338, 'hello': 2078, 'drops': 1372, 'kitchen': 2485, 'source': 4086, 'paltrow': 3178, 'amusing': 221, 'marvelous': 2750, 'prefer': 3368, 'hearted': 2065, 'felix': 1689, 'walter': 4784, 'matthau': 2771, 'versus': 4722, 'francis': 1818, 'serving': 3897, 'cheese': 780, 'throwing': 4480, 'table': 4346, 'enjoys': 1489, 'condition': 937, 'overly': 3155, 'references': 3583, 'occurs': 3078, 'caliber': 649, 'code': 869, 'hiding': 2099, 'rose': 3739, 'stops': 4203, 'duke': 1383, 'camp': 662, 'los': 2653, 'angeles': 233, 'united': 4664, 'september': 3884, 'businessman': 634, 'murderer': 2941, 'chorus': 803, 'dorothy': 1330, 'melodramatic': 2798, 'thirty': 4456, 'inevitable': 2282, 'patrick': 3213, 'donald': 1321, 'wing': 4896, 'arthur': 305, 'disagree': 1269, 'routine': 3743, 'loaded': 2632, 'vietnam': 4735, 'offer': 3087, 'convincingly': 986, 'atmospheric': 334, 'downright': 1337, 'minimal': 2855, 'van': 4713, 'pass': 3201, 'depressing': 1188, 'conceived': 929, 'depicted': 1183, 'rolled': 3729, 'aid': 160, 'figured': 1712, 'junior': 2435, 'mid': 2832, 'horrifying': 2167, 'picking': 3267, 'occasional': 3074, 'peoples': 3222, 'dollar': 1314, 'response': 3654, 'behave': 445, 'fat': 1663, 'robot': 3717, 'robots': 3718, 'contest': 967, 'transition': 4561, 'poignant': 3315, 'remarkably': 3614, 'trapped': 4564, 'complexity': 924, 'easier': 1405, 'claire': 831, 'catching': 716, 'buried': 624, 'mel': 2796, 'todd': 4510, 'threat': 4467, 'signs': 3973, 'foster': 1809, 'scale': 3802, 'numbers': 3061, 'education': 1424, 'childrens': 793, 'novels': 3053, 'reads': 3545, 'tad': 4347, 'ties': 4490, 'hunters': 2200, 'bore': 540, 'rangers': 3517, 'apes': 267, 'ape': 266, 'creatures': 1046, 'uninteresting': 4660, 'fashion': 1659, 'lying': 2690, 'distinct': 1296, 'kong': 2494, 'painfully': 3172, 'worthwhile': 4955, 'musicals': 2948, 'oliver': 3102, 'menacing': 2807, 'pushed': 3478, 'corner': 996, 'capable': 672, 'madness': 2698, 'welles': 4844, 'americas': 215, 'orson': 3132, 'polanski': 3321, 'creative': 1041, 'visuals': 4759, 'widow': 4883, 'ryan': 3765, 'trio': 4587, 'excited': 1561, 'drag': 1342, 'spring': 4134, 'amy': 222, 'monk': 2889, 'lynch': 2691, 'magazine': 2701, 'nicholas': 3010, 'ultra': 4629, 'proved': 3446, 'appalling': 268, 'lighting': 2596, 'abysmal': 76, 'blair': 497, 'notes': 3046, '1990': 24, 'fest': 1696, 'month': 2896, 'der': 1191, 'satan': 3787, 'brad': 560, 'overlooked': 3154, 'acid': 95, 'throws': 4482, 'lit': 2621, 'carrying': 701, 'models': 2881, 'engage': 1479, 'arnold': 296, 'mistaken': 2872, 'warriors': 4803, 'rap': 3520, 'videos': 4734, 'shirt': 3937, 'shorts': 3948, 'bathroom': 412, 'starred': 4153, 'placed': 3283, 'cynical': 1093, 'believing': 457, 'belong': 459, 'staff': 4138, 'experiences': 1582, 'mechanical': 2788, 'attacks': 339, 'reflect': 3584, 'wizard': 4919, 'friday': 1834, '13th': 5, 'allow': 189, 'creation': 1040, 'weve': 4856, 'root': 3737, 'spoof': 4127, 'texas': 4418, 'saturday': 3792, 'delight': 1167, 'cg': 739, 'improved': 2255, 'crude': 1069, 'pride': 3391, 'formulaic': 1803, 'president': 3378, 'fighter': 1708, 'jaw': 2384, '2004': 34, 'accurate': 90, 'moon': 2900, 'information': 2288, 'shocked': 3939, 'craft': 1028, 'exact': 1550, 'race': 3499, 'stones': 4198, 'rocks': 3722, 'worry': 4950, 'adapted': 114, 'quotes': 3497, 'interpretation': 2328, 'mere': 2814, 'depicting': 1184, 'overcome': 3151, 'judging': 2425, 'sally': 3776, 'meaningless': 2782, 'sits': 4006, 'boot': 538, 'latest': 2526, 'painted': 3174, 'terror': 4412, 'forces': 1788, 'petty': 3249, 'inappropriate': 2259, 'hilariously': 2107, 'incompetent': 2266, 'stinks': 4192, 'murderous': 2942, 'term': 4405, 'explicit': 1591, 'visually': 4758, 'unoriginal': 4673, 'row': 3744, 'scare': 3803, 'nose': 3037, 'falk': 1636, 'poetry': 3314, 'smoke': 4039, 'hank': 2024, 'princess': 3397, 'gift': 1906, 'hanks': 2025, 'intentionally': 2320, 'illness': 2230, 'hudson': 2184, 'afterwards': 145, 'laura': 2536, 'johnson': 2411, 'moody': 2899, 'frightening': 1839, 'supernatural': 4302, 'merit': 2816, 'crisis': 1060, 'disaster': 1276, 'mainstream': 2709, 'generation': 1883, 'kudos': 2497, 'producing': 3417, 'rick': 3689, 'report': 3635, 'essence': 1521, 'shirley': 3936, 'views': 4742, 'shoots': 3944, 'watches': 4814, 'alright': 198, 'angles': 237, 'bourne': 554, 'calm': 655, 'brian': 576, 'carries': 699, 'swear': 4334, 'consistently': 954, 'depression': 1189, 'trek': 4578, 'spare': 4093, 'bringing': 586, 'nail': 2957, 'command': 897, 'dynamic': 1394, 'everyones': 1543, 'worker': 4942, 'robbery': 3711, 'expert': 1585, 'ego': 1435, 'directly': 1263, 'cure': 1081, 'jessica': 2398, 'simpson': 3987, 'max': 2774, 'von': 4765, 'slaughter': 4021, 'savage': 3793, 'graphic': 1958, 'thoughtful': 4463, 'jerk': 2395, 'intensity': 2317, 'argue': 290, 'initial': 2290, 'confusion': 943, 'kidnapped': 2466, 'wounded': 4961, 'neighborhood': 2993, 'jesse': 2397, 'pulling': 3463, 'kurt': 2499, 'russell': 3761, 'square': 4136, 'contrived': 976, 'resembles': 3646, 'bud': 607, 'drunken': 1376, 'sid': 3964, 'daddy': 1096, 'tricks': 4583, 'overrated': 3156, 'invisible': 2344, 'closing': 859, 'ballet': 389, 'charismatic': 763, 'decade': 1144, 'monkeys': 2891, 'virus': 4752, 'survivors': 4325, 'transfer': 4559, 'diane': 1238, 'lane': 2515, 'holly': 2136, 'spite': 4117, 'pamela': 3179, 'sole': 4055, 'minimum': 2856, 'grows': 1985, 'paint': 3173, 'walls': 4783, 'spends': 4107, 'cheated': 775, 'successfully': 4267, 'passing': 3204, 'receive': 3563, 'responsibility': 3655, 'alongside': 196, 'choose': 799, 'lay': 2542, 'landing': 2512, 'bonus': 534, 'richards': 3687, 'plots': 3310, 'suffer': 4275, 'operation': 3117, 'todays': 4509, 'dances': 1106, 'section': 3853, 'generated': 1882, 'nazi': 2977, 'parent': 3187, 'sexuality': 3909, 'realizing': 3555, 'obsession': 3070, 'pain': 3170, 'fascinated': 1657, 'eighties': 1437, 'nuclear': 3057, 'combined': 885, 'spy': 4135, 'represented': 3638, 'rage': 3505, 'fbi': 1675, 'presents': 3377, 'describes': 1196, 'gradually': 1952, 'introduces': 2338, 'experiment': 1583, 'fever': 1699, 'travels': 4569, 'struck': 4232, 'beloved': 461, 'chicks': 787, 'wooden': 4934, 'psychic': 3456, 'burns': 628, 'task': 4368, 'keaton': 2448, 'ho': 2127, 'advanced': 128, 'practice': 3363, 'uwe': 4703, 'boll': 529, 'topless': 4527, 'eccentric': 1414, 'eaten': 1412, 'mummy': 2937, 'nazis': 2978, 'portion': 3338, 'devoted': 1231, 'grab': 1949, 'neighbor': 2992, 'masses': 2755, 'pie': 3271, 'purchase': 3469, 'nonsensical': 3031, 'alcohol': 176, 'lena': 2568, 'conflicts': 940, 'prime': 3395, 'satire': 3788, 'unreal': 4676, 'pit': 3278, 'seek': 3858, 'lively': 2627, 'threatening': 4468, 'tight': 4492, 'failing': 1627, 'cars': 702, 'cleverly': 842, 'relation': 3595, 'highest': 2102, 'masterpieces': 2760, 'promise': 3430, 'combination': 883, 'false': 1641, 'oil': 3097, 'recognized': 3570, 'cards': 683, 'werewolf': 4850, 'tame': 4363, 'hbo': 2055, 'struggling': 4236, 'polished': 3323, 'talents': 4356, 'guarantee': 1987, 'staying': 4168, 'faces': 1618, 'copies': 992, 'stanwyck': 4149, 'newly': 3004, 'performs': 3234, 'gold': 1932, 'genres': 1889, 'brains': 563, 'unseen': 4678, 'jenny': 2393, 'flashback': 1746, 'possibilities': 3348, 'beneath': 464, 'porno': 3337, 'quiet': 3492, 'reporter': 3636, 'careful': 688, 'strike': 4224, 'intrigued': 2334, '40s': 49, 'scores': 3823, 'recorded': 3574, 'seeking': 3859, 'shop': 3945, 'creator': 1043, 'pacino': 3164, 'dude': 1381, 'mario': 2738, 'angela': 232, 'mail': 2706, 'catchy': 717, 'send': 3875, 'east': 1407, 'ticket': 4487, 'abraham': 69, 'lincoln': 2608, 'fonda': 1777, 'fare': 1655, 'caring': 691, 'sons': 4073, 'clown': 862, 'pleased': 3305, 'lately': 2524, 'fix': 1744, 'slap': 4018, 'trade': 4547, 'literature': 2623, 'eyre': 1614, '1983': 22, 'artistic': 308, '60': 53, 'regard': 3588, 'dutch': 1389, 'simplistic': 3985, 'museum': 2945, 'hitting': 2126, 'heroic': 2090, 'riding': 3695, 'jake': 2377, 'wore': 4939, 'irish': 2353, 'groups': 1981, 'brady': 561, 'streep': 4215, 'evident': 1547, 'machines': 2694, 'improve': 2254, 'stevens': 4183, 'poem': 3312, 'battles': 415, 'temple': 4398, 'remain': 3609, 'flynn': 1765, 'tremendous': 4579, 'wind': 4893, 'goal': 1925, 'account': 89, 'frustration': 1843, 'ward': 4793, 'insight': 2298, 'citizen': 824, 'kane': 2442, 'pages': 3168, 'counter': 1011, 'mighty': 2836, 'popularity': 3334, 'seven': 3903, 'generations': 1884, 'lucas': 2680, 'appearing': 277, 'seagal': 3839, 'assigned': 325, 'mission': 2870, 'deadly': 1133, 'fury': 1855, 'strictly': 4223, 'settle': 3902, 'solo': 4058, 'nostalgic': 3039, 'eager': 1396, 'likewise': 2603, 'capturing': 679, 'ashley': 313, 'trick': 4582, 'treats': 4575, 'anthony': 253, 'mentally': 2809, 'simon': 3982, 'frankly': 1823, 'sixties': 4011, 'commercials': 903, 'chased': 770, 'castle': 712, 'holmes': 2139, 'bullets': 621, 'joseph': 2419, 'randomly': 3515, 'grasp': 1960, 'daring': 1114, 'utter': 4701, 'warmth': 4796, 'personalities': 3241, 'differences': 1247, 'typically': 4624, 'greedy': 1969, 'mild': 2839, 'oddly': 3081, 'campy': 664, 'stiff': 4187, 'awkward': 374, 'minds': 2852, 'spread': 4133, 'closet': 858, 'linda': 2609, 'chuck': 812, 'beings': 449, 'enterprise': 1495, 'variety': 4714, 'alice': 182, 'outcome': 3142, 'warrior': 4802, 'dozens': 1339, 'miserable': 2863, 'directs': 1267, 'et': 1526, 'empire': 1464, 'kirk': 2482, 'established': 1524, 'quit': 3494, 'couples': 1017, 'instinct': 2308, 'nurse': 3063, 'competent': 917, 'imagery': 2234, 'symbolism': 4341, 'overacting': 3149, 'aforementioned': 139, 'dancer': 1104, 'pulls': 3464, 'lasted': 2522, 'involve': 2345, 'crucial': 1068, 'inferior': 2285, 'gene': 1879, 'fifteen': 1706, 'ruined': 3751, 'harder': 2035, 'bo': 521, 'chick': 786, 'vampires': 4712, 'screams': 3828, 'tracy': 4546, 'effectively': 1430, 'tall': 4362, 'adequate': 120, 'doc': 1303, 'pulp': 3465, 'aka': 168, 'kenneth': 2455, 'pal': 3177, 'map': 2733, 'wrestling': 4966, 'titanic': 4503, 'partly': 3197, 'swedish': 4335, 'pops': 3332, 'repetitive': 3633, 'advance': 127, 'showcase': 3954, 'nostalgia': 3038, 'studios': 4241, 'league': 2549, 'shelf': 3926, 'newspaper': 3006, 'betty': 474, 'daily': 1097, 'exercise': 1568, 'seed': 3856, 'uninspired': 4657, 'bergman': 466, 'tommy': 4516, 'ease': 1404, 'trailers': 4555, 'superhero': 4299, 'imaginative': 2237, 'sullivan': 4288, 'jeremy': 2394, 'assumed': 329, 'lucy': 2684, 'resist': 3648, 'ideal': 2214, 'initially': 2291, 'nervous': 2999, 'hearts': 2066, 'crush': 1072, 'wishing': 4907, 'dating': 1120, 'ya': 4976, 'burn': 625, 'virgin': 4749, 'asian': 314, 'clichéd': 845, 'throat': 4476, 'step': 4175, 'critic': 1061, 'priceless': 3390, 'dreary': 1356, 'factory': 1623, 'carradine': 695, 'abandoned': 62, 'stone': 4197, 'montana': 2895, 'borrowed': 545, 'manipulative': 2727, 'floor': 1759, 'wendy': 4846, 'financial': 1725, 'reasonably': 3559, 'wolf': 4920, 'leonard': 2572, 'murphy': 2944, 'doubts': 1333, 'lees': 2560, 'sentence': 3881, 'purely': 3472, 'faster': 1662, 'dialogues': 1235, 'universe': 4666, 'godzilla': 1929, 'designed': 1203, 'chose': 804, 'shell': 3927, 'mirror': 2861, 'jewish': 2401, 'intentions': 2321, 'props': 3439, 'germans': 1897, 'letters': 2582, 'snow': 4045, 'knock': 2488, 'kicking': 2462, '1999': 27, 'norman': 3035, 'lesser': 2576, 'homosexual': 2145, 'witches': 4910, 'insane': 2296, 'guessed': 1990, 'massacre': 2754, 'blew': 505, 'irrelevant': 2358, 'passion': 3205, 'darker': 1116, 'peters': 3248, 'satisfied': 3789, 'wanna': 4786, 'rendition': 3625, 'andrews': 229, 'dickens': 1240, 'helped': 2080, 'clothes': 860, 'lower': 2677, 'bay': 416, 'enjoyment': 1488, 'hardcore': 2034, 'cannibal': 669, 'depiction': 1185, 'edgar': 1417, 'journalist': 2420, 'deceased': 1146, 'spider': 4109, 'unsettling': 4679, 'definition': 1163, 'lab': 2501, 'attempting': 342, 'signed': 3971, 'weakest': 4825, 'storm': 4206, 'heights': 2073, 'sincere': 3991, 'affect': 136, 'vague': 4705, 'inventive': 2341, 'witnesses': 4916, 'explains': 1589, 'closest': 857, 'method': 2824, 'object': 3066, 'vaguely': 4706, 'dropping': 1371, 'indie': 2276, 'cd': 728, 'creators': 1044, 'fit': 1740, 'franchise': 1817, 'scarecrow': 3804, 'guessing': 1991, 'hideous': 2098, 'insulting': 2310, 'ruthless': 3764, 'hop': 2154, 'tap': 4364, 'notable': 3041, 'considerable': 950, 'develops': 1226, 'coherent': 871, 'alert': 178, 'awake': 365, 'sleeping': 4025, 'moronic': 2907, 'embarrassing': 1454, 'reaching': 3539, 'artificial': 306, 'avoided': 364, 'mtv': 2933, 'fed': 1682, 'backgrounds': 381, 'tea': 4373, 'stellar': 4174, 'motivations': 2915, 'brooklyn': 595, '2007': 37, 'hong': 2149, 'suffered': 4276, 'fooled': 1780, 'edward': 1426, 'elvira': 1450, 'mistress': 2874, 'nicholson': 3011, 'nonetheless': 3029, 'judy': 2426, 'dedicated': 1153, 'fired': 1735, 'base': 402, 'wholly': 4874, 'taught': 4370, 'appearances': 275, 'definite': 1161, 'online': 3109, 'helicopter': 2076, 'escaped': 1518, 'jamie': 2379, 'curtis': 1087, 'marketing': 2741, 'campbell': 663, 'garbo': 1871, 'mgm': 2828, 'concerns': 934, 'raising': 3509, 'grow': 1982, 'rescue': 3643, 'arrogant': 303, 'glass': 1917, 'incomprehensible': 2267, 'experiments': 1584, 'keeping': 2450, 'secrets': 3852, 'davies': 1125, 'brown': 601, 'luke': 2687, 'gabriel': 1859, 'screens': 3832, 'spirits': 4115, 'inevitably': 2283, 'brenda': 575, 'trashy': 4566, 'giallo': 1904, 'logical': 2639, 'caine': 647, 'deaf': 1134, '80': 58, 'expressed': 1601, '2001': 31, 'politically': 3325, 'fisher': 1739, 'odds': 3082, 'abilities': 64, 'clark': 832, 'saga': 3773, 'subplots': 4256, 'multiple': 2936, 'agreed': 156, 'hollow': 2135, 'gain': 1863, 'audio': 354, 'eve': 1532, 'nowadays': 3055, 'marie': 2737, 'cats': 721, 'weight': 4840, 'narrator': 2967, 'remembered': 3617, 'exposure': 1599, 'emma': 1457, 'witnessed': 4915, 'introduce': 2336, 'cave': 727, 'dragged': 1343, 'demand': 1174, 'panic': 3181, 'forth': 1804, 'disease': 1285, 'guard': 1988, 'underlying': 4641, 'lion': 2614, 'armed': 293, 'directorial': 1265, 'scenario': 3808, 'burning': 627, 'restaurant': 3658, 'fields': 1705, 'april': 284, 'marty': 2749, 'lone': 2642, 'hippie': 2115, 'lawrence': 2539, 'prom': 3429, 'donna': 1323, 'jonathan': 2417, 'favorites': 1672, '1968': 16, 'revolutionary': 3681, 'unit': 4663, 'survivor': 4324, 'morris': 2908, 'mindless': 2851, 'formula': 1802, 'branagh': 564, 'shark': 3921, 'finger': 1731, 'generous': 1886, 'hart': 2041, 'pat': 3208, 'gangsters': 1869, 'wannabe': 4787, '2005': 35, 'cooper': 990, 'justin': 2440, 'sidekick': 3966, 'engaged': 1480, 'jackie': 2374, 'enemies': 1476, 'sidney': 3968, 'punishment': 3467, 'communist': 907, 'admire': 121, 'acceptable': 81, 'kay': 2447, 'vengeance': 4719, 'cake': 648, 'conversations': 981, 'melting': 2799, 'drink': 1361, 'ann': 244, 'ear': 1397, 'elizabeth': 1445, 'olivier': 3103, 'ham': 2011, 'warming': 4795, 'constructed': 959, 'cell': 730, 'twin': 4615, 'vegas': 4717, 'facing': 1620, 'involvement': 2347, 'ocean': 3079, 'segments': 3868, 'connect': 944, 'liking': 2604, 'boom': 537, 'succeed': 4262, 'endure': 1475, 'horses': 2171, '3000': 43, 'amounts': 220, 'joined': 2413, 'korean': 2495, 'ginger': 1908, 'adorable': 124, 'quest': 3486, 'piano': 3264, 'iron': 2354, 'detailed': 1218, 'sea': 3838, '1972': 18, 'limits': 2607, 'ball': 388, 'featured': 1679, 'raw': 3532, 'emphasis': 1463, 'nyc': 3065, 'suits': 4287, 'african': 142, 'blacks': 494, 'ford': 1789, 'washington': 4806, 'resulting': 3661, 'da': 1094, 'destiny': 1212, 'allowing': 191, 'teaching': 4377, 'rights': 3697, 'kingdom': 2480, 'garden': 1872, 'devils': 1229, 'advertising': 132, 'outrageous': 3145, 'rubber': 3747, 'dinosaur': 1255, 'sink': 3999, 'slave': 4022, 'appreciation': 281, 'poetic': 3313, 'popcorn': 3331, 'dire': 1257, 'valley': 4707, 'gundam': 1997, 'concert': 935, 'titles': 4506, 'arrival': 299, 'destroying': 1215, 'karen': 2444, 'relies': 3606, 'mob': 2879, 'charlotte': 766, 'sarah': 3785, 'santa': 3783, 'ellen': 1446, 'intimate': 2331, 'jackson': 2375, 'reed': 3580, 'shine': 3931, 'blows': 517, 'aids': 161, 'regardless': 3590, 'sexually': 3910, 'hyde': 2206, 'ruth': 3763, 'fetched': 1698, 'bucks': 606, 'served': 3894, 'harris': 2038, 'challenge': 743, 'monkey': 2890, 'demon': 1177, 'turner': 4607, 'maria': 2736, 'civilization': 827, 'franco': 1820, 'winter': 4900, 'charge': 761, '1940s': 13, 'card': 681, 'scrooge': 3837, 'cousin': 1021, 'summer': 4291, 'wake': 4774, 'frankenstein': 1822, 'distracting': 1297, 'stargate': 4151, 'gotta': 1946, 'photo': 3257, 'clues': 865, 'splatter': 4118, 'carol': 693, 'stiller': 4189, 'stress': 4220, 'bargain': 400, 'sinatra': 3989, 'striking': 4226, 'prize': 3405, 'defined': 1160, 'documentaries': 1306, 'nude': 3058, 'che': 773, 'del': 1165, 'sandra': 3782, 'kennedy': 2454, 'cole': 873, '1996': 26, 'jeffrey': 2391, 'bedroom': 437, 'miike': 2837, 'succeeded': 4263, 'agrees': 157, 'troubles': 4594, 'li': 2587, 'whale': 4857, 'spike': 4111, 'hal': 2006, 'relations': 3596, 'decisions': 1152, 'blues': 519, 'exposed': 1598, 'jaws': 2385, 'masters': 2761, 'screaming': 3827, 'punk': 3468, 'butler': 637, 'emily': 1456, 'blunt': 520, 'albert': 174, 'sneak': 4043, 'switch': 4339, 'darkness': 1117, 'angels': 234, 'psychological': 3458, 'trademark': 4548, 'bacall': 377, 'wealth': 4826, 'cagney': 646, 'ruby': 3749, 'ambitious': 211, 'methods': 2825, 'unintentional': 4658, 'bands': 392, 'derek': 1192, 'prisoners': 3403, 'tarzan': 4367, 'integrity': 2311, 'rank': 3518, 'teachers': 4376, 'purchased': 3470, 'matched': 2763, 'loyal': 2679, 'wisdom': 4902, 'columbo': 881, 'robbins': 3712, 'eastern': 1408, 'pants': 3182, 'testament': 4417, 'bush': 632, 'bride': 577, 'understandable': 4644, 'latin': 2527, 'godfather': 1927, 'hopeless': 2158, 'estate': 1525, 'bat': 410, 'bela': 450, 'lugosi': 2686, 'dawson': 1128, 'advise': 134, 'shoes': 3941, 'contract': 973, 'loads': 2633, 'dressing': 1359, 'ensues': 1493, 'lumet': 2688, 'dolls': 1316, 'floating': 1758, 'offering': 3089, 'prostitute': 3440, 'neil': 2995, 'load': 2631, 'designs': 1204, 'rabbit': 3498, 'leo': 2571, 'forbidden': 1785, 'dancers': 1105, 'surviving': 4323, 'hardy': 2037, 'chicago': 785, 'tooth': 4524, 'craig': 1030, 'ninja': 3018, 'phony': 3256, 'denzel': 1181, 'astaire': 330, 'berlin': 467, 'harvey': 2042, 'devoid': 1230, 'invasion': 2340, 'funeral': 1849, 'holy': 2140, 'steel': 4173, 'bite': 489, 'neo': 2998, 'warren': 4801, 'pig': 3274, 'elvis': 1451, 'laurel': 2537, 'stooges': 4200, 'adams': 112, 'planning': 3291, 'bakshi': 386, 'kubrick': 2496, 'doll': 1313, 'survival': 4320, 'cusack': 1088, 'francisco': 1819, 'celebrity': 729, 'richardson': 3688, 'mann': 2728, 'brando': 566, 'simmons': 3981, 'airport': 167, 'omen': 3104, 'ritter': 3705, 'rambo': 3511, 'pearl': 3220, 'edie': 1419, 'damon': 1101, 'vulnerable': 4768, 'hung': 2197, 'madonna': 2699, 'orange': 3125, 'craven': 1034, 'bettie': 473, 'paulie': 3215, 'fulci': 1845, 'modesty': 2883, 'fay': 1674}\n"
     ]
    }
   ],
   "source": [
    "print(str(vocabulary))"
   ]
  },
  {
   "cell_type": "markdown",
   "metadata": {},
   "source": [
    "Once you have added the endpoint name to the Lambda function, click on **Save**. Your Lambda function is now up and running. Next we need to create a way for our web app to execute the Lambda function."
   ]
  },
  {
   "cell_type": "markdown",
   "metadata": {},
   "source": [
    "### Setting up API Gateway\n",
    "\n",
    "Now that our Lambda function is set up, it is time to create a new API using API Gateway that will trigger the Lambda function we have just created.\n",
    "\n",
    "Using AWS Console, navigate to **Amazon API Gateway** and then click on **Get started**.\n",
    "\n",
    "On the next page, make sure that **New API** is selected and give the new api a name, for example, `sentiment_analysis_web_app`. Then, click on **Create API**.\n",
    "\n",
    "Now we have created an API, however it doesn't currently do anything. What we want it to do is to trigger the Lambda function that we created earlier.\n",
    "\n",
    "Select the **Actions** dropdown menu and click **Create Method**. A new blank method will be created, select its dropdown menu and select **POST**, then click on the check mark beside it.\n",
    "\n",
    "For the integration point, make sure that **Lambda Function** is selected and click on the **Use Lambda Proxy integration**. This option makes sure that the data that is sent to the API is then sent directly to the Lambda function with no processing. It also means that the return value must be a proper response object as it will also not be processed by API Gateway.\n",
    "\n",
    "Type the name of the Lambda function you created earlier into the **Lambda Function** text entry box and then click on **Save**. Click on **OK** in the pop-up box that then appears, giving permission to API Gateway to invoke the Lambda function you created.\n",
    "\n",
    "The last step in creating the API Gateway is to select the **Actions** dropdown and click on **Deploy API**. You will need to create a new Deployment stage and name it anything you like, for example `prod`.\n",
    "\n",
    "You have now successfully set up a public API to access your SageMaker model. Make sure to copy or write down the URL provided to invoke your newly created public API as this will be needed in the next step. This URL can be found at the top of the page, highlighted in blue next to the text **Invoke URL**."
   ]
  },
  {
   "cell_type": "markdown",
   "metadata": {},
   "source": [
    "## Step 7: Deploying our web app\n",
    "\n",
    "Now that we have a publicly available API, we can start using it in a web app. For our purposes, we have provided a simple static html file which can make use of the public api you created earlier.\n",
    "\n",
    "In the `website` folder there should be a file called `index.html`. Download the file to your computer and open that file up in a text editor of your choice. There should be a line which contains **\\*\\*REPLACE WITH PUBLIC API URL\\*\\***. Replace this string with the url that you wrote down in the last step and then save the file.\n",
    "\n",
    "Now, if you open `index.html` on your local computer, your browser will behave as a local web server and you can use the provided site to interact with your SageMaker model.\n",
    "\n",
    "If you'd like to go further, you can host this html file anywhere you'd like, for example using github or hosting a static site on Amazon's S3. Once you have done this you can share the link with anyone you'd like and have them play with it too!\n",
    "\n",
    "> **Important Note** In order for the web app to communicate with the SageMaker endpoint, the endpoint has to actually be deployed and running. This means that you are paying for it. Make sure that the endpoint is running when you want to use the web app but that you shut it down when you don't need it, otherwise you will end up with a surprisingly large AWS bill."
   ]
  },
  {
   "cell_type": "markdown",
   "metadata": {},
   "source": [
    "### Delete the endpoint\n",
    "\n",
    "Remember to always shut down your endpoint if you are no longer using it. You are charged for the length of time that the endpoint is running so if you forget and leave it on you could end up with an unexpectedly large bill."
   ]
  },
  {
   "cell_type": "code",
   "execution_count": 50,
   "metadata": {},
   "outputs": [],
   "source": [
    "xgb_predictor.delete_endpoint()"
   ]
  },
  {
   "cell_type": "markdown",
   "metadata": {},
   "source": [
    "## Optional: Clean up\n",
    "\n",
    "The default notebook instance on SageMaker doesn't have a lot of excess disk space available. As you continue to complete and execute notebooks you will eventually fill up this disk space, leading to errors which can be difficult to diagnose. Once you are completely finished using a notebook it is a good idea to remove the files that you created along the way. Of course, you can do this from the terminal or from the notebook hub if you would like. The cell below contains some commands to clean up the created files from within the notebook."
   ]
  },
  {
   "cell_type": "code",
   "execution_count": 51,
   "metadata": {},
   "outputs": [],
   "source": [
    "# First we will remove all of the files contained in the data_dir directory\n",
    "!rm $data_dir/*\n",
    "\n",
    "# And then we delete the directory itself\n",
    "!rmdir $data_dir\n",
    "\n",
    "# Similarly we remove the files in the cache_dir directory and the directory itself\n",
    "!rm $cache_dir/*\n",
    "!rmdir $cache_dir"
   ]
  },
  {
   "cell_type": "code",
   "execution_count": null,
   "metadata": {},
   "outputs": [],
   "source": []
  }
 ],
 "metadata": {
  "kernelspec": {
   "display_name": "conda_python3",
   "language": "python",
   "name": "conda_python3"
  },
  "language_info": {
   "codemirror_mode": {
    "name": "ipython",
    "version": 3
   },
   "file_extension": ".py",
   "mimetype": "text/x-python",
   "name": "python",
   "nbconvert_exporter": "python",
   "pygments_lexer": "ipython3",
   "version": "3.6.5"
  }
 },
 "nbformat": 4,
 "nbformat_minor": 2
}
